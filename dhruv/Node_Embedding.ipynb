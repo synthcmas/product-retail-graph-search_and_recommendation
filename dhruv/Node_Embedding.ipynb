{
 "cells": [
  {
   "cell_type": "code",
   "execution_count": 50,
   "id": "ef3f1d31-1f90-4229-bfd7-e884be9c3e3d",
   "metadata": {},
   "outputs": [
    {
     "data": {
      "text/plain": [
       "('department_name',\n",
       " 'garment_group_name',\n",
       " 'section_name',\n",
       " 'index_group_name',\n",
       " 'colour_group_name',\n",
       " 'perceived_colour_master_name',\n",
       " 'perceived_colour_value_name',\n",
       " 'graphical_appearance_name')"
      ]
     },
     "execution_count": 50,
     "metadata": {},
     "output_type": "execute_result"
    }
   ],
   "source": [
    "'department_name', 'garment_group_name',  'section_name', 'index_group_name', 'colour_group_name', 'perceived_colour_master_name', 'perceived_colour_value_name', 'graphical_appearance_name'"
   ]
  },
  {
   "cell_type": "markdown",
   "id": "6151b869-f18a-461f-8de2-39e33b82ebdd",
   "metadata": {
    "tags": []
   },
   "source": [
    "# Word2vec"
   ]
  },
  {
   "cell_type": "code",
   "execution_count": 5,
   "id": "00bf6490-a9db-41ab-8069-ced1e9d170b4",
   "metadata": {},
   "outputs": [],
   "source": [
    "import pandas as pd\n",
    "import numpy as np"
   ]
  },
  {
   "cell_type": "code",
   "execution_count": 1,
   "id": "6c65e286-c785-4291-b84a-ef8b23032a41",
   "metadata": {},
   "outputs": [],
   "source": [
    "import gensim\n",
    "from gensim.models import Word2Vec\n",
    "from gensim.utils import simple_preprocess\n",
    "from gensim.models.keyedvectors import KeyedVectors"
   ]
  },
  {
   "cell_type": "code",
   "execution_count": 2,
   "id": "02a89f24-7216-4bee-ac3d-c98424543b9e",
   "metadata": {},
   "outputs": [],
   "source": [
    "filepath = \"GoogleNews-vectors-negative300.bin.gz\"\n",
    "\n",
    "from gensim.models import KeyedVectors\n",
    "wv_from_bin = KeyedVectors.load_word2vec_format(filepath, binary=True) \n",
    "#extracting words7 vectors from google news vector\n",
    "embeddings_index = {}"
   ]
  },
  {
   "cell_type": "code",
   "execution_count": 6,
   "id": "da2fe2ac-3cd3-444b-a428-105862273c18",
   "metadata": {},
   "outputs": [],
   "source": [
    "for word, vector in zip(wv_from_bin.key_to_index , wv_from_bin.vectors):\n",
    "    coefs = np.asarray(vector, dtype='float32')\n",
    "    embeddings_index[word] = coefs"
   ]
  },
  {
   "cell_type": "code",
   "execution_count": 7,
   "id": "52ab0b1c-9caf-419f-a83a-ddd5622ea7d7",
   "metadata": {},
   "outputs": [],
   "source": [
    "## fucntion to findout the vector space of each sentence\n",
    "\n",
    "def avg_feature_vector(sentence, model, num_features):\n",
    "    words = sentence.split()\n",
    "    #feature vector is initialized as an empty array\n",
    "    feature_vec = np.zeros((num_features, ), dtype='float32')\n",
    "    n_words = 0\n",
    "    for word in words:\n",
    "        if word in embeddings_index.keys():\n",
    "            n_words += 1\n",
    "            feature_vec = np.add(feature_vec, model[word])\n",
    "    if (n_words > 0):\n",
    "        feature_vec = np.divide(feature_vec, n_words)\n",
    "    return feature_vec"
   ]
  },
  {
   "cell_type": "code",
   "execution_count": 81,
   "id": "0784b712-cc01-40c5-93fd-8413daf9a650",
   "metadata": {},
   "outputs": [],
   "source": [
    "def word2vec(col_list):\n",
    "    col_list_vector = []\n",
    "    for i in col_list:\n",
    "        col_list_vector.append(avg_feature_vector(i , model= embeddings_index, num_features=300 ).tolist())\n",
    "    col_list_vector = np.array(col_list_vector)  \n",
    "    \n",
    "    return(col_list_vector)\n",
    "\n"
   ]
  },
  {
   "cell_type": "markdown",
   "id": "4c4a9f79-ccef-47de-a200-8773f502dc0a",
   "metadata": {},
   "source": [
    "# Bert"
   ]
  },
  {
   "cell_type": "code",
   "execution_count": 1,
   "id": "3a5e9f0b-4864-4637-98e1-d186bd5eb022",
   "metadata": {},
   "outputs": [],
   "source": [
    "from transformers import AutoTokenizer, AutoModel\n",
    "import torch"
   ]
  },
  {
   "cell_type": "code",
   "execution_count": 2,
   "id": "abecf9a0-024a-49ff-bb53-fb997285acab",
   "metadata": {},
   "outputs": [],
   "source": [
    "tokenizer = AutoTokenizer.from_pretrained('sentence-transformers/bert-base-nli-mean-tokens')\n",
    "model = AutoModel.from_pretrained('sentence-transformers/bert-base-nli-mean-tokens')\n"
   ]
  },
  {
   "cell_type": "code",
   "execution_count": 3,
   "id": "4030cd26-d46c-42da-944b-3e6ba99bf803",
   "metadata": {},
   "outputs": [],
   "source": [
    "def BERT(sentences):\n",
    "    \n",
    "    \n",
    "    tokenizer = AutoTokenizer.from_pretrained('sentence-transformers/bert-base-nli-mean-tokens')\n",
    "    model = AutoModel.from_pretrained('sentence-transformers/bert-base-nli-mean-tokens')\n",
    "    \n",
    "    # initialize dictionary to store tokenized sentences\n",
    "    tokens = {'input_ids': [], 'attention_mask': []}\n",
    "\n",
    "    for sentence in sentences:\n",
    "        # encode each sentence and append to dictionary\n",
    "        new_tokens = tokenizer.encode_plus(sentence, max_length=500,\n",
    "                                       truncation=True, padding='max_length',\n",
    "                                       return_tensors='pt')\n",
    "        tokens['input_ids'].append(new_tokens['input_ids'][0])\n",
    "        tokens['attention_mask'].append(new_tokens['attention_mask'][0])\n",
    "\n",
    "        \n",
    "\n",
    "    # reformat list of tensors into single tensor\n",
    "    tokens['input_ids'] = torch.stack(tokens['input_ids'])\n",
    "    tokens['attention_mask'] = torch.stack(tokens['attention_mask'])\n",
    "    \n",
    "    outputs = model(**tokens)\n",
    "    outputs.keys()\n",
    "    \n",
    "    embeddings = outputs.last_hidden_state\n",
    "    embeddings\n",
    "    \n",
    "    embeddings.shape\n",
    "    \n",
    "    attention_mask = tokens['attention_mask']\n",
    "    attention_mask.shape\n",
    "    \n",
    "    mask = attention_mask.unsqueeze(-1).expand(embeddings.size()).float()\n",
    "    mask.shape\n",
    "\n",
    "    \n",
    "    masked_embeddings = embeddings * mask\n",
    "    masked_embeddings\n",
    "    \n",
    "    summed = torch.sum(masked_embeddings, 1)\n",
    "    summed.shape\n",
    "    \n",
    "    summed_mask = torch.clamp(mask.sum(1), min=1e-9)\n",
    "    summed_mask.shape\n",
    "    \n",
    "    mean_pooled = summed / summed_mask\n",
    "    \n",
    "    return mean_pooled.detach().numpy()\n",
    "    \n",
    "    \n",
    "    \n",
    "    \n",
    "    \n",
    "    "
   ]
  },
  {
   "cell_type": "markdown",
   "id": "cb67513b-470f-44ef-a413-f7db9bca8c6e",
   "metadata": {},
   "source": [
    "# Embedding Analysis"
   ]
  },
  {
   "cell_type": "code",
   "execution_count": 89,
   "id": "7d8439d4-a082-4254-b5ae-e9901c3db9c3",
   "metadata": {},
   "outputs": [],
   "source": [
    "def sim_matrix(col_list,col_list_vector):\n",
    "    import numpy as np\n",
    "    from sklearn.metrics import pairwise_distances\n",
    "    from scipy.spatial.distance import cosine\n",
    "    dist_out = 1-pairwise_distances(col_list_vector, metric=\"cosine\")\n",
    "    df= pd.DataFrame(dist_out, columns= col_list)\n",
    "    df.index = col_list\n",
    "    return df"
   ]
  },
  {
   "cell_type": "code",
   "execution_count": 121,
   "id": "ca88ef3d-501a-4136-a0a6-6d57e8d6fb0b",
   "metadata": {},
   "outputs": [
    {
     "data": {
      "text/plain": [
       "4"
      ]
     },
     "execution_count": 121,
     "metadata": {},
     "output_type": "execute_result"
    }
   ],
   "source": [
    "query_sim.shape[1]"
   ]
  },
  {
   "cell_type": "code",
   "execution_count": 129,
   "id": "b6351739-8d5d-4ba6-83c7-6a71968ea114",
   "metadata": {},
   "outputs": [],
   "source": [
    "def heat_map(df, i, j):\n",
    "    import matplotlib.pyplot as plt\n",
    "    plt.rcParams['figure.figsize'] = (i, j)\n",
    "\n",
    "    # Displaying dataframe as an heatmap\n",
    "    # with diverging colourmap as RdYlBu\n",
    "    plt.imshow(df, cmap =\"RdYlBu\")\n",
    "  \n",
    "    # Displaying a color bar to understand\n",
    "    # which color represents which range of data\n",
    "    plt.colorbar()\n",
    "\n",
    "\n",
    "\n",
    "    # Assigning labels of x-axis \n",
    "    # according to dataframe\n",
    "    plt.xticks(range(df.shape[1]), df.columns,rotation = 90)\n",
    "\n",
    "    # Assigning labels of y-axis \n",
    "    # according to dataframe\n",
    "    plt.yticks(range(df.shape[0]), df.index)\n",
    "\n",
    "    # Displaying the figure\n",
    "    plt.show()"
   ]
  },
  {
   "cell_type": "code",
   "execution_count": null,
   "id": "f6b93145-8000-469d-b1f0-a60364ac9bb4",
   "metadata": {},
   "outputs": [],
   "source": [
    "def heat_map(df, i, j):\n",
    "    import matplotlib.pyplot as plt\n",
    "    plt.rcParams['figure.figsize'] = (i, j)\n",
    "\n",
    "    # Displaying dataframe as an heatmap\n",
    "    # with diverging colourmap as RdYlBu\n",
    "    plt.imshow(df, cmap =\"RdYlBu\")\n",
    "  \n",
    "    # Displaying a color bar to understand\n",
    "    # which color represents which range of data\n",
    "    plt.colorbar()\n",
    "\n",
    "\n",
    "\n",
    "    # Assigning labels of x-axis \n",
    "    # according to dataframe\n",
    "    plt.xticks(range(len(df)), df.columns)\n",
    "\n",
    "    # Assigning labels of y-axis \n",
    "    # according to dataframe\n",
    "    plt.yticks(range(len(df)), df.index)\n",
    "\n",
    "    # Displaying the figure\n",
    "    plt.show()"
   ]
  },
  {
   "cell_type": "code",
   "execution_count": 105,
   "id": "d4dfe291-5b02-4041-b00f-8c4f1b290264",
   "metadata": {},
   "outputs": [],
   "source": [
    "def query_heat_map(col_list,col_list_vector,query, quey_vector):\n",
    "    import numpy as np\n",
    "    from sklearn.metrics import pairwise_distances\n",
    "    from scipy.spatial.distance import cosine\n",
    "    dist_out = 1-pairwise_distances(col_list_vector,quey_vector, metric=\"cosine\")\n",
    "    df= pd.DataFrame(dist_out, columns= query)\n",
    "    df.index = col_list\n",
    "    return df\n",
    "    "
   ]
  },
  {
   "cell_type": "code",
   "execution_count": 8,
   "id": "cd11e6b4-b67c-43c8-9d12-7c434abf1061",
   "metadata": {},
   "outputs": [],
   "source": [
    "pro_df = pd.read_csv(\"articles.csv\")"
   ]
  },
  {
   "cell_type": "code",
   "execution_count": 10,
   "id": "23586774-13e6-4541-9b85-2cbd9ff0cf12",
   "metadata": {},
   "outputs": [
    {
     "data": {
      "text/plain": [
       "Index(['article_id', 'product_code', 'prod_name', 'product_type_no',\n",
       "       'product_type_name', 'product_group_name', 'graphical_appearance_no',\n",
       "       'graphical_appearance_name', 'colour_group_code', 'colour_group_name',\n",
       "       'perceived_colour_value_id', 'perceived_colour_value_name',\n",
       "       'perceived_colour_master_id', 'perceived_colour_master_name',\n",
       "       'department_no', 'department_name', 'index_code', 'index_name',\n",
       "       'index_group_no', 'index_group_name', 'section_no', 'section_name',\n",
       "       'garment_group_no', 'garment_group_name', 'detail_desc'],\n",
       "      dtype='object')"
      ]
     },
     "execution_count": 10,
     "metadata": {},
     "output_type": "execute_result"
    }
   ],
   "source": [
    "pro_df.columns"
   ]
  },
  {
   "cell_type": "code",
   "execution_count": 15,
   "id": "94dbbc10-c3a7-4108-a495-0d314fabedbd",
   "metadata": {},
   "outputs": [
    {
     "data": {
      "text/plain": [
       "Jersey                             4604\n",
       "Knitwear                           3503\n",
       "Trouser                            2655\n",
       "Blouse                             2362\n",
       "Dress                              2087\n",
       "                                   ... \n",
       "Woven bottoms inactive from S.7       1\n",
       "Jersey inactive from S.6              1\n",
       "EQ Divided Blue                       1\n",
       "Accessories Other                     1\n",
       "Kids Boy License                      1\n",
       "Name: department_name, Length: 250, dtype: int64"
      ]
     },
     "execution_count": 15,
     "metadata": {},
     "output_type": "execute_result"
    }
   ],
   "source": [
    "pro_df.department_name.garment_group_name"
   ]
  },
  {
   "cell_type": "code",
   "execution_count": 25,
   "id": "fb853625-3b73-42cd-ab99-8a53f7c650bc",
   "metadata": {},
   "outputs": [],
   "source": [
    "garment_group_name = pro_df.garment_group_name.value_counts().index.tolist()"
   ]
  },
  {
   "cell_type": "code",
   "execution_count": 26,
   "id": "a8b52fea-1bb2-4011-8d1f-a7e45802d8c7",
   "metadata": {},
   "outputs": [
    {
     "data": {
      "text/plain": [
       "['Jersey Fancy',\n",
       " 'Accessories',\n",
       " 'Jersey Basic',\n",
       " 'Knitwear',\n",
       " 'Under-, Nightwear',\n",
       " 'Trousers',\n",
       " 'Blouses',\n",
       " 'Shoes',\n",
       " 'Dresses Ladies',\n",
       " 'Outdoor',\n",
       " 'Unknown',\n",
       " 'Trousers Denim',\n",
       " 'Swimwear',\n",
       " 'Socks and Tights',\n",
       " 'Shirts',\n",
       " 'Woven/Jersey/Knitted mix Baby',\n",
       " 'Shorts',\n",
       " 'Dresses/Skirts girls',\n",
       " 'Skirts',\n",
       " 'Special Offers',\n",
       " 'Dressed']"
      ]
     },
     "execution_count": 26,
     "metadata": {},
     "output_type": "execute_result"
    }
   ],
   "source": [
    "garment_group_name"
   ]
  },
  {
   "cell_type": "code",
   "execution_count": 20,
   "id": "629a871a-d88e-4c33-a877-f45ad4e06fe0",
   "metadata": {},
   "outputs": [
    {
     "data": {
      "text/plain": [
       "Womens Everyday Collection        7295\n",
       "Divided Collection                7124\n",
       "Baby Essentials & Complements     4932\n",
       "Kids Girl                         4469\n",
       "Young Girl                        3899\n",
       "Womens Lingerie                   3598\n",
       "Girls Underwear & Basics          3490\n",
       "Womens Tailoring                  3376\n",
       "Kids Boy                          3328\n",
       "Womens Small accessories          3270\n",
       "Womens Casual                     2725\n",
       "Kids Outerwear                    2665\n",
       "Womens Trend                      2622\n",
       "Divided Projects                  2364\n",
       "Young Boy                         2352\n",
       "H&M+                              2337\n",
       "Men Underwear                     2322\n",
       "Mama                              2266\n",
       "Kids & Baby Shoes                 2142\n",
       "Boys Underwear & Basics           2034\n",
       "Womens Shoes                      2026\n",
       "Ladies H&M Sport                  1894\n",
       "Womens Swimwear, beachwear        1839\n",
       "Contemporary Smart                1778\n",
       "Baby Girl                         1760\n",
       "Divided Accessories               1732\n",
       "Kids Accessories, Swimwear & D    1731\n",
       "Divided Basics                    1723\n",
       "Baby Boy                          1717\n",
       "Womens Big accessories            1665\n",
       "Womens Everyday Basics            1581\n",
       "Womens Nightwear, Socks & Tigh    1566\n",
       "Contemporary Casual               1560\n",
       "Contemporary Street               1490\n",
       "Men Suits & Tailoring             1428\n",
       "Men Accessories                   1337\n",
       "Womens Premium                    1270\n",
       "Ladies Denim                      1101\n",
       "Divided Selected                   991\n",
       "Men H&M Sport                      872\n",
       "Womens Jackets                     829\n",
       "Special Collections                682\n",
       "Men Shoes                          645\n",
       "Mens Outerwear                     629\n",
       "Kids Sports                        626\n",
       "Collaborations                     559\n",
       "Denim Men                          521\n",
       "Men Edition                        330\n",
       "Men Project                        298\n",
       "Divided Asia keys                  280\n",
       "Kids Local Relevance               192\n",
       "Men Other 2                        190\n",
       "Divided Complements Other           35\n",
       "EQ Divided                          26\n",
       "Men Other                           25\n",
       "Ladies Other                         4\n",
       "Name: section_name, dtype: int64"
      ]
     },
     "execution_count": 20,
     "metadata": {},
     "output_type": "execute_result"
    }
   ],
   "source": [
    "pro_df.section_name.value_counts()"
   ]
  },
  {
   "cell_type": "code",
   "execution_count": 21,
   "id": "6ed18eec-7c99-439b-94ba-8d4ab7d07064",
   "metadata": {},
   "outputs": [
    {
     "data": {
      "text/plain": [
       "Ladieswear       39737\n",
       "Baby/Children    34711\n",
       "Divided          15149\n",
       "Menswear         12553\n",
       "Sport             3392\n",
       "Name: index_group_name, dtype: int64"
      ]
     },
     "execution_count": 21,
     "metadata": {},
     "output_type": "execute_result"
    }
   ],
   "source": [
    "pro_df.index_group_name.value_counts()"
   ]
  },
  {
   "cell_type": "code",
   "execution_count": 31,
   "id": "31b57dbb-5b84-4b62-a79c-2c1f1396f47f",
   "metadata": {},
   "outputs": [],
   "source": [
    "graphical_appearance_name = pro_df.graphical_appearance_name.value_counts().index.tolist()"
   ]
  },
  {
   "cell_type": "code",
   "execution_count": 49,
   "id": "74ddba93-be74-4122-94fe-2cf7c38edc0e",
   "metadata": {},
   "outputs": [
    {
     "data": {
      "text/plain": [
       "['Solid',\n",
       " 'All over pattern',\n",
       " 'Melange',\n",
       " 'Stripe',\n",
       " 'Denim',\n",
       " 'Front print',\n",
       " 'Placement print',\n",
       " 'Check',\n",
       " 'Colour blocking',\n",
       " 'Lace',\n",
       " 'Other structure',\n",
       " 'Application/3D',\n",
       " 'Embroidery',\n",
       " 'Mixed solid/pattern',\n",
       " 'Glittering/Metallic',\n",
       " 'Jacquard',\n",
       " 'Sequin',\n",
       " 'Dot',\n",
       " 'Treatment',\n",
       " 'Other pattern',\n",
       " 'Contrast',\n",
       " 'Metallic',\n",
       " 'Chambray',\n",
       " 'Slub',\n",
       " 'Transparent',\n",
       " 'Mesh',\n",
       " 'Neps',\n",
       " 'Unknown',\n",
       " 'Argyle',\n",
       " 'Hologram']"
      ]
     },
     "execution_count": 49,
     "metadata": {},
     "output_type": "execute_result"
    }
   ],
   "source": [
    "graphical_appearance_name"
   ]
  },
  {
   "cell_type": "code",
   "execution_count": 96,
   "id": "b5003d81-7618-4dd1-ba24-605f3107b8c2",
   "metadata": {},
   "outputs": [],
   "source": [
    "graphical_appearance_vector = word2vec(graphical_appearance_name)"
   ]
  },
  {
   "cell_type": "code",
   "execution_count": 97,
   "id": "550bfff8-17f1-418b-af36-6e4f6b7119db",
   "metadata": {},
   "outputs": [],
   "source": [
    "graphical_appearance_similarity = sim_matrix(graphical_appearance_name, graphical_appearance_vector)"
   ]
  },
  {
   "cell_type": "code",
   "execution_count": 130,
   "id": "015c9dae-56fb-4aa8-acbb-12b2b87aed7d",
   "metadata": {},
   "outputs": [
    {
     "data": {
      "image/png": "[encoded data removed]",
      "text/plain": [
       "<Figure size 1440x1440 with 2 Axes>"
      ]
     },
     "metadata": {
      "needs_background": "light"
     },
     "output_type": "display_data"
    }
   ],
   "source": [
    "heat_map(graphical_appearance_similarity,20,20)"
   ]
  },
  {
   "cell_type": "code",
   "execution_count": 137,
   "id": "e4447a53-af79-4034-b084-8eec77419565",
   "metadata": {},
   "outputs": [],
   "source": [
    "mod_graphical_appearance_name = []\n",
    "for i in graphical_appearance_name:\n",
    "    mod_graphical_appearance_name.append(str(i) + \" \" + \"cloth\")"
   ]
  },
  {
   "cell_type": "code",
   "execution_count": 138,
   "id": "ce7f3520-2d5c-4c52-ade3-593b4ed18b34",
   "metadata": {},
   "outputs": [],
   "source": [
    "mod_graphical_appearance_name_vector = word2vec(mod_graphical_appearance_name)"
   ]
  },
  {
   "cell_type": "code",
   "execution_count": 139,
   "id": "a50de126-edda-431a-a861-63554790dc09",
   "metadata": {},
   "outputs": [],
   "source": [
    "mod_graphical_appearance_name_vector_sim = sim_matrix(mod_graphical_appearance_name,mod_graphical_appearance_name_vector)"
   ]
  },
  {
   "cell_type": "code",
   "execution_count": 140,
   "id": "1332a1b5-b74b-493c-b920-23c49970fa46",
   "metadata": {},
   "outputs": [
    {
     "data": {
      "image/png": "[encoded data removed]",
      "text/plain": [
       "<Figure size 1440x1440 with 2 Axes>"
      ]
     },
     "metadata": {
      "needs_background": "light"
     },
     "output_type": "display_data"
    }
   ],
   "source": [
    "heat_map(mod_graphical_appearance_name_vector_sim,20,20)"
   ]
  },
  {
   "cell_type": "code",
   "execution_count": 141,
   "id": "d268cd5b-3a01-4af2-9f82-991fb53a6f40",
   "metadata": {},
   "outputs": [],
   "source": [
    "query = ['check shirt', 'striped tshirt', 'polka dot shirt', 'floral print shirt']\n",
    "query_vector = word2vec(query)"
   ]
  },
  {
   "cell_type": "code",
   "execution_count": 142,
   "id": "79d29d77-e579-4a33-854b-6e2e823c63ad",
   "metadata": {},
   "outputs": [
    {
     "data": {
      "text/html": [
       "<div>\n",
       "<style scoped>\n",
       "    .dataframe tbody tr th:only-of-type {\n",
       "        vertical-align: middle;\n",
       "    }\n",
       "\n",
       "    .dataframe tbody tr th {\n",
       "        vertical-align: top;\n",
       "    }\n",
       "\n",
       "    .dataframe thead th {\n",
       "        text-align: right;\n",
       "    }\n",
       "</style>\n",
       "<table border=\"1\" class=\"dataframe\">\n",
       "  <thead>\n",
       "    <tr style=\"text-align: right;\">\n",
       "      <th></th>\n",
       "      <th>check shirt</th>\n",
       "      <th>striped tshirt</th>\n",
       "      <th>polka dot shirt</th>\n",
       "      <th>floral print shirt</th>\n",
       "    </tr>\n",
       "  </thead>\n",
       "  <tbody>\n",
       "    <tr>\n",
       "      <th>Solid cloth</th>\n",
       "      <td>0.233902</td>\n",
       "      <td>0.327647</td>\n",
       "      <td>0.259484</td>\n",
       "      <td>0.308987</td>\n",
       "    </tr>\n",
       "    <tr>\n",
       "      <th>All over pattern cloth</th>\n",
       "      <td>0.297873</td>\n",
       "      <td>0.352300</td>\n",
       "      <td>0.304981</td>\n",
       "      <td>0.381658</td>\n",
       "    </tr>\n",
       "    <tr>\n",
       "      <th>Melange cloth</th>\n",
       "      <td>0.228670</td>\n",
       "      <td>0.376754</td>\n",
       "      <td>0.300235</td>\n",
       "      <td>0.439771</td>\n",
       "    </tr>\n",
       "    <tr>\n",
       "      <th>Stripe cloth</th>\n",
       "      <td>0.265903</td>\n",
       "      <td>0.503166</td>\n",
       "      <td>0.329597</td>\n",
       "      <td>0.484769</td>\n",
       "    </tr>\n",
       "    <tr>\n",
       "      <th>Denim cloth</th>\n",
       "      <td>0.317536</td>\n",
       "      <td>0.464509</td>\n",
       "      <td>0.317764</td>\n",
       "      <td>0.470955</td>\n",
       "    </tr>\n",
       "    <tr>\n",
       "      <th>Front print cloth</th>\n",
       "      <td>0.287988</td>\n",
       "      <td>0.358763</td>\n",
       "      <td>0.262532</td>\n",
       "      <td>0.572814</td>\n",
       "    </tr>\n",
       "    <tr>\n",
       "      <th>Placement print cloth</th>\n",
       "      <td>0.273619</td>\n",
       "      <td>0.348947</td>\n",
       "      <td>0.284076</td>\n",
       "      <td>0.582250</td>\n",
       "    </tr>\n",
       "    <tr>\n",
       "      <th>Check cloth</th>\n",
       "      <td>0.459621</td>\n",
       "      <td>0.347881</td>\n",
       "      <td>0.264936</td>\n",
       "      <td>0.380476</td>\n",
       "    </tr>\n",
       "    <tr>\n",
       "      <th>Colour blocking cloth</th>\n",
       "      <td>0.204124</td>\n",
       "      <td>0.336095</td>\n",
       "      <td>0.271518</td>\n",
       "      <td>0.404261</td>\n",
       "    </tr>\n",
       "    <tr>\n",
       "      <th>Lace cloth</th>\n",
       "      <td>0.262573</td>\n",
       "      <td>0.450004</td>\n",
       "      <td>0.340593</td>\n",
       "      <td>0.489421</td>\n",
       "    </tr>\n",
       "    <tr>\n",
       "      <th>Other structure cloth</th>\n",
       "      <td>0.205872</td>\n",
       "      <td>0.301047</td>\n",
       "      <td>0.198590</td>\n",
       "      <td>0.321514</td>\n",
       "    </tr>\n",
       "    <tr>\n",
       "      <th>Application/3D cloth</th>\n",
       "      <td>0.284916</td>\n",
       "      <td>0.428858</td>\n",
       "      <td>0.295658</td>\n",
       "      <td>0.454299</td>\n",
       "    </tr>\n",
       "    <tr>\n",
       "      <th>Embroidery cloth</th>\n",
       "      <td>0.278272</td>\n",
       "      <td>0.429485</td>\n",
       "      <td>0.302941</td>\n",
       "      <td>0.517444</td>\n",
       "    </tr>\n",
       "    <tr>\n",
       "      <th>Mixed solid/pattern cloth</th>\n",
       "      <td>0.166166</td>\n",
       "      <td>0.317678</td>\n",
       "      <td>0.199441</td>\n",
       "      <td>0.330483</td>\n",
       "    </tr>\n",
       "    <tr>\n",
       "      <th>Glittering/Metallic cloth</th>\n",
       "      <td>0.284916</td>\n",
       "      <td>0.428858</td>\n",
       "      <td>0.295658</td>\n",
       "      <td>0.454299</td>\n",
       "    </tr>\n",
       "    <tr>\n",
       "      <th>Jacquard cloth</th>\n",
       "      <td>0.219192</td>\n",
       "      <td>0.429251</td>\n",
       "      <td>0.229525</td>\n",
       "      <td>0.448323</td>\n",
       "    </tr>\n",
       "    <tr>\n",
       "      <th>Sequin cloth</th>\n",
       "      <td>0.334412</td>\n",
       "      <td>0.526027</td>\n",
       "      <td>0.320452</td>\n",
       "      <td>0.505939</td>\n",
       "    </tr>\n",
       "    <tr>\n",
       "      <th>Dot cloth</th>\n",
       "      <td>0.237275</td>\n",
       "      <td>0.386498</td>\n",
       "      <td>0.343347</td>\n",
       "      <td>0.423022</td>\n",
       "    </tr>\n",
       "    <tr>\n",
       "      <th>Treatment cloth</th>\n",
       "      <td>0.195283</td>\n",
       "      <td>0.307202</td>\n",
       "      <td>0.162883</td>\n",
       "      <td>0.316617</td>\n",
       "    </tr>\n",
       "    <tr>\n",
       "      <th>Other pattern cloth</th>\n",
       "      <td>0.275076</td>\n",
       "      <td>0.374227</td>\n",
       "      <td>0.287808</td>\n",
       "      <td>0.381065</td>\n",
       "    </tr>\n",
       "    <tr>\n",
       "      <th>Contrast cloth</th>\n",
       "      <td>0.199097</td>\n",
       "      <td>0.330090</td>\n",
       "      <td>0.189571</td>\n",
       "      <td>0.339913</td>\n",
       "    </tr>\n",
       "    <tr>\n",
       "      <th>Metallic cloth</th>\n",
       "      <td>0.221421</td>\n",
       "      <td>0.385265</td>\n",
       "      <td>0.229991</td>\n",
       "      <td>0.408508</td>\n",
       "    </tr>\n",
       "    <tr>\n",
       "      <th>Chambray cloth</th>\n",
       "      <td>0.303553</td>\n",
       "      <td>0.514308</td>\n",
       "      <td>0.314920</td>\n",
       "      <td>0.527278</td>\n",
       "    </tr>\n",
       "    <tr>\n",
       "      <th>Slub cloth</th>\n",
       "      <td>0.284916</td>\n",
       "      <td>0.428858</td>\n",
       "      <td>0.295658</td>\n",
       "      <td>0.454299</td>\n",
       "    </tr>\n",
       "    <tr>\n",
       "      <th>Transparent cloth</th>\n",
       "      <td>0.187956</td>\n",
       "      <td>0.377904</td>\n",
       "      <td>0.208486</td>\n",
       "      <td>0.340665</td>\n",
       "    </tr>\n",
       "    <tr>\n",
       "      <th>Mesh cloth</th>\n",
       "      <td>0.204889</td>\n",
       "      <td>0.442555</td>\n",
       "      <td>0.274983</td>\n",
       "      <td>0.379245</td>\n",
       "    </tr>\n",
       "    <tr>\n",
       "      <th>Neps cloth</th>\n",
       "      <td>0.284916</td>\n",
       "      <td>0.428858</td>\n",
       "      <td>0.295658</td>\n",
       "      <td>0.454299</td>\n",
       "    </tr>\n",
       "    <tr>\n",
       "      <th>Unknown cloth</th>\n",
       "      <td>0.246319</td>\n",
       "      <td>0.298811</td>\n",
       "      <td>0.200465</td>\n",
       "      <td>0.318985</td>\n",
       "    </tr>\n",
       "    <tr>\n",
       "      <th>Argyle cloth</th>\n",
       "      <td>0.274376</td>\n",
       "      <td>0.374454</td>\n",
       "      <td>0.306243</td>\n",
       "      <td>0.406718</td>\n",
       "    </tr>\n",
       "    <tr>\n",
       "      <th>Hologram cloth</th>\n",
       "      <td>0.231445</td>\n",
       "      <td>0.349125</td>\n",
       "      <td>0.267495</td>\n",
       "      <td>0.374308</td>\n",
       "    </tr>\n",
       "  </tbody>\n",
       "</table>\n",
       "</div>"
      ],
      "text/plain": [
       "                           check shirt  striped tshirt  polka dot shirt  \\\n",
       "Solid cloth                   0.233902        0.327647         0.259484   \n",
       "All over pattern cloth        0.297873        0.352300         0.304981   \n",
       "Melange cloth                 0.228670        0.376754         0.300235   \n",
       "Stripe cloth                  0.265903        0.503166         0.329597   \n",
       "Denim cloth                   0.317536        0.464509         0.317764   \n",
       "Front print cloth             0.287988        0.358763         0.262532   \n",
       "Placement print cloth         0.273619        0.348947         0.284076   \n",
       "Check cloth                   0.459621        0.347881         0.264936   \n",
       "Colour blocking cloth         0.204124        0.336095         0.271518   \n",
       "Lace cloth                    0.262573        0.450004         0.340593   \n",
       "Other structure cloth         0.205872        0.301047         0.198590   \n",
       "Application/3D cloth          0.284916        0.428858         0.295658   \n",
       "Embroidery cloth              0.278272        0.429485         0.302941   \n",
       "Mixed solid/pattern cloth     0.166166        0.317678         0.199441   \n",
       "Glittering/Metallic cloth     0.284916        0.428858         0.295658   \n",
       "Jacquard cloth                0.219192        0.429251         0.229525   \n",
       "Sequin cloth                  0.334412        0.526027         0.320452   \n",
       "Dot cloth                     0.237275        0.386498         0.343347   \n",
       "Treatment cloth               0.195283        0.307202         0.162883   \n",
       "Other pattern cloth           0.275076        0.374227         0.287808   \n",
       "Contrast cloth                0.199097        0.330090         0.189571   \n",
       "Metallic cloth                0.221421        0.385265         0.229991   \n",
       "Chambray cloth                0.303553        0.514308         0.314920   \n",
       "Slub cloth                    0.284916        0.428858         0.295658   \n",
       "Transparent cloth             0.187956        0.377904         0.208486   \n",
       "Mesh cloth                    0.204889        0.442555         0.274983   \n",
       "Neps cloth                    0.284916        0.428858         0.295658   \n",
       "Unknown cloth                 0.246319        0.298811         0.200465   \n",
       "Argyle cloth                  0.274376        0.374454         0.306243   \n",
       "Hologram cloth                0.231445        0.349125         0.267495   \n",
       "\n",
       "                           floral print shirt  \n",
       "Solid cloth                          0.308987  \n",
       "All over pattern cloth               0.381658  \n",
       "Melange cloth                        0.439771  \n",
       "Stripe cloth                         0.484769  \n",
       "Denim cloth                          0.470955  \n",
       "Front print cloth                    0.572814  \n",
       "Placement print cloth                0.582250  \n",
       "Check cloth                          0.380476  \n",
       "Colour blocking cloth                0.404261  \n",
       "Lace cloth                           0.489421  \n",
       "Other structure cloth                0.321514  \n",
       "Application/3D cloth                 0.454299  \n",
       "Embroidery cloth                     0.517444  \n",
       "Mixed solid/pattern cloth            0.330483  \n",
       "Glittering/Metallic cloth            0.454299  \n",
       "Jacquard cloth                       0.448323  \n",
       "Sequin cloth                         0.505939  \n",
       "Dot cloth                            0.423022  \n",
       "Treatment cloth                      0.316617  \n",
       "Other pattern cloth                  0.381065  \n",
       "Contrast cloth                       0.339913  \n",
       "Metallic cloth                       0.408508  \n",
       "Chambray cloth                       0.527278  \n",
       "Slub cloth                           0.454299  \n",
       "Transparent cloth                    0.340665  \n",
       "Mesh cloth                           0.379245  \n",
       "Neps cloth                           0.454299  \n",
       "Unknown cloth                        0.318985  \n",
       "Argyle cloth                         0.406718  \n",
       "Hologram cloth                       0.374308  "
      ]
     },
     "metadata": {},
     "output_type": "display_data"
    }
   ],
   "source": [
    "query_sim_2 = query_heat_map(mod_graphical_appearance_name,mod_graphical_appearance_name_vector,query, query_vector)\n",
    "display(query_sim_2)"
   ]
  },
  {
   "cell_type": "code",
   "execution_count": 134,
   "id": "6a609044-a645-4d5d-98b5-fc759925a5c0",
   "metadata": {
    "tags": []
   },
   "outputs": [
    {
     "data": {
      "text/html": [
       "<div>\n",
       "<style scoped>\n",
       "    .dataframe tbody tr th:only-of-type {\n",
       "        vertical-align: middle;\n",
       "    }\n",
       "\n",
       "    .dataframe tbody tr th {\n",
       "        vertical-align: top;\n",
       "    }\n",
       "\n",
       "    .dataframe thead th {\n",
       "        text-align: right;\n",
       "    }\n",
       "</style>\n",
       "<table border=\"1\" class=\"dataframe\">\n",
       "  <thead>\n",
       "    <tr style=\"text-align: right;\">\n",
       "      <th></th>\n",
       "      <th>check shirt</th>\n",
       "      <th>striped tshirt</th>\n",
       "      <th>polka dot shirt</th>\n",
       "      <th>floral print shirt</th>\n",
       "    </tr>\n",
       "  </thead>\n",
       "  <tbody>\n",
       "    <tr>\n",
       "      <th>Solid pattern/material cloth</th>\n",
       "      <td>0.233902</td>\n",
       "      <td>0.327647</td>\n",
       "      <td>0.259484</td>\n",
       "      <td>0.308987</td>\n",
       "    </tr>\n",
       "    <tr>\n",
       "      <th>All over pattern pattern/material cloth</th>\n",
       "      <td>0.297873</td>\n",
       "      <td>0.352300</td>\n",
       "      <td>0.304981</td>\n",
       "      <td>0.381658</td>\n",
       "    </tr>\n",
       "    <tr>\n",
       "      <th>Melange pattern/material cloth</th>\n",
       "      <td>0.228670</td>\n",
       "      <td>0.376754</td>\n",
       "      <td>0.300235</td>\n",
       "      <td>0.439771</td>\n",
       "    </tr>\n",
       "    <tr>\n",
       "      <th>Stripe pattern/material cloth</th>\n",
       "      <td>0.265903</td>\n",
       "      <td>0.503166</td>\n",
       "      <td>0.329597</td>\n",
       "      <td>0.484769</td>\n",
       "    </tr>\n",
       "    <tr>\n",
       "      <th>Denim pattern/material cloth</th>\n",
       "      <td>0.317536</td>\n",
       "      <td>0.464509</td>\n",
       "      <td>0.317764</td>\n",
       "      <td>0.470955</td>\n",
       "    </tr>\n",
       "    <tr>\n",
       "      <th>Front print pattern/material cloth</th>\n",
       "      <td>0.287988</td>\n",
       "      <td>0.358763</td>\n",
       "      <td>0.262532</td>\n",
       "      <td>0.572814</td>\n",
       "    </tr>\n",
       "    <tr>\n",
       "      <th>Placement print pattern/material cloth</th>\n",
       "      <td>0.273619</td>\n",
       "      <td>0.348947</td>\n",
       "      <td>0.284076</td>\n",
       "      <td>0.582250</td>\n",
       "    </tr>\n",
       "    <tr>\n",
       "      <th>Check pattern/material cloth</th>\n",
       "      <td>0.459621</td>\n",
       "      <td>0.347881</td>\n",
       "      <td>0.264936</td>\n",
       "      <td>0.380476</td>\n",
       "    </tr>\n",
       "    <tr>\n",
       "      <th>Colour blocking pattern/material cloth</th>\n",
       "      <td>0.204124</td>\n",
       "      <td>0.336095</td>\n",
       "      <td>0.271518</td>\n",
       "      <td>0.404261</td>\n",
       "    </tr>\n",
       "    <tr>\n",
       "      <th>Lace pattern/material cloth</th>\n",
       "      <td>0.262573</td>\n",
       "      <td>0.450004</td>\n",
       "      <td>0.340593</td>\n",
       "      <td>0.489421</td>\n",
       "    </tr>\n",
       "    <tr>\n",
       "      <th>Other structure pattern/material cloth</th>\n",
       "      <td>0.205872</td>\n",
       "      <td>0.301047</td>\n",
       "      <td>0.198590</td>\n",
       "      <td>0.321514</td>\n",
       "    </tr>\n",
       "    <tr>\n",
       "      <th>Application/3D pattern/material cloth</th>\n",
       "      <td>0.284916</td>\n",
       "      <td>0.428858</td>\n",
       "      <td>0.295658</td>\n",
       "      <td>0.454299</td>\n",
       "    </tr>\n",
       "    <tr>\n",
       "      <th>Embroidery pattern/material cloth</th>\n",
       "      <td>0.278272</td>\n",
       "      <td>0.429485</td>\n",
       "      <td>0.302941</td>\n",
       "      <td>0.517444</td>\n",
       "    </tr>\n",
       "    <tr>\n",
       "      <th>Mixed solid/pattern pattern/material cloth</th>\n",
       "      <td>0.166166</td>\n",
       "      <td>0.317678</td>\n",
       "      <td>0.199441</td>\n",
       "      <td>0.330483</td>\n",
       "    </tr>\n",
       "    <tr>\n",
       "      <th>Glittering/Metallic pattern/material cloth</th>\n",
       "      <td>0.284916</td>\n",
       "      <td>0.428858</td>\n",
       "      <td>0.295658</td>\n",
       "      <td>0.454299</td>\n",
       "    </tr>\n",
       "    <tr>\n",
       "      <th>Jacquard pattern/material cloth</th>\n",
       "      <td>0.219192</td>\n",
       "      <td>0.429251</td>\n",
       "      <td>0.229525</td>\n",
       "      <td>0.448323</td>\n",
       "    </tr>\n",
       "    <tr>\n",
       "      <th>Sequin pattern/material cloth</th>\n",
       "      <td>0.334412</td>\n",
       "      <td>0.526027</td>\n",
       "      <td>0.320452</td>\n",
       "      <td>0.505939</td>\n",
       "    </tr>\n",
       "    <tr>\n",
       "      <th>Dot pattern/material cloth</th>\n",
       "      <td>0.237275</td>\n",
       "      <td>0.386498</td>\n",
       "      <td>0.343347</td>\n",
       "      <td>0.423022</td>\n",
       "    </tr>\n",
       "    <tr>\n",
       "      <th>Treatment pattern/material cloth</th>\n",
       "      <td>0.195283</td>\n",
       "      <td>0.307202</td>\n",
       "      <td>0.162883</td>\n",
       "      <td>0.316617</td>\n",
       "    </tr>\n",
       "    <tr>\n",
       "      <th>Other pattern pattern/material cloth</th>\n",
       "      <td>0.275076</td>\n",
       "      <td>0.374227</td>\n",
       "      <td>0.287808</td>\n",
       "      <td>0.381065</td>\n",
       "    </tr>\n",
       "    <tr>\n",
       "      <th>Contrast pattern/material cloth</th>\n",
       "      <td>0.199097</td>\n",
       "      <td>0.330090</td>\n",
       "      <td>0.189571</td>\n",
       "      <td>0.339913</td>\n",
       "    </tr>\n",
       "    <tr>\n",
       "      <th>Metallic pattern/material cloth</th>\n",
       "      <td>0.221421</td>\n",
       "      <td>0.385265</td>\n",
       "      <td>0.229991</td>\n",
       "      <td>0.408508</td>\n",
       "    </tr>\n",
       "    <tr>\n",
       "      <th>Chambray pattern/material cloth</th>\n",
       "      <td>0.303553</td>\n",
       "      <td>0.514308</td>\n",
       "      <td>0.314920</td>\n",
       "      <td>0.527278</td>\n",
       "    </tr>\n",
       "    <tr>\n",
       "      <th>Slub pattern/material cloth</th>\n",
       "      <td>0.284916</td>\n",
       "      <td>0.428858</td>\n",
       "      <td>0.295658</td>\n",
       "      <td>0.454299</td>\n",
       "    </tr>\n",
       "    <tr>\n",
       "      <th>Transparent pattern/material cloth</th>\n",
       "      <td>0.187956</td>\n",
       "      <td>0.377904</td>\n",
       "      <td>0.208486</td>\n",
       "      <td>0.340665</td>\n",
       "    </tr>\n",
       "    <tr>\n",
       "      <th>Mesh pattern/material cloth</th>\n",
       "      <td>0.204889</td>\n",
       "      <td>0.442555</td>\n",
       "      <td>0.274983</td>\n",
       "      <td>0.379245</td>\n",
       "    </tr>\n",
       "    <tr>\n",
       "      <th>Neps pattern/material cloth</th>\n",
       "      <td>0.284916</td>\n",
       "      <td>0.428858</td>\n",
       "      <td>0.295658</td>\n",
       "      <td>0.454299</td>\n",
       "    </tr>\n",
       "    <tr>\n",
       "      <th>Unknown pattern/material cloth</th>\n",
       "      <td>0.246319</td>\n",
       "      <td>0.298811</td>\n",
       "      <td>0.200465</td>\n",
       "      <td>0.318985</td>\n",
       "    </tr>\n",
       "    <tr>\n",
       "      <th>Argyle pattern/material cloth</th>\n",
       "      <td>0.274376</td>\n",
       "      <td>0.374454</td>\n",
       "      <td>0.306243</td>\n",
       "      <td>0.406718</td>\n",
       "    </tr>\n",
       "    <tr>\n",
       "      <th>Hologram pattern/material cloth</th>\n",
       "      <td>0.231445</td>\n",
       "      <td>0.349125</td>\n",
       "      <td>0.267495</td>\n",
       "      <td>0.374308</td>\n",
       "    </tr>\n",
       "  </tbody>\n",
       "</table>\n",
       "</div>"
      ],
      "text/plain": [
       "                                            check shirt  striped tshirt  \\\n",
       "Solid pattern/material cloth                   0.233902        0.327647   \n",
       "All over pattern pattern/material cloth        0.297873        0.352300   \n",
       "Melange pattern/material cloth                 0.228670        0.376754   \n",
       "Stripe pattern/material cloth                  0.265903        0.503166   \n",
       "Denim pattern/material cloth                   0.317536        0.464509   \n",
       "Front print pattern/material cloth             0.287988        0.358763   \n",
       "Placement print pattern/material cloth         0.273619        0.348947   \n",
       "Check pattern/material cloth                   0.459621        0.347881   \n",
       "Colour blocking pattern/material cloth         0.204124        0.336095   \n",
       "Lace pattern/material cloth                    0.262573        0.450004   \n",
       "Other structure pattern/material cloth         0.205872        0.301047   \n",
       "Application/3D pattern/material cloth          0.284916        0.428858   \n",
       "Embroidery pattern/material cloth              0.278272        0.429485   \n",
       "Mixed solid/pattern pattern/material cloth     0.166166        0.317678   \n",
       "Glittering/Metallic pattern/material cloth     0.284916        0.428858   \n",
       "Jacquard pattern/material cloth                0.219192        0.429251   \n",
       "Sequin pattern/material cloth                  0.334412        0.526027   \n",
       "Dot pattern/material cloth                     0.237275        0.386498   \n",
       "Treatment pattern/material cloth               0.195283        0.307202   \n",
       "Other pattern pattern/material cloth           0.275076        0.374227   \n",
       "Contrast pattern/material cloth                0.199097        0.330090   \n",
       "Metallic pattern/material cloth                0.221421        0.385265   \n",
       "Chambray pattern/material cloth                0.303553        0.514308   \n",
       "Slub pattern/material cloth                    0.284916        0.428858   \n",
       "Transparent pattern/material cloth             0.187956        0.377904   \n",
       "Mesh pattern/material cloth                    0.204889        0.442555   \n",
       "Neps pattern/material cloth                    0.284916        0.428858   \n",
       "Unknown pattern/material cloth                 0.246319        0.298811   \n",
       "Argyle pattern/material cloth                  0.274376        0.374454   \n",
       "Hologram pattern/material cloth                0.231445        0.349125   \n",
       "\n",
       "                                            polka dot shirt  \\\n",
       "Solid pattern/material cloth                       0.259484   \n",
       "All over pattern pattern/material cloth            0.304981   \n",
       "Melange pattern/material cloth                     0.300235   \n",
       "Stripe pattern/material cloth                      0.329597   \n",
       "Denim pattern/material cloth                       0.317764   \n",
       "Front print pattern/material cloth                 0.262532   \n",
       "Placement print pattern/material cloth             0.284076   \n",
       "Check pattern/material cloth                       0.264936   \n",
       "Colour blocking pattern/material cloth             0.271518   \n",
       "Lace pattern/material cloth                        0.340593   \n",
       "Other structure pattern/material cloth             0.198590   \n",
       "Application/3D pattern/material cloth              0.295658   \n",
       "Embroidery pattern/material cloth                  0.302941   \n",
       "Mixed solid/pattern pattern/material cloth         0.199441   \n",
       "Glittering/Metallic pattern/material cloth         0.295658   \n",
       "Jacquard pattern/material cloth                    0.229525   \n",
       "Sequin pattern/material cloth                      0.320452   \n",
       "Dot pattern/material cloth                         0.343347   \n",
       "Treatment pattern/material cloth                   0.162883   \n",
       "Other pattern pattern/material cloth               0.287808   \n",
       "Contrast pattern/material cloth                    0.189571   \n",
       "Metallic pattern/material cloth                    0.229991   \n",
       "Chambray pattern/material cloth                    0.314920   \n",
       "Slub pattern/material cloth                        0.295658   \n",
       "Transparent pattern/material cloth                 0.208486   \n",
       "Mesh pattern/material cloth                        0.274983   \n",
       "Neps pattern/material cloth                        0.295658   \n",
       "Unknown pattern/material cloth                     0.200465   \n",
       "Argyle pattern/material cloth                      0.306243   \n",
       "Hologram pattern/material cloth                    0.267495   \n",
       "\n",
       "                                            floral print shirt  \n",
       "Solid pattern/material cloth                          0.308987  \n",
       "All over pattern pattern/material cloth               0.381658  \n",
       "Melange pattern/material cloth                        0.439771  \n",
       "Stripe pattern/material cloth                         0.484769  \n",
       "Denim pattern/material cloth                          0.470955  \n",
       "Front print pattern/material cloth                    0.572814  \n",
       "Placement print pattern/material cloth                0.582250  \n",
       "Check pattern/material cloth                          0.380476  \n",
       "Colour blocking pattern/material cloth                0.404261  \n",
       "Lace pattern/material cloth                           0.489421  \n",
       "Other structure pattern/material cloth                0.321514  \n",
       "Application/3D pattern/material cloth                 0.454299  \n",
       "Embroidery pattern/material cloth                     0.517444  \n",
       "Mixed solid/pattern pattern/material cloth            0.330483  \n",
       "Glittering/Metallic pattern/material cloth            0.454299  \n",
       "Jacquard pattern/material cloth                       0.448323  \n",
       "Sequin pattern/material cloth                         0.505939  \n",
       "Dot pattern/material cloth                            0.423022  \n",
       "Treatment pattern/material cloth                      0.316617  \n",
       "Other pattern pattern/material cloth                  0.381065  \n",
       "Contrast pattern/material cloth                       0.339913  \n",
       "Metallic pattern/material cloth                       0.408508  \n",
       "Chambray pattern/material cloth                       0.527278  \n",
       "Slub pattern/material cloth                           0.454299  \n",
       "Transparent pattern/material cloth                    0.340665  \n",
       "Mesh pattern/material cloth                           0.379245  \n",
       "Neps pattern/material cloth                           0.454299  \n",
       "Unknown pattern/material cloth                        0.318985  \n",
       "Argyle pattern/material cloth                         0.406718  \n",
       "Hologram pattern/material cloth                       0.374308  "
      ]
     },
     "metadata": {},
     "output_type": "display_data"
    }
   ],
   "source": [
    "query_sim = query_heat_map(mod_graphical_appearance_name,mod_graphical_appearance_name_vector,query, query_vector)\n",
    "display(query_sim)"
   ]
  },
  {
   "cell_type": "code",
   "execution_count": 132,
   "id": "aa63fcba-4372-43e1-978a-f694166e0d8e",
   "metadata": {},
   "outputs": [
    {
     "data": {
      "image/png": "[encoded data removed]",
      "text/plain": [
       "<Figure size 7200x720 with 2 Axes>"
      ]
     },
     "metadata": {
      "needs_background": "light"
     },
     "output_type": "display_data"
    }
   ],
   "source": [
    "heat_map(query_sim,100,10)"
   ]
  },
  {
   "cell_type": "code",
   "execution_count": 136,
   "id": "2486c032-a891-4baa-8724-5c3d4fa27fe5",
   "metadata": {},
   "outputs": [
    {
     "data": {
      "text/html": [
       "<div>\n",
       "<style scoped>\n",
       "    .dataframe tbody tr th:only-of-type {\n",
       "        vertical-align: middle;\n",
       "    }\n",
       "\n",
       "    .dataframe tbody tr th {\n",
       "        vertical-align: top;\n",
       "    }\n",
       "\n",
       "    .dataframe thead th {\n",
       "        text-align: right;\n",
       "    }\n",
       "</style>\n",
       "<table border=\"1\" class=\"dataframe\">\n",
       "  <thead>\n",
       "    <tr style=\"text-align: right;\">\n",
       "      <th></th>\n",
       "      <th>check shirt</th>\n",
       "      <th>striped tshirt</th>\n",
       "      <th>polka dot shirt</th>\n",
       "      <th>floral print shirt</th>\n",
       "    </tr>\n",
       "  </thead>\n",
       "  <tbody>\n",
       "    <tr>\n",
       "      <th>Solid</th>\n",
       "      <td>0.043395</td>\n",
       "      <td>0.033533</td>\n",
       "      <td>0.066846</td>\n",
       "      <td>-0.014055</td>\n",
       "    </tr>\n",
       "    <tr>\n",
       "      <th>All over pattern</th>\n",
       "      <td>0.197909</td>\n",
       "      <td>0.173273</td>\n",
       "      <td>0.200023</td>\n",
       "      <td>0.194527</td>\n",
       "    </tr>\n",
       "    <tr>\n",
       "      <th>Melange</th>\n",
       "      <td>0.059463</td>\n",
       "      <td>0.139493</td>\n",
       "      <td>0.158351</td>\n",
       "      <td>0.210212</td>\n",
       "    </tr>\n",
       "    <tr>\n",
       "      <th>Stripe</th>\n",
       "      <td>0.132365</td>\n",
       "      <td>0.360160</td>\n",
       "      <td>0.221265</td>\n",
       "      <td>0.306093</td>\n",
       "    </tr>\n",
       "    <tr>\n",
       "      <th>Denim</th>\n",
       "      <td>0.216150</td>\n",
       "      <td>0.306051</td>\n",
       "      <td>0.207446</td>\n",
       "      <td>0.293914</td>\n",
       "    </tr>\n",
       "    <tr>\n",
       "      <th>Front print</th>\n",
       "      <td>0.185551</td>\n",
       "      <td>0.180329</td>\n",
       "      <td>0.144451</td>\n",
       "      <td>0.446346</td>\n",
       "    </tr>\n",
       "    <tr>\n",
       "      <th>Placement print</th>\n",
       "      <td>0.161760</td>\n",
       "      <td>0.161804</td>\n",
       "      <td>0.168041</td>\n",
       "      <td>0.447444</td>\n",
       "    </tr>\n",
       "    <tr>\n",
       "      <th>Check</th>\n",
       "      <td>0.349441</td>\n",
       "      <td>0.116709</td>\n",
       "      <td>0.110333</td>\n",
       "      <td>0.137862</td>\n",
       "    </tr>\n",
       "    <tr>\n",
       "      <th>Colour blocking</th>\n",
       "      <td>0.068140</td>\n",
       "      <td>0.139678</td>\n",
       "      <td>0.147518</td>\n",
       "      <td>0.210017</td>\n",
       "    </tr>\n",
       "    <tr>\n",
       "      <th>Lace</th>\n",
       "      <td>0.125821</td>\n",
       "      <td>0.272209</td>\n",
       "      <td>0.233563</td>\n",
       "      <td>0.307593</td>\n",
       "    </tr>\n",
       "    <tr>\n",
       "      <th>Other structure</th>\n",
       "      <td>0.052480</td>\n",
       "      <td>0.067240</td>\n",
       "      <td>0.034443</td>\n",
       "      <td>0.074699</td>\n",
       "    </tr>\n",
       "    <tr>\n",
       "      <th>Application/3D</th>\n",
       "      <td>0.000000</td>\n",
       "      <td>0.000000</td>\n",
       "      <td>0.000000</td>\n",
       "      <td>0.000000</td>\n",
       "    </tr>\n",
       "    <tr>\n",
       "      <th>Embroidery</th>\n",
       "      <td>0.173256</td>\n",
       "      <td>0.276585</td>\n",
       "      <td>0.200863</td>\n",
       "      <td>0.385874</td>\n",
       "    </tr>\n",
       "    <tr>\n",
       "      <th>Mixed solid/pattern</th>\n",
       "      <td>-0.014851</td>\n",
       "      <td>0.064332</td>\n",
       "      <td>0.019243</td>\n",
       "      <td>0.060398</td>\n",
       "    </tr>\n",
       "    <tr>\n",
       "      <th>Glittering/Metallic</th>\n",
       "      <td>0.000000</td>\n",
       "      <td>0.000000</td>\n",
       "      <td>0.000000</td>\n",
       "      <td>0.000000</td>\n",
       "    </tr>\n",
       "    <tr>\n",
       "      <th>Jacquard</th>\n",
       "      <td>0.077873</td>\n",
       "      <td>0.272916</td>\n",
       "      <td>0.084052</td>\n",
       "      <td>0.279085</td>\n",
       "    </tr>\n",
       "    <tr>\n",
       "      <th>Sequin</th>\n",
       "      <td>0.226510</td>\n",
       "      <td>0.377420</td>\n",
       "      <td>0.192295</td>\n",
       "      <td>0.317266</td>\n",
       "    </tr>\n",
       "    <tr>\n",
       "      <th>Dot</th>\n",
       "      <td>0.055499</td>\n",
       "      <td>0.127995</td>\n",
       "      <td>0.204719</td>\n",
       "      <td>0.156185</td>\n",
       "    </tr>\n",
       "    <tr>\n",
       "      <th>Treatment</th>\n",
       "      <td>0.019996</td>\n",
       "      <td>0.048520</td>\n",
       "      <td>-0.034495</td>\n",
       "      <td>0.039160</td>\n",
       "    </tr>\n",
       "    <tr>\n",
       "      <th>Other pattern</th>\n",
       "      <td>0.159568</td>\n",
       "      <td>0.187991</td>\n",
       "      <td>0.168678</td>\n",
       "      <td>0.179009</td>\n",
       "    </tr>\n",
       "    <tr>\n",
       "      <th>Contrast</th>\n",
       "      <td>0.008826</td>\n",
       "      <td>0.056852</td>\n",
       "      <td>-0.015247</td>\n",
       "      <td>0.046243</td>\n",
       "    </tr>\n",
       "    <tr>\n",
       "      <th>Metallic</th>\n",
       "      <td>0.082202</td>\n",
       "      <td>0.196163</td>\n",
       "      <td>0.085611</td>\n",
       "      <td>0.208341</td>\n",
       "    </tr>\n",
       "    <tr>\n",
       "      <th>Chambray</th>\n",
       "      <td>0.179477</td>\n",
       "      <td>0.388269</td>\n",
       "      <td>0.186083</td>\n",
       "      <td>0.375205</td>\n",
       "    </tr>\n",
       "    <tr>\n",
       "      <th>Slub</th>\n",
       "      <td>0.000000</td>\n",
       "      <td>0.000000</td>\n",
       "      <td>0.000000</td>\n",
       "      <td>0.000000</td>\n",
       "    </tr>\n",
       "    <tr>\n",
       "      <th>Transparent</th>\n",
       "      <td>0.015260</td>\n",
       "      <td>0.162269</td>\n",
       "      <td>0.035550</td>\n",
       "      <td>0.084411</td>\n",
       "    </tr>\n",
       "    <tr>\n",
       "      <th>Mesh</th>\n",
       "      <td>0.045731</td>\n",
       "      <td>0.278578</td>\n",
       "      <td>0.144965</td>\n",
       "      <td>0.155075</td>\n",
       "    </tr>\n",
       "    <tr>\n",
       "      <th>Neps</th>\n",
       "      <td>0.000000</td>\n",
       "      <td>0.000000</td>\n",
       "      <td>0.000000</td>\n",
       "      <td>0.000000</td>\n",
       "    </tr>\n",
       "    <tr>\n",
       "      <th>Unknown</th>\n",
       "      <td>0.084192</td>\n",
       "      <td>0.023047</td>\n",
       "      <td>0.007910</td>\n",
       "      <td>0.027941</td>\n",
       "    </tr>\n",
       "    <tr>\n",
       "      <th>Argyle</th>\n",
       "      <td>0.114462</td>\n",
       "      <td>0.113438</td>\n",
       "      <td>0.151643</td>\n",
       "      <td>0.135514</td>\n",
       "    </tr>\n",
       "    <tr>\n",
       "      <th>Hologram</th>\n",
       "      <td>0.065493</td>\n",
       "      <td>0.099707</td>\n",
       "      <td>0.108910</td>\n",
       "      <td>0.112324</td>\n",
       "    </tr>\n",
       "  </tbody>\n",
       "</table>\n",
       "</div>"
      ],
      "text/plain": [
       "                     check shirt  striped tshirt  polka dot shirt  \\\n",
       "Solid                   0.043395        0.033533         0.066846   \n",
       "All over pattern        0.197909        0.173273         0.200023   \n",
       "Melange                 0.059463        0.139493         0.158351   \n",
       "Stripe                  0.132365        0.360160         0.221265   \n",
       "Denim                   0.216150        0.306051         0.207446   \n",
       "Front print             0.185551        0.180329         0.144451   \n",
       "Placement print         0.161760        0.161804         0.168041   \n",
       "Check                   0.349441        0.116709         0.110333   \n",
       "Colour blocking         0.068140        0.139678         0.147518   \n",
       "Lace                    0.125821        0.272209         0.233563   \n",
       "Other structure         0.052480        0.067240         0.034443   \n",
       "Application/3D          0.000000        0.000000         0.000000   \n",
       "Embroidery              0.173256        0.276585         0.200863   \n",
       "Mixed solid/pattern    -0.014851        0.064332         0.019243   \n",
       "Glittering/Metallic     0.000000        0.000000         0.000000   \n",
       "Jacquard                0.077873        0.272916         0.084052   \n",
       "Sequin                  0.226510        0.377420         0.192295   \n",
       "Dot                     0.055499        0.127995         0.204719   \n",
       "Treatment               0.019996        0.048520        -0.034495   \n",
       "Other pattern           0.159568        0.187991         0.168678   \n",
       "Contrast                0.008826        0.056852        -0.015247   \n",
       "Metallic                0.082202        0.196163         0.085611   \n",
       "Chambray                0.179477        0.388269         0.186083   \n",
       "Slub                    0.000000        0.000000         0.000000   \n",
       "Transparent             0.015260        0.162269         0.035550   \n",
       "Mesh                    0.045731        0.278578         0.144965   \n",
       "Neps                    0.000000        0.000000         0.000000   \n",
       "Unknown                 0.084192        0.023047         0.007910   \n",
       "Argyle                  0.114462        0.113438         0.151643   \n",
       "Hologram                0.065493        0.099707         0.108910   \n",
       "\n",
       "                     floral print shirt  \n",
       "Solid                         -0.014055  \n",
       "All over pattern               0.194527  \n",
       "Melange                        0.210212  \n",
       "Stripe                         0.306093  \n",
       "Denim                          0.293914  \n",
       "Front print                    0.446346  \n",
       "Placement print                0.447444  \n",
       "Check                          0.137862  \n",
       "Colour blocking                0.210017  \n",
       "Lace                           0.307593  \n",
       "Other structure                0.074699  \n",
       "Application/3D                 0.000000  \n",
       "Embroidery                     0.385874  \n",
       "Mixed solid/pattern            0.060398  \n",
       "Glittering/Metallic            0.000000  \n",
       "Jacquard                       0.279085  \n",
       "Sequin                         0.317266  \n",
       "Dot                            0.156185  \n",
       "Treatment                      0.039160  \n",
       "Other pattern                  0.179009  \n",
       "Contrast                       0.046243  \n",
       "Metallic                       0.208341  \n",
       "Chambray                       0.375205  \n",
       "Slub                           0.000000  \n",
       "Transparent                    0.084411  \n",
       "Mesh                           0.155075  \n",
       "Neps                           0.000000  \n",
       "Unknown                        0.027941  \n",
       "Argyle                         0.135514  \n",
       "Hologram                       0.112324  "
      ]
     },
     "metadata": {},
     "output_type": "display_data"
    }
   ],
   "source": [
    "query_sim_rd = query_heat_map(graphical_appearance_name,graphical_appearance_vector,query, query_vector)\n",
    "display(query_sim_rd)"
   ]
  },
  {
   "cell_type": "code",
   "execution_count": 29,
   "id": "0803f2c4-efc6-408a-9df9-0c80cf1a11ef",
   "metadata": {},
   "outputs": [
    {
     "data": {
      "text/plain": [
       "Dark            42706\n",
       "Dusty Light     22152\n",
       "Light           15739\n",
       "Medium Dusty    12630\n",
       "Bright           6471\n",
       "Medium           5711\n",
       "Undefined         105\n",
       "Unknown            28\n",
       "Name: perceived_colour_value_name, dtype: int64"
      ]
     },
     "execution_count": 29,
     "metadata": {},
     "output_type": "execute_result"
    }
   ],
   "source": [
    "pro_df.perceived_colour_value_name.value_counts()"
   ]
  },
  {
   "cell_type": "code",
   "execution_count": null,
   "id": "cafd6db5-49e9-4931-aa60-403e0d850502",
   "metadata": {},
   "outputs": [],
   "source": []
  },
  {
   "cell_type": "code",
   "execution_count": 151,
   "id": "bf5079e8-a969-4333-a4ff-d2fa7f35448c",
   "metadata": {},
   "outputs": [],
   "source": [
    "def sementic_testing(s1, s2):\n",
    "    \n",
    "    from scipy import spatial\n",
    "    r1 = avg_feature_vector(s1, model= embeddings_index, num_features=300 ).tolist()\n",
    "    r2 = avg_feature_vector(s2 , model= embeddings_index, num_features=300 ).tolist()\n",
    "    result = 1 - spatial.distance.cosine(r1, r2)\n",
    "    print(result)\n"
   ]
  },
  {
   "cell_type": "code",
   "execution_count": 152,
   "id": "dba4fcb6-c16a-4414-a733-ca9820ec56be",
   "metadata": {},
   "outputs": [
    {
     "name": "stdout",
     "output_type": "stream",
     "text": [
      "0.4996888728656912\n"
     ]
    }
   ],
   "source": [
    "sementic_testing(\"floral\", \"lily\")"
   ]
  },
  {
   "cell_type": "code",
   "execution_count": 154,
   "id": "e9471cb9-8646-41e6-988c-3d8c4b928fd5",
   "metadata": {},
   "outputs": [
    {
     "name": "stdout",
     "output_type": "stream",
     "text": [
      "0.48666481434203246\n"
     ]
    }
   ],
   "source": [
    "sementic_testing(\"floral\", \"lily tshirt\")"
   ]
  },
  {
   "cell_type": "code",
   "execution_count": 153,
   "id": "f9b14b5b-9553-4dab-92ab-13a7ed3a9d79",
   "metadata": {},
   "outputs": [
    {
     "name": "stdout",
     "output_type": "stream",
     "text": [
      "0.4476902571382517\n"
     ]
    }
   ],
   "source": [
    "sementic_testing(\"floral print\", \"lily tshirt\")"
   ]
  },
  {
   "cell_type": "code",
   "execution_count": 155,
   "id": "be02bdbc-8c66-4e76-9d0c-c6d99a1d635d",
   "metadata": {},
   "outputs": [
    {
     "name": "stdout",
     "output_type": "stream",
     "text": [
      "0.4021226641773388\n"
     ]
    }
   ],
   "source": [
    "sementic_testing(\"Checked\", \"check tshirt\")"
   ]
  },
  {
   "cell_type": "code",
   "execution_count": 156,
   "id": "db1a9788-4814-4cc0-af9e-67497c551a12",
   "metadata": {},
   "outputs": [
    {
     "name": "stdout",
     "output_type": "stream",
     "text": [
      "0.14783727708853633\n"
     ]
    }
   ],
   "source": [
    "sementic_testing(\"Checked\", \"strip tshirt\")"
   ]
  },
  {
   "cell_type": "code",
   "execution_count": 157,
   "id": "df1e6c8e-a954-4e3d-8556-bba2163db098",
   "metadata": {},
   "outputs": [
    {
     "name": "stdout",
     "output_type": "stream",
     "text": [
      "0.3859863934189971\n"
     ]
    }
   ],
   "source": [
    "sementic_testing(\"Checked Cloth\", \"check tshirt\")"
   ]
  },
  {
   "cell_type": "code",
   "execution_count": null,
   "id": "a023d184-1bcc-45a7-aae0-5046b295cbeb",
   "metadata": {},
   "outputs": [],
   "source": []
  },
  {
   "cell_type": "code",
   "execution_count": null,
   "id": "6a2d6c7e-0177-4a99-9da0-36cf87c01c1b",
   "metadata": {},
   "outputs": [],
   "source": []
  },
  {
   "cell_type": "markdown",
   "id": "216663b3-b465-4450-9e1e-12d2054e25dd",
   "metadata": {},
   "source": [
    "## Garment Group Name Embedding Analysis"
   ]
  },
  {
   "cell_type": "code",
   "execution_count": 158,
   "id": "6aa7abed-38c3-41e9-a298-bcb77f6fc246",
   "metadata": {
    "tags": []
   },
   "outputs": [
    {
     "data": {
      "text/plain": [
       "['Jersey Fancy',\n",
       " 'Accessories',\n",
       " 'Jersey Basic',\n",
       " 'Knitwear',\n",
       " 'Under-, Nightwear',\n",
       " 'Trousers',\n",
       " 'Blouses',\n",
       " 'Shoes',\n",
       " 'Dresses Ladies',\n",
       " 'Outdoor',\n",
       " 'Unknown',\n",
       " 'Trousers Denim',\n",
       " 'Swimwear',\n",
       " 'Socks and Tights',\n",
       " 'Shirts',\n",
       " 'Woven/Jersey/Knitted mix Baby',\n",
       " 'Shorts',\n",
       " 'Dresses/Skirts girls',\n",
       " 'Skirts',\n",
       " 'Special Offers',\n",
       " 'Dressed']"
      ]
     },
     "execution_count": 158,
     "metadata": {},
     "output_type": "execute_result"
    }
   ],
   "source": [
    "garment_group_name"
   ]
  },
  {
   "cell_type": "code",
   "execution_count": 163,
   "id": "6c222dcf-a4b1-4b78-baab-974cb92a0bfb",
   "metadata": {},
   "outputs": [
    {
     "name": "stdout",
     "output_type": "stream",
     "text": [
      "['Jersey Fancy cloths', 'Accessories cloths', 'Jersey Basic cloths', 'Knitwear cloths', 'Under-, Nightwear cloths', 'Trousers cloths', 'Blouses cloths', 'Shoes cloths', 'Dresses Ladies cloths', 'Outdoor cloths', 'Unknown cloths', 'Trousers Denim cloths', 'Swimwear cloths', 'Socks and Tights cloths', 'Shirts cloths', 'Woven/Jersey/Knitted mix Baby cloths', 'Shorts cloths', 'Dresses/Skirts girls cloths', 'Skirts cloths', 'Special Offers cloths', 'Dressed cloths']\n"
     ]
    }
   ],
   "source": [
    "## modified the column entries to add the semantic meaning to it\n",
    "mod_garment_group_name = []\n",
    "for i in garment_group_name:\n",
    "    mod_garment_group_name.append(str(i) + \" \" + \"cloths\")\n",
    "\n",
    "print(mod_garment_group_name)"
   ]
  },
  {
   "cell_type": "markdown",
   "id": "408e6460-970c-4706-8d64-19920c1f9d4f",
   "metadata": {
    "tags": []
   },
   "source": [
    "### Embedding Using Word2vec"
   ]
  },
  {
   "cell_type": "code",
   "execution_count": null,
   "id": "87fdadb0-32a3-423f-95b4-0a5f26700469",
   "metadata": {},
   "outputs": [],
   "source": []
  },
  {
   "cell_type": "code",
   "execution_count": 164,
   "id": "ba98c9da-58ab-49e5-b30c-4a709543154c",
   "metadata": {},
   "outputs": [],
   "source": [
    "## vectorise the column text \n",
    "mod_garment_group_name_vector = word2vec(mod_garment_group_name)\n",
    "garment_group_name_vector = word2vec(garment_group_name)"
   ]
  },
  {
   "cell_type": "code",
   "execution_count": null,
   "id": "5cc6301c-7f03-4144-a59f-aa58c04547f5",
   "metadata": {},
   "outputs": [],
   "source": []
  },
  {
   "cell_type": "code",
   "execution_count": 168,
   "id": "824feab9-bd1f-42fc-a753-210ab15c262c",
   "metadata": {},
   "outputs": [],
   "source": [
    "##similarity between all entries of column\n",
    "grament_sim = sim_matrix(garment_group_name, garment_group_name_vector)\n",
    "grament_sim_mod = sim_matrix(mod_garment_group_name, mod_garment_group_name_vector)\n"
   ]
  },
  {
   "cell_type": "code",
   "execution_count": 172,
   "id": "1e05aa39-5f8d-48a0-8528-ea0b12b70a7b",
   "metadata": {},
   "outputs": [
    {
     "data": {
      "image/png": "[encoded data removed]",
      "text/plain": [
       "<Figure size 720x720 with 2 Axes>"
      ]
     },
     "metadata": {
      "needs_background": "light"
     },
     "output_type": "display_data"
    }
   ],
   "source": [
    "heat_map(grament_sim,10,10)"
   ]
  },
  {
   "cell_type": "code",
   "execution_count": 177,
   "id": "61cbf803-229b-4954-92e4-5eba324fe4c2",
   "metadata": {},
   "outputs": [
    {
     "data": {
      "image/png": "[encoded data removed]",
      "text/plain": [
       "<Figure size 720x720 with 2 Axes>"
      ]
     },
     "metadata": {
      "needs_background": "light"
     },
     "output_type": "display_data"
    }
   ],
   "source": [
    "heat_map(grament_sim_mod,10,10)"
   ]
  },
  {
   "cell_type": "code",
   "execution_count": 199,
   "id": "c79b19be-8d2c-4db9-b6d9-08812cf6a74a",
   "metadata": {},
   "outputs": [
    {
     "name": "stdout",
     "output_type": "stream",
     "text": [
      "0.22700027922554888\n"
     ]
    }
   ],
   "source": [
    "sementic_testing(\"jersey\", \"winter cloths\")"
   ]
  },
  {
   "cell_type": "code",
   "execution_count": 201,
   "id": "790cf608-7734-4883-bb26-5a354a2a85dd",
   "metadata": {},
   "outputs": [
    {
     "name": "stdout",
     "output_type": "stream",
     "text": [
      "0.22058898833388718\n"
     ]
    }
   ],
   "source": [
    "sementic_testing(\"jersey\", \"summer cloths\")"
   ]
  },
  {
   "cell_type": "code",
   "execution_count": 202,
   "id": "4b7bfac7-3018-4818-9ee3-10d961c47ef7",
   "metadata": {},
   "outputs": [
    {
     "name": "stdout",
     "output_type": "stream",
     "text": [
      "0.6059054941519235\n"
     ]
    }
   ],
   "source": [
    "sementic_testing(\"jersey Cloth\", \"winter Cloth\")"
   ]
  },
  {
   "cell_type": "code",
   "execution_count": 203,
   "id": "bf2f181a-ff42-4636-a143-c264cda5230d",
   "metadata": {},
   "outputs": [
    {
     "name": "stdout",
     "output_type": "stream",
     "text": [
      "0.06015592617575971\n"
     ]
    }
   ],
   "source": [
    "sementic_testing(\"jersey Cloth\", \"winter\")"
   ]
  },
  {
   "cell_type": "code",
   "execution_count": 205,
   "id": "b4218ac8-823a-4280-8fa2-26049388ea3e",
   "metadata": {},
   "outputs": [
    {
     "name": "stdout",
     "output_type": "stream",
     "text": [
      "0.612240780955351\n"
     ]
    }
   ],
   "source": [
    "sementic_testing(\"jersey Cloth\", \"summer Cloth\")"
   ]
  },
  {
   "cell_type": "code",
   "execution_count": 208,
   "id": "3caff414-f002-45ef-92e0-442711333c46",
   "metadata": {},
   "outputs": [
    {
     "name": "stdout",
     "output_type": "stream",
     "text": [
      "0.7099159296543972\n"
     ]
    }
   ],
   "source": [
    "sementic_testing(\"jersey cloth\", \"cloth\")"
   ]
  },
  {
   "cell_type": "code",
   "execution_count": 209,
   "id": "ea0d9c75-eb17-4694-a8c5-fad0570a09a9",
   "metadata": {},
   "outputs": [
    {
     "name": "stdout",
     "output_type": "stream",
     "text": [
      "0.23294738991724395\n"
     ]
    }
   ],
   "source": [
    "sementic_testing(\"jersey\", \"cloth\")"
   ]
  },
  {
   "cell_type": "code",
   "execution_count": null,
   "id": "ccbbdbef-44d7-4688-8647-06d1b60d9314",
   "metadata": {},
   "outputs": [],
   "source": []
  },
  {
   "cell_type": "markdown",
   "id": "a6067e5d-411a-457f-9053-7275da0b2db5",
   "metadata": {},
   "source": [
    "### Embedding Using Bert"
   ]
  },
  {
   "cell_type": "code",
   "execution_count": 13,
   "id": "d3dbab75-fdec-4bbc-8bff-66f9ab8bff18",
   "metadata": {},
   "outputs": [],
   "source": [
    "def bert_sementic_testing(s1,s2):\n",
    "    \n",
    "    k = BERT([s1,s2])\n",
    "    from scipy import spatial\n",
    "    result = 1 - spatial.distance.cosine(k[0], k[1])\n",
    "    print(result)\n"
   ]
  },
  {
   "cell_type": "code",
   "execution_count": 14,
   "id": "0d1de4a8-25e7-4869-a4d9-3458c0cd7c17",
   "metadata": {},
   "outputs": [
    {
     "name": "stdout",
     "output_type": "stream",
     "text": [
      "0.4715980589389801\n"
     ]
    }
   ],
   "source": [
    "bert_sementic_testing(\"jersey\", \"winter cloths\")"
   ]
  },
  {
   "cell_type": "code",
   "execution_count": 15,
   "id": "cd10d967-2e4b-4580-b2f1-46a030b32f8d",
   "metadata": {},
   "outputs": [
    {
     "name": "stdout",
     "output_type": "stream",
     "text": [
      "0.5194889903068542\n"
     ]
    }
   ],
   "source": [
    "bert_sementic_testing(\"jersey\", \"summer cloths\")"
   ]
  },
  {
   "cell_type": "code",
   "execution_count": 16,
   "id": "d630715e-d453-437e-8989-91d4eb50e9e8",
   "metadata": {},
   "outputs": [
    {
     "name": "stdout",
     "output_type": "stream",
     "text": [
      "0.7469144463539124\n"
     ]
    }
   ],
   "source": [
    "bert_sementic_testing(\"jersey\", \"cloth\")"
   ]
  },
  {
   "cell_type": "code",
   "execution_count": 18,
   "id": "31b2ba14-bdd4-467d-84a5-411429af1040",
   "metadata": {},
   "outputs": [
    {
     "name": "stdout",
     "output_type": "stream",
     "text": [
      "0.529603898525238\n"
     ]
    }
   ],
   "source": [
    "bert_sementic_testing(\"jersey cloth\", \"winter cloth\")"
   ]
  },
  {
   "cell_type": "code",
   "execution_count": 20,
   "id": "d07eaf9c-ffc9-4590-aa1d-e27feca08158",
   "metadata": {},
   "outputs": [
    {
     "name": "stdout",
     "output_type": "stream",
     "text": [
      "0.5096396207809448\n"
     ]
    }
   ],
   "source": [
    "bert_sementic_testing(\"jersey cloth\", \"summer Cloth\")"
   ]
  },
  {
   "cell_type": "code",
   "execution_count": null,
   "id": "7ea647a6-ba0f-4aa2-b5f0-5221d00ab751",
   "metadata": {},
   "outputs": [],
   "source": []
  },
  {
   "cell_type": "markdown",
   "id": "ea796eae-f43e-4f78-9216-b018d7beb27d",
   "metadata": {},
   "source": [
    "### Color Embedding Analysis"
   ]
  },
  {
   "cell_type": "code",
   "execution_count": 23,
   "id": "af8ded98-181f-49b9-b797-cf85c1f33485",
   "metadata": {},
   "outputs": [],
   "source": [
    "from collections import namedtuple, OrderedDict\n",
    "Color = namedtuple('RGB','red, green, blue')\n",
    "colors = {} #dict of colors\n",
    "class RGB(Color):\n",
    "    def hex_format(self):\n",
    "        \n",
    "        '''Returns color in hex format'''\n",
    "        return '#{:02X}{:02X}{:02X}'.format(self.red,self.green,self.blue)"
   ]
  },
  {
   "cell_type": "code",
   "execution_count": 32,
   "id": "aec5d30b-fed5-44dd-8847-3ce8324f80c2",
   "metadata": {},
   "outputs": [],
   "source": [
    "import pandas as pd\n",
    "colour_code = pd.read_csv(\"colour_codes.csv\")"
   ]
  },
  {
   "cell_type": "code",
   "execution_count": 33,
   "id": "b4ac1e54-f2d0-4478-b543-b0ae190aaaec",
   "metadata": {},
   "outputs": [
    {
     "data": {
      "text/html": [
       "<div>\n",
       "<style scoped>\n",
       "    .dataframe tbody tr th:only-of-type {\n",
       "        vertical-align: middle;\n",
       "    }\n",
       "\n",
       "    .dataframe tbody tr th {\n",
       "        vertical-align: top;\n",
       "    }\n",
       "\n",
       "    .dataframe thead th {\n",
       "        text-align: right;\n",
       "    }\n",
       "</style>\n",
       "<table border=\"1\" class=\"dataframe\">\n",
       "  <thead>\n",
       "    <tr style=\"text-align: right;\">\n",
       "      <th></th>\n",
       "      <th>Color Name</th>\n",
       "      <th>Hex Value</th>\n",
       "      <th>RGB Value</th>\n",
       "    </tr>\n",
       "  </thead>\n",
       "  <tbody>\n",
       "    <tr>\n",
       "      <th>0</th>\n",
       "      <td>aliceblue</td>\n",
       "      <td>#F0F8FF</td>\n",
       "      <td>[240,248,255]</td>\n",
       "    </tr>\n",
       "    <tr>\n",
       "      <th>1</th>\n",
       "      <td>antiquewhite</td>\n",
       "      <td>#FAEBD7</td>\n",
       "      <td>[250,235,215]</td>\n",
       "    </tr>\n",
       "    <tr>\n",
       "      <th>2</th>\n",
       "      <td>antiquewhite1</td>\n",
       "      <td>#FFEFDB</td>\n",
       "      <td>[255,239,219]</td>\n",
       "    </tr>\n",
       "    <tr>\n",
       "      <th>3</th>\n",
       "      <td>antiquewhite2</td>\n",
       "      <td>#EEDFCC</td>\n",
       "      <td>[238,223,204]</td>\n",
       "    </tr>\n",
       "    <tr>\n",
       "      <th>4</th>\n",
       "      <td>antiquewhite3</td>\n",
       "      <td>#CDC0B0</td>\n",
       "      <td>[205,192,176]</td>\n",
       "    </tr>\n",
       "    <tr>\n",
       "      <th>...</th>\n",
       "      <td>...</td>\n",
       "      <td>...</td>\n",
       "      <td>...</td>\n",
       "    </tr>\n",
       "    <tr>\n",
       "      <th>546</th>\n",
       "      <td>whitesmoke</td>\n",
       "      <td>#F5F5F5</td>\n",
       "      <td>[245,245,245]</td>\n",
       "    </tr>\n",
       "    <tr>\n",
       "      <th>547</th>\n",
       "      <td>yellow1</td>\n",
       "      <td>#FFFF00</td>\n",
       "      <td>[255,255,0]</td>\n",
       "    </tr>\n",
       "    <tr>\n",
       "      <th>548</th>\n",
       "      <td>yellow2</td>\n",
       "      <td>#EEEE00</td>\n",
       "      <td>[238,238,0]</td>\n",
       "    </tr>\n",
       "    <tr>\n",
       "      <th>549</th>\n",
       "      <td>yellow3</td>\n",
       "      <td>#CDCD00</td>\n",
       "      <td>[205,205,0]</td>\n",
       "    </tr>\n",
       "    <tr>\n",
       "      <th>550</th>\n",
       "      <td>yellow4</td>\n",
       "      <td>#8B8B00</td>\n",
       "      <td>[139,139,0]</td>\n",
       "    </tr>\n",
       "  </tbody>\n",
       "</table>\n",
       "<p>551 rows × 3 columns</p>\n",
       "</div>"
      ],
      "text/plain": [
       "        Color Name Hex Value      RGB Value\n",
       "0        aliceblue   #F0F8FF  [240,248,255]\n",
       "1     antiquewhite   #FAEBD7  [250,235,215]\n",
       "2    antiquewhite1   #FFEFDB  [255,239,219]\n",
       "3    antiquewhite2   #EEDFCC  [238,223,204]\n",
       "4    antiquewhite3   #CDC0B0  [205,192,176]\n",
       "..             ...       ...            ...\n",
       "546     whitesmoke   #F5F5F5  [245,245,245]\n",
       "547        yellow1   #FFFF00    [255,255,0]\n",
       "548        yellow2   #EEEE00    [238,238,0]\n",
       "549        yellow3   #CDCD00    [205,205,0]\n",
       "550        yellow4   #8B8B00    [139,139,0]\n",
       "\n",
       "[551 rows x 3 columns]"
      ]
     },
     "execution_count": 33,
     "metadata": {},
     "output_type": "execute_result"
    }
   ],
   "source": [
    "colour_code"
   ]
  },
  {
   "cell_type": "code",
   "execution_count": 35,
   "id": "c3d2b891-7794-4116-989c-bbfc5a894388",
   "metadata": {},
   "outputs": [],
   "source": [
    "color = colour_code[\"Color Name\"].tolist()\n",
    "RGB = colour_code[\"RGB Value\"].tolist()\n",
    "\n",
    "col_rgb = {color[i]: RGB[i] for i in range(len(color))}"
   ]
  },
  {
   "cell_type": "code",
   "execution_count": 39,
   "id": "0857a996-e89d-40f7-a14b-88aad11c77bf",
   "metadata": {},
   "outputs": [
    {
     "data": {
      "text/plain": [
       "'[255,255,0]'"
      ]
     },
     "execution_count": 39,
     "metadata": {},
     "output_type": "execute_result"
    }
   ],
   "source": [
    "col_rgb['yellow1']"
   ]
  },
  {
   "cell_type": "code",
   "execution_count": 40,
   "id": "37e33dee-5fd0-4061-b88c-056a827ab5a6",
   "metadata": {},
   "outputs": [
    {
     "name": "stderr",
     "output_type": "stream",
     "text": [
      "C:\\Users\\dhrsingh\\Anaconda3\\lib\\site-packages\\fuzzywuzzy\\fuzz.py:11: UserWarning: Using slow pure-python SequenceMatcher. Install python-Levenshtein to remove this warning\n",
      "  warnings.warn('Using slow pure-python SequenceMatcher. Install python-Levenshtein to remove this warning')\n"
     ]
    }
   ],
   "source": [
    "from fuzzywuzzy import fuzz\n",
    "from fuzzywuzzy import process"
   ]
  },
  {
   "cell_type": "code",
   "execution_count": 43,
   "id": "c29e1695-ee2a-4402-9ef1-f5b8ca0acc91",
   "metadata": {},
   "outputs": [
    {
     "data": {
      "text/plain": [
       "('indianred', 90)"
      ]
     },
     "execution_count": 43,
     "metadata": {},
     "output_type": "execute_result"
    }
   ],
   "source": [
    "process.extractOne(\"red\", color)"
   ]
  },
  {
   "cell_type": "code",
   "execution_count": 44,
   "id": "56a2fc9a-b3e9-4532-ac21-9be8264be433",
   "metadata": {},
   "outputs": [
    {
     "data": {
      "text/plain": [
       "'[205,92,92]'"
      ]
     },
     "execution_count": 44,
     "metadata": {},
     "output_type": "execute_result"
    }
   ],
   "source": [
    "col_rgb[process.extractOne(\"red\", color)[0]]"
   ]
  },
  {
   "cell_type": "code",
   "execution_count": 46,
   "id": "039326bc-19e4-436b-b325-ac506ce7b4bf",
   "metadata": {},
   "outputs": [],
   "source": [
    "query = ['Black',\n",
    "'Dark Blue',\n",
    "'White',\n",
    "'Light Pink',\n",
    "'Grey',\n",
    "'Light Beige',\n",
    "'Blue',\n",
    "'Red',\n",
    "'Light Blue',\n",
    "'Greenish Khaki']"
   ]
  },
  {
   "cell_type": "code",
   "execution_count": 47,
   "id": "8d8eb897-bf80-4ea6-978f-3ae6d8c8101e",
   "metadata": {},
   "outputs": [
    {
     "name": "stdout",
     "output_type": "stream",
     "text": [
      "Black      black       100      [0,0,0]\n",
      "Dark Blue      blue       90      [0,0,255]\n",
      "White      white       100      [255,255,255]\n",
      "Light Pink      lightpink       95      [255,182,193]\n",
      "Grey      coldgrey       90      [128,138,135]\n",
      "Light Beige      beige       90      [245,245,220]\n",
      "Blue      blue       100      [0,0,255]\n",
      "Red      indianred       90      [205,92,92]\n",
      "Light Blue      lightblue       95      [173,216,230]\n",
      "Greenish Khaki      green       90      [0,128,0]\n"
     ]
    }
   ],
   "source": [
    "for i in query:\n",
    "    print(i, \"    \", process.extractOne(i, color)[0], \"     \", process.extractOne(i, color)[1], \"    \",col_rgb[process.extractOne(i, color)[0]])"
   ]
  }
 ],
 "metadata": {
  "kernelspec": {
   "display_name": "Python 3 (ipykernel)",
   "language": "python",
   "name": "python3"
  },
  "language_info": {
   "codemirror_mode": {
    "name": "ipython",
    "version": 3
   },
   "file_extension": ".py",
   "mimetype": "text/x-python",
   "name": "python",
   "nbconvert_exporter": "python",
   "pygments_lexer": "ipython3",
   "version": "3.9.12"
  }
 },
 "nbformat": 4,
 "nbformat_minor": 5
}
