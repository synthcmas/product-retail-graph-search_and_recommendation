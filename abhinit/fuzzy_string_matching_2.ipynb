{
 "cells": [
  {
   "cell_type": "code",
   "execution_count": 1,
   "id": "545212b3",
   "metadata": {},
   "outputs": [
    {
     "name": "stderr",
     "output_type": "stream",
     "text": [
      "C:\\Users\\abhsingh73\\Anaconda3\\lib\\site-packages\\fuzzywuzzy\\fuzz.py:11: UserWarning: Using slow pure-python SequenceMatcher. Install python-Levenshtein to remove this warning\n",
      "  warnings.warn('Using slow pure-python SequenceMatcher. Install python-Levenshtein to remove this warning')\n"
     ]
    }
   ],
   "source": [
    "##importing libraries\n",
    "import numpy as np\n",
    "import pandas as pd\n",
    "\n",
    "from fuzzywuzzy import process\n",
    "from nltk.tokenize import word_tokenize"
   ]
  },
  {
   "cell_type": "code",
   "execution_count": 2,
   "id": "5b059484",
   "metadata": {},
   "outputs": [
    {
     "data": {
      "text/html": [
       "<div>\n",
       "<style scoped>\n",
       "    .dataframe tbody tr th:only-of-type {\n",
       "        vertical-align: middle;\n",
       "    }\n",
       "\n",
       "    .dataframe tbody tr th {\n",
       "        vertical-align: top;\n",
       "    }\n",
       "\n",
       "    .dataframe thead th {\n",
       "        text-align: right;\n",
       "    }\n",
       "</style>\n",
       "<table border=\"1\" class=\"dataframe\">\n",
       "  <thead>\n",
       "    <tr style=\"text-align: right;\">\n",
       "      <th></th>\n",
       "      <th>article_id</th>\n",
       "      <th>product_code</th>\n",
       "      <th>prod_name</th>\n",
       "      <th>product_type_no</th>\n",
       "      <th>product_type_name</th>\n",
       "      <th>product_group_name</th>\n",
       "      <th>graphical_appearance_no</th>\n",
       "      <th>graphical_appearance_name</th>\n",
       "      <th>colour_group_code</th>\n",
       "      <th>colour_group_name</th>\n",
       "      <th>...</th>\n",
       "      <th>department_name</th>\n",
       "      <th>index_code</th>\n",
       "      <th>index_name</th>\n",
       "      <th>index_group_no</th>\n",
       "      <th>index_group_name</th>\n",
       "      <th>section_no</th>\n",
       "      <th>section_name</th>\n",
       "      <th>garment_group_no</th>\n",
       "      <th>garment_group_name</th>\n",
       "      <th>detail_desc</th>\n",
       "    </tr>\n",
       "  </thead>\n",
       "  <tbody>\n",
       "    <tr>\n",
       "      <th>0</th>\n",
       "      <td>108775015</td>\n",
       "      <td>108775</td>\n",
       "      <td>Strap top</td>\n",
       "      <td>253</td>\n",
       "      <td>Vest top</td>\n",
       "      <td>Garment Upper body</td>\n",
       "      <td>1010016</td>\n",
       "      <td>Solid</td>\n",
       "      <td>9</td>\n",
       "      <td>Black</td>\n",
       "      <td>...</td>\n",
       "      <td>Jersey Basic</td>\n",
       "      <td>A</td>\n",
       "      <td>Ladieswear</td>\n",
       "      <td>1</td>\n",
       "      <td>Ladieswear</td>\n",
       "      <td>16</td>\n",
       "      <td>Womens Everyday Basics</td>\n",
       "      <td>1002</td>\n",
       "      <td>Jersey Basic</td>\n",
       "      <td>Jersey top with narrow shoulder straps.</td>\n",
       "    </tr>\n",
       "    <tr>\n",
       "      <th>1</th>\n",
       "      <td>108775044</td>\n",
       "      <td>108775</td>\n",
       "      <td>Strap top</td>\n",
       "      <td>253</td>\n",
       "      <td>Vest top</td>\n",
       "      <td>Garment Upper body</td>\n",
       "      <td>1010016</td>\n",
       "      <td>Solid</td>\n",
       "      <td>10</td>\n",
       "      <td>White</td>\n",
       "      <td>...</td>\n",
       "      <td>Jersey Basic</td>\n",
       "      <td>A</td>\n",
       "      <td>Ladieswear</td>\n",
       "      <td>1</td>\n",
       "      <td>Ladieswear</td>\n",
       "      <td>16</td>\n",
       "      <td>Womens Everyday Basics</td>\n",
       "      <td>1002</td>\n",
       "      <td>Jersey Basic</td>\n",
       "      <td>Jersey top with narrow shoulder straps.</td>\n",
       "    </tr>\n",
       "    <tr>\n",
       "      <th>2</th>\n",
       "      <td>108775051</td>\n",
       "      <td>108775</td>\n",
       "      <td>Strap top (1)</td>\n",
       "      <td>253</td>\n",
       "      <td>Vest top</td>\n",
       "      <td>Garment Upper body</td>\n",
       "      <td>1010017</td>\n",
       "      <td>Stripe</td>\n",
       "      <td>11</td>\n",
       "      <td>Off White</td>\n",
       "      <td>...</td>\n",
       "      <td>Jersey Basic</td>\n",
       "      <td>A</td>\n",
       "      <td>Ladieswear</td>\n",
       "      <td>1</td>\n",
       "      <td>Ladieswear</td>\n",
       "      <td>16</td>\n",
       "      <td>Womens Everyday Basics</td>\n",
       "      <td>1002</td>\n",
       "      <td>Jersey Basic</td>\n",
       "      <td>Jersey top with narrow shoulder straps.</td>\n",
       "    </tr>\n",
       "    <tr>\n",
       "      <th>3</th>\n",
       "      <td>110065001</td>\n",
       "      <td>110065</td>\n",
       "      <td>OP T-shirt (Idro)</td>\n",
       "      <td>306</td>\n",
       "      <td>Bra</td>\n",
       "      <td>Underwear</td>\n",
       "      <td>1010016</td>\n",
       "      <td>Solid</td>\n",
       "      <td>9</td>\n",
       "      <td>Black</td>\n",
       "      <td>...</td>\n",
       "      <td>Clean Lingerie</td>\n",
       "      <td>B</td>\n",
       "      <td>Lingeries/Tights</td>\n",
       "      <td>1</td>\n",
       "      <td>Ladieswear</td>\n",
       "      <td>61</td>\n",
       "      <td>Womens Lingerie</td>\n",
       "      <td>1017</td>\n",
       "      <td>Under-, Nightwear</td>\n",
       "      <td>Microfibre T-shirt bra with underwired, moulde...</td>\n",
       "    </tr>\n",
       "    <tr>\n",
       "      <th>4</th>\n",
       "      <td>110065002</td>\n",
       "      <td>110065</td>\n",
       "      <td>OP T-shirt (Idro)</td>\n",
       "      <td>306</td>\n",
       "      <td>Bra</td>\n",
       "      <td>Underwear</td>\n",
       "      <td>1010016</td>\n",
       "      <td>Solid</td>\n",
       "      <td>10</td>\n",
       "      <td>White</td>\n",
       "      <td>...</td>\n",
       "      <td>Clean Lingerie</td>\n",
       "      <td>B</td>\n",
       "      <td>Lingeries/Tights</td>\n",
       "      <td>1</td>\n",
       "      <td>Ladieswear</td>\n",
       "      <td>61</td>\n",
       "      <td>Womens Lingerie</td>\n",
       "      <td>1017</td>\n",
       "      <td>Under-, Nightwear</td>\n",
       "      <td>Microfibre T-shirt bra with underwired, moulde...</td>\n",
       "    </tr>\n",
       "  </tbody>\n",
       "</table>\n",
       "<p>5 rows × 25 columns</p>\n",
       "</div>"
      ],
      "text/plain": [
       "   article_id  product_code          prod_name  product_type_no  \\\n",
       "0   108775015        108775          Strap top              253   \n",
       "1   108775044        108775          Strap top              253   \n",
       "2   108775051        108775      Strap top (1)              253   \n",
       "3   110065001        110065  OP T-shirt (Idro)              306   \n",
       "4   110065002        110065  OP T-shirt (Idro)              306   \n",
       "\n",
       "  product_type_name  product_group_name  graphical_appearance_no  \\\n",
       "0          Vest top  Garment Upper body                  1010016   \n",
       "1          Vest top  Garment Upper body                  1010016   \n",
       "2          Vest top  Garment Upper body                  1010017   \n",
       "3               Bra           Underwear                  1010016   \n",
       "4               Bra           Underwear                  1010016   \n",
       "\n",
       "  graphical_appearance_name  colour_group_code colour_group_name  ...  \\\n",
       "0                     Solid                  9             Black  ...   \n",
       "1                     Solid                 10             White  ...   \n",
       "2                    Stripe                 11         Off White  ...   \n",
       "3                     Solid                  9             Black  ...   \n",
       "4                     Solid                 10             White  ...   \n",
       "\n",
       "   department_name index_code        index_name index_group_no  \\\n",
       "0     Jersey Basic          A        Ladieswear              1   \n",
       "1     Jersey Basic          A        Ladieswear              1   \n",
       "2     Jersey Basic          A        Ladieswear              1   \n",
       "3   Clean Lingerie          B  Lingeries/Tights              1   \n",
       "4   Clean Lingerie          B  Lingeries/Tights              1   \n",
       "\n",
       "   index_group_name section_no            section_name garment_group_no  \\\n",
       "0        Ladieswear         16  Womens Everyday Basics             1002   \n",
       "1        Ladieswear         16  Womens Everyday Basics             1002   \n",
       "2        Ladieswear         16  Womens Everyday Basics             1002   \n",
       "3        Ladieswear         61         Womens Lingerie             1017   \n",
       "4        Ladieswear         61         Womens Lingerie             1017   \n",
       "\n",
       "   garment_group_name                                        detail_desc  \n",
       "0        Jersey Basic            Jersey top with narrow shoulder straps.  \n",
       "1        Jersey Basic            Jersey top with narrow shoulder straps.  \n",
       "2        Jersey Basic            Jersey top with narrow shoulder straps.  \n",
       "3   Under-, Nightwear  Microfibre T-shirt bra with underwired, moulde...  \n",
       "4   Under-, Nightwear  Microfibre T-shirt bra with underwired, moulde...  \n",
       "\n",
       "[5 rows x 25 columns]"
      ]
     },
     "execution_count": 2,
     "metadata": {},
     "output_type": "execute_result"
    }
   ],
   "source": [
    "##import the product catalogue dataset\n",
    "articles=pd.read_csv('articles.csv')\n",
    "articles.head()"
   ]
  },
  {
   "cell_type": "code",
   "execution_count": 3,
   "id": "262ab26d",
   "metadata": {},
   "outputs": [
    {
     "data": {
      "text/plain": [
       "Index(['article_id', 'product_code', 'prod_name', 'product_type_no',\n",
       "       'product_type_name', 'product_group_name', 'graphical_appearance_no',\n",
       "       'graphical_appearance_name', 'colour_group_code', 'colour_group_name',\n",
       "       'perceived_colour_value_id', 'perceived_colour_value_name',\n",
       "       'perceived_colour_master_id', 'perceived_colour_master_name',\n",
       "       'department_no', 'department_name', 'index_code', 'index_name',\n",
       "       'index_group_no', 'index_group_name', 'section_no', 'section_name',\n",
       "       'garment_group_no', 'garment_group_name', 'detail_desc'],\n",
       "      dtype='object')"
      ]
     },
     "execution_count": 3,
     "metadata": {},
     "output_type": "execute_result"
    }
   ],
   "source": [
    "##checking all columns in articles\n",
    "articles.columns"
   ]
  },
  {
   "cell_type": "code",
   "execution_count": 4,
   "id": "5e439d26",
   "metadata": {},
   "outputs": [],
   "source": [
    "##list of columns used as attributes\n",
    "att_cols=['product_type_name','product_group_name','graphical_appearance_name','colour_group_name',\n",
    "          'perceived_colour_value_name','department_name','index_group_name','index_name','garment_group_name',\n",
    "          'section_name']"
   ]
  },
  {
   "cell_type": "code",
   "execution_count": 5,
   "id": "41b78617",
   "metadata": {},
   "outputs": [
    {
     "data": {
      "text/plain": [
       "{'product_type_name': array(['Vest top', 'Bra', 'Underwear Tights', 'Socks', 'Leggings/Tights',\n",
       "        'Sweater', 'Top', 'Trousers', 'Hair clip', 'Umbrella',\n",
       "        'Pyjama jumpsuit/playsuit', 'Bodysuit', 'Hair string', 'Unknown',\n",
       "        'Hoodie', 'Sleep Bag', 'Hair/alice band', 'Belt', 'Boots',\n",
       "        'Bikini top', 'Swimwear bottom', 'Underwear bottom', 'Swimsuit',\n",
       "        'Skirt', 'T-shirt', 'Dress', 'Hat/beanie', 'Kids Underwear top',\n",
       "        'Shorts', 'Shirt', 'Cap/peaked', 'Pyjama set', 'Sneakers',\n",
       "        'Sunglasses', 'Cardigan', 'Gloves', 'Earring', 'Bag', 'Blazer',\n",
       "        'Other shoe', 'Jumpsuit/Playsuit', 'Sandals', 'Jacket', 'Costumes',\n",
       "        'Robe', 'Scarf', 'Coat', 'Other accessories', 'Polo shirt',\n",
       "        'Slippers', 'Night gown', 'Alice band', 'Straw hat', 'Hat/brim',\n",
       "        'Tailored Waistcoat', 'Necklace', 'Ballerinas', 'Tie',\n",
       "        'Pyjama bottom', 'Felt hat', 'Bracelet', 'Blouse',\n",
       "        'Outdoor overall', 'Watch', 'Underwear body', 'Beanie', 'Giftbox',\n",
       "        'Sleeping sack', 'Dungarees', 'Outdoor trousers', 'Wallet',\n",
       "        'Swimwear set', 'Swimwear top', 'Flat shoe', 'Garment Set', 'Ring',\n",
       "        'Waterbottle', 'Wedge', 'Long John', 'Outdoor Waistcoat', 'Pumps',\n",
       "        'Flip flop', 'Braces', 'Bootie', 'Fine cosmetics',\n",
       "        'Heeled sandals', 'Nipple covers', 'Chem. cosmetics', 'Soft Toys',\n",
       "        'Hair ties', 'Underwear corset', 'Bra extender', 'Underdress',\n",
       "        'Underwear set', 'Sarong', 'Leg warmers', 'Blanket', 'Hairband',\n",
       "        'Tote bag', 'Weekend/Gym bag', 'Cushion', 'Backpack', 'Earrings',\n",
       "        'Bucket hat', 'Flat shoes', 'Heels', 'Cap', 'Shoulder bag',\n",
       "        'Side table', 'Accessories set', 'Headband', 'Baby Bib',\n",
       "        'Keychain', 'Dog Wear', 'Washing bag', 'Sewing kit',\n",
       "        'Cross-body bag', 'Moccasins', 'Towel', 'Wood balls',\n",
       "        'Zipper head', 'Mobile case', 'Pre-walkers', 'Toy', 'Marker pen',\n",
       "        'Bumbag', 'Dog wear', 'Eyeglasses', 'Wireless earphone case',\n",
       "        'Stain remover spray', 'Clothing mist'], dtype=object),\n",
       " 'product_group_name': array(['Garment Upper body', 'Underwear', 'Socks & Tights',\n",
       "        'Garment Lower body', 'Accessories', 'Items', 'Nightwear',\n",
       "        'Unknown', 'Underwear/nightwear', 'Shoes', 'Swimwear',\n",
       "        'Garment Full body', 'Cosmetic', 'Interior textile', 'Bags',\n",
       "        'Furniture', 'Garment and Shoe care', 'Fun', 'Stationery'],\n",
       "       dtype=object),\n",
       " 'graphical_appearance_name': array(['Solid', 'Stripe', 'All over pattern', 'Melange', 'Transparent',\n",
       "        'Metallic', 'Application/3D', 'Denim', 'Colour blocking', 'Dot',\n",
       "        'Other structure', 'Contrast', 'Treatment', 'Check', 'Chambray',\n",
       "        'Front print', 'Glittering/Metallic', 'Mixed solid/pattern',\n",
       "        'Placement print', 'Other pattern', 'Neps', 'Embroidery', 'Lace',\n",
       "        'Jacquard', 'Unknown', 'Argyle', 'Slub', 'Mesh', 'Sequin',\n",
       "        'Hologram'], dtype=object),\n",
       " 'colour_group_name': array(['Black', 'White', 'Off White', 'Light Beige', 'Beige', 'Grey',\n",
       "        'Light Blue', 'Light Grey', 'Dark Blue', 'Dark Grey', 'Pink',\n",
       "        'Dark Red', 'Greyish Beige', 'Light Orange', 'Silver', 'Gold',\n",
       "        'Light Pink', 'Dark Pink', 'Yellowish Brown', 'Blue',\n",
       "        'Light Turquoise', 'Yellow', 'Greenish Khaki', 'Dark Yellow',\n",
       "        'Other Pink', 'Dark Purple', 'Red', 'Transparent', 'Dark Green',\n",
       "        'Other Red', 'Turquoise', 'Dark Orange', 'Other', 'Orange',\n",
       "        'Dark Beige', 'Other Yellow', 'Light Green', 'Other Orange',\n",
       "        'Purple', 'Light Red', 'Light Yellow', 'Green', 'Light Purple',\n",
       "        'Dark Turquoise', 'Other Purple', 'Bronze/Copper',\n",
       "        'Other Turquoise', 'Other Green', 'Other Blue', 'Unknown'],\n",
       "       dtype=object),\n",
       " 'perceived_colour_value_name': array(['Dark', 'Light', 'Dusty Light', 'Medium Dusty', 'Bright', 'Medium',\n",
       "        'Undefined', 'Unknown'], dtype=object),\n",
       " 'department_name': array(['Jersey Basic', 'Clean Lingerie', 'Tights basic', 'Baby basics',\n",
       "        'Casual Lingerie', 'Jersey', 'EQ & Special Collections',\n",
       "        'Hair Accessories', 'Other items', 'Baby Nightwear',\n",
       "        'Men Sport Woven', 'Men Sport Bottoms', 'Kids Boy Denim',\n",
       "        'Shopbasket Socks', 'Socks', 'UW', 'Young Girl Jersey Basic',\n",
       "        'Jacket Street', 'Belts', 'Divided Shoes', 'Swimwear',\n",
       "        'Underwear Jersey', 'Basic 1', 'Tops Knitwear DS', 'Men Sport Acc',\n",
       "        'Kids Boy Jersey Basic', 'Young Girl UW/NW', 'Shirt', 'Nightwear',\n",
       "        'Trouser', 'Small Accessories', 'Sunglasses', 'Gloves/Hats',\n",
       "        'Knit & Woven', 'Basics', 'Accessories', 'Jewellery',\n",
       "        'Jersey Fancy DS', 'Trousers DS', 'Bags', 'Blazer S&T', 'Knitwear',\n",
       "        'Woven bottoms', 'Shorts', 'Dresses DS', 'Expressive Lingerie',\n",
       "        'Kids Girl UW/NW', 'Young Boy Jersey Basic', 'Kids Girl S&T',\n",
       "        'Young Girl S&T', 'Shoes / Boots inactive from s5', 'Nursing',\n",
       "        'Jersey Fancy', 'Shoes', 'Functional Lingerie', 'Men Sport Tops',\n",
       "        'Other Accessories', 'Young Boy Trouser', 'Outdoor/Blazers DS',\n",
       "        'Mama Lingerie', 'Socks Bin', 'Denim Other Garments',\n",
       "        'Everyday Waredrobe Denim', 'Trousers', 'Denim Trousers',\n",
       "        'Outdoor/Blazers', 'Young Boy Denim', 'Scarves', 'Dresses',\n",
       "        'Skirts', 'Kids Girl Jersey Basic', 'Baby Socks',\n",
       "        'Trousers & Skirt', 'Young Boy Shirt', 'Kids Girl Big Acc',\n",
       "        'Young Girl Denim', 'Flats', 'Baby Toys/Acc', 'Projects Dresses',\n",
       "        'Denim shorts', 'Jersey inactive from s1', 'Promotion/Other/Offer',\n",
       "        'Bags & Items', 'Small Bags', 'Trouser S&T', 'Shirt S&T',\n",
       "        'Woven Tops', 'Denim trousers', 'Young Girl Knitwear', 'Outwear',\n",
       "        'Knitwear inactive from s1', 'Projects Woven Tops',\n",
       "        'Projects Jersey & Knitwear',\n",
       "        'Denim wardrobe H&M man inactive from S.6', 'Baby Boy Outdoor',\n",
       "        'Premium Quality', 'Woven inactive from s1', 'Tops woven DS',\n",
       "        'Newborn', 'Skirt', 'Jersey License', 'Jewellery Extended',\n",
       "        'Light Basic Jersey', 'Suit Extended inactive from s1',\n",
       "        'Young Boy UW/NW', 'Tops Knitwear', 'Kids Boy Socks',\n",
       "        'Young Boy Socks', 'Outdoor inactive from s1',\n",
       "        'Kids Girl Swimwear', 'Young Girl Swimwear', 'Ladies Sport Bras',\n",
       "        'Ladies Sport Bottoms', 'Jersey fancy', 'Blazer', 'Baby Boy Woven',\n",
       "        'Kids Boy Swimwear', 'Young boy Swimwear',\n",
       "        'Kids Dress-up/Football', 'Sneakers small girl inactive from s2',\n",
       "        'Tops Woven', 'Blouse', 'Shorts DS', 'Boots', 'Kids Boy Big Acc',\n",
       "        'Boys Small Acc & Bags', 'Woven top', 'Young Girl Dresses',\n",
       "        'Knitwear Basic', 'Sneakers', 'Dress', 'Baby Girl Woven',\n",
       "        'Baby Girl Jersey Fancy', 'Jacket Casual', 'Kids Boy UW/NW',\n",
       "        'Ladies Sport Acc', 'Kids Girl Jersey Fancy', 'Baby Exclusive',\n",
       "        'Young Boy Shorts', 'EQ Divided Basics', 'Shorts & Skirts',\n",
       "        'Promotion/ Other /Offer', 'Kids Boy Trouser', 'Tops Fancy Jersey',\n",
       "        'Kids Girl Knitwear', 'Kids Boy Jersey Fancy', 'Heels',\n",
       "        'Woven Premium', 'Blouse & Dress', 'Kids Girl Trouser',\n",
       "        'Kids Girl Dresses', 'Projects Woven Bottoms',\n",
       "        'Conscious Exclusive', 'Shoes Other', 'Kids Girl Outdoor',\n",
       "        'Skirts DS', 'Young Girl Jersey Fancy', 'Young Boy Outdoor',\n",
       "        'Young Girl Outdoor', 'Woven Occasion', 'Kids Boy Outdoor',\n",
       "        'Young Boy Jersey Fancy', 'Kids Boy Shoes', 'Ladies Sport Woven',\n",
       "        'Bottoms Girls', 'Tops Girls', 'Young Girl Big Acc',\n",
       "        'Young Boy Shoes', 'Young Boy Knitwear', 'Suit', 'Kids Girl Shoes',\n",
       "        'Jacket Smart', 'Projects', 'Kids Boy Knitwear',\n",
       "        'Woven bottoms inactive from S.7', 'Jersey/Knitwear Premium',\n",
       "        'Sneakers big girl inactive from s2', 'Suit jacket',\n",
       "        'Kids Boy Shirt', 'Jacket', 'Kids Girl Denim',\n",
       "        'Young Girl Trouser', 'Girls Small Acc/Bags',\n",
       "        'Shirt Extended inactive from s1', 'Tops Boys',\n",
       "        'Baby Girl Knitwear', 'Baby Shoes', 'Jackets', 'Jersey Occasion',\n",
       "        'Young Boy Big Acc', 'Kids Girl License', 'Baby Boy Jersey Fancy',\n",
       "        'Bottoms Boys', 'Local relevance', 'Dress-up Boys',\n",
       "        'Small Acc. Jewellery & Other', 'Baby Boy Knitwear',\n",
       "        'Equatorial Assortment', 'Loungewear', 'Studio Collection',\n",
       "        'Woven', 'Outwear & Blazers',\n",
       "        'Underwear Jersey Fancy inactive from s1', 'Special Collection',\n",
       "        'Take Care External', 'Equatorial', 'Divided+',\n",
       "        'OL Extended Sizes', 'Campaigns', 'Underwear Woven',\n",
       "        'Heavy Basic Jersey', 'EQ H&M Man', 'Young Girl Shoes', 'AK Other',\n",
       "        'Kids Boy Shorts', 'Bottoms', 'Shopbasket Lingerie',\n",
       "        'Kids Boy License', 'Baby Girl Outdoor',\n",
       "        'Promotion / Other / Offer', 'Divided+ inactive from s.1',\n",
       "        'Tops & Bottoms Other', 'Take care', 'Girls Local Relevance',\n",
       "        'AK Dresses & Outdoor', 'Limited Edition',\n",
       "        'AK Tops Jersey & Woven', 'AK Tops Knitwear', 'Divided Swimwear',\n",
       "        'AK Bottoms', 'Girls Projects', 'On Demand', 'Test Ladies',\n",
       "        'Socks Wall', 'Jersey inactive from S.6', 'Boys Local Relevance',\n",
       "        'License', 'Price Items', 'Asia Assortment', 'Accessories Boys',\n",
       "        'Read & React', 'EQ Ladies Denim', 'Small Accessories Extended',\n",
       "        'Baby Boy Local Relevance', 'Kids Girl Exclusive',\n",
       "        'Baby Girl Local Relevance', 'EQ Divided Blue',\n",
       "        'Kids Boy Exclusive', 'Accessories Other', 'Blanks'], dtype=object),\n",
       " 'index_group_name': array(['Ladieswear', 'Baby/Children', 'Menswear', 'Sport', 'Divided'],\n",
       "       dtype=object),\n",
       " 'index_name': array(['Ladieswear', 'Lingeries/Tights', 'Baby Sizes 50-98', 'Menswear',\n",
       "        'Ladies Accessories', 'Sport', 'Children Sizes 92-140', 'Divided',\n",
       "        'Children Sizes 134-170', 'Children Accessories, Swimwear'],\n",
       "       dtype=object),\n",
       " 'garment_group_name': array(['Jersey Basic', 'Under-, Nightwear', 'Socks and Tights',\n",
       "        'Jersey Fancy', 'Accessories', 'Trousers Denim', 'Outdoor',\n",
       "        'Shoes', 'Swimwear', 'Knitwear', 'Shirts', 'Trousers', 'Dressed',\n",
       "        'Shorts', 'Dresses Ladies', 'Skirts', 'Special Offers', 'Blouses',\n",
       "        'Unknown', 'Woven/Jersey/Knitted mix Baby', 'Dresses/Skirts girls'],\n",
       "       dtype=object),\n",
       " 'section_name': array(['Womens Everyday Basics', 'Womens Lingerie',\n",
       "        'Womens Nightwear, Socks & Tigh', 'Baby Essentials & Complements',\n",
       "        'Men Underwear', 'Mama', 'Womens Small accessories',\n",
       "        'Men H&M Sport', 'Kids Boy', 'Divided Basics',\n",
       "        'Girls Underwear & Basics', 'Mens Outerwear',\n",
       "        'Womens Big accessories', 'Divided Accessories',\n",
       "        'Womens Swimwear, beachwear', 'Divided Selected',\n",
       "        'Boys Underwear & Basics', 'Contemporary Street',\n",
       "        'Contemporary Casual', 'Men Accessories', 'Men Suits & Tailoring',\n",
       "        'Womens Everyday Collection', 'Men Shoes', 'Young Boy', 'H&M+',\n",
       "        'Divided Collection', 'Ladies Denim', 'Contemporary Smart',\n",
       "        'Womens Trend', 'Kids Outerwear', 'Young Girl', 'Womens Shoes',\n",
       "        'Womens Tailoring', 'Divided Projects', 'Denim Men', 'Men Other',\n",
       "        'Womens Jackets', 'Men Other 2', 'Baby Boy', 'Womens Casual',\n",
       "        'Kids Accessories, Swimwear & D', 'Ladies H&M Sport',\n",
       "        'Kids & Baby Shoes', 'Baby Girl', 'Kids Girl',\n",
       "        'Divided Complements Other', 'Womens Premium',\n",
       "        'Special Collections', 'Kids Sports', 'Men Project', 'Men Edition',\n",
       "        'Collaborations', 'Divided Asia keys', 'EQ Divided',\n",
       "        'Kids Local Relevance', 'Ladies Other'], dtype=object)}"
      ]
     },
     "execution_count": 5,
     "metadata": {},
     "output_type": "execute_result"
    }
   ],
   "source": [
    "##creating a dictionary with attributes and categories/subcategories mapped to their unique values\n",
    "master_dict={}\n",
    "for col in att_cols:\n",
    "    master_dict[col]=articles[col].unique()\n",
    "##show master dict\n",
    "master_dict"
   ]
  },
  {
   "cell_type": "code",
   "execution_count": 6,
   "id": "f8899462",
   "metadata": {},
   "outputs": [],
   "source": [
    "##function to get fuzzy matches from the query using the master dict\n",
    "##gives the attributes/categories/subcategories the words in the query match to, and the values they match to\n",
    "def get_matches(dct):\n",
    "    ##take in query and convert into a list of strings\n",
    "    query=word_tokenize(input())\n",
    "    ##a dict to store all matches\n",
    "    output_dct=dict()\n",
    "    for word in query:\n",
    "        for key in dct.keys():\n",
    "            ##calculate matching score with top 3 fuzzy matches\n",
    "            result=process.extract(word,dct[key],limit=10)\n",
    "            for i in range(0,len(result)):\n",
    "                if result[i][1]>=90:##threshold to be determined\n",
    "                    if key not in output_dct.keys():\n",
    "                        output_dct[key]=np.array(result[i][0])\n",
    "                    elif key in output_dct.keys():\n",
    "                        output_dct[key]=np.append(output_dct[key],result[i][0])\n",
    "    return output_dct"
   ]
  },
  {
   "cell_type": "code",
   "execution_count": 7,
   "id": "6489065e",
   "metadata": {},
   "outputs": [
    {
     "name": "stdout",
     "output_type": "stream",
     "text": [
      "black denims for men\n"
     ]
    },
    {
     "data": {
      "text/plain": [
       "{'colour_group_name': array('Black', dtype='<U5'),\n",
       " 'graphical_appearance_name': array(['Denim', 'Treatment', 'Placement print'], dtype='<U15'),\n",
       " 'product_type_name': array('Garment Set', dtype='<U11'),\n",
       " 'product_group_name': array(['Garment Upper body', 'Garment Lower body', 'Garment Full body',\n",
       "        'Garment and Shoe care'], dtype='<U21'),\n",
       " 'department_name': array(['Men Sport Woven', 'Men Sport Bottoms', 'Men Sport Acc',\n",
       "        'Men Sport Tops', 'Denim Other Garments', 'Equatorial Assortment',\n",
       "        'Asia Assortment'], dtype='<U21'),\n",
       " 'index_group_name': array('Menswear', dtype='<U8'),\n",
       " 'index_name': array('Menswear', dtype='<U8'),\n",
       " 'section_name': array(['Womens Everyday Basics', 'Womens Lingerie', 'Men Underwear',\n",
       "        'Womens Small accessories', 'Men H&M Sport', 'Mens Outerwear',\n",
       "        'Womens Big accessories', 'Men Accessories',\n",
       "        'Men Suits & Tailoring', 'Men Shoes'], dtype='<U24')}"
      ]
     },
     "execution_count": 7,
     "metadata": {},
     "output_type": "execute_result"
    }
   ],
   "source": [
    "get_matches(master_dict)"
   ]
  },
  {
   "cell_type": "code",
   "execution_count": 8,
   "id": "82460b05",
   "metadata": {},
   "outputs": [
    {
     "name": "stdout",
     "output_type": "stream",
     "text": [
      "kurtas for special occasions\n"
     ]
    },
    {
     "data": {
      "text/plain": [
       "{'department_name': array(['EQ & Special Collections', 'Special Collection'], dtype='<U24'),\n",
       " 'garment_group_name': array('Special Offers', dtype='<U14'),\n",
       " 'section_name': array('Special Collections', dtype='<U19')}"
      ]
     },
     "execution_count": 8,
     "metadata": {},
     "output_type": "execute_result"
    }
   ],
   "source": [
    "get_matches(master_dict)"
   ]
  },
  {
   "cell_type": "code",
   "execution_count": 9,
   "id": "ca654375",
   "metadata": {},
   "outputs": [
    {
     "name": "stdout",
     "output_type": "stream",
     "text": [
      "red floral skirt\n"
     ]
    },
    {
     "data": {
      "text/plain": [
       "{'product_type_name': array(['Tailored Waistcoat', 'Skirt'], dtype='<U18'),\n",
       " 'colour_group_name': array(['Red', 'Dark Red', 'Other Red', 'Light Red'], dtype='<U9'),\n",
       " 'department_name': array(['Everyday Waredrobe Denim', 'Skirt', 'Skirts', 'Trousers & Skirt',\n",
       "        'Shorts & Skirts', 'Skirts DS'], dtype='<U24'),\n",
       " 'garment_group_name': array(['Skirts', 'Dresses/Skirts girls'], dtype='<U20')}"
      ]
     },
     "execution_count": 9,
     "metadata": {},
     "output_type": "execute_result"
    }
   ],
   "source": [
    "get_matches(master_dict)"
   ]
  },
  {
   "cell_type": "code",
   "execution_count": 21,
   "id": "d1b2034f",
   "metadata": {},
   "outputs": [],
   "source": [
    "##estimating threshold value for each column"
   ]
  },
  {
   "cell_type": "code",
   "execution_count": 69,
   "id": "a4681b6d",
   "metadata": {},
   "outputs": [],
   "source": [
    "threshold_dict={'product_type_name':90,\n",
    "               'product_group_name':75,\n",
    "               'graphical_appearance_name':75,\n",
    "               'colour_group_name':90,\n",
    "               'perceived_colour_value_name':90,\n",
    "               'department_name':75,\n",
    "               'index_group_name':70,\n",
    "               'index_name':60,\n",
    "               'garment_group_name':64,\n",
    "               'section_name':95}"
   ]
  },
  {
   "cell_type": "code",
   "execution_count": 30,
   "id": "8f0c6f1f",
   "metadata": {},
   "outputs": [
    {
     "name": "stdout",
     "output_type": "stream",
     "text": [
      "shorts:[('Shorts', 100), ('Shirt', 73), ('Polo shirt', 66)]\n",
      "top:[('Top', 100), ('Vest top', 90), ('Bikini top', 90)]\n",
      "polo tshirts:[('Polo shirt', 91), ('Shirt', 90), ('T-shirt', 77)]\n",
      "casual tshirts:[('Shirt', 90), ('T-shirt', 77), ('Shorts', 75)]\n",
      "shoes:[('Flat shoes', 90), ('Other shoe', 80), ('Flat shoe', 80)]\n",
      "trousers:[('Trousers', 100), ('Outdoor trousers', 90), ('Top', 60)]\n",
      "boxers:[('Outdoor trousers', 60), ('Nipple covers', 60), ('Stain remover spray', 60)]\n",
      "chinos:[('Cushion', 62), ('Moccasins', 60), ('Keychain', 57)]\n",
      "jeans:[('Earrings', 62), ('Beanie', 55), ('Hat/beanie', 54)]\n",
      "skirts:[('Skirt', 91), ('Shirt', 73), ('Shorts', 67)]\n"
     ]
    }
   ],
   "source": [
    "##'product_type_name'\n",
    "sample=['shorts','top','polo tshirts','casual tshirts','shoes','trousers','boxers','chinos','jeans','skirts']\n",
    "\n",
    "for word in sample:\n",
    "    result=process.extract(word,master_dict['product_type_name'],limit=3)\n",
    "    print(f'{word}:{result}')"
   ]
  },
  {
   "cell_type": "code",
   "execution_count": 37,
   "id": "ee25bf1e",
   "metadata": {},
   "outputs": [
    {
     "name": "stdout",
     "output_type": "stream",
     "text": [
      "accessory:[('Accessories', 80), ('Stationery', 42), ('Garment Lower body', 37)]\n",
      "cosmetics:[('Cosmetic', 94), ('Items', 45), ('Socks & Tights', 43)]\n",
      "home furniture:[('Furniture', 90), ('Fun', 60), ('Shoes', 57)]\n",
      "underwear:[('Underwear', 100), ('Underwear/nightwear', 90), ('Fun', 60)]\n",
      "shoe care:[('Garment and Shoe care', 90), ('Shoes', 76), ('Garment Lower body', 48)]\n",
      "socks:[('Socks & Tights', 90), ('Shoes', 60), ('Accessories', 38)]\n",
      "uppers:[('Garment Upper body', 78), ('Underwear', 45), ('Underwear/nightwear', 45)]\n",
      "lowers:[('Garment Lower body', 78), ('Shoes', 55), ('Underwear', 50)]\n",
      "lower:[('Garment Lower body', 90), ('Underwear', 54), ('Nightwear', 54)]\n"
     ]
    }
   ],
   "source": [
    "##'product_group_name'\n",
    "sample=['accessory','cosmetics','home furniture','underwear','shoe care','socks','uppers','lowers','lower']\n",
    "\n",
    "for word in sample:\n",
    "    result=process.extract(word,master_dict['product_group_name'],limit=3)\n",
    "    print(f'{word}:{result}')"
   ]
  },
  {
   "cell_type": "code",
   "execution_count": 41,
   "id": "a195e0d2",
   "metadata": {},
   "outputs": [
    {
     "name": "stdout",
     "output_type": "stream",
     "text": [
      "solids:[('Solid', 91), ('Mixed solid/pattern', 78), ('Embroidery', 45)]\n",
      "checked:[('Check', 83), ('Dot', 45), ('Lace', 45)]\n",
      "stripes:[('Stripe', 92), ('Neps', 51), ('Mesh', 51)]\n",
      "striped:[('Stripe', 92), ('Solid', 50), ('Dot', 45)]\n",
      "meshy:[('Mesh', 89), ('Neps', 44), ('Treatment', 40)]\n",
      "checkered:[('Check', 90), ('Dot', 45), ('Lace', 45)]\n",
      "dotted:[('Dot', 90), ('All over pattern', 45), ('Other structure', 45)]\n",
      "block printed:[('Front print', 58), ('Placement print', 57), ('Colour blocking', 50)]\n",
      "printed:[('Front print', 75), ('Placement print', 75), ('Transparent', 56)]\n"
     ]
    }
   ],
   "source": [
    "##'graphical_appearance_name'\n",
    "sample=['solids','checked','stripes','striped','meshy','checkered','dotted','block printed','printed']\n",
    "\n",
    "for word in sample:\n",
    "    result=process.extract(word,master_dict['graphical_appearance_name'],limit=3)\n",
    "    print(f'{word}:{result}')"
   ]
  },
  {
   "cell_type": "code",
   "execution_count": 43,
   "id": "e0097dce",
   "metadata": {},
   "outputs": [
    {
     "name": "stdout",
     "output_type": "stream",
     "text": [
      "blackish:[('Black', 90), ('Dark Blue', 45), ('Yellowish Brown', 45)]\n",
      "blue:[('Blue', 100), ('Light Blue', 90), ('Dark Blue', 90)]\n",
      "maroon:[('Dark Orange', 47), ('Yellowish Brown', 45), ('Transparent', 45)]\n",
      "burgundy:[('Gold', 45), ('Blue', 45), ('Yellowish Brown', 43)]\n",
      "red:[('Red', 100), ('Dark Red', 90), ('Other Red', 90)]\n",
      "reddish:[('Red', 90), ('Greyish Beige', 66), ('Greenish Khaki', 64)]\n",
      "pinkish:[('Pink', 90), ('Greenish Khaki', 51), ('Dark Pink', 50)]\n",
      "yellow:[('Yellow', 100), ('Yellowish Brown', 90), ('Dark Yellow', 90)]\n",
      "grey:[('Grey', 100), ('Light Grey', 90), ('Dark Grey', 90)]\n",
      "green:[('Green', 100), ('Greenish Khaki', 90), ('Dark Green', 90)]\n"
     ]
    }
   ],
   "source": [
    "#'colour_group_name'\n",
    "sample=['blackish','blue','maroon','burgundy','red','reddish','pinkish','yellow','grey','green']\n",
    "\n",
    "for word in sample:\n",
    "    result=process.extract(word,master_dict['colour_group_name'],limit=3)\n",
    "    print(f'{word}:{result}')"
   ]
  },
  {
   "cell_type": "code",
   "execution_count": 46,
   "id": "838c1330",
   "metadata": {},
   "outputs": [
    {
     "name": "stdout",
     "output_type": "stream",
     "text": [
      "darkish:[('Dark', 90), ('Bright', 46), ('Light', 33)]\n",
      "lightish:[('Light', 90), ('Bright', 57), ('Dusty Light', 53)]\n",
      "dust:[('Dusty Light', 90), ('Medium Dusty', 90), ('Medium', 45)]\n",
      "brightness:[('Bright', 90), ('Light', 72), ('Dusty Light', 38)]\n",
      "light:[('Light', 100), ('Dusty Light', 90), ('Bright', 73)]\n",
      "dusty:[('Dusty Light', 90), ('Medium Dusty', 90), ('Medium', 36)]\n",
      "medium:[('Medium', 100), ('Medium Dusty', 90), ('Undefined', 40)]\n"
     ]
    }
   ],
   "source": [
    "#'perceived_colour_value_name'\n",
    "sample=['darkish','lightish','dust','brightness','light','dusty','medium']\n",
    "\n",
    "for word in sample:\n",
    "    result=process.extract(word,master_dict['perceived_colour_value_name'],limit=3)\n",
    "    print(f'{word}:{result}')"
   ]
  },
  {
   "cell_type": "code",
   "execution_count": 52,
   "id": "5e8715d2",
   "metadata": {},
   "outputs": [
    {
     "name": "stdout",
     "output_type": "stream",
     "text": [
      "trousers:[('Trousers', 100), ('Trousers DS', 95), ('Trouser', 93), ('Denim Trousers', 90), ('Trousers & Skirt', 90), ('Denim trousers', 90), ('Young Boy Trouser', 84), ('Trouser S&T', 84), ('Kids Boy Trouser', 84), ('Kids Girl Trouser', 84)]\n",
      "\n",
      "\n",
      "bottoms:[('Bottoms', 100), ('AK Bottoms', 95), ('Men Sport Bottoms', 90), ('Woven bottoms', 90), ('Ladies Sport Bottoms', 90), ('Projects Woven Bottoms', 90), ('Bottoms Girls', 90), ('Woven bottoms inactive from S.7', 90), ('Bottoms Boys', 90), ('Tops & Bottoms Other', 90)]\n",
      "\n",
      "\n",
      "belt:[('Belts', 89), ('Everyday Waredrobe Denim', 57), ('Suit jacket', 51), ('Jacket', 51), ('Jacket Casual', 49), ('Shopbasket Lingerie', 49), ('EQ & Special Collections', 45), ('Men Sport Bottoms', 45), ('Shopbasket Socks', 45), ('Jacket Street', 45)]\n",
      "\n",
      "\n",
      "shoes:[('Shoes', 100), ('Divided Shoes', 90), ('Shoes / Boots inactive from s5', 90), ('Shoes Other', 90), ('Kids Boy Shoes', 90), ('Young Boy Shoes', 90), ('Kids Girl Shoes', 90), ('Baby Shoes', 90), ('Young Girl Shoes', 90), ('Shorts', 73)]\n",
      "\n",
      "\n",
      "sunglasses:[('Sunglasses', 100), ('Young Girl Dresses', 57), ('Shoes', 54), ('Flats', 54), ('Young Girl Shoes', 54), ('Small Accessories', 52), ('Kids Girl Dresses', 52), ('Accessories', 48), ('Projects Dresses', 48), ('Young Boy Shoes', 48)]\n",
      "\n",
      "\n",
      "dress:[('Dress', 100), ('Dresses DS', 90), ('Projects Dresses', 90), ('Kids Dress-up/Football', 90), ('Young Girl Dresses', 90), ('Blouse & Dress', 90), ('Kids Girl Dresses', 90), ('Dress-up Boys', 90), ('AK Dresses & Outdoor', 90), ('Dresses', 83)]\n",
      "\n",
      "\n",
      "shorts:[('Shorts', 100), ('Denim shorts', 90), ('Shorts DS', 90), ('Young Boy Shorts', 90), ('Shorts & Skirts', 90), ('Kids Boy Shorts', 90), ('Shirt', 73), ('Shoes', 73), ('Skirts', 67), ('Shirt S&T', 67)]\n",
      "\n",
      "\n",
      "pants:[('Gloves/Hats', 60), ('Flats', 60), ('Campaigns', 57), ('Blanks', 55), ('Shopbasket Socks', 54), ('Denim Other Garments', 54), ('Shopbasket Lingerie', 54), ('Woven Tops', 51), ('Denim wardrobe H&M man inactive from S.6', 51), ('Jackets', 50)]\n",
      "\n",
      "\n",
      "denims:[('Kids Boy Denim', 82), ('Everyday Waredrobe Denim', 82), ('Young Boy Denim', 82), ('Young Girl Denim', 82), ('Kids Girl Denim', 82), ('EQ Ladies Denim', 82), ('Denim Other Garments', 75), ('Denim Trousers', 75), ('Denim shorts', 75), ('Denim trousers', 75)]\n",
      "\n",
      "\n",
      "jeans:[('Jersey', 55), ('Blanks', 55), ('Jersey Basic', 54), ('Clean Lingerie', 54), ('Men Sport Woven', 54), ('Men Sport Bottoms', 54), ('Young Girl Jersey Basic', 54), ('Underwear Jersey', 54), ('Men Sport Acc', 54), ('Kids Boy Jersey Basic', 54)]\n",
      "\n",
      "\n",
      "formal:[('Equatorial Assortment', 60), ('Equatorial', 60), ('Small Acc. Jewellery & Other', 57), ('Men Sport Acc', 45), ('Small Accessories', 45), ('Shoes / Boots inactive from s5', 45), ('Functional Lingerie', 45), ('Outdoor/Blazers DS', 45), ('Mama Lingerie', 45), ('Outdoor/Blazers', 45)]\n",
      "\n",
      "\n",
      "formals:[('Equatorial Assortment', 53), ('Shoes / Boots inactive from s5', 51), ('Jersey inactive from s1', 51), ('Knitwear inactive from s1', 51), ('Denim wardrobe H&M man inactive from S.6', 51), ('Woven inactive from s1', 51), ('Suit Extended inactive from s1', 51), ('Outdoor inactive from s1', 51), ('Kids Dress-up/Football', 51), ('Sneakers small girl inactive from s2', 51)]\n",
      "\n",
      "\n",
      "basic:[('Basic 1', 95), ('Basics', 91), ('Jersey Basic', 90), ('Tights basic', 90), ('Baby basics', 90), ('Young Girl Jersey Basic', 90), ('Kids Boy Jersey Basic', 90), ('Young Boy Jersey Basic', 90), ('Kids Girl Jersey Basic', 90), ('Light Basic Jersey', 90)]\n",
      "\n",
      "\n",
      "scarf:[('Scarves', 67), ('Jacket Smart', 54), ('Take Care External', 54), ('Take care', 54), ('Denim wardrobe H&M man inactive from S.6', 51), ('Swimwear', 46), ('Sneakers', 46), ('Young Boy Trouser', 45), ('Young Girl Trouser', 45), ('Baby basics', 40)]\n",
      "\n",
      "\n",
      "hanky:[('Blanks', 55), ('Jersey Fancy DS', 54), ('Jersey Fancy', 54), ('Jersey fancy', 54), ('Baby Girl Jersey Fancy', 54), ('Kids Girl Jersey Fancy', 54), ('Tops Fancy Jersey', 54), ('Kids Boy Jersey Fancy', 54), ('Young Girl Jersey Fancy', 54), ('Young Boy Jersey Fancy', 54)]\n",
      "\n",
      "\n",
      "hankies:[('Blanks', 62), ('Jackets', 57), ('Test Ladies', 56), ('Sneakers', 53), ('EQ Ladies Denim', 53), ('Shopbasket Socks', 51), ('Jacket Street', 51), ('Ladies Sport Bras', 51), ('Ladies Sport Bottoms', 51), ('Sneakers small girl inactive from s2', 51)]\n",
      "\n",
      "\n",
      "jacket:[('Jacket', 100), ('Jackets', 92), ('Jacket Street', 90), ('Jacket Casual', 90), ('Jacket Smart', 90), ('Suit jacket', 90), ('Shopbasket Socks', 60), ('Shopbasket Lingerie', 60), ('Local relevance', 54), ('Girls Local Relevance', 54)]\n",
      "\n",
      "\n"
     ]
    }
   ],
   "source": [
    "#'department_name'\n",
    "sample=['trousers','bottoms','belt','shoes','sunglasses','dress','shorts','pants','denims','jeans','formal','formals',\n",
    "        'basic','scarf','hanky','hankies','jacket']\n",
    "\n",
    "for word in sample:\n",
    "    result=process.extract(word,master_dict['department_name'],limit=10)\n",
    "    print(f'{word}:{result}')\n",
    "    print('\\n')"
   ]
  },
  {
   "cell_type": "code",
   "execution_count": 55,
   "id": "648be7b4",
   "metadata": {},
   "outputs": [
    {
     "name": "stdout",
     "output_type": "stream",
     "text": [
      "ladies:[('Ladieswear', 90), ('Baby/Children', 50), ('Divided', 46)]\n",
      "lady:[('Ladieswear', 68), ('Baby/Children', 45), ('Menswear', 26)]\n",
      "man:[('Menswear', 60), ('Ladieswear', 30), ('Baby/Children', 30)]\n",
      "men:[('Menswear', 90), ('Baby/Children', 60), ('Ladieswear', 30)]\n",
      "babies:[('Ladieswear', 60), ('Baby/Children', 53), ('Divided', 31)]\n",
      "childrens:[('Baby/Children', 73), ('Divided', 38), ('Menswear', 35)]\n",
      "sports:[('Sport', 91), ('Ladieswear', 32), ('Menswear', 29)]\n",
      "sportsperson:[('Sport', 90), ('Menswear', 26), ('Baby/Children', 24)]\n",
      "sportswear:[('Sport', 90), ('Menswear', 56), ('Ladieswear', 50)]\n",
      "babywear:[('Ladieswear', 56), ('Menswear', 50), ('Baby/Children', 48)]\n"
     ]
    }
   ],
   "source": [
    "#'index_group_name'\n",
    "sample=['ladies','lady','man','men','babies','childrens','sports','sportsperson','sportswear','babywear']\n",
    "\n",
    "for word in sample:\n",
    "    result=process.extract(word,master_dict['index_group_name'],limit=3)\n",
    "    print(f'{word}:{result}')"
   ]
  },
  {
   "cell_type": "code",
   "execution_count": 60,
   "id": "673c1601",
   "metadata": {},
   "outputs": [
    {
     "name": "stdout",
     "output_type": "stream",
     "text": [
      "ladies:[('Ladieswear', 90), ('Ladies Accessories', 90), ('Divided', 46)]\n",
      "lady:[('Ladieswear', 68), ('Ladies Accessories', 68), ('Baby Sizes 50-98', 45)]\n",
      "man:[('Menswear', 60), ('Ladieswear', 30), ('Lingeries/Tights', 30)]\n",
      "men:[('Menswear', 90), ('Children Sizes 92-140', 60), ('Children Sizes 134-170', 60)]\n",
      "babies:[('Ladieswear', 60), ('Baby Sizes 50-98', 60), ('Ladies Accessories', 60)]\n",
      "childrens:[('Children Sizes 92-140', 80), ('Children Sizes 134-170', 80), ('Children Accessories, Swimwear', 80)]\n",
      "sports:[('Sport', 91), ('Ladies Accessories', 60), ('Children Accessories, Swimwear', 60)]\n",
      "sportsperson:[('Sport', 90), ('Ladies Accessories', 40), ('Children Accessories, Swimwear', 38)]\n",
      "sportswear:[('Sport', 90), ('Menswear', 56), ('Ladieswear', 50)]\n",
      "babywear:[('Ladieswear', 56), ('Menswear', 50), ('Baby Sizes 50-98', 45)]\n",
      "swim:[('Children Accessories, Swimwear', 90), ('Ladieswear', 45), ('Lingeries/Tights', 45)]\n",
      "wear:[('Ladieswear', 90), ('Menswear', 90), ('Children Accessories, Swimwear', 90)]\n"
     ]
    }
   ],
   "source": [
    "#'index_name'\n",
    "sample=['ladies','lady','man','men','babies','childrens','sports','sportsperson','sportswear','babywear','swim','wear']\n",
    "\n",
    "for word in sample:\n",
    "    result=process.extract(word,master_dict['index_name'],limit=3)\n",
    "    print(f'{word}:{result}')"
   ]
  },
  {
   "cell_type": "code",
   "execution_count": 63,
   "id": "224eb146",
   "metadata": {},
   "outputs": [
    {
     "name": "stdout",
     "output_type": "stream",
     "text": [
      "jersies:[('Jersey Basic', 66), ('Jersey Fancy', 66), ('Woven/Jersey/Knitted mix Baby', 64)]\n",
      "underwear:[('Under-, Nightwear', 69), ('Knitwear', 59), ('Swimwear', 47)]\n",
      "dress:[('Dresses Ladies', 90), ('Dresses/Skirts girls', 90), ('Dressed', 83)]\n",
      "blouse:[('Blouses', 92), ('Trousers Denim', 60), ('Trousers', 57)]\n",
      "knitted:[('Woven/Jersey/Knitted mix Baby', 90), ('Knitwear', 67), ('Under-, Nightwear', 49)]\n",
      "shoe:[('Shoes', 89), ('Shorts', 68), ('Blouses', 51)]\n",
      "outdoor:[('Outdoor', 100), ('Trousers', 40), ('Under-, Nightwear', 39)]\n",
      "accessory:[('Accessories', 80), ('Shorts', 50), ('Jersey Basic', 46)]\n",
      "socks:[('Socks and Tights', 90), ('Shoes', 60), ('Shorts', 55)]\n"
     ]
    }
   ],
   "source": [
    "#'garment_group_name'\n",
    "sample=['jersies','underwear','dress','blouse','knitted','shoe','outdoor','accessory','socks']\n",
    "\n",
    "for word in sample:\n",
    "    result=process.extract(word,master_dict['garment_group_name'],limit=3)\n",
    "    print(f'{word}:{result}')"
   ]
  },
  {
   "cell_type": "code",
   "execution_count": 70,
   "id": "fe806bf7",
   "metadata": {},
   "outputs": [
    {
     "name": "stdout",
     "output_type": "stream",
     "text": [
      "men:[('Womens Everyday Basics', 90), ('Womens Lingerie', 90), ('Men Underwear', 90), ('Womens Small accessories', 90), ('Men H&M Sport', 90)]\n",
      "women:[('Womens Everyday Basics', 90), ('Womens Lingerie', 90), ('Womens Nightwear, Socks & Tigh', 90), ('Womens Small accessories', 90), ('Womens Big accessories', 90)]\n",
      "babies:[('Womens Everyday Basics', 60), ('Baby Essentials & Complements', 60), ('Divided Basics', 60), ('Girls Underwear & Basics', 60), ('Boys Underwear & Basics', 60)]\n",
      "boys:[('Boys Underwear & Basics', 90), ('Kids Boy', 77), ('Young Boy', 77), ('Baby Boy', 77), ('Womens Everyday Basics', 45)]\n",
      "girls:[('Girls Underwear & Basics', 90), ('Young Girl', 80), ('Baby Girl', 80), ('Kids Girl', 80), ('Baby Essentials & Complements', 54)]\n",
      "lady:[('Ladies Denim', 68), ('Ladies H&M Sport', 68), ('Ladies Other', 68), ('Womens Everyday Basics', 45), ('Womens Small accessories', 45)]\n",
      "man:[('Womens Everyday Basics', 60), ('Womens Lingerie', 60), ('Men Underwear', 60), ('Womens Small accessories', 60), ('Men H&M Sport', 60)]\n"
     ]
    }
   ],
   "source": [
    "#'section_name'\n",
    "sample=['men','women','babies','boys','girls','lady','man']\n",
    "\n",
    "for word in sample:\n",
    "    result=process.extract(word,master_dict['section_name'],limit=5)\n",
    "    print(f'{word}:{result}')"
   ]
  },
  {
   "cell_type": "code",
   "execution_count": 71,
   "id": "a7f6ec4d",
   "metadata": {},
   "outputs": [],
   "source": [
    "threshold_dict={'product_type_name':90,\n",
    "               'product_group_name':75,\n",
    "               'graphical_appearance_name':75,\n",
    "               'colour_group_name':90,\n",
    "               'perceived_colour_value_name':90,\n",
    "               'department_name':75,\n",
    "               'index_group_name':70,\n",
    "               'index_name':60,\n",
    "               'garment_group_name':64,\n",
    "               'section_name':95}"
   ]
  },
  {
   "cell_type": "code",
   "execution_count": 72,
   "id": "b15327ae",
   "metadata": {},
   "outputs": [],
   "source": [
    "##function to get fuzzy matches from the query using the master dict\n",
    "##gives the attributes/categories/subcategories the words in the query match to, and the values they match to\n",
    "def get_matches(dct):\n",
    "    ##take in query and convert into a list of strings\n",
    "    query=word_tokenize(input())\n",
    "    ##a dict to store all matches\n",
    "    output_dct=dict()\n",
    "    for word in query:\n",
    "        for key in dct.keys():\n",
    "            ##calculate matching score with top 3 fuzzy matches\n",
    "            result=process.extract(word,dct[key],limit=10)\n",
    "            for i in range(0,len(result)):\n",
    "                if result[i][1]>=threshold_dict[key]:##threshold value taken from threshold dict\n",
    "                    if key not in output_dct.keys():\n",
    "                        output_dct[key]=np.array(result[i][0])\n",
    "                    elif key in output_dct.keys():\n",
    "                        output_dct[key]=np.append(output_dct[key],result[i][0])\n",
    "    return output_dct"
   ]
  },
  {
   "cell_type": "code",
   "execution_count": 74,
   "id": "ebc60c80",
   "metadata": {},
   "outputs": [
    {
     "name": "stdout",
     "output_type": "stream",
     "text": [
      "black denim for women\n"
     ]
    },
    {
     "data": {
      "text/plain": [
       "{'colour_group_name': array('Black', dtype='<U5'),\n",
       " 'graphical_appearance_name': array('Denim', dtype='<U5'),\n",
       " 'department_name': array(['Kids Boy Denim', 'Denim Other Garments',\n",
       "        'Everyday Waredrobe Denim', 'Denim Trousers', 'Young Boy Denim',\n",
       "        'Young Girl Denim', 'Denim shorts', 'Denim trousers',\n",
       "        'Denim wardrobe H&M man inactive from S.6', 'Kids Girl Denim',\n",
       "        'Woven'], dtype='<U40'),\n",
       " 'garment_group_name': array(['Trousers Denim', 'Woven/Jersey/Knitted mix Baby'], dtype='<U29'),\n",
       " 'index_name': array(['Ladies Accessories', 'Sport'], dtype='<U18')}"
      ]
     },
     "execution_count": 74,
     "metadata": {},
     "output_type": "execute_result"
    }
   ],
   "source": [
    "get_matches(master_dict)"
   ]
  },
  {
   "cell_type": "code",
   "execution_count": 75,
   "id": "4d34a755",
   "metadata": {},
   "outputs": [
    {
     "name": "stdout",
     "output_type": "stream",
     "text": [
      "yellow kurtas for special occasions\n"
     ]
    },
    {
     "data": {
      "text/plain": [
       "{'colour_group_name': array(['Yellow', 'Yellowish Brown', 'Dark Yellow', 'Other Yellow',\n",
       "        'Light Yellow'], dtype='<U15'),\n",
       " 'garment_group_name': array(['Skirts', 'Special Offers'], dtype='<U14'),\n",
       " 'index_name': array(['Ladies Accessories', 'Sport'], dtype='<U18'),\n",
       " 'department_name': array(['EQ & Special Collections', 'Special Collection', 'Woven Occasion',\n",
       "        'Jersey Occasion'], dtype='<U24')}"
      ]
     },
     "execution_count": 75,
     "metadata": {},
     "output_type": "execute_result"
    }
   ],
   "source": [
    "get_matches(master_dict)"
   ]
  },
  {
   "cell_type": "code",
   "execution_count": 76,
   "id": "6261a48b",
   "metadata": {},
   "outputs": [
    {
     "name": "stdout",
     "output_type": "stream",
     "text": [
      "black solid jeans for men\n"
     ]
    },
    {
     "data": {
      "text/plain": [
       "{'colour_group_name': array('Black', dtype='<U5'),\n",
       " 'graphical_appearance_name': array(['Solid', 'Mixed solid/pattern', 'Treatment', 'Placement print'],\n",
       "       dtype='<U19'),\n",
       " 'index_name': array(['Ladies Accessories', 'Sport', 'Menswear', 'Children Sizes 92-140',\n",
       "        'Children Sizes 134-170'], dtype='<U22'),\n",
       " 'product_type_name': array('Garment Set', dtype='<U11'),\n",
       " 'product_group_name': array(['Garment Upper body', 'Garment Lower body', 'Garment Full body',\n",
       "        'Garment and Shoe care'], dtype='<U21'),\n",
       " 'department_name': array(['Men Sport Woven', 'Men Sport Bottoms', 'Men Sport Acc',\n",
       "        'Men Sport Tops', 'Denim Other Garments', 'Equatorial Assortment',\n",
       "        'Asia Assortment'], dtype='<U21'),\n",
       " 'index_group_name': array('Menswear', dtype='<U8')}"
      ]
     },
     "execution_count": 76,
     "metadata": {},
     "output_type": "execute_result"
    }
   ],
   "source": [
    "get_matches(master_dict)"
   ]
  },
  {
   "cell_type": "code",
   "execution_count": 77,
   "id": "a8fea59d",
   "metadata": {},
   "outputs": [
    {
     "name": "stdout",
     "output_type": "stream",
     "text": [
      "red dress for women\n"
     ]
    },
    {
     "data": {
      "text/plain": [
       "{'product_type_name': array(['Tailored Waistcoat', 'Dress', 'Underdress'], dtype='<U18'),\n",
       " 'colour_group_name': array(['Red', 'Dark Red', 'Other Red', 'Light Red'], dtype='<U9'),\n",
       " 'department_name': array(['Everyday Waredrobe Denim', 'Dress', 'Dresses DS',\n",
       "        'Projects Dresses', 'Kids Dress-up/Football', 'Young Girl Dresses',\n",
       "        'Blouse & Dress', 'Kids Girl Dresses', 'Dress-up Boys',\n",
       "        'AK Dresses & Outdoor', 'Dresses', 'Woven'], dtype='<U24'),\n",
       " 'index_name': array(['Lingeries/Tights', 'Ladies Accessories', 'Children Sizes 92-140',\n",
       "        'Divided', 'Children Sizes 134-170', 'Ladies Accessories', 'Sport'],\n",
       "       dtype='<U22'),\n",
       " 'garment_group_name': array(['Dresses Ladies', 'Dresses/Skirts girls', 'Dressed',\n",
       "        'Woven/Jersey/Knitted mix Baby'], dtype='<U29')}"
      ]
     },
     "execution_count": 77,
     "metadata": {},
     "output_type": "execute_result"
    }
   ],
   "source": [
    "get_matches(master_dict)"
   ]
  },
  {
   "cell_type": "code",
   "execution_count": null,
   "id": "66befe50",
   "metadata": {},
   "outputs": [],
   "source": []
  },
  {
   "cell_type": "code",
   "execution_count": null,
   "id": "b48bd90c",
   "metadata": {},
   "outputs": [],
   "source": []
  },
  {
   "cell_type": "code",
   "execution_count": null,
   "id": "79109c19",
   "metadata": {},
   "outputs": [],
   "source": []
  },
  {
   "cell_type": "code",
   "execution_count": null,
   "id": "25352e80",
   "metadata": {},
   "outputs": [],
   "source": []
  },
  {
   "cell_type": "code",
   "execution_count": null,
   "id": "795b9cf4",
   "metadata": {},
   "outputs": [],
   "source": []
  },
  {
   "cell_type": "code",
   "execution_count": null,
   "id": "a4d99eba",
   "metadata": {},
   "outputs": [],
   "source": []
  },
  {
   "cell_type": "code",
   "execution_count": null,
   "id": "8a436257",
   "metadata": {},
   "outputs": [],
   "source": []
  },
  {
   "cell_type": "code",
   "execution_count": null,
   "id": "ce8d508f",
   "metadata": {},
   "outputs": [],
   "source": []
  },
  {
   "cell_type": "code",
   "execution_count": null,
   "id": "742dd30c",
   "metadata": {},
   "outputs": [],
   "source": []
  },
  {
   "cell_type": "code",
   "execution_count": null,
   "id": "01dc51d3",
   "metadata": {},
   "outputs": [],
   "source": []
  },
  {
   "cell_type": "code",
   "execution_count": null,
   "id": "74a6d41d",
   "metadata": {},
   "outputs": [],
   "source": []
  },
  {
   "cell_type": "code",
   "execution_count": null,
   "id": "d2fcfd85",
   "metadata": {},
   "outputs": [],
   "source": []
  }
 ],
 "metadata": {
  "kernelspec": {
   "display_name": "Python 3 (ipykernel)",
   "language": "python",
   "name": "python3"
  },
  "language_info": {
   "codemirror_mode": {
    "name": "ipython",
    "version": 3
   },
   "file_extension": ".py",
   "mimetype": "text/x-python",
   "name": "python",
   "nbconvert_exporter": "python",
   "pygments_lexer": "ipython3",
   "version": "3.9.12"
  }
 },
 "nbformat": 4,
 "nbformat_minor": 5
}
