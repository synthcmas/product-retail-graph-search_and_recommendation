{
 "cells": [
  {
   "cell_type": "code",
   "execution_count": 1,
   "id": "903f86ab",
   "metadata": {},
   "outputs": [
    {
     "name": "stderr",
     "output_type": "stream",
     "text": [
      "C:\\Users\\abhsingh73\\Anaconda3\\lib\\site-packages\\fuzzywuzzy\\fuzz.py:11: UserWarning: Using slow pure-python SequenceMatcher. Install python-Levenshtein to remove this warning\n",
      "  warnings.warn('Using slow pure-python SequenceMatcher. Install python-Levenshtein to remove this warning')\n"
     ]
    }
   ],
   "source": [
    "from fuzzywuzzy import process"
   ]
  },
  {
   "cell_type": "code",
   "execution_count": 2,
   "id": "f5766764",
   "metadata": {},
   "outputs": [],
   "source": [
    "##creating a mock list of some colour subcategory values\n",
    "subs=['Black','Dark Black','Charcoal Black','Navy Blue','Cyan','Green','Sea Blue','Light Blue','Yellow']\n",
    "def get_matches(sample):\n",
    "    query=input()\n",
    "    result=process.extract(query,sample,limit=5)\n",
    "    return result"
   ]
  },
  {
   "cell_type": "code",
   "execution_count": 3,
   "id": "8f336a3c",
   "metadata": {},
   "outputs": [
    {
     "name": "stdout",
     "output_type": "stream",
     "text": [
      "black\n"
     ]
    },
    {
     "data": {
      "text/plain": [
       "[('Black', 100),\n",
       " ('Dark Black', 90),\n",
       " ('Charcoal Black', 90),\n",
       " ('Navy Blue', 40),\n",
       " ('Sea Blue', 40)]"
      ]
     },
     "execution_count": 3,
     "metadata": {},
     "output_type": "execute_result"
    }
   ],
   "source": [
    "get_matches(subs)"
   ]
  },
  {
   "cell_type": "code",
   "execution_count": 21,
   "id": "c6f26309",
   "metadata": {},
   "outputs": [],
   "source": [
    "from nltk.stem import PorterStemmer\n",
    "from nltk.stem import SnowballStemmer"
   ]
  },
  {
   "cell_type": "code",
   "execution_count": 35,
   "id": "77c93221",
   "metadata": {},
   "outputs": [],
   "source": [
    "ps=PorterStemmer()"
   ]
  },
  {
   "cell_type": "code",
   "execution_count": 36,
   "id": "a6594d52",
   "metadata": {},
   "outputs": [],
   "source": [
    "from nltk.tokenize import word_tokenize"
   ]
  },
  {
   "cell_type": "code",
   "execution_count": 41,
   "id": "1aeb98d6",
   "metadata": {},
   "outputs": [
    {
     "data": {
      "text/plain": [
       "['black', 'striped', 'shirts', 'with', 'pockets']"
      ]
     },
     "execution_count": 41,
     "metadata": {},
     "output_type": "execute_result"
    }
   ],
   "source": [
    "text=\"black striped shirts with pockets\"\n",
    "words=word_tokenize(text)\n",
    "words"
   ]
  },
  {
   "cell_type": "code",
   "execution_count": 42,
   "id": "6b9a9e48",
   "metadata": {},
   "outputs": [],
   "source": [
    "sample=['black','blue','charcoal black','navy blue','solid','striped','checked','tshirt','pants','shirts']"
   ]
  },
  {
   "cell_type": "code",
   "execution_count": 48,
   "id": "fe8c5f36",
   "metadata": {},
   "outputs": [],
   "source": [
    "def get_matches(sample):\n",
    "    ##instantiating a stemmer\n",
    "    ps=PorterStemmer()\n",
    "    ##take in query and convert into a list of strings\n",
    "    query=word_tokenize(input())\n",
    "    for word in query:\n",
    "        ##calculate matching score with top 3 fuzzy matches\n",
    "        result=process.extract(ps.stem(word),sample,limit=3)\n",
    "        ##g\n",
    "        for i in range(0,len(result)):\n",
    "            if result[i][1]>=60:##threshold to be decided\n",
    "                print (f'{word}:{result[i][0]}')"
   ]
  },
  {
   "cell_type": "code",
   "execution_count": 49,
   "id": "558b9c33",
   "metadata": {},
   "outputs": [
    {
     "name": "stdout",
     "output_type": "stream",
     "text": [
      "navy shirt which is striped\n",
      "navy:navy blue\n",
      "shirt:tshirt\n",
      "shirt:shirts\n",
      "striped:striped\n"
     ]
    }
   ],
   "source": [
    "get_matches(sample)"
   ]
  },
  {
   "cell_type": "code",
   "execution_count": null,
   "id": "8c359b62",
   "metadata": {},
   "outputs": [],
   "source": []
  },
  {
   "cell_type": "code",
   "execution_count": null,
   "id": "ab59bfd2",
   "metadata": {},
   "outputs": [],
   "source": []
  }
 ],
 "metadata": {
  "kernelspec": {
   "display_name": "Python 3 (ipykernel)",
   "language": "python",
   "name": "python3"
  },
  "language_info": {
   "codemirror_mode": {
    "name": "ipython",
    "version": 3
   },
   "file_extension": ".py",
   "mimetype": "text/x-python",
   "name": "python",
   "nbconvert_exporter": "python",
   "pygments_lexer": "ipython3",
   "version": "3.9.12"
  }
 },
 "nbformat": 4,
 "nbformat_minor": 5
}
