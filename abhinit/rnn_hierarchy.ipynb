{
 "cells": [
  {
   "cell_type": "code",
   "execution_count": 1,
   "id": "36595449",
   "metadata": {},
   "outputs": [],
   "source": [
    "##importing libraries\n",
    "import numpy as np\n",
    "import pandas as pd\n",
    "import seaborn as sns"
   ]
  },
  {
   "cell_type": "code",
   "execution_count": 2,
   "id": "9aad9118",
   "metadata": {},
   "outputs": [
    {
     "data": {
      "text/html": [
       "<div>\n",
       "<style scoped>\n",
       "    .dataframe tbody tr th:only-of-type {\n",
       "        vertical-align: middle;\n",
       "    }\n",
       "\n",
       "    .dataframe tbody tr th {\n",
       "        vertical-align: top;\n",
       "    }\n",
       "\n",
       "    .dataframe thead th {\n",
       "        text-align: right;\n",
       "    }\n",
       "</style>\n",
       "<table border=\"1\" class=\"dataframe\">\n",
       "  <thead>\n",
       "    <tr style=\"text-align: right;\">\n",
       "      <th></th>\n",
       "      <th>prod_name</th>\n",
       "      <th>product_type_name</th>\n",
       "      <th>product_group_name</th>\n",
       "      <th>graphical_appearance_name</th>\n",
       "      <th>colour_group_name</th>\n",
       "      <th>perceived_colour_value_name</th>\n",
       "    </tr>\n",
       "  </thead>\n",
       "  <tbody>\n",
       "    <tr>\n",
       "      <th>0</th>\n",
       "      <td>Strap top</td>\n",
       "      <td>Vest top</td>\n",
       "      <td>Garment Upper body</td>\n",
       "      <td>Solid</td>\n",
       "      <td>Black</td>\n",
       "      <td>Dark</td>\n",
       "    </tr>\n",
       "    <tr>\n",
       "      <th>1</th>\n",
       "      <td>Strap top</td>\n",
       "      <td>Vest top</td>\n",
       "      <td>Garment Upper body</td>\n",
       "      <td>Solid</td>\n",
       "      <td>White</td>\n",
       "      <td>Light</td>\n",
       "    </tr>\n",
       "    <tr>\n",
       "      <th>2</th>\n",
       "      <td>Strap top (1)</td>\n",
       "      <td>Vest top</td>\n",
       "      <td>Garment Upper body</td>\n",
       "      <td>Stripe</td>\n",
       "      <td>Off White</td>\n",
       "      <td>Dusty Light</td>\n",
       "    </tr>\n",
       "    <tr>\n",
       "      <th>3</th>\n",
       "      <td>OP T-shirt (Idro)</td>\n",
       "      <td>Bra</td>\n",
       "      <td>Underwear</td>\n",
       "      <td>Solid</td>\n",
       "      <td>Black</td>\n",
       "      <td>Dark</td>\n",
       "    </tr>\n",
       "    <tr>\n",
       "      <th>4</th>\n",
       "      <td>OP T-shirt (Idro)</td>\n",
       "      <td>Bra</td>\n",
       "      <td>Underwear</td>\n",
       "      <td>Solid</td>\n",
       "      <td>White</td>\n",
       "      <td>Light</td>\n",
       "    </tr>\n",
       "  </tbody>\n",
       "</table>\n",
       "</div>"
      ],
      "text/plain": [
       "           prod_name product_type_name  product_group_name  \\\n",
       "0          Strap top          Vest top  Garment Upper body   \n",
       "1          Strap top          Vest top  Garment Upper body   \n",
       "2      Strap top (1)          Vest top  Garment Upper body   \n",
       "3  OP T-shirt (Idro)               Bra           Underwear   \n",
       "4  OP T-shirt (Idro)               Bra           Underwear   \n",
       "\n",
       "  graphical_appearance_name colour_group_name perceived_colour_value_name  \n",
       "0                     Solid             Black                        Dark  \n",
       "1                     Solid             White                       Light  \n",
       "2                    Stripe         Off White                 Dusty Light  \n",
       "3                     Solid             Black                        Dark  \n",
       "4                     Solid             White                       Light  "
      ]
     },
     "execution_count": 2,
     "metadata": {},
     "output_type": "execute_result"
    }
   ],
   "source": [
    "##loading the articles dataset\n",
    "articles=pd.read_csv('articles.csv',usecols=['prod_name','product_type_name','product_group_name',\n",
    "                                            'graphical_appearance_name','colour_group_name',\n",
    "                                             'perceived_colour_value_name'])\n",
    "articles.head()"
   ]
  },
  {
   "cell_type": "code",
   "execution_count": 3,
   "id": "9c960a4f",
   "metadata": {},
   "outputs": [],
   "source": [
    "def make_df(ordered_cols):\n",
    "    df=articles\n",
    "    df['query']=df['prod_name']\n",
    "    ##adding attributes to the product name to generate queries\n",
    "    ##reversing ordered_cols\n",
    "    ordered_cols.reverse()\n",
    "    for col in ordered_cols:\n",
    "        df['query']=df[col]+' '+df['query']\n",
    "    ##reduce to the input and output columns\n",
    "    df=df[['query','product_group_name','product_type_name']]\n",
    "    ##reducing all text to lowercase\n",
    "    for col in df.columns:\n",
    "        df[col]=df[col].apply(lambda x:x.lower())\n",
    "    ##return the created dataframe\n",
    "    return df"
   ]
  },
  {
   "cell_type": "code",
   "execution_count": 4,
   "id": "05eb1be8",
   "metadata": {},
   "outputs": [
    {
     "name": "stderr",
     "output_type": "stream",
     "text": [
      "C:\\Users\\abhsingh73\\AppData\\Local\\Temp\\ipykernel_11504\\2697094139.py:13: SettingWithCopyWarning: \n",
      "A value is trying to be set on a copy of a slice from a DataFrame.\n",
      "Try using .loc[row_indexer,col_indexer] = value instead\n",
      "\n",
      "See the caveats in the documentation: https://pandas.pydata.org/pandas-docs/stable/user_guide/indexing.html#returning-a-view-versus-a-copy\n",
      "  df[col]=df[col].apply(lambda x:x.lower())\n",
      "C:\\Users\\abhsingh73\\AppData\\Local\\Temp\\ipykernel_11504\\2697094139.py:13: SettingWithCopyWarning: \n",
      "A value is trying to be set on a copy of a slice from a DataFrame.\n",
      "Try using .loc[row_indexer,col_indexer] = value instead\n",
      "\n",
      "See the caveats in the documentation: https://pandas.pydata.org/pandas-docs/stable/user_guide/indexing.html#returning-a-view-versus-a-copy\n",
      "  df[col]=df[col].apply(lambda x:x.lower())\n",
      "C:\\Users\\abhsingh73\\AppData\\Local\\Temp\\ipykernel_11504\\2697094139.py:13: SettingWithCopyWarning: \n",
      "A value is trying to be set on a copy of a slice from a DataFrame.\n",
      "Try using .loc[row_indexer,col_indexer] = value instead\n",
      "\n",
      "See the caveats in the documentation: https://pandas.pydata.org/pandas-docs/stable/user_guide/indexing.html#returning-a-view-versus-a-copy\n",
      "  df[col]=df[col].apply(lambda x:x.lower())\n",
      "C:\\Users\\abhsingh73\\AppData\\Local\\Temp\\ipykernel_11504\\2697094139.py:13: SettingWithCopyWarning: \n",
      "A value is trying to be set on a copy of a slice from a DataFrame.\n",
      "Try using .loc[row_indexer,col_indexer] = value instead\n",
      "\n",
      "See the caveats in the documentation: https://pandas.pydata.org/pandas-docs/stable/user_guide/indexing.html#returning-a-view-versus-a-copy\n",
      "  df[col]=df[col].apply(lambda x:x.lower())\n",
      "C:\\Users\\abhsingh73\\AppData\\Local\\Temp\\ipykernel_11504\\2697094139.py:13: SettingWithCopyWarning: \n",
      "A value is trying to be set on a copy of a slice from a DataFrame.\n",
      "Try using .loc[row_indexer,col_indexer] = value instead\n",
      "\n",
      "See the caveats in the documentation: https://pandas.pydata.org/pandas-docs/stable/user_guide/indexing.html#returning-a-view-versus-a-copy\n",
      "  df[col]=df[col].apply(lambda x:x.lower())\n",
      "C:\\Users\\abhsingh73\\AppData\\Local\\Temp\\ipykernel_11504\\2697094139.py:13: SettingWithCopyWarning: \n",
      "A value is trying to be set on a copy of a slice from a DataFrame.\n",
      "Try using .loc[row_indexer,col_indexer] = value instead\n",
      "\n",
      "See the caveats in the documentation: https://pandas.pydata.org/pandas-docs/stable/user_guide/indexing.html#returning-a-view-versus-a-copy\n",
      "  df[col]=df[col].apply(lambda x:x.lower())\n"
     ]
    },
    {
     "data": {
      "text/html": [
       "<div>\n",
       "<style scoped>\n",
       "    .dataframe tbody tr th:only-of-type {\n",
       "        vertical-align: middle;\n",
       "    }\n",
       "\n",
       "    .dataframe tbody tr th {\n",
       "        vertical-align: top;\n",
       "    }\n",
       "\n",
       "    .dataframe thead th {\n",
       "        text-align: right;\n",
       "    }\n",
       "</style>\n",
       "<table border=\"1\" class=\"dataframe\">\n",
       "  <thead>\n",
       "    <tr style=\"text-align: right;\">\n",
       "      <th></th>\n",
       "      <th>query</th>\n",
       "      <th>product_group_name</th>\n",
       "      <th>product_type_name</th>\n",
       "    </tr>\n",
       "  </thead>\n",
       "  <tbody>\n",
       "    <tr>\n",
       "      <th>0</th>\n",
       "      <td>solid strap top</td>\n",
       "      <td>garment upper body</td>\n",
       "      <td>vest top</td>\n",
       "    </tr>\n",
       "    <tr>\n",
       "      <th>1</th>\n",
       "      <td>solid strap top</td>\n",
       "      <td>garment upper body</td>\n",
       "      <td>vest top</td>\n",
       "    </tr>\n",
       "    <tr>\n",
       "      <th>2</th>\n",
       "      <td>stripe strap top (1)</td>\n",
       "      <td>garment upper body</td>\n",
       "      <td>vest top</td>\n",
       "    </tr>\n",
       "    <tr>\n",
       "      <th>3</th>\n",
       "      <td>solid op t-shirt (idro)</td>\n",
       "      <td>underwear</td>\n",
       "      <td>bra</td>\n",
       "    </tr>\n",
       "    <tr>\n",
       "      <th>4</th>\n",
       "      <td>solid op t-shirt (idro)</td>\n",
       "      <td>underwear</td>\n",
       "      <td>bra</td>\n",
       "    </tr>\n",
       "  </tbody>\n",
       "</table>\n",
       "</div>"
      ],
      "text/plain": [
       "                     query  product_group_name product_type_name\n",
       "0          solid strap top  garment upper body          vest top\n",
       "1          solid strap top  garment upper body          vest top\n",
       "2     stripe strap top (1)  garment upper body          vest top\n",
       "3  solid op t-shirt (idro)           underwear               bra\n",
       "4  solid op t-shirt (idro)           underwear               bra"
      ]
     },
     "execution_count": 4,
     "metadata": {},
     "output_type": "execute_result"
    }
   ],
   "source": [
    "##creating combinations\n",
    "set_1=make_df(['graphical_appearance_name'])\n",
    "set_2=make_df(['colour_group_name'])\n",
    "set_3=make_df(['perceived_colour_value_name'])\n",
    "set_4=make_df(['graphical_appearance_name','colour_group_name'])\n",
    "set_5=make_df(['perceived_colour_value_name','colour_group_name'])\n",
    "set_6=make_df(['graphical_appearance_name','perceived_colour_value_name','colour_group_name'])\n",
    "\n",
    "##deleting the articles dataset\n",
    "del(articles)\n",
    "\n",
    "##concatenating all dataframes into a single one\n",
    "data=pd.concat([set_1,set_2,set_3,set_4,set_5,set_6])\n",
    "\n",
    "#resetting index\n",
    "data.reset_index(inplace=True)\n",
    "data.drop('index',axis=1,inplace=True)\n",
    "\n",
    "##deleting all the sets\n",
    "del(set_1,set_2,set_3,set_4,set_5,set_6)\n",
    "\n",
    "data.head()"
   ]
  },
  {
   "cell_type": "code",
   "execution_count": 5,
   "id": "ddd6ea09",
   "metadata": {},
   "outputs": [
    {
     "data": {
      "text/html": [
       "<div>\n",
       "<style scoped>\n",
       "    .dataframe tbody tr th:only-of-type {\n",
       "        vertical-align: middle;\n",
       "    }\n",
       "\n",
       "    .dataframe tbody tr th {\n",
       "        vertical-align: top;\n",
       "    }\n",
       "\n",
       "    .dataframe thead th {\n",
       "        text-align: right;\n",
       "    }\n",
       "</style>\n",
       "<table border=\"1\" class=\"dataframe\">\n",
       "  <thead>\n",
       "    <tr style=\"text-align: right;\">\n",
       "      <th></th>\n",
       "      <th>query</th>\n",
       "      <th>product_group_name</th>\n",
       "      <th>product_type_name</th>\n",
       "    </tr>\n",
       "  </thead>\n",
       "  <tbody>\n",
       "    <tr>\n",
       "      <th>0</th>\n",
       "      <td>solid strap top</td>\n",
       "      <td>8</td>\n",
       "      <td>120</td>\n",
       "    </tr>\n",
       "    <tr>\n",
       "      <th>1</th>\n",
       "      <td>solid strap top</td>\n",
       "      <td>8</td>\n",
       "      <td>120</td>\n",
       "    </tr>\n",
       "    <tr>\n",
       "      <th>2</th>\n",
       "      <td>stripe strap top (1)</td>\n",
       "      <td>8</td>\n",
       "      <td>120</td>\n",
       "    </tr>\n",
       "    <tr>\n",
       "      <th>3</th>\n",
       "      <td>solid op t-shirt (idro)</td>\n",
       "      <td>16</td>\n",
       "      <td>15</td>\n",
       "    </tr>\n",
       "    <tr>\n",
       "      <th>4</th>\n",
       "      <td>solid op t-shirt (idro)</td>\n",
       "      <td>16</td>\n",
       "      <td>15</td>\n",
       "    </tr>\n",
       "  </tbody>\n",
       "</table>\n",
       "</div>"
      ],
      "text/plain": [
       "                     query  product_group_name  product_type_name\n",
       "0          solid strap top                   8                120\n",
       "1          solid strap top                   8                120\n",
       "2     stripe strap top (1)                   8                120\n",
       "3  solid op t-shirt (idro)                  16                 15\n",
       "4  solid op t-shirt (idro)                  16                 15"
      ]
     },
     "execution_count": 5,
     "metadata": {},
     "output_type": "execute_result"
    }
   ],
   "source": [
    "##ecoding the target\n",
    "from sklearn.preprocessing import LabelEncoder\n",
    "\n",
    "##category encoder\n",
    "cat_enc=LabelEncoder()\n",
    "data['product_group_name']=cat_enc.fit_transform(data['product_group_name'])\n",
    "\n",
    "##subcategory encoder\n",
    "sub_enc=LabelEncoder()\n",
    "data['product_type_name']=sub_enc.fit_transform(data['product_type_name'])\n",
    "\n",
    "##check the dataset\n",
    "data.head()"
   ]
  },
  {
   "cell_type": "code",
   "execution_count": 6,
   "id": "66a18aa1",
   "metadata": {},
   "outputs": [],
   "source": [
    "##splitting data into train and test sets\n",
    "from sklearn.model_selection import StratifiedShuffleSplit\n",
    "\n",
    "##creating feature and target sets\n",
    "X=data['query']\n",
    "y=data.drop('query',axis=1)\n",
    "\n",
    "##instantiating\n",
    "sss=StratifiedShuffleSplit(test_size=0.2,random_state=42)\n",
    "\n",
    "##creating train and test sets\n",
    "train_idx,test_idx=next(sss.split(X,y))\n",
    "X_train,X_test,y_train,y_test=X.iloc[train_idx],X.iloc[test_idx],y.iloc[train_idx],y.iloc[test_idx]"
   ]
  },
  {
   "cell_type": "code",
   "execution_count": 7,
   "id": "d43e6bc3",
   "metadata": {},
   "outputs": [],
   "source": [
    "##tokenizing the text data\n",
    "from keras.preprocessing.text import Tokenizer\n",
    "\n",
    "##instantiating and fitting the tokenizer\n",
    "tokenizer=Tokenizer(num_words=100000,lower=True)\n",
    "tokenizer.fit_on_texts(X_train)\n",
    "\n",
    "##tokeinizng the text\n",
    "X_train=tokenizer.texts_to_sequences(X_train)\n",
    "X_test=tokenizer.texts_to_sequences(X_test)"
   ]
  },
  {
   "cell_type": "code",
   "execution_count": 8,
   "id": "08300bd1",
   "metadata": {},
   "outputs": [],
   "source": [
    "##vocabulary size\n",
    "vocab_size=len(tokenizer.word_index)+1"
   ]
  },
  {
   "cell_type": "code",
   "execution_count": 9,
   "id": "41a1bc89",
   "metadata": {},
   "outputs": [],
   "source": [
    "##padding the textual data [error converting to tensor without conversion]\n",
    "from keras.utils import pad_sequences\n",
    "\n",
    "max_length=20 ##maximum length of sentence\n",
    "\n",
    "X_train=pad_sequences(X_train,padding='post',maxlen=max_length)\n",
    "X_test=pad_sequences(X_test,padding='post',maxlen=max_length)"
   ]
  },
  {
   "cell_type": "code",
   "execution_count": 10,
   "id": "430d9e12",
   "metadata": {},
   "outputs": [],
   "source": [
    "##creating the rnn model\n",
    "from keras.models import Sequential\n",
    "from keras.layers import Embedding,Input,Dense,LSTM,SimpleRNN\n",
    "from keras.layers import Dropout, Activation, Bidirectional, GlobalMaxPool1D\n",
    "\n",
    "##instantiating the model\n",
    "model=Sequential()\n",
    "\n",
    "##adding layers to the model\n",
    "model.add(Embedding(input_dim=vocab_size,output_dim=64))\n",
    "model.add(Bidirectional(layer=LSTM(64,return_sequences=True)))\n",
    "model.add(Bidirectional(layer=LSTM(32)))\n",
    "model.add(Dense(64,activation='relu'))\n",
    "model.add(Dropout(0.5))\n",
    "model.add(Dense(1))"
   ]
  },
  {
   "cell_type": "code",
   "execution_count": 11,
   "id": "ef38695d",
   "metadata": {},
   "outputs": [],
   "source": [
    "##compiling the model\n",
    "model.compile(loss='categorical_crossentropy', optimizer='adam', metrics=['accuracy'])"
   ]
  },
  {
   "cell_type": "code",
   "execution_count": 12,
   "id": "819747e1",
   "metadata": {},
   "outputs": [
    {
     "name": "stdout",
     "output_type": "stream",
     "text": [
      "Epoch 1/10\n",
      "15832/15832 [==============================] - 384s 24ms/step - loss: 9.2023e-07 - accuracy: 0.1057\n",
      "Epoch 2/10\n",
      "15832/15832 [==============================] - 367s 23ms/step - loss: 9.2023e-07 - accuracy: 0.1057\n",
      "Epoch 3/10\n",
      "15832/15832 [==============================] - 356s 22ms/step - loss: 9.2023e-07 - accuracy: 0.1057\n",
      "Epoch 4/10\n",
      "15832/15832 [==============================] - 347s 22ms/step - loss: 9.2023e-07 - accuracy: 0.1057\n",
      "Epoch 5/10\n",
      "15832/15832 [==============================] - 349s 22ms/step - loss: 9.2023e-07 - accuracy: 0.1057\n",
      "Epoch 6/10\n",
      "15832/15832 [==============================] - 351s 22ms/step - loss: 9.2023e-07 - accuracy: 0.1057\n",
      "Epoch 7/10\n",
      "15832/15832 [==============================] - 462s 29ms/step - loss: 9.2023e-07 - accuracy: 0.1057\n",
      "Epoch 8/10\n",
      "15832/15832 [==============================] - 390s 25ms/step - loss: 9.2023e-07 - accuracy: 0.1057\n",
      "Epoch 9/10\n",
      "15832/15832 [==============================] - 407s 26ms/step - loss: 9.2023e-07 - accuracy: 0.1057\n",
      "Epoch 10/10\n",
      "15832/15832 [==============================] - 399s 25ms/step - loss: 9.2023e-07 - accuracy: 0.1057\n"
     ]
    },
    {
     "data": {
      "text/plain": [
       "<keras.callbacks.History at 0x1b04256e400>"
      ]
     },
     "execution_count": 12,
     "metadata": {},
     "output_type": "execute_result"
    }
   ],
   "source": [
    "##training the model\n",
    "model.fit(X_train, y_train['product_group_name'], epochs=10, batch_size=32)"
   ]
  },
  {
   "cell_type": "code",
   "execution_count": 14,
   "id": "6c099395",
   "metadata": {},
   "outputs": [
    {
     "name": "stdout",
     "output_type": "stream",
     "text": [
      "3958/3958 [==============================] - 18s 4ms/step - loss: 9.2024e-07 - accuracy: 0.1057\n"
     ]
    },
    {
     "data": {
      "text/plain": [
       "[9.202386195283907e-07, 0.10571570694446564]"
      ]
     },
     "execution_count": 14,
     "metadata": {},
     "output_type": "execute_result"
    }
   ],
   "source": [
    "model.evaluate(X_test,y_test['product_group_name'])"
   ]
  },
  {
   "cell_type": "code",
   "execution_count": null,
   "id": "13bcd8c5",
   "metadata": {},
   "outputs": [],
   "source": []
  },
  {
   "cell_type": "code",
   "execution_count": null,
   "id": "97960a29",
   "metadata": {},
   "outputs": [],
   "source": []
  },
  {
   "cell_type": "code",
   "execution_count": null,
   "id": "aa287f9f",
   "metadata": {},
   "outputs": [],
   "source": []
  }
 ],
 "metadata": {
  "kernelspec": {
   "display_name": "Python 3 (ipykernel)",
   "language": "python",
   "name": "python3"
  },
  "language_info": {
   "codemirror_mode": {
    "name": "ipython",
    "version": 3
   },
   "file_extension": ".py",
   "mimetype": "text/x-python",
   "name": "python",
   "nbconvert_exporter": "python",
   "pygments_lexer": "ipython3",
   "version": "3.9.12"
  }
 },
 "nbformat": 4,
 "nbformat_minor": 5
}
