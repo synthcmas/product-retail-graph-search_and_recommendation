{
 "cells": [
  {
   "cell_type": "code",
   "execution_count": 1,
   "id": "e1f2e5f4",
   "metadata": {},
   "outputs": [],
   "source": [
    "##importing libraries\n",
    "import numpy as np\n",
    "import pandas as pd\n",
    "import seaborn as sns"
   ]
  },
  {
   "cell_type": "code",
   "execution_count": 2,
   "id": "e4620a1d",
   "metadata": {},
   "outputs": [
    {
     "data": {
      "text/html": [
       "<div>\n",
       "<style scoped>\n",
       "    .dataframe tbody tr th:only-of-type {\n",
       "        vertical-align: middle;\n",
       "    }\n",
       "\n",
       "    .dataframe tbody tr th {\n",
       "        vertical-align: top;\n",
       "    }\n",
       "\n",
       "    .dataframe thead th {\n",
       "        text-align: right;\n",
       "    }\n",
       "</style>\n",
       "<table border=\"1\" class=\"dataframe\">\n",
       "  <thead>\n",
       "    <tr style=\"text-align: right;\">\n",
       "      <th></th>\n",
       "      <th>prod_name</th>\n",
       "      <th>product_type_name</th>\n",
       "      <th>product_group_name</th>\n",
       "      <th>graphical_appearance_name</th>\n",
       "      <th>colour_group_name</th>\n",
       "      <th>perceived_colour_value_name</th>\n",
       "    </tr>\n",
       "  </thead>\n",
       "  <tbody>\n",
       "    <tr>\n",
       "      <th>0</th>\n",
       "      <td>Strap top</td>\n",
       "      <td>Vest top</td>\n",
       "      <td>Garment Upper body</td>\n",
       "      <td>Solid</td>\n",
       "      <td>Black</td>\n",
       "      <td>Dark</td>\n",
       "    </tr>\n",
       "    <tr>\n",
       "      <th>1</th>\n",
       "      <td>Strap top</td>\n",
       "      <td>Vest top</td>\n",
       "      <td>Garment Upper body</td>\n",
       "      <td>Solid</td>\n",
       "      <td>White</td>\n",
       "      <td>Light</td>\n",
       "    </tr>\n",
       "    <tr>\n",
       "      <th>2</th>\n",
       "      <td>Strap top (1)</td>\n",
       "      <td>Vest top</td>\n",
       "      <td>Garment Upper body</td>\n",
       "      <td>Stripe</td>\n",
       "      <td>Off White</td>\n",
       "      <td>Dusty Light</td>\n",
       "    </tr>\n",
       "    <tr>\n",
       "      <th>3</th>\n",
       "      <td>OP T-shirt (Idro)</td>\n",
       "      <td>Bra</td>\n",
       "      <td>Underwear</td>\n",
       "      <td>Solid</td>\n",
       "      <td>Black</td>\n",
       "      <td>Dark</td>\n",
       "    </tr>\n",
       "    <tr>\n",
       "      <th>4</th>\n",
       "      <td>OP T-shirt (Idro)</td>\n",
       "      <td>Bra</td>\n",
       "      <td>Underwear</td>\n",
       "      <td>Solid</td>\n",
       "      <td>White</td>\n",
       "      <td>Light</td>\n",
       "    </tr>\n",
       "  </tbody>\n",
       "</table>\n",
       "</div>"
      ],
      "text/plain": [
       "           prod_name product_type_name  product_group_name  \\\n",
       "0          Strap top          Vest top  Garment Upper body   \n",
       "1          Strap top          Vest top  Garment Upper body   \n",
       "2      Strap top (1)          Vest top  Garment Upper body   \n",
       "3  OP T-shirt (Idro)               Bra           Underwear   \n",
       "4  OP T-shirt (Idro)               Bra           Underwear   \n",
       "\n",
       "  graphical_appearance_name colour_group_name perceived_colour_value_name  \n",
       "0                     Solid             Black                        Dark  \n",
       "1                     Solid             White                       Light  \n",
       "2                    Stripe         Off White                 Dusty Light  \n",
       "3                     Solid             Black                        Dark  \n",
       "4                     Solid             White                       Light  "
      ]
     },
     "execution_count": 2,
     "metadata": {},
     "output_type": "execute_result"
    }
   ],
   "source": [
    "##loading the articles dataset\n",
    "articles=pd.read_csv('articles.csv',\n",
    "                    usecols=['prod_name','product_type_name','product_group_name','graphical_appearance_name',\n",
    "                              'colour_group_name','perceived_colour_value_name'])\n",
    "articles.head()"
   ]
  },
  {
   "cell_type": "code",
   "execution_count": 3,
   "id": "7490ed65",
   "metadata": {},
   "outputs": [
    {
     "data": {
      "text/html": [
       "<div>\n",
       "<style scoped>\n",
       "    .dataframe tbody tr th:only-of-type {\n",
       "        vertical-align: middle;\n",
       "    }\n",
       "\n",
       "    .dataframe tbody tr th {\n",
       "        vertical-align: top;\n",
       "    }\n",
       "\n",
       "    .dataframe thead th {\n",
       "        text-align: right;\n",
       "    }\n",
       "</style>\n",
       "<table border=\"1\" class=\"dataframe\">\n",
       "  <thead>\n",
       "    <tr style=\"text-align: right;\">\n",
       "      <th></th>\n",
       "      <th>prod_name</th>\n",
       "      <th>product_type_name</th>\n",
       "      <th>product_group_name</th>\n",
       "      <th>graphical_appearance_name</th>\n",
       "      <th>colour_group_name</th>\n",
       "      <th>perceived_colour_value_name</th>\n",
       "    </tr>\n",
       "  </thead>\n",
       "  <tbody>\n",
       "    <tr>\n",
       "      <th>0</th>\n",
       "      <td>Strap top</td>\n",
       "      <td>0</td>\n",
       "      <td>0</td>\n",
       "      <td>Solid</td>\n",
       "      <td>Black</td>\n",
       "      <td>Dark</td>\n",
       "    </tr>\n",
       "    <tr>\n",
       "      <th>1</th>\n",
       "      <td>Strap top</td>\n",
       "      <td>0</td>\n",
       "      <td>0</td>\n",
       "      <td>Solid</td>\n",
       "      <td>White</td>\n",
       "      <td>Light</td>\n",
       "    </tr>\n",
       "    <tr>\n",
       "      <th>2</th>\n",
       "      <td>Strap top (1)</td>\n",
       "      <td>0</td>\n",
       "      <td>0</td>\n",
       "      <td>Stripe</td>\n",
       "      <td>Off White</td>\n",
       "      <td>Dusty Light</td>\n",
       "    </tr>\n",
       "    <tr>\n",
       "      <th>3</th>\n",
       "      <td>OP T-shirt (Idro)</td>\n",
       "      <td>1</td>\n",
       "      <td>1</td>\n",
       "      <td>Solid</td>\n",
       "      <td>Black</td>\n",
       "      <td>Dark</td>\n",
       "    </tr>\n",
       "    <tr>\n",
       "      <th>4</th>\n",
       "      <td>OP T-shirt (Idro)</td>\n",
       "      <td>1</td>\n",
       "      <td>1</td>\n",
       "      <td>Solid</td>\n",
       "      <td>White</td>\n",
       "      <td>Light</td>\n",
       "    </tr>\n",
       "  </tbody>\n",
       "</table>\n",
       "</div>"
      ],
      "text/plain": [
       "           prod_name product_type_name product_group_name  \\\n",
       "0          Strap top                 0                  0   \n",
       "1          Strap top                 0                  0   \n",
       "2      Strap top (1)                 0                  0   \n",
       "3  OP T-shirt (Idro)                 1                  1   \n",
       "4  OP T-shirt (Idro)                 1                  1   \n",
       "\n",
       "  graphical_appearance_name colour_group_name perceived_colour_value_name  \n",
       "0                     Solid             Black                        Dark  \n",
       "1                     Solid             White                       Light  \n",
       "2                    Stripe         Off White                 Dusty Light  \n",
       "3                     Solid             Black                        Dark  \n",
       "4                     Solid             White                       Light  "
      ]
     },
     "execution_count": 3,
     "metadata": {},
     "output_type": "execute_result"
    }
   ],
   "source": [
    "##creating dictionaries for categories in 'product_group_name' and 'product_type_name'\n",
    "type_dict={v:k for k,v in dict(enumerate(articles['product_type_name'].unique())).items()}\n",
    "group_dict={v:k for k,v in dict(enumerate(articles['product_group_name'].unique())).items()}\n",
    "\n",
    "##creating the reverse of these dictionaries for final decoding\n",
    "reverse_type_dict={v:k for k,v in type_dict.items()}\n",
    "reverse_group_dict={v:k for k,v in group_dict.items()}\n",
    "\n",
    "##replacing values in articles with placeholders\n",
    "articles['product_type_name']=articles['product_type_name'].apply(lambda x:str(type_dict[x]))\n",
    "articles['product_group_name']=articles['product_group_name'].apply(lambda x:str(group_dict[x]))\n",
    "\n",
    "##checking the head of the dataset\n",
    "articles.head()"
   ]
  },
  {
   "cell_type": "code",
   "execution_count": 4,
   "id": "3dc4938a",
   "metadata": {},
   "outputs": [],
   "source": [
    "def make_df(ordered_cols):\n",
    "    df=articles\n",
    "    df['input_text']=df['prod_name']\n",
    "    ##adding attributes to the product name to generate queries\n",
    "    ##reversing ordered_cols\n",
    "    ordered_cols.reverse()\n",
    "    for col in ordered_cols:\n",
    "        df['input_text']=df[col]+' '+df['input_text']\n",
    "    ##combining product_group_name and product_type_name into a single output column\n",
    "    df['target_text']=df['product_group_name']+' '+df['product_type_name']\n",
    "    ##creating the prefix column\n",
    "    df['prefix']='translate input_text to target_text'\n",
    "    ##reduce to the input and output columns\n",
    "    df=df[['prefix','input_text','target_text']]\n",
    "    ##reducing all text to lowercase\n",
    "    for col in df.columns:\n",
    "        df[col]=df[col].apply(lambda x:x.lower())\n",
    "    ##return the created dataframe\n",
    "    return df"
   ]
  },
  {
   "cell_type": "code",
   "execution_count": 5,
   "id": "46d445f0",
   "metadata": {},
   "outputs": [
    {
     "name": "stderr",
     "output_type": "stream",
     "text": [
      "C:\\Users\\abhsingh73\\AppData\\Local\\Temp\\ipykernel_18228\\2944236767.py:17: SettingWithCopyWarning: \n",
      "A value is trying to be set on a copy of a slice from a DataFrame.\n",
      "Try using .loc[row_indexer,col_indexer] = value instead\n",
      "\n",
      "See the caveats in the documentation: https://pandas.pydata.org/pandas-docs/stable/user_guide/indexing.html#returning-a-view-versus-a-copy\n",
      "  df[col]=df[col].apply(lambda x:x.lower())\n",
      "C:\\Users\\abhsingh73\\AppData\\Local\\Temp\\ipykernel_18228\\2944236767.py:17: SettingWithCopyWarning: \n",
      "A value is trying to be set on a copy of a slice from a DataFrame.\n",
      "Try using .loc[row_indexer,col_indexer] = value instead\n",
      "\n",
      "See the caveats in the documentation: https://pandas.pydata.org/pandas-docs/stable/user_guide/indexing.html#returning-a-view-versus-a-copy\n",
      "  df[col]=df[col].apply(lambda x:x.lower())\n",
      "C:\\Users\\abhsingh73\\AppData\\Local\\Temp\\ipykernel_18228\\2944236767.py:17: SettingWithCopyWarning: \n",
      "A value is trying to be set on a copy of a slice from a DataFrame.\n",
      "Try using .loc[row_indexer,col_indexer] = value instead\n",
      "\n",
      "See the caveats in the documentation: https://pandas.pydata.org/pandas-docs/stable/user_guide/indexing.html#returning-a-view-versus-a-copy\n",
      "  df[col]=df[col].apply(lambda x:x.lower())\n",
      "C:\\Users\\abhsingh73\\AppData\\Local\\Temp\\ipykernel_18228\\2944236767.py:17: SettingWithCopyWarning: \n",
      "A value is trying to be set on a copy of a slice from a DataFrame.\n",
      "Try using .loc[row_indexer,col_indexer] = value instead\n",
      "\n",
      "See the caveats in the documentation: https://pandas.pydata.org/pandas-docs/stable/user_guide/indexing.html#returning-a-view-versus-a-copy\n",
      "  df[col]=df[col].apply(lambda x:x.lower())\n",
      "C:\\Users\\abhsingh73\\AppData\\Local\\Temp\\ipykernel_18228\\2944236767.py:17: SettingWithCopyWarning: \n",
      "A value is trying to be set on a copy of a slice from a DataFrame.\n",
      "Try using .loc[row_indexer,col_indexer] = value instead\n",
      "\n",
      "See the caveats in the documentation: https://pandas.pydata.org/pandas-docs/stable/user_guide/indexing.html#returning-a-view-versus-a-copy\n",
      "  df[col]=df[col].apply(lambda x:x.lower())\n",
      "C:\\Users\\abhsingh73\\AppData\\Local\\Temp\\ipykernel_18228\\2944236767.py:17: SettingWithCopyWarning: \n",
      "A value is trying to be set on a copy of a slice from a DataFrame.\n",
      "Try using .loc[row_indexer,col_indexer] = value instead\n",
      "\n",
      "See the caveats in the documentation: https://pandas.pydata.org/pandas-docs/stable/user_guide/indexing.html#returning-a-view-versus-a-copy\n",
      "  df[col]=df[col].apply(lambda x:x.lower())\n"
     ]
    },
    {
     "data": {
      "text/html": [
       "<div>\n",
       "<style scoped>\n",
       "    .dataframe tbody tr th:only-of-type {\n",
       "        vertical-align: middle;\n",
       "    }\n",
       "\n",
       "    .dataframe tbody tr th {\n",
       "        vertical-align: top;\n",
       "    }\n",
       "\n",
       "    .dataframe thead th {\n",
       "        text-align: right;\n",
       "    }\n",
       "</style>\n",
       "<table border=\"1\" class=\"dataframe\">\n",
       "  <thead>\n",
       "    <tr style=\"text-align: right;\">\n",
       "      <th></th>\n",
       "      <th>prefix</th>\n",
       "      <th>input_text</th>\n",
       "      <th>target_text</th>\n",
       "    </tr>\n",
       "  </thead>\n",
       "  <tbody>\n",
       "    <tr>\n",
       "      <th>0</th>\n",
       "      <td>translate input_text to target_text</td>\n",
       "      <td>solid strap top</td>\n",
       "      <td>0 0</td>\n",
       "    </tr>\n",
       "    <tr>\n",
       "      <th>1</th>\n",
       "      <td>translate input_text to target_text</td>\n",
       "      <td>solid strap top</td>\n",
       "      <td>0 0</td>\n",
       "    </tr>\n",
       "    <tr>\n",
       "      <th>2</th>\n",
       "      <td>translate input_text to target_text</td>\n",
       "      <td>stripe strap top (1)</td>\n",
       "      <td>0 0</td>\n",
       "    </tr>\n",
       "    <tr>\n",
       "      <th>3</th>\n",
       "      <td>translate input_text to target_text</td>\n",
       "      <td>solid op t-shirt (idro)</td>\n",
       "      <td>1 1</td>\n",
       "    </tr>\n",
       "    <tr>\n",
       "      <th>4</th>\n",
       "      <td>translate input_text to target_text</td>\n",
       "      <td>solid op t-shirt (idro)</td>\n",
       "      <td>1 1</td>\n",
       "    </tr>\n",
       "  </tbody>\n",
       "</table>\n",
       "</div>"
      ],
      "text/plain": [
       "                                prefix               input_text target_text\n",
       "0  translate input_text to target_text          solid strap top         0 0\n",
       "1  translate input_text to target_text          solid strap top         0 0\n",
       "2  translate input_text to target_text     stripe strap top (1)         0 0\n",
       "3  translate input_text to target_text  solid op t-shirt (idro)         1 1\n",
       "4  translate input_text to target_text  solid op t-shirt (idro)         1 1"
      ]
     },
     "execution_count": 5,
     "metadata": {},
     "output_type": "execute_result"
    }
   ],
   "source": [
    "##creating combinations\n",
    "set_1=make_df(['graphical_appearance_name'])\n",
    "set_2=make_df(['colour_group_name'])\n",
    "set_3=make_df(['perceived_colour_value_name'])\n",
    "set_4=make_df(['graphical_appearance_name','colour_group_name'])\n",
    "set_5=make_df(['perceived_colour_value_name','colour_group_name'])\n",
    "set_6=make_df(['graphical_appearance_name','perceived_colour_value_name','colour_group_name'])\n",
    "\n",
    "##deleting the articles dataset\n",
    "##del(articles)\n",
    "\n",
    "##concatenating all dataframes into a single one\n",
    "data=pd.concat([set_1,set_2,set_3,set_4,set_5,set_6])\n",
    "\n",
    "#resetting index\n",
    "data.reset_index(inplace=True)\n",
    "data.drop('index',axis=1,inplace=True)\n",
    "\n",
    "##deleting all the sets\n",
    "del(set_1,set_2,set_3,set_4,set_5,set_6)\n",
    "\n",
    "data.head()"
   ]
  },
  {
   "cell_type": "code",
   "execution_count": 6,
   "id": "3a8b68e8",
   "metadata": {},
   "outputs": [],
   "source": [
    "def jumble_words(sent):\n",
    "    sent_list=sent.split(' ')\n",
    "    np.random.shuffle(sent_list)\n",
    "    return ' '.join(sent_list)\n",
    "\n",
    "data['input_text']=data['input_text'].apply(lambda x:jumble_words(x))"
   ]
  },
  {
   "cell_type": "code",
   "execution_count": 7,
   "id": "0f4b3975",
   "metadata": {},
   "outputs": [],
   "source": [
    "##transformer model imports\n",
    "import logging\n",
    "from simpletransformers.t5 import T5Model,T5Args"
   ]
  },
  {
   "cell_type": "code",
   "execution_count": 8,
   "id": "8e18d544",
   "metadata": {},
   "outputs": [],
   "source": [
    "##<need to understand this part>\n",
    "logging.basicConfig(level=logging.INFO)\n",
    "transformers_logger=logging.getLogger(\"transformers\")\n",
    "transformers_logger.setLevel(logging.WARNING)"
   ]
  },
  {
   "cell_type": "code",
   "execution_count": 9,
   "id": "44059640",
   "metadata": {},
   "outputs": [],
   "source": [
    "##maximum sentence length\n",
    "max_seq_len=max(data['input_text'].apply(lambda x:len(x.split())))"
   ]
  },
  {
   "cell_type": "code",
   "execution_count": 10,
   "id": "12361c9c",
   "metadata": {},
   "outputs": [],
   "source": [
    "##creating a data subset for reducing training time\n",
    "from sklearn.model_selection import ShuffleSplit\n",
    "ss=ShuffleSplit(train_size=0.1,random_state=42)\n",
    "subset=data.iloc[next(ss.split(data))[0]]"
   ]
  },
  {
   "cell_type": "code",
   "execution_count": 11,
   "id": "821b8dd1",
   "metadata": {},
   "outputs": [
    {
     "data": {
      "text/html": [
       "<div>\n",
       "<style scoped>\n",
       "    .dataframe tbody tr th:only-of-type {\n",
       "        vertical-align: middle;\n",
       "    }\n",
       "\n",
       "    .dataframe tbody tr th {\n",
       "        vertical-align: top;\n",
       "    }\n",
       "\n",
       "    .dataframe thead th {\n",
       "        text-align: right;\n",
       "    }\n",
       "</style>\n",
       "<table border=\"1\" class=\"dataframe\">\n",
       "  <thead>\n",
       "    <tr style=\"text-align: right;\">\n",
       "      <th></th>\n",
       "      <th>prefix</th>\n",
       "      <th>input_text</th>\n",
       "      <th>target_text</th>\n",
       "    </tr>\n",
       "  </thead>\n",
       "  <tbody>\n",
       "    <tr>\n",
       "      <th>389217</th>\n",
       "      <td>translate input_text to target_text</td>\n",
       "      <td>tank+ loose black conscious audrey solid</td>\n",
       "      <td>0 0</td>\n",
       "    </tr>\n",
       "    <tr>\n",
       "      <th>410171</th>\n",
       "      <td>translate input_text to target_text</td>\n",
       "      <td>light dress beige janeiro solid pow</td>\n",
       "      <td>11 25</td>\n",
       "    </tr>\n",
       "    <tr>\n",
       "      <th>462739</th>\n",
       "      <td>translate input_text to target_text</td>\n",
       "      <td>bandana 2 red bree bright cool</td>\n",
       "      <td>4 47</td>\n",
       "    </tr>\n",
       "    <tr>\n",
       "      <th>40556</th>\n",
       "      <td>translate input_text to target_text</td>\n",
       "      <td>floyd print funnelneck front</td>\n",
       "      <td>0 5</td>\n",
       "    </tr>\n",
       "    <tr>\n",
       "      <th>559780</th>\n",
       "      <td>translate input_text to target_text</td>\n",
       "      <td>tvp trouser dark melange willow green dark</td>\n",
       "      <td>3 7</td>\n",
       "    </tr>\n",
       "  </tbody>\n",
       "</table>\n",
       "</div>"
      ],
      "text/plain": [
       "                                     prefix  \\\n",
       "389217  translate input_text to target_text   \n",
       "410171  translate input_text to target_text   \n",
       "462739  translate input_text to target_text   \n",
       "40556   translate input_text to target_text   \n",
       "559780  translate input_text to target_text   \n",
       "\n",
       "                                        input_text target_text  \n",
       "389217    tank+ loose black conscious audrey solid         0 0  \n",
       "410171         light dress beige janeiro solid pow       11 25  \n",
       "462739              bandana 2 red bree bright cool        4 47  \n",
       "40556                 floyd print funnelneck front         0 5  \n",
       "559780  tvp trouser dark melange willow green dark         3 7  "
      ]
     },
     "execution_count": 11,
     "metadata": {},
     "output_type": "execute_result"
    }
   ],
   "source": [
    "subset.head()"
   ]
  },
  {
   "cell_type": "code",
   "execution_count": 12,
   "id": "6e1bb510",
   "metadata": {},
   "outputs": [
    {
     "name": "stderr",
     "output_type": "stream",
     "text": [
      "C:\\Users\\abhsingh73\\Anaconda3\\lib\\site-packages\\transformers\\models\\t5\\tokenization_t5.py:163: FutureWarning: This tokenizer was incorrectly instantiated with a model max length of 512 which will be corrected in Transformers v5.\n",
      "For now, this behavior is kept to avoid breaking backwards compatibility when padding/encoding with `truncation is True`.\n",
      "- Be aware that you SHOULD NOT rely on t5-base automatically truncating your input to 512 when padding/encoding.\n",
      "- If you want to encode/pad to sequences longer than 512 you can either instantiate this tokenizer with `model_max_length` or pass `max_length` when encoding/padding.\n",
      "- To avoid this warning, please instantiate this tokenizer with `model_max_length` set to your preferred value.\n",
      "  warnings.warn(\n"
     ]
    }
   ],
   "source": [
    "##specifying model arguments\n",
    "model_args = T5Args()\n",
    "model_args.max_seq_length=max_seq_len\n",
    "model_args.train_batch_size=128\n",
    "model_args.eval_batch_size=128\n",
    "model_args.num_train_epochs=1\n",
    "##model_args.evaluate_during_training = True\n",
    "##model_args.evaluate_during_training_steps = 30000\n",
    "model_args.use_multiprocessing=False\n",
    "model_args.fp16=False\n",
    "model_args.save_steps=-1\n",
    "model_args.save_eval_checkpoints=False\n",
    "model_args.no_cache=True\n",
    "model_args.reprocess_input_data=True\n",
    "model_args.overwrite_output_dir=True\n",
    "model_args.preprocess_inputs=False\n",
    "model_args.num_return_sequences=1\n",
    "\n",
    "##instantiating the model\n",
    "model = T5Model(\"t5\",\"t5-base\",args=model_args,use_cuda=False)"
   ]
  },
  {
   "cell_type": "markdown",
   "id": "c8bf0a2a",
   "metadata": {},
   "source": [
    "##creating make-do train and eval sets\n",
    "train_set=data.iloc[:80]\n",
    "test_set=data.iloc[80:100]"
   ]
  },
  {
   "cell_type": "code",
   "execution_count": 13,
   "id": "e4c48c6e",
   "metadata": {
    "scrolled": false
   },
   "outputs": [
    {
     "name": "stderr",
     "output_type": "stream",
     "text": [
      "INFO:simpletransformers.t5.t5_utils: Creating features from dataset file at cache_dir/\n"
     ]
    },
    {
     "data": {
      "application/vnd.jupyter.widget-view+json": {
       "model_id": "0ae1b2f407aa402891137a993f7cc86a",
       "version_major": 2,
       "version_minor": 0
      },
      "text/plain": [
       "  0%|          | 0/63325 [00:00<?, ?it/s]"
      ]
     },
     "metadata": {},
     "output_type": "display_data"
    },
    {
     "name": "stderr",
     "output_type": "stream",
     "text": [
      "C:\\Users\\abhsingh73\\Anaconda3\\lib\\site-packages\\transformers\\tokenization_utils_base.py:3538: FutureWarning: \n",
      "`prepare_seq2seq_batch` is deprecated and will be removed in version 5 of HuggingFace Transformers. Use the regular\n",
      "`__call__` method to prepare your inputs and the tokenizer under the `as_target_tokenizer` context manager to prepare\n",
      "your targets.\n",
      "\n",
      "Here is a short example:\n",
      "\n",
      "model_inputs = tokenizer(src_texts, ...)\n",
      "with tokenizer.as_target_tokenizer():\n",
      "    labels = tokenizer(tgt_texts, ...)\n",
      "model_inputs[\"labels\"] = labels[\"input_ids\"]\n",
      "\n",
      "See the documentation of your specific tokenizer for more details on the specific arguments to the tokenizer of choice.\n",
      "For a more complete example, see the implementation of `prepare_seq2seq_batch`.\n",
      "\n",
      "  warnings.warn(formatted_warning, FutureWarning)\n",
      "INFO:simpletransformers.t5.t5_model: Training started\n"
     ]
    },
    {
     "data": {
      "application/vnd.jupyter.widget-view+json": {
       "model_id": "a9760ce9d23e4207908303b924fb4988",
       "version_major": 2,
       "version_minor": 0
      },
      "text/plain": [
       "Epoch:   0%|          | 0/1 [00:00<?, ?it/s]"
      ]
     },
     "metadata": {},
     "output_type": "display_data"
    },
    {
     "data": {
      "application/vnd.jupyter.widget-view+json": {
       "model_id": "60076a33727b46cdb5207c8cbc150eb2",
       "version_major": 2,
       "version_minor": 0
      },
      "text/plain": [
       "Running Epoch 0 of 1:   0%|          | 0/495 [00:00<?, ?it/s]"
      ]
     },
     "metadata": {},
     "output_type": "display_data"
    },
    {
     "name": "stderr",
     "output_type": "stream",
     "text": [
      "INFO:simpletransformers.t5.t5_model: Training of t5-base model complete. Saved to outputs/.\n"
     ]
    },
    {
     "data": {
      "text/plain": [
       "(495, 0.8679719136218832)"
      ]
     },
     "execution_count": 13,
     "metadata": {},
     "output_type": "execute_result"
    }
   ],
   "source": [
    "model.train_model(subset)"
   ]
  },
  {
   "cell_type": "code",
   "execution_count": 24,
   "id": "07e88bdf",
   "metadata": {},
   "outputs": [],
   "source": [
    "def get_hier():\n",
    "    query=input()\n",
    "    cat,subcat=[int(i) for i in model.predict(query)[0].split()]\n",
    "    return {'product_group_name':reverse_group_dict[int(cat)],\n",
    "           'product_type_name':reverse_type_dict[int(subcat)]}"
   ]
  },
  {
   "cell_type": "code",
   "execution_count": 25,
   "id": "a953543e",
   "metadata": {},
   "outputs": [
    {
     "name": "stdout",
     "output_type": "stream",
     "text": [
      "black shirt\n"
     ]
    },
    {
     "data": {
      "application/vnd.jupyter.widget-view+json": {
       "model_id": "71d8655948bb4d379d0dcb76198c80f0",
       "version_major": 2,
       "version_minor": 0
      },
      "text/plain": [
       "Generating outputs:   0%|          | 0/1 [00:00<?, ?it/s]"
      ]
     },
     "metadata": {},
     "output_type": "display_data"
    },
    {
     "data": {
      "application/vnd.jupyter.widget-view+json": {
       "model_id": "7982d45c9cd340c1878fa0147ae2ea75",
       "version_major": 2,
       "version_minor": 0
      },
      "text/plain": [
       "Decoding outputs:   0%|          | 0/1 [00:00<?, ?it/s]"
      ]
     },
     "metadata": {},
     "output_type": "display_data"
    },
    {
     "data": {
      "text/plain": [
       "{'product_group_name': 'Garment Upper body', 'product_type_name': 'Shirt'}"
      ]
     },
     "execution_count": 25,
     "metadata": {},
     "output_type": "execute_result"
    }
   ],
   "source": [
    "get_hier()"
   ]
  },
  {
   "cell_type": "code",
   "execution_count": 26,
   "id": "e45565aa",
   "metadata": {},
   "outputs": [
    {
     "name": "stdout",
     "output_type": "stream",
     "text": [
      "skirt\n"
     ]
    },
    {
     "data": {
      "application/vnd.jupyter.widget-view+json": {
       "model_id": "2c9673a457ff413898da807c04eb4ba8",
       "version_major": 2,
       "version_minor": 0
      },
      "text/plain": [
       "Generating outputs:   0%|          | 0/1 [00:00<?, ?it/s]"
      ]
     },
     "metadata": {},
     "output_type": "display_data"
    },
    {
     "data": {
      "application/vnd.jupyter.widget-view+json": {
       "model_id": "cd30c591ff4940099369011913c50060",
       "version_major": 2,
       "version_minor": 0
      },
      "text/plain": [
       "Decoding outputs:   0%|          | 0/1 [00:00<?, ?it/s]"
      ]
     },
     "metadata": {},
     "output_type": "display_data"
    },
    {
     "data": {
      "text/plain": [
       "{'product_group_name': 'Garment Lower body', 'product_type_name': 'Skirt'}"
      ]
     },
     "execution_count": 26,
     "metadata": {},
     "output_type": "execute_result"
    }
   ],
   "source": [
    "get_hier()"
   ]
  },
  {
   "cell_type": "code",
   "execution_count": 27,
   "id": "c3c4602b",
   "metadata": {},
   "outputs": [
    {
     "name": "stdout",
     "output_type": "stream",
     "text": [
      "kurta\n"
     ]
    },
    {
     "data": {
      "application/vnd.jupyter.widget-view+json": {
       "model_id": "dba39eeca91a4ac4b7c6f060af35ea3a",
       "version_major": 2,
       "version_minor": 0
      },
      "text/plain": [
       "Generating outputs:   0%|          | 0/1 [00:00<?, ?it/s]"
      ]
     },
     "metadata": {},
     "output_type": "display_data"
    },
    {
     "data": {
      "application/vnd.jupyter.widget-view+json": {
       "model_id": "31416e4f5bef458d8a93d02222cdc0fa",
       "version_major": 2,
       "version_minor": 0
      },
      "text/plain": [
       "Decoding outputs:   0%|          | 0/1 [00:00<?, ?it/s]"
      ]
     },
     "metadata": {},
     "output_type": "display_data"
    },
    {
     "data": {
      "text/plain": [
       "{'product_group_name': 'Garment Upper body', 'product_type_name': 'T-shirt'}"
      ]
     },
     "execution_count": 27,
     "metadata": {},
     "output_type": "execute_result"
    }
   ],
   "source": [
    "get_hier()"
   ]
  },
  {
   "cell_type": "code",
   "execution_count": 28,
   "id": "d18be5fc",
   "metadata": {},
   "outputs": [
    {
     "name": "stdout",
     "output_type": "stream",
     "text": [
      "kurti\n"
     ]
    },
    {
     "data": {
      "application/vnd.jupyter.widget-view+json": {
       "model_id": "cdba82975c394711ba1b5f73475d1c7d",
       "version_major": 2,
       "version_minor": 0
      },
      "text/plain": [
       "Generating outputs:   0%|          | 0/1 [00:00<?, ?it/s]"
      ]
     },
     "metadata": {},
     "output_type": "display_data"
    },
    {
     "data": {
      "application/vnd.jupyter.widget-view+json": {
       "model_id": "64f1d004f3a64aab86a0fa904819701c",
       "version_major": 2,
       "version_minor": 0
      },
      "text/plain": [
       "Decoding outputs:   0%|          | 0/1 [00:00<?, ?it/s]"
      ]
     },
     "metadata": {},
     "output_type": "display_data"
    },
    {
     "data": {
      "text/plain": [
       "{'product_group_name': 'Garment Upper body', 'product_type_name': 'Jacket'}"
      ]
     },
     "execution_count": 28,
     "metadata": {},
     "output_type": "execute_result"
    }
   ],
   "source": [
    "get_hier()"
   ]
  },
  {
   "cell_type": "code",
   "execution_count": 29,
   "id": "18034352",
   "metadata": {},
   "outputs": [
    {
     "name": "stdout",
     "output_type": "stream",
     "text": [
      "sport shoes\n"
     ]
    },
    {
     "data": {
      "application/vnd.jupyter.widget-view+json": {
       "model_id": "10b70708f8c647d9a05739cbac34023d",
       "version_major": 2,
       "version_minor": 0
      },
      "text/plain": [
       "Generating outputs:   0%|          | 0/1 [00:00<?, ?it/s]"
      ]
     },
     "metadata": {},
     "output_type": "display_data"
    },
    {
     "data": {
      "application/vnd.jupyter.widget-view+json": {
       "model_id": "b5f9cc4697c044c9b520b6ad9cf4bf27",
       "version_major": 2,
       "version_minor": 0
      },
      "text/plain": [
       "Decoding outputs:   0%|          | 0/1 [00:00<?, ?it/s]"
      ]
     },
     "metadata": {},
     "output_type": "display_data"
    },
    {
     "data": {
      "text/plain": [
       "{'product_group_name': 'Shoes', 'product_type_name': 'Sneakers'}"
      ]
     },
     "execution_count": 29,
     "metadata": {},
     "output_type": "execute_result"
    }
   ],
   "source": [
    "get_hier()"
   ]
  },
  {
   "cell_type": "code",
   "execution_count": 30,
   "id": "a59f82ef",
   "metadata": {},
   "outputs": [
    {
     "name": "stdout",
     "output_type": "stream",
     "text": [
      "black jacket for men\n"
     ]
    },
    {
     "data": {
      "application/vnd.jupyter.widget-view+json": {
       "model_id": "fb6448d1004f41b49566d93e9b1c14e8",
       "version_major": 2,
       "version_minor": 0
      },
      "text/plain": [
       "Generating outputs:   0%|          | 0/1 [00:00<?, ?it/s]"
      ]
     },
     "metadata": {},
     "output_type": "display_data"
    },
    {
     "name": "stderr",
     "output_type": "stream",
     "text": [
      "C:\\Users\\abhsingh73\\Anaconda3\\lib\\site-packages\\transformers\\tokenization_utils_base.py:3538: FutureWarning: \n",
      "`prepare_seq2seq_batch` is deprecated and will be removed in version 5 of HuggingFace Transformers. Use the regular\n",
      "`__call__` method to prepare your inputs and the tokenizer under the `as_target_tokenizer` context manager to prepare\n",
      "your targets.\n",
      "\n",
      "Here is a short example:\n",
      "\n",
      "model_inputs = tokenizer(src_texts, ...)\n",
      "with tokenizer.as_target_tokenizer():\n",
      "    labels = tokenizer(tgt_texts, ...)\n",
      "model_inputs[\"labels\"] = labels[\"input_ids\"]\n",
      "\n",
      "See the documentation of your specific tokenizer for more details on the specific arguments to the tokenizer of choice.\n",
      "For a more complete example, see the implementation of `prepare_seq2seq_batch`.\n",
      "\n",
      "  warnings.warn(formatted_warning, FutureWarning)\n"
     ]
    },
    {
     "data": {
      "application/vnd.jupyter.widget-view+json": {
       "model_id": "5855006814504de4878981c4979f8e2c",
       "version_major": 2,
       "version_minor": 0
      },
      "text/plain": [
       "Decoding outputs:   0%|          | 0/1 [00:00<?, ?it/s]"
      ]
     },
     "metadata": {},
     "output_type": "display_data"
    },
    {
     "data": {
      "text/plain": [
       "{'product_group_name': 'Garment Upper body', 'product_type_name': 'Vest top'}"
      ]
     },
     "execution_count": 30,
     "metadata": {},
     "output_type": "execute_result"
    }
   ],
   "source": [
    "get_hier()"
   ]
  },
  {
   "cell_type": "code",
   "execution_count": 31,
   "id": "d31272b3",
   "metadata": {},
   "outputs": [
    {
     "name": "stdout",
     "output_type": "stream",
     "text": [
      "denims\n"
     ]
    },
    {
     "data": {
      "application/vnd.jupyter.widget-view+json": {
       "model_id": "8d5f063bc239456ea1f0ddfe786478a8",
       "version_major": 2,
       "version_minor": 0
      },
      "text/plain": [
       "Generating outputs:   0%|          | 0/1 [00:00<?, ?it/s]"
      ]
     },
     "metadata": {},
     "output_type": "display_data"
    },
    {
     "data": {
      "application/vnd.jupyter.widget-view+json": {
       "model_id": "5f77dde8ca9c47dd906a6f9d5eec2f84",
       "version_major": 2,
       "version_minor": 0
      },
      "text/plain": [
       "Decoding outputs:   0%|          | 0/1 [00:00<?, ?it/s]"
      ]
     },
     "metadata": {},
     "output_type": "display_data"
    },
    {
     "data": {
      "text/plain": [
       "{'product_group_name': 'Garment Lower body', 'product_type_name': 'Trousers'}"
      ]
     },
     "execution_count": 31,
     "metadata": {},
     "output_type": "execute_result"
    }
   ],
   "source": [
    "get_hier()"
   ]
  },
  {
   "cell_type": "code",
   "execution_count": 32,
   "id": "7fa05ee1",
   "metadata": {},
   "outputs": [
    {
     "name": "stdout",
     "output_type": "stream",
     "text": [
      "red dress\n"
     ]
    },
    {
     "data": {
      "application/vnd.jupyter.widget-view+json": {
       "model_id": "1f03a52e2ae64eb5a18902b5ed6241b3",
       "version_major": 2,
       "version_minor": 0
      },
      "text/plain": [
       "Generating outputs:   0%|          | 0/1 [00:00<?, ?it/s]"
      ]
     },
     "metadata": {},
     "output_type": "display_data"
    },
    {
     "data": {
      "application/vnd.jupyter.widget-view+json": {
       "model_id": "6de259041c144dad945edb18246aa09b",
       "version_major": 2,
       "version_minor": 0
      },
      "text/plain": [
       "Decoding outputs:   0%|          | 0/1 [00:00<?, ?it/s]"
      ]
     },
     "metadata": {},
     "output_type": "display_data"
    },
    {
     "data": {
      "text/plain": [
       "{'product_group_name': 'Garment Full body', 'product_type_name': 'Dress'}"
      ]
     },
     "execution_count": 32,
     "metadata": {},
     "output_type": "execute_result"
    }
   ],
   "source": [
    "get_hier()"
   ]
  },
  {
   "cell_type": "code",
   "execution_count": 33,
   "id": "bbf21371",
   "metadata": {},
   "outputs": [
    {
     "name": "stdout",
     "output_type": "stream",
     "text": [
      "saree for women\n"
     ]
    },
    {
     "data": {
      "application/vnd.jupyter.widget-view+json": {
       "model_id": "c2ad530fda2446d09ccb5024d85467a3",
       "version_major": 2,
       "version_minor": 0
      },
      "text/plain": [
       "Generating outputs:   0%|          | 0/1 [00:00<?, ?it/s]"
      ]
     },
     "metadata": {},
     "output_type": "display_data"
    },
    {
     "data": {
      "application/vnd.jupyter.widget-view+json": {
       "model_id": "6f56d7878efa4a98be3f844a66ea941a",
       "version_major": 2,
       "version_minor": 0
      },
      "text/plain": [
       "Decoding outputs:   0%|          | 0/1 [00:00<?, ?it/s]"
      ]
     },
     "metadata": {},
     "output_type": "display_data"
    },
    {
     "data": {
      "text/plain": [
       "{'product_group_name': 'Garment Upper body', 'product_type_name': 'T-shirt'}"
      ]
     },
     "execution_count": 33,
     "metadata": {},
     "output_type": "execute_result"
    }
   ],
   "source": [
    "get_hier()"
   ]
  },
  {
   "cell_type": "code",
   "execution_count": 34,
   "id": "84d2d992",
   "metadata": {},
   "outputs": [
    {
     "name": "stdout",
     "output_type": "stream",
     "text": [
      "party wear men\n"
     ]
    },
    {
     "data": {
      "application/vnd.jupyter.widget-view+json": {
       "model_id": "f7fb9d9824f1422cb04645d4b6dcbb1c",
       "version_major": 2,
       "version_minor": 0
      },
      "text/plain": [
       "Generating outputs:   0%|          | 0/1 [00:00<?, ?it/s]"
      ]
     },
     "metadata": {},
     "output_type": "display_data"
    },
    {
     "data": {
      "application/vnd.jupyter.widget-view+json": {
       "model_id": "95b83324257047d68fbfbac4ad89be77",
       "version_major": 2,
       "version_minor": 0
      },
      "text/plain": [
       "Decoding outputs:   0%|          | 0/1 [00:00<?, ?it/s]"
      ]
     },
     "metadata": {},
     "output_type": "display_data"
    },
    {
     "data": {
      "text/plain": [
       "{'product_group_name': 'Garment Lower body', 'product_type_name': 'Trousers'}"
      ]
     },
     "execution_count": 34,
     "metadata": {},
     "output_type": "execute_result"
    }
   ],
   "source": [
    "get_hier()"
   ]
  },
  {
   "cell_type": "code",
   "execution_count": 35,
   "id": "2ed12ae8",
   "metadata": {},
   "outputs": [
    {
     "name": "stdout",
     "output_type": "stream",
     "text": [
      "kurtas\n"
     ]
    },
    {
     "data": {
      "application/vnd.jupyter.widget-view+json": {
       "model_id": "d7acd7df60054b5db329512b070859c5",
       "version_major": 2,
       "version_minor": 0
      },
      "text/plain": [
       "Generating outputs:   0%|          | 0/1 [00:00<?, ?it/s]"
      ]
     },
     "metadata": {},
     "output_type": "display_data"
    },
    {
     "data": {
      "application/vnd.jupyter.widget-view+json": {
       "model_id": "ab74f6bd2d374b1c9aa85cb55850b96c",
       "version_major": 2,
       "version_minor": 0
      },
      "text/plain": [
       "Decoding outputs:   0%|          | 0/1 [00:00<?, ?it/s]"
      ]
     },
     "metadata": {},
     "output_type": "display_data"
    },
    {
     "data": {
      "text/plain": [
       "{'product_group_name': 'Garment Upper body', 'product_type_name': 'T-shirt'}"
      ]
     },
     "execution_count": 35,
     "metadata": {},
     "output_type": "execute_result"
    }
   ],
   "source": [
    "get_hier()"
   ]
  },
  {
   "cell_type": "code",
   "execution_count": 36,
   "id": "33346c42",
   "metadata": {},
   "outputs": [
    {
     "name": "stdout",
     "output_type": "stream",
     "text": [
      "formal shoes for men\n"
     ]
    },
    {
     "data": {
      "application/vnd.jupyter.widget-view+json": {
       "model_id": "769d975047374158add742f657e30ebb",
       "version_major": 2,
       "version_minor": 0
      },
      "text/plain": [
       "Generating outputs:   0%|          | 0/1 [00:00<?, ?it/s]"
      ]
     },
     "metadata": {},
     "output_type": "display_data"
    },
    {
     "data": {
      "application/vnd.jupyter.widget-view+json": {
       "model_id": "c60c1164366742ae8a3d6c2aba7f5af2",
       "version_major": 2,
       "version_minor": 0
      },
      "text/plain": [
       "Decoding outputs:   0%|          | 0/1 [00:00<?, ?it/s]"
      ]
     },
     "metadata": {},
     "output_type": "display_data"
    },
    {
     "data": {
      "text/plain": [
       "{'product_group_name': 'Shoes', 'product_type_name': 'Other shoe'}"
      ]
     },
     "execution_count": 36,
     "metadata": {},
     "output_type": "execute_result"
    }
   ],
   "source": [
    "get_hier()"
   ]
  },
  {
   "cell_type": "code",
   "execution_count": null,
   "id": "e41add70",
   "metadata": {},
   "outputs": [],
   "source": []
  },
  {
   "cell_type": "code",
   "execution_count": null,
   "id": "dadf4e9c",
   "metadata": {},
   "outputs": [],
   "source": []
  },
  {
   "cell_type": "code",
   "execution_count": null,
   "id": "a238e0e3",
   "metadata": {},
   "outputs": [],
   "source": []
  }
 ],
 "metadata": {
  "kernelspec": {
   "display_name": "Python 3 (ipykernel)",
   "language": "python",
   "name": "python3"
  },
  "language_info": {
   "codemirror_mode": {
    "name": "ipython",
    "version": 3
   },
   "file_extension": ".py",
   "mimetype": "text/x-python",
   "name": "python",
   "nbconvert_exporter": "python",
   "pygments_lexer": "ipython3",
   "version": "3.9.12"
  }
 },
 "nbformat": 4,
 "nbformat_minor": 5
}
