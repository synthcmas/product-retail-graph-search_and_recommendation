{
  "cells": [
    {
      "cell_type": "code",
      "execution_count": null,
      "id": "0d775cb8",
      "metadata": {
        "id": "0d775cb8"
      },
      "outputs": [],
      "source": [
        "##importing libraries\n",
        "import numpy as np\n",
        "import pandas as pd\n",
        "import seaborn as sns\n",
        "from google.colab import drive\n",
        "import os"
      ]
    },
    {
      "cell_type": "code",
      "source": [
        "drive.mount('/content/drive')"
      ],
      "metadata": {
        "colab": {
          "base_uri": "https://localhost:8080/"
        },
        "id": "LZh76US5xJgN",
        "outputId": "8aa5c7fc-3c6e-466a-efdf-23249b50e11d"
      },
      "id": "LZh76US5xJgN",
      "execution_count": null,
      "outputs": [
        {
          "output_type": "stream",
          "name": "stdout",
          "text": [
            "Mounted at /content/drive\n"
          ]
        }
      ]
    },
    {
      "cell_type": "code",
      "source": [
        "os.chdir('/content/drive/MyDrive')"
      ],
      "metadata": {
        "id": "6Y1u4JjLxAwD"
      },
      "id": "6Y1u4JjLxAwD",
      "execution_count": null,
      "outputs": []
    },
    {
      "cell_type": "code",
      "execution_count": null,
      "id": "0d6b2b94",
      "metadata": {
        "colab": {
          "base_uri": "https://localhost:8080/",
          "height": 206
        },
        "id": "0d6b2b94",
        "outputId": "4b450f77-1986-4e5b-dc9f-269fdb154bc8"
      },
      "outputs": [
        {
          "output_type": "execute_result",
          "data": {
            "text/plain": [
              "           prod_name product_type_name  product_group_name  \\\n",
              "0          Strap top          Vest top  Garment Upper body   \n",
              "1          Strap top          Vest top  Garment Upper body   \n",
              "2      Strap top (1)          Vest top  Garment Upper body   \n",
              "3  OP T-shirt (Idro)               Bra           Underwear   \n",
              "4  OP T-shirt (Idro)               Bra           Underwear   \n",
              "\n",
              "  graphical_appearance_name colour_group_name perceived_colour_value_name  \n",
              "0                     Solid             Black                        Dark  \n",
              "1                     Solid             White                       Light  \n",
              "2                    Stripe         Off White                 Dusty Light  \n",
              "3                     Solid             Black                        Dark  \n",
              "4                     Solid             White                       Light  "
            ],
            "text/html": [
              "\n",
              "  <div id=\"df-3de26043-c3a7-4957-a68e-7d7a3cf8cdda\">\n",
              "    <div class=\"colab-df-container\">\n",
              "      <div>\n",
              "<style scoped>\n",
              "    .dataframe tbody tr th:only-of-type {\n",
              "        vertical-align: middle;\n",
              "    }\n",
              "\n",
              "    .dataframe tbody tr th {\n",
              "        vertical-align: top;\n",
              "    }\n",
              "\n",
              "    .dataframe thead th {\n",
              "        text-align: right;\n",
              "    }\n",
              "</style>\n",
              "<table border=\"1\" class=\"dataframe\">\n",
              "  <thead>\n",
              "    <tr style=\"text-align: right;\">\n",
              "      <th></th>\n",
              "      <th>prod_name</th>\n",
              "      <th>product_type_name</th>\n",
              "      <th>product_group_name</th>\n",
              "      <th>graphical_appearance_name</th>\n",
              "      <th>colour_group_name</th>\n",
              "      <th>perceived_colour_value_name</th>\n",
              "    </tr>\n",
              "  </thead>\n",
              "  <tbody>\n",
              "    <tr>\n",
              "      <th>0</th>\n",
              "      <td>Strap top</td>\n",
              "      <td>Vest top</td>\n",
              "      <td>Garment Upper body</td>\n",
              "      <td>Solid</td>\n",
              "      <td>Black</td>\n",
              "      <td>Dark</td>\n",
              "    </tr>\n",
              "    <tr>\n",
              "      <th>1</th>\n",
              "      <td>Strap top</td>\n",
              "      <td>Vest top</td>\n",
              "      <td>Garment Upper body</td>\n",
              "      <td>Solid</td>\n",
              "      <td>White</td>\n",
              "      <td>Light</td>\n",
              "    </tr>\n",
              "    <tr>\n",
              "      <th>2</th>\n",
              "      <td>Strap top (1)</td>\n",
              "      <td>Vest top</td>\n",
              "      <td>Garment Upper body</td>\n",
              "      <td>Stripe</td>\n",
              "      <td>Off White</td>\n",
              "      <td>Dusty Light</td>\n",
              "    </tr>\n",
              "    <tr>\n",
              "      <th>3</th>\n",
              "      <td>OP T-shirt (Idro)</td>\n",
              "      <td>Bra</td>\n",
              "      <td>Underwear</td>\n",
              "      <td>Solid</td>\n",
              "      <td>Black</td>\n",
              "      <td>Dark</td>\n",
              "    </tr>\n",
              "    <tr>\n",
              "      <th>4</th>\n",
              "      <td>OP T-shirt (Idro)</td>\n",
              "      <td>Bra</td>\n",
              "      <td>Underwear</td>\n",
              "      <td>Solid</td>\n",
              "      <td>White</td>\n",
              "      <td>Light</td>\n",
              "    </tr>\n",
              "  </tbody>\n",
              "</table>\n",
              "</div>\n",
              "      <button class=\"colab-df-convert\" onclick=\"convertToInteractive('df-3de26043-c3a7-4957-a68e-7d7a3cf8cdda')\"\n",
              "              title=\"Convert this dataframe to an interactive table.\"\n",
              "              style=\"display:none;\">\n",
              "        \n",
              "  <svg xmlns=\"http://www.w3.org/2000/svg\" height=\"24px\"viewBox=\"0 0 24 24\"\n",
              "       width=\"24px\">\n",
              "    <path d=\"M0 0h24v24H0V0z\" fill=\"none\"/>\n",
              "    <path d=\"M18.56 5.44l.94 2.06.94-2.06 2.06-.94-2.06-.94-.94-2.06-.94 2.06-2.06.94zm-11 1L8.5 8.5l.94-2.06 2.06-.94-2.06-.94L8.5 2.5l-.94 2.06-2.06.94zm10 10l.94 2.06.94-2.06 2.06-.94-2.06-.94-.94-2.06-.94 2.06-2.06.94z\"/><path d=\"M17.41 7.96l-1.37-1.37c-.4-.4-.92-.59-1.43-.59-.52 0-1.04.2-1.43.59L10.3 9.45l-7.72 7.72c-.78.78-.78 2.05 0 2.83L4 21.41c.39.39.9.59 1.41.59.51 0 1.02-.2 1.41-.59l7.78-7.78 2.81-2.81c.8-.78.8-2.07 0-2.86zM5.41 20L4 18.59l7.72-7.72 1.47 1.35L5.41 20z\"/>\n",
              "  </svg>\n",
              "      </button>\n",
              "      \n",
              "  <style>\n",
              "    .colab-df-container {\n",
              "      display:flex;\n",
              "      flex-wrap:wrap;\n",
              "      gap: 12px;\n",
              "    }\n",
              "\n",
              "    .colab-df-convert {\n",
              "      background-color: #E8F0FE;\n",
              "      border: none;\n",
              "      border-radius: 50%;\n",
              "      cursor: pointer;\n",
              "      display: none;\n",
              "      fill: #1967D2;\n",
              "      height: 32px;\n",
              "      padding: 0 0 0 0;\n",
              "      width: 32px;\n",
              "    }\n",
              "\n",
              "    .colab-df-convert:hover {\n",
              "      background-color: #E2EBFA;\n",
              "      box-shadow: 0px 1px 2px rgba(60, 64, 67, 0.3), 0px 1px 3px 1px rgba(60, 64, 67, 0.15);\n",
              "      fill: #174EA6;\n",
              "    }\n",
              "\n",
              "    [theme=dark] .colab-df-convert {\n",
              "      background-color: #3B4455;\n",
              "      fill: #D2E3FC;\n",
              "    }\n",
              "\n",
              "    [theme=dark] .colab-df-convert:hover {\n",
              "      background-color: #434B5C;\n",
              "      box-shadow: 0px 1px 3px 1px rgba(0, 0, 0, 0.15);\n",
              "      filter: drop-shadow(0px 1px 2px rgba(0, 0, 0, 0.3));\n",
              "      fill: #FFFFFF;\n",
              "    }\n",
              "  </style>\n",
              "\n",
              "      <script>\n",
              "        const buttonEl =\n",
              "          document.querySelector('#df-3de26043-c3a7-4957-a68e-7d7a3cf8cdda button.colab-df-convert');\n",
              "        buttonEl.style.display =\n",
              "          google.colab.kernel.accessAllowed ? 'block' : 'none';\n",
              "\n",
              "        async function convertToInteractive(key) {\n",
              "          const element = document.querySelector('#df-3de26043-c3a7-4957-a68e-7d7a3cf8cdda');\n",
              "          const dataTable =\n",
              "            await google.colab.kernel.invokeFunction('convertToInteractive',\n",
              "                                                     [key], {});\n",
              "          if (!dataTable) return;\n",
              "\n",
              "          const docLinkHtml = 'Like what you see? Visit the ' +\n",
              "            '<a target=\"_blank\" href=https://colab.research.google.com/notebooks/data_table.ipynb>data table notebook</a>'\n",
              "            + ' to learn more about interactive tables.';\n",
              "          element.innerHTML = '';\n",
              "          dataTable['output_type'] = 'display_data';\n",
              "          await google.colab.output.renderOutput(dataTable, element);\n",
              "          const docLink = document.createElement('div');\n",
              "          docLink.innerHTML = docLinkHtml;\n",
              "          element.appendChild(docLink);\n",
              "        }\n",
              "      </script>\n",
              "    </div>\n",
              "  </div>\n",
              "  "
            ]
          },
          "metadata": {},
          "execution_count": 49
        }
      ],
      "source": [
        "##loading the articles dataset\n",
        "articles=pd.read_csv('articles.csv',usecols=['prod_name','product_type_name','product_group_name',\n",
        "                                            'graphical_appearance_name','colour_group_name',\n",
        "                                             'perceived_colour_value_name'])\n",
        "articles.head()"
      ]
    },
    {
      "cell_type": "code",
      "source": [
        "articles = articles[(articles.colour_group_name != 'Unknown') & (articles.graphical_appearance_name != 'Unknown') & (articles.perceived_colour_value_name != 'Unknown')]\n",
        "articles.reset_index(inplace=True)\n",
        "articles.drop('index',axis=1,inplace=True)    "
      ],
      "metadata": {
        "colab": {
          "base_uri": "https://localhost:8080/"
        },
        "id": "9wMUu4iv1FM0",
        "outputId": "23107a2a-35fe-4607-8007-1be96600bf98"
      },
      "id": "9wMUu4iv1FM0",
      "execution_count": null,
      "outputs": [
        {
          "output_type": "stream",
          "name": "stderr",
          "text": [
            "/usr/local/lib/python3.7/dist-packages/pandas/core/frame.py:4913: SettingWithCopyWarning: \n",
            "A value is trying to be set on a copy of a slice from a DataFrame\n",
            "\n",
            "See the caveats in the documentation: https://pandas.pydata.org/pandas-docs/stable/user_guide/indexing.html#returning-a-view-versus-a-copy\n",
            "  errors=errors,\n"
          ]
        }
      ]
    },
    {
      "cell_type": "code",
      "execution_count": null,
      "id": "d8aafea0",
      "metadata": {
        "colab": {
          "base_uri": "https://localhost:8080/",
          "height": 322
        },
        "id": "d8aafea0",
        "outputId": "222d3e97-4a07-470e-ae32-bd26339d0323"
      },
      "outputs": [
        {
          "output_type": "execute_result",
          "data": {
            "text/plain": [
              "           prod_name product_type_name  product_group_name  \\\n",
              "0          Strap top          Vest top  Garment Upper body   \n",
              "1          Strap top          Vest top  Garment Upper body   \n",
              "2      Strap top (1)          Vest top  Garment Upper body   \n",
              "3  OP T-shirt (Idro)               Bra           Underwear   \n",
              "4  OP T-shirt (Idro)               Bra           Underwear   \n",
              "\n",
              "  graphical_appearance_name colour_group_name perceived_colour_value_name  \\\n",
              "0                     Solid             Black                        Dark   \n",
              "1                     Solid             White                       Light   \n",
              "2                    Stripe         Off White                 Dusty Light   \n",
              "3                     Solid             Black                        Dark   \n",
              "4                     Solid             White                       Light   \n",
              "\n",
              "  colour_group_name_enc graphical_appearance_name_enc  \\\n",
              "0                     0                             0   \n",
              "1                     1                             0   \n",
              "2                     2                             1   \n",
              "3                     0                             0   \n",
              "4                     1                             0   \n",
              "\n",
              "  perceived_colour_value_name_enc  \n",
              "0                               0  \n",
              "1                               1  \n",
              "2                               2  \n",
              "3                               0  \n",
              "4                               1  "
            ],
            "text/html": [
              "\n",
              "  <div id=\"df-3e5efc15-dcd7-4559-b64b-260df48a7790\">\n",
              "    <div class=\"colab-df-container\">\n",
              "      <div>\n",
              "<style scoped>\n",
              "    .dataframe tbody tr th:only-of-type {\n",
              "        vertical-align: middle;\n",
              "    }\n",
              "\n",
              "    .dataframe tbody tr th {\n",
              "        vertical-align: top;\n",
              "    }\n",
              "\n",
              "    .dataframe thead th {\n",
              "        text-align: right;\n",
              "    }\n",
              "</style>\n",
              "<table border=\"1\" class=\"dataframe\">\n",
              "  <thead>\n",
              "    <tr style=\"text-align: right;\">\n",
              "      <th></th>\n",
              "      <th>prod_name</th>\n",
              "      <th>product_type_name</th>\n",
              "      <th>product_group_name</th>\n",
              "      <th>graphical_appearance_name</th>\n",
              "      <th>colour_group_name</th>\n",
              "      <th>perceived_colour_value_name</th>\n",
              "      <th>colour_group_name_enc</th>\n",
              "      <th>graphical_appearance_name_enc</th>\n",
              "      <th>perceived_colour_value_name_enc</th>\n",
              "    </tr>\n",
              "  </thead>\n",
              "  <tbody>\n",
              "    <tr>\n",
              "      <th>0</th>\n",
              "      <td>Strap top</td>\n",
              "      <td>Vest top</td>\n",
              "      <td>Garment Upper body</td>\n",
              "      <td>Solid</td>\n",
              "      <td>Black</td>\n",
              "      <td>Dark</td>\n",
              "      <td>0</td>\n",
              "      <td>0</td>\n",
              "      <td>0</td>\n",
              "    </tr>\n",
              "    <tr>\n",
              "      <th>1</th>\n",
              "      <td>Strap top</td>\n",
              "      <td>Vest top</td>\n",
              "      <td>Garment Upper body</td>\n",
              "      <td>Solid</td>\n",
              "      <td>White</td>\n",
              "      <td>Light</td>\n",
              "      <td>1</td>\n",
              "      <td>0</td>\n",
              "      <td>1</td>\n",
              "    </tr>\n",
              "    <tr>\n",
              "      <th>2</th>\n",
              "      <td>Strap top (1)</td>\n",
              "      <td>Vest top</td>\n",
              "      <td>Garment Upper body</td>\n",
              "      <td>Stripe</td>\n",
              "      <td>Off White</td>\n",
              "      <td>Dusty Light</td>\n",
              "      <td>2</td>\n",
              "      <td>1</td>\n",
              "      <td>2</td>\n",
              "    </tr>\n",
              "    <tr>\n",
              "      <th>3</th>\n",
              "      <td>OP T-shirt (Idro)</td>\n",
              "      <td>Bra</td>\n",
              "      <td>Underwear</td>\n",
              "      <td>Solid</td>\n",
              "      <td>Black</td>\n",
              "      <td>Dark</td>\n",
              "      <td>0</td>\n",
              "      <td>0</td>\n",
              "      <td>0</td>\n",
              "    </tr>\n",
              "    <tr>\n",
              "      <th>4</th>\n",
              "      <td>OP T-shirt (Idro)</td>\n",
              "      <td>Bra</td>\n",
              "      <td>Underwear</td>\n",
              "      <td>Solid</td>\n",
              "      <td>White</td>\n",
              "      <td>Light</td>\n",
              "      <td>1</td>\n",
              "      <td>0</td>\n",
              "      <td>1</td>\n",
              "    </tr>\n",
              "  </tbody>\n",
              "</table>\n",
              "</div>\n",
              "      <button class=\"colab-df-convert\" onclick=\"convertToInteractive('df-3e5efc15-dcd7-4559-b64b-260df48a7790')\"\n",
              "              title=\"Convert this dataframe to an interactive table.\"\n",
              "              style=\"display:none;\">\n",
              "        \n",
              "  <svg xmlns=\"http://www.w3.org/2000/svg\" height=\"24px\"viewBox=\"0 0 24 24\"\n",
              "       width=\"24px\">\n",
              "    <path d=\"M0 0h24v24H0V0z\" fill=\"none\"/>\n",
              "    <path d=\"M18.56 5.44l.94 2.06.94-2.06 2.06-.94-2.06-.94-.94-2.06-.94 2.06-2.06.94zm-11 1L8.5 8.5l.94-2.06 2.06-.94-2.06-.94L8.5 2.5l-.94 2.06-2.06.94zm10 10l.94 2.06.94-2.06 2.06-.94-2.06-.94-.94-2.06-.94 2.06-2.06.94z\"/><path d=\"M17.41 7.96l-1.37-1.37c-.4-.4-.92-.59-1.43-.59-.52 0-1.04.2-1.43.59L10.3 9.45l-7.72 7.72c-.78.78-.78 2.05 0 2.83L4 21.41c.39.39.9.59 1.41.59.51 0 1.02-.2 1.41-.59l7.78-7.78 2.81-2.81c.8-.78.8-2.07 0-2.86zM5.41 20L4 18.59l7.72-7.72 1.47 1.35L5.41 20z\"/>\n",
              "  </svg>\n",
              "      </button>\n",
              "      \n",
              "  <style>\n",
              "    .colab-df-container {\n",
              "      display:flex;\n",
              "      flex-wrap:wrap;\n",
              "      gap: 12px;\n",
              "    }\n",
              "\n",
              "    .colab-df-convert {\n",
              "      background-color: #E8F0FE;\n",
              "      border: none;\n",
              "      border-radius: 50%;\n",
              "      cursor: pointer;\n",
              "      display: none;\n",
              "      fill: #1967D2;\n",
              "      height: 32px;\n",
              "      padding: 0 0 0 0;\n",
              "      width: 32px;\n",
              "    }\n",
              "\n",
              "    .colab-df-convert:hover {\n",
              "      background-color: #E2EBFA;\n",
              "      box-shadow: 0px 1px 2px rgba(60, 64, 67, 0.3), 0px 1px 3px 1px rgba(60, 64, 67, 0.15);\n",
              "      fill: #174EA6;\n",
              "    }\n",
              "\n",
              "    [theme=dark] .colab-df-convert {\n",
              "      background-color: #3B4455;\n",
              "      fill: #D2E3FC;\n",
              "    }\n",
              "\n",
              "    [theme=dark] .colab-df-convert:hover {\n",
              "      background-color: #434B5C;\n",
              "      box-shadow: 0px 1px 3px 1px rgba(0, 0, 0, 0.15);\n",
              "      filter: drop-shadow(0px 1px 2px rgba(0, 0, 0, 0.3));\n",
              "      fill: #FFFFFF;\n",
              "    }\n",
              "  </style>\n",
              "\n",
              "      <script>\n",
              "        const buttonEl =\n",
              "          document.querySelector('#df-3e5efc15-dcd7-4559-b64b-260df48a7790 button.colab-df-convert');\n",
              "        buttonEl.style.display =\n",
              "          google.colab.kernel.accessAllowed ? 'block' : 'none';\n",
              "\n",
              "        async function convertToInteractive(key) {\n",
              "          const element = document.querySelector('#df-3e5efc15-dcd7-4559-b64b-260df48a7790');\n",
              "          const dataTable =\n",
              "            await google.colab.kernel.invokeFunction('convertToInteractive',\n",
              "                                                     [key], {});\n",
              "          if (!dataTable) return;\n",
              "\n",
              "          const docLinkHtml = 'Like what you see? Visit the ' +\n",
              "            '<a target=\"_blank\" href=https://colab.research.google.com/notebooks/data_table.ipynb>data table notebook</a>'\n",
              "            + ' to learn more about interactive tables.';\n",
              "          element.innerHTML = '';\n",
              "          dataTable['output_type'] = 'display_data';\n",
              "          await google.colab.output.renderOutput(dataTable, element);\n",
              "          const docLink = document.createElement('div');\n",
              "          docLink.innerHTML = docLinkHtml;\n",
              "          element.appendChild(docLink);\n",
              "        }\n",
              "      </script>\n",
              "    </div>\n",
              "  </div>\n",
              "  "
            ]
          },
          "metadata": {},
          "execution_count": 51
        }
      ],
      "source": [
        "##creating dictionaries for attributes \n",
        "colour_dict={v:k for k,v in dict(enumerate(articles['colour_group_name'].unique())).items()}\n",
        "colour_dict['PAD'] = '-1'\n",
        "pattern_dict={v:k for k,v in dict(enumerate(articles['graphical_appearance_name'].unique())).items()}\n",
        "pattern_dict['PAD'] = '-1'\n",
        "intensity_dict={v:k for k,v in dict(enumerate(articles['perceived_colour_value_name'].unique())).items()}\n",
        "intensity_dict['PAD'] = '-1'\n",
        "\n",
        "##creating the reverse of these dictionaries for final decoding\n",
        "reverse_colour_dict={v:k for k,v in colour_dict.items()}\n",
        "reverse_pattern_dict={v:k for k,v in pattern_dict.items()}\n",
        "reverse_intensity_dict={v:k for k,v in intensity_dict.items()}\n",
        "\n",
        "##replacing values in articles with placeholders\n",
        "articles['colour_group_name_enc']=articles['colour_group_name'].apply(lambda x:str(colour_dict[x]))\n",
        "articles['graphical_appearance_name_enc']=articles['graphical_appearance_name'].apply(lambda x:str(pattern_dict[x]))\n",
        "articles['perceived_colour_value_name_enc']=articles['perceived_colour_value_name'].apply(lambda x:str(intensity_dict[x]))\n",
        "dict_cols = {'colour_group_name_enc': colour_dict, 'graphical_appearance_name_enc': pattern_dict, 'perceived_colour_value_name_enc': intensity_dict}\n",
        "\n",
        "##checking the head of the dataset\n",
        "articles.head()"
      ]
    },
    {
      "cell_type": "code",
      "execution_count": null,
      "id": "b6046d77",
      "metadata": {
        "id": "b6046d77"
      },
      "outputs": [],
      "source": [
        "def make_df(ordered_cols):\n",
        "    df=articles\n",
        "    df['query']=df['prod_name']\n",
        "    ##adding attributes to the product name to generate queries\n",
        "    ##reversing ordered_cols\n",
        "    ordered_cols.reverse()\n",
        "    for col in ordered_cols:\n",
        "        df['query']=df[col]+' '+df['query']\n",
        "    ##combining attributes into a single output column\n",
        "    ordered_cols = [col + '_enc' for col in ordered_cols]\n",
        "    cols = ['graphical_appearance_name_enc','perceived_colour_value_name_enc','colour_group_name_enc']\n",
        "    cols.reverse()\n",
        "    df['output'] = ''\n",
        "    for col in cols:\n",
        "      if col in ordered_cols:\n",
        "        df['output'] = df[col] + ' ' + df['output']\n",
        "      else:\n",
        "        df['output'] = dict_cols[col]['PAD'] + ' ' + df['output']\n",
        "    \n",
        "    ##reduce to the input and output columns\n",
        "    df=df[['query','output']]\n",
        "    ##reducing all text to lowercase\n",
        "    for col in df.columns:\n",
        "        df[col]=df[col].apply(lambda x:x.lower())\n",
        "    ##return the created dataframe\n",
        "    return df"
      ]
    },
    {
      "cell_type": "code",
      "execution_count": null,
      "id": "583a6c21",
      "metadata": {
        "colab": {
          "base_uri": "https://localhost:8080/",
          "height": 293
        },
        "id": "583a6c21",
        "outputId": "d905c740-acf2-454f-f0ab-78fe0e8b8dea"
      },
      "outputs": [
        {
          "output_type": "stream",
          "name": "stderr",
          "text": [
            "/usr/local/lib/python3.7/dist-packages/ipykernel_launcher.py:24: SettingWithCopyWarning: \n",
            "A value is trying to be set on a copy of a slice from a DataFrame.\n",
            "Try using .loc[row_indexer,col_indexer] = value instead\n",
            "\n",
            "See the caveats in the documentation: https://pandas.pydata.org/pandas-docs/stable/user_guide/indexing.html#returning-a-view-versus-a-copy\n"
          ]
        },
        {
          "output_type": "execute_result",
          "data": {
            "text/plain": [
              "                     query   output\n",
              "0          solid strap top  0 -1 -1\n",
              "1          solid strap top  0 -1 -1\n",
              "2     stripe strap top (1)  1 -1 -1\n",
              "3  solid op t-shirt (idro)  0 -1 -1\n",
              "4  solid op t-shirt (idro)  0 -1 -1"
            ],
            "text/html": [
              "\n",
              "  <div id=\"df-140ad1c4-5d42-4f06-bdd6-855772a754df\">\n",
              "    <div class=\"colab-df-container\">\n",
              "      <div>\n",
              "<style scoped>\n",
              "    .dataframe tbody tr th:only-of-type {\n",
              "        vertical-align: middle;\n",
              "    }\n",
              "\n",
              "    .dataframe tbody tr th {\n",
              "        vertical-align: top;\n",
              "    }\n",
              "\n",
              "    .dataframe thead th {\n",
              "        text-align: right;\n",
              "    }\n",
              "</style>\n",
              "<table border=\"1\" class=\"dataframe\">\n",
              "  <thead>\n",
              "    <tr style=\"text-align: right;\">\n",
              "      <th></th>\n",
              "      <th>query</th>\n",
              "      <th>output</th>\n",
              "    </tr>\n",
              "  </thead>\n",
              "  <tbody>\n",
              "    <tr>\n",
              "      <th>0</th>\n",
              "      <td>solid strap top</td>\n",
              "      <td>0 -1 -1</td>\n",
              "    </tr>\n",
              "    <tr>\n",
              "      <th>1</th>\n",
              "      <td>solid strap top</td>\n",
              "      <td>0 -1 -1</td>\n",
              "    </tr>\n",
              "    <tr>\n",
              "      <th>2</th>\n",
              "      <td>stripe strap top (1)</td>\n",
              "      <td>1 -1 -1</td>\n",
              "    </tr>\n",
              "    <tr>\n",
              "      <th>3</th>\n",
              "      <td>solid op t-shirt (idro)</td>\n",
              "      <td>0 -1 -1</td>\n",
              "    </tr>\n",
              "    <tr>\n",
              "      <th>4</th>\n",
              "      <td>solid op t-shirt (idro)</td>\n",
              "      <td>0 -1 -1</td>\n",
              "    </tr>\n",
              "  </tbody>\n",
              "</table>\n",
              "</div>\n",
              "      <button class=\"colab-df-convert\" onclick=\"convertToInteractive('df-140ad1c4-5d42-4f06-bdd6-855772a754df')\"\n",
              "              title=\"Convert this dataframe to an interactive table.\"\n",
              "              style=\"display:none;\">\n",
              "        \n",
              "  <svg xmlns=\"http://www.w3.org/2000/svg\" height=\"24px\"viewBox=\"0 0 24 24\"\n",
              "       width=\"24px\">\n",
              "    <path d=\"M0 0h24v24H0V0z\" fill=\"none\"/>\n",
              "    <path d=\"M18.56 5.44l.94 2.06.94-2.06 2.06-.94-2.06-.94-.94-2.06-.94 2.06-2.06.94zm-11 1L8.5 8.5l.94-2.06 2.06-.94-2.06-.94L8.5 2.5l-.94 2.06-2.06.94zm10 10l.94 2.06.94-2.06 2.06-.94-2.06-.94-.94-2.06-.94 2.06-2.06.94z\"/><path d=\"M17.41 7.96l-1.37-1.37c-.4-.4-.92-.59-1.43-.59-.52 0-1.04.2-1.43.59L10.3 9.45l-7.72 7.72c-.78.78-.78 2.05 0 2.83L4 21.41c.39.39.9.59 1.41.59.51 0 1.02-.2 1.41-.59l7.78-7.78 2.81-2.81c.8-.78.8-2.07 0-2.86zM5.41 20L4 18.59l7.72-7.72 1.47 1.35L5.41 20z\"/>\n",
              "  </svg>\n",
              "      </button>\n",
              "      \n",
              "  <style>\n",
              "    .colab-df-container {\n",
              "      display:flex;\n",
              "      flex-wrap:wrap;\n",
              "      gap: 12px;\n",
              "    }\n",
              "\n",
              "    .colab-df-convert {\n",
              "      background-color: #E8F0FE;\n",
              "      border: none;\n",
              "      border-radius: 50%;\n",
              "      cursor: pointer;\n",
              "      display: none;\n",
              "      fill: #1967D2;\n",
              "      height: 32px;\n",
              "      padding: 0 0 0 0;\n",
              "      width: 32px;\n",
              "    }\n",
              "\n",
              "    .colab-df-convert:hover {\n",
              "      background-color: #E2EBFA;\n",
              "      box-shadow: 0px 1px 2px rgba(60, 64, 67, 0.3), 0px 1px 3px 1px rgba(60, 64, 67, 0.15);\n",
              "      fill: #174EA6;\n",
              "    }\n",
              "\n",
              "    [theme=dark] .colab-df-convert {\n",
              "      background-color: #3B4455;\n",
              "      fill: #D2E3FC;\n",
              "    }\n",
              "\n",
              "    [theme=dark] .colab-df-convert:hover {\n",
              "      background-color: #434B5C;\n",
              "      box-shadow: 0px 1px 3px 1px rgba(0, 0, 0, 0.15);\n",
              "      filter: drop-shadow(0px 1px 2px rgba(0, 0, 0, 0.3));\n",
              "      fill: #FFFFFF;\n",
              "    }\n",
              "  </style>\n",
              "\n",
              "      <script>\n",
              "        const buttonEl =\n",
              "          document.querySelector('#df-140ad1c4-5d42-4f06-bdd6-855772a754df button.colab-df-convert');\n",
              "        buttonEl.style.display =\n",
              "          google.colab.kernel.accessAllowed ? 'block' : 'none';\n",
              "\n",
              "        async function convertToInteractive(key) {\n",
              "          const element = document.querySelector('#df-140ad1c4-5d42-4f06-bdd6-855772a754df');\n",
              "          const dataTable =\n",
              "            await google.colab.kernel.invokeFunction('convertToInteractive',\n",
              "                                                     [key], {});\n",
              "          if (!dataTable) return;\n",
              "\n",
              "          const docLinkHtml = 'Like what you see? Visit the ' +\n",
              "            '<a target=\"_blank\" href=https://colab.research.google.com/notebooks/data_table.ipynb>data table notebook</a>'\n",
              "            + ' to learn more about interactive tables.';\n",
              "          element.innerHTML = '';\n",
              "          dataTable['output_type'] = 'display_data';\n",
              "          await google.colab.output.renderOutput(dataTable, element);\n",
              "          const docLink = document.createElement('div');\n",
              "          docLink.innerHTML = docLinkHtml;\n",
              "          element.appendChild(docLink);\n",
              "        }\n",
              "      </script>\n",
              "    </div>\n",
              "  </div>\n",
              "  "
            ]
          },
          "metadata": {},
          "execution_count": 53
        }
      ],
      "source": [
        "##creating combinations\n",
        "set_1=make_df(['graphical_appearance_name'])\n",
        "set_2=make_df(['colour_group_name'])\n",
        "set_3=make_df(['perceived_colour_value_name'])\n",
        "set_4=make_df(['graphical_appearance_name','colour_group_name'])\n",
        "set_5=make_df(['perceived_colour_value_name','colour_group_name'])\n",
        "set_6=make_df(['graphical_appearance_name','perceived_colour_value_name','colour_group_name'])\n",
        "\n",
        "##deleting the articles dataset\n",
        "del(articles)\n",
        "\n",
        "##concatenating all dataframes into a single one\n",
        "data=pd.concat([set_1,set_2,set_3,set_4,set_5,set_6])\n",
        "\n",
        "#resetting index\n",
        "data.reset_index(inplace=True)\n",
        "data.drop('index',axis=1,inplace=True)\n",
        "\n",
        "##deleting all the sets\n",
        "del(set_1,set_2,set_3,set_4,set_5,set_6)\n",
        "\n",
        "data['output'] = data['output'].str.strip()\n",
        "data['query'] = data['query'].str.strip()\n",
        "data.head()"
      ]
    },
    {
      "cell_type": "code",
      "execution_count": null,
      "id": "d983f45f",
      "metadata": {
        "id": "d983f45f"
      },
      "outputs": [],
      "source": [
        "##USING ENCODER-DECODER MODEL"
      ]
    },
    {
      "cell_type": "code",
      "execution_count": null,
      "id": "1a366e14",
      "metadata": {
        "id": "1a366e14"
      },
      "outputs": [],
      "source": [
        "##adding 'start_ ' and ' _end' at the extemities of 'output' so that the decoder knows when the sentence starts and ends\n",
        "data['output']=data['output'].apply(lambda x:'start_ '+x+' _end')\n",
        "\n",
        "##creating vocabularies for both 'query' and 'output'\n",
        "def get_vocab(col):\n",
        "    container=set()\n",
        "    for line in data[col]:\n",
        "        for word in line.split(' '):\n",
        "            if word not in container:\n",
        "                container.add(word)\n",
        "    ##number of tokens for encoder/decoder = number of unique elements in vocab\n",
        "    num_tokens=len(list(container))\n",
        "    ##return vocab and num_tokens\n",
        "    return sorted(list(container)), num_tokens\n",
        "\n",
        "query_vocab,num_encoder_tokens=get_vocab('query')\n",
        "output_vocab,num_decoder_tokens=get_vocab('output')"
      ]
    },
    {
      "cell_type": "code",
      "execution_count": null,
      "id": "34be6e7c",
      "metadata": {
        "id": "34be6e7c"
      },
      "outputs": [],
      "source": [
        "##calculate the maximum lengths of sentences in 'query' and 'output'\n",
        "max_query_len=max(data['query'].apply(lambda x:len(x.split(' '))))\n",
        "max_output_len=max(data['output'].apply(lambda x:len(x.split(' '))))"
      ]
    },
    {
      "cell_type": "code",
      "execution_count": null,
      "id": "24662412",
      "metadata": {
        "id": "24662412"
      },
      "outputs": [],
      "source": [
        "query_token_index = dict([(word, i) for i, word in enumerate(query_vocab)])\n",
        "output_token_index = dict([(word, i) for i, word in enumerate(output_vocab)])"
      ]
    },
    {
      "cell_type": "code",
      "execution_count": null,
      "id": "6545f2a8",
      "metadata": {
        "id": "6545f2a8"
      },
      "outputs": [],
      "source": [
        "encoder_input_data = np.zeros((len(data['query']), max_query_len),dtype='float32')\n",
        "decoder_input_data = np.zeros((len(data['output']), max_output_len),dtype='float32')\n",
        "decoder_target_data = np.zeros((len(data['output']), max_output_len, num_decoder_tokens),dtype='float32')"
      ]
    },
    {
      "cell_type": "code",
      "execution_count": null,
      "id": "bb97cf86",
      "metadata": {
        "id": "bb97cf86"
      },
      "outputs": [],
      "source": [
        "for i,(input_text,target_text) in enumerate(zip(data['query'],data['output'])):\n",
        "    for t,word in enumerate(input_text.split(' ')):\n",
        "        encoder_input_data[i,t]=query_token_index[word]\n",
        "    for t,word in enumerate(target_text.split(' ')):\n",
        "        # decoder_target_data is ahead of decoder_input_data by one timestep\n",
        "        decoder_input_data[i,t]=output_token_index[word]\n",
        "        if t > 0:\n",
        "            # decoder_target_data will be ahead by one timestep\n",
        "            # and will not include the start character.\n",
        "            decoder_target_data[i,t-1,output_token_index[word]]=1"
      ]
    },
    {
      "cell_type": "code",
      "execution_count": null,
      "id": "13e998bf",
      "metadata": {
        "id": "13e998bf"
      },
      "outputs": [],
      "source": [
        "##inmporting libraries for building the model\n",
        "from keras.layers import Input, LSTM, Embedding, Dense\n",
        "from keras.models import Model\n",
        "from keras.utils.vis_utils import plot_model\n",
        "import tensorflow as tf"
      ]
    },
    {
      "cell_type": "code",
      "execution_count": null,
      "id": "a9cd8f50",
      "metadata": {
        "id": "a9cd8f50"
      },
      "outputs": [],
      "source": [
        "##building the encoder\n",
        "\n",
        "encoder_inputs=Input(shape=(None,)) ##input layer for the encoder\n",
        "enx=Embedding(num_encoder_tokens, 64)(encoder_inputs) ##converts integers to embeddings\n",
        "encoder=LSTM(64,return_state=True) ##encoder units for the seq2seq model\n",
        "encoder_outputs,state_h,state_c=encoder(enx) ##extracting states using the LSTM encoder units\n",
        "##we discard `encoder_outputs` and only keep the states\n",
        "##'encoder_outputs' are not required as they are neither inferred nor used by the decoder\n",
        "encoder_states=[state_h,state_c]"
      ]
    },
    {
      "cell_type": "code",
      "execution_count": null,
      "id": "436a9d5e",
      "metadata": {
        "id": "436a9d5e"
      },
      "outputs": [],
      "source": [
        "##building the decoder\n",
        "\n",
        "decoder_inputs=Input(shape=(None,)) ##input layer for the decoder\n",
        "dex=Embedding(num_decoder_tokens,64)\n",
        "final_dex=dex(decoder_inputs)\n",
        "decoder=LSTM(64,return_state=True,return_sequences=True)\n",
        "decoder_outputs,_,_=decoder(final_dex,initial_state=encoder_states)\n",
        "decoder_dense=Dense(num_decoder_tokens,activation='softmax') ##probability output for the decoder outputs\n",
        "decoder_outputs=decoder_dense(decoder_outputs)"
      ]
    },
    {
      "cell_type": "code",
      "execution_count": null,
      "id": "7ee91e18",
      "metadata": {
        "colab": {
          "base_uri": "https://localhost:8080/"
        },
        "id": "7ee91e18",
        "outputId": "0af572b3-8988-4616-a094-ccc15a43c194"
      },
      "outputs": [
        {
          "output_type": "stream",
          "name": "stdout",
          "text": [
            "Model: \"model_1\"\n",
            "__________________________________________________________________________________________________\n",
            " Layer (type)                   Output Shape         Param #     Connected to                     \n",
            "==================================================================================================\n",
            " input_3 (InputLayer)           [(None, None)]       0           []                               \n",
            "                                                                                                  \n",
            " input_4 (InputLayer)           [(None, None)]       0           []                               \n",
            "                                                                                                  \n",
            " embedding_2 (Embedding)        (None, None, 64)     904512      ['input_3[0][0]']                \n",
            "                                                                                                  \n",
            " embedding_3 (Embedding)        (None, None, 64)     3328        ['input_4[0][0]']                \n",
            "                                                                                                  \n",
            " lstm_2 (LSTM)                  [(None, 64),         33024       ['embedding_2[0][0]']            \n",
            "                                 (None, 64),                                                      \n",
            "                                 (None, 64)]                                                      \n",
            "                                                                                                  \n",
            " lstm_3 (LSTM)                  [(None, None, 64),   33024       ['embedding_3[0][0]',            \n",
            "                                 (None, 64),                      'lstm_2[0][1]',                 \n",
            "                                 (None, 64)]                      'lstm_2[0][2]']                 \n",
            "                                                                                                  \n",
            " dense_1 (Dense)                (None, None, 52)     3380        ['lstm_3[0][0]']                 \n",
            "                                                                                                  \n",
            "==================================================================================================\n",
            "Total params: 977,268\n",
            "Trainable params: 977,268\n",
            "Non-trainable params: 0\n",
            "__________________________________________________________________________________________________\n"
          ]
        }
      ],
      "source": [
        "##compiling the model\n",
        "\n",
        "model = Model([encoder_inputs,decoder_inputs], decoder_outputs)\n",
        "model.compile(optimizer='rmsprop', loss='categorical_crossentropy', metrics=['acc'])\n",
        "model.summary()"
      ]
    },
    {
      "cell_type": "code",
      "execution_count": null,
      "id": "fc4a227a",
      "metadata": {
        "colab": {
          "base_uri": "https://localhost:8080/"
        },
        "id": "fc4a227a",
        "outputId": "55deafd2-de63-48fb-f3e6-3d74ba2f815a"
      },
      "outputs": [
        {
          "output_type": "stream",
          "name": "stdout",
          "text": [
            "Epoch 1/10\n",
            "18791/18791 [==============================] - 354s 19ms/step - loss: 0.1663 - acc: 0.9609 - val_loss: 0.0835 - val_acc: 0.9873\n",
            "Epoch 2/10\n",
            "18791/18791 [==============================] - 354s 19ms/step - loss: 0.0280 - acc: 0.9960 - val_loss: 0.0426 - val_acc: 0.9928\n",
            "Epoch 3/10\n",
            "18791/18791 [==============================] - 343s 18ms/step - loss: 0.0181 - acc: 0.9968 - val_loss: 0.0336 - val_acc: 0.9945\n",
            "Epoch 4/10\n",
            "18791/18791 [==============================] - 354s 19ms/step - loss: 0.0164 - acc: 0.9970 - val_loss: 0.0354 - val_acc: 0.9924\n",
            "Epoch 5/10\n",
            "18791/18791 [==============================] - 353s 19ms/step - loss: 0.0141 - acc: 0.9972 - val_loss: 0.0314 - val_acc: 0.9934\n",
            "Epoch 6/10\n",
            "18791/18791 [==============================] - 351s 19ms/step - loss: 0.0130 - acc: 0.9973 - val_loss: 0.0281 - val_acc: 0.9940\n",
            "Epoch 7/10\n",
            "18791/18791 [==============================] - 357s 19ms/step - loss: 0.0122 - acc: 0.9974 - val_loss: 0.0219 - val_acc: 0.9954\n",
            "Epoch 8/10\n",
            "18791/18791 [==============================] - 344s 18ms/step - loss: 0.0116 - acc: 0.9974 - val_loss: 0.0280 - val_acc: 0.9929\n",
            "Epoch 9/10\n",
            "18791/18791 [==============================] - 353s 19ms/step - loss: 0.0112 - acc: 0.9974 - val_loss: 0.0286 - val_acc: 0.9936\n",
            "Epoch 10/10\n",
            "18791/18791 [==============================] - 351s 19ms/step - loss: 0.0112 - acc: 0.9974 - val_loss: 0.0244 - val_acc: 0.9941\n"
          ]
        },
        {
          "output_type": "execute_result",
          "data": {
            "text/plain": [
              "<keras.callbacks.History at 0x7fdaf923a910>"
            ]
          },
          "metadata": {},
          "execution_count": 68
        }
      ],
      "source": [
        "model.fit([encoder_input_data, decoder_input_data], decoder_target_data,\n",
        "          batch_size=32,\n",
        "          epochs=10,\n",
        "          validation_split=0.05)"
      ]
    },
    {
      "cell_type": "code",
      "execution_count": null,
      "id": "ef496ba1",
      "metadata": {
        "colab": {
          "base_uri": "https://localhost:8080/"
        },
        "id": "ef496ba1",
        "outputId": "368a56dd-c417-48a6-d400-6b7cdadf5190"
      },
      "outputs": [
        {
          "output_type": "stream",
          "name": "stderr",
          "text": [
            "WARNING:absl:Found untraced functions such as lstm_cell_layer_call_fn, lstm_cell_layer_call_and_return_conditional_losses, lstm_cell_1_layer_call_fn, lstm_cell_1_layer_call_and_return_conditional_losses while saving (showing 4 of 4). These functions will not be directly callable after loading.\n"
          ]
        },
        {
          "output_type": "stream",
          "name": "stdout",
          "text": [
            "INFO:tensorflow:Assets written to: seq2seq_lstm/assets\n"
          ]
        },
        {
          "output_type": "stream",
          "name": "stderr",
          "text": [
            "INFO:tensorflow:Assets written to: seq2seq_lstm/assets\n",
            "WARNING:absl:<keras.layers.recurrent.LSTMCell object at 0x7fa0703e6bd0> has the same name 'LSTMCell' as a built-in Keras object. Consider renaming <class 'keras.layers.recurrent.LSTMCell'> to avoid naming conflicts when loading with `tf.keras.models.load_model`. If renaming is not possible, pass the object in the `custom_objects` parameter of the load function.\n",
            "WARNING:absl:<keras.layers.recurrent.LSTMCell object at 0x7fa06cdf15d0> has the same name 'LSTMCell' as a built-in Keras object. Consider renaming <class 'keras.layers.recurrent.LSTMCell'> to avoid naming conflicts when loading with `tf.keras.models.load_model`. If renaming is not possible, pass the object in the `custom_objects` parameter of the load function.\n"
          ]
        }
      ],
      "source": [
        "##saving the trained model\n",
        "model.save('seq2seq_lstm')"
      ]
    },
    {
      "cell_type": "code",
      "execution_count": null,
      "id": "829dfc7f",
      "metadata": {
        "id": "829dfc7f"
      },
      "outputs": [],
      "source": [
        "##decoding sequences back to text"
      ]
    },
    {
      "cell_type": "code",
      "execution_count": null,
      "id": "05a06413",
      "metadata": {
        "colab": {
          "base_uri": "https://localhost:8080/"
        },
        "id": "05a06413",
        "outputId": "f13d2e03-a89c-40e7-a6a8-04080ae767bc"
      },
      "outputs": [
        {
          "output_type": "stream",
          "name": "stdout",
          "text": [
            "Model: \"model_4\"\n",
            "_________________________________________________________________\n",
            " Layer (type)                Output Shape              Param #   \n",
            "=================================================================\n",
            " input_3 (InputLayer)        [(None, None)]            0         \n",
            "                                                                 \n",
            " embedding_2 (Embedding)     (None, None, 64)          904512    \n",
            "                                                                 \n",
            " lstm_2 (LSTM)               [(None, 64),              33024     \n",
            "                              (None, 64),                        \n",
            "                              (None, 64)]                        \n",
            "                                                                 \n",
            "=================================================================\n",
            "Total params: 937,536\n",
            "Trainable params: 937,536\n",
            "Non-trainable params: 0\n",
            "_________________________________________________________________\n"
          ]
        }
      ],
      "source": [
        "##creating encoder model\n",
        "encoder_model=Model(encoder_inputs,encoder_states)\n",
        "encoder_model.summary()"
      ]
    },
    {
      "cell_type": "code",
      "source": [
        "encoder_model.save('seq2seq_lstm_enc.h5')"
      ],
      "metadata": {
        "colab": {
          "base_uri": "https://localhost:8080/"
        },
        "id": "5AysWdqROt3N",
        "outputId": "b1715d8f-1b3f-4850-add2-c95134513d62"
      },
      "id": "5AysWdqROt3N",
      "execution_count": null,
      "outputs": [
        {
          "output_type": "stream",
          "name": "stdout",
          "text": [
            "WARNING:tensorflow:Compiled the loaded model, but the compiled metrics have yet to be built. `model.compile_metrics` will be empty until you train or evaluate the model.\n"
          ]
        },
        {
          "output_type": "stream",
          "name": "stderr",
          "text": [
            "WARNING:tensorflow:Compiled the loaded model, but the compiled metrics have yet to be built. `model.compile_metrics` will be empty until you train or evaluate the model.\n"
          ]
        }
      ]
    },
    {
      "cell_type": "code",
      "execution_count": null,
      "id": "e2353cdd",
      "metadata": {
        "colab": {
          "base_uri": "https://localhost:8080/"
        },
        "id": "e2353cdd",
        "outputId": "c29cd502-dabc-487d-f6c8-5022821f649f"
      },
      "outputs": [
        {
          "output_type": "stream",
          "name": "stdout",
          "text": [
            "Model: \"model_5\"\n",
            "__________________________________________________________________________________________________\n",
            " Layer (type)                   Output Shape         Param #     Connected to                     \n",
            "==================================================================================================\n",
            " input_4 (InputLayer)           [(None, None)]       0           []                               \n",
            "                                                                                                  \n",
            " embedding_3 (Embedding)        (None, None, 64)     3328        ['input_4[0][0]']                \n",
            "                                                                                                  \n",
            " input_7 (InputLayer)           [(None, 64)]         0           []                               \n",
            "                                                                                                  \n",
            " input_8 (InputLayer)           [(None, 64)]         0           []                               \n",
            "                                                                                                  \n",
            " lstm_3 (LSTM)                  [(None, None, 64),   33024       ['embedding_3[2][0]',            \n",
            "                                 (None, 64),                      'input_7[0][0]',                \n",
            "                                 (None, 64)]                      'input_8[0][0]']                \n",
            "                                                                                                  \n",
            " dense_1 (Dense)                (None, None, 52)     3380        ['lstm_3[2][0]']                 \n",
            "                                                                                                  \n",
            "==================================================================================================\n",
            "Total params: 39,732\n",
            "Trainable params: 39,732\n",
            "Non-trainable params: 0\n",
            "__________________________________________________________________________________________________\n"
          ]
        }
      ],
      "source": [
        "##creating decoder model\n",
        "decoder_state_input_h=Input(shape=(64,)) ##takes state_h values from the encoder model\n",
        "decoder_state_input_c=Input(shape=(64,)) ##takes state_c values from the encoder model\n",
        "decoder_states_inputs=[decoder_state_input_h,decoder_state_input_c]\n",
        "\n",
        "final_dex2=dex(decoder_inputs) ##embedding the input received by the decoder\n",
        "\n",
        "decoder_outputs2,state_h2,state_c2=decoder(final_dex2,initial_state=decoder_states_inputs)\n",
        "decoder_states2=[state_h2,state_c2]\n",
        "decoder_outputs2=decoder_dense(decoder_outputs2)\n",
        "\n",
        "decoder_model=Model(([decoder_inputs],decoder_states_inputs),([decoder_outputs2],decoder_states2))\n",
        "decoder_model.summary()"
      ]
    },
    {
      "cell_type": "code",
      "source": [
        "decoder_model.save('seq2seq_lstm_dec.h5')"
      ],
      "metadata": {
        "colab": {
          "base_uri": "https://localhost:8080/"
        },
        "id": "KL6V25flO4CS",
        "outputId": "022ac4ab-8cdc-4fe6-db9f-e85323e1db34"
      },
      "id": "KL6V25flO4CS",
      "execution_count": null,
      "outputs": [
        {
          "output_type": "stream",
          "name": "stdout",
          "text": [
            "WARNING:tensorflow:Compiled the loaded model, but the compiled metrics have yet to be built. `model.compile_metrics` will be empty until you train or evaluate the model.\n"
          ]
        },
        {
          "output_type": "stream",
          "name": "stderr",
          "text": [
            "WARNING:tensorflow:Compiled the loaded model, but the compiled metrics have yet to be built. `model.compile_metrics` will be empty until you train or evaluate the model.\n"
          ]
        }
      ]
    },
    {
      "cell_type": "code",
      "source": [
        "# Loading models\n",
        "encoder_model = tf.keras.models.load_model('seq2seq_lstm_enc.h5')\n",
        "decoder_model = tf.keras.models.load_model('seq2seq_lstm_dec.h5')"
      ],
      "metadata": {
        "colab": {
          "base_uri": "https://localhost:8080/"
        },
        "id": "y68C_gPYPHDW",
        "outputId": "fe719f24-828d-4c7d-fa74-ae311e6358dd"
      },
      "id": "y68C_gPYPHDW",
      "execution_count": null,
      "outputs": [
        {
          "output_type": "stream",
          "name": "stdout",
          "text": [
            "WARNING:tensorflow:No training configuration found in the save file, so the model was *not* compiled. Compile it manually.\n"
          ]
        },
        {
          "output_type": "stream",
          "name": "stderr",
          "text": [
            "WARNING:tensorflow:No training configuration found in the save file, so the model was *not* compiled. Compile it manually.\n"
          ]
        },
        {
          "output_type": "stream",
          "name": "stdout",
          "text": [
            "WARNING:tensorflow:No training configuration found in the save file, so the model was *not* compiled. Compile it manually.\n"
          ]
        },
        {
          "output_type": "stream",
          "name": "stderr",
          "text": [
            "WARNING:tensorflow:No training configuration found in the save file, so the model was *not* compiled. Compile it manually.\n"
          ]
        }
      ]
    },
    {
      "cell_type": "code",
      "execution_count": null,
      "id": "943418ae",
      "metadata": {
        "id": "943418ae"
      },
      "outputs": [],
      "source": [
        "##creating reverse token dictionaries\n",
        "reverse_query_token_index={v:k for k,v in query_token_index.items()}\n",
        "reverse_output_token_index={v:k for k,v in output_token_index.items()}"
      ]
    },
    {
      "cell_type": "code",
      "execution_count": null,
      "id": "b35e0a5f",
      "metadata": {
        "id": "b35e0a5f"
      },
      "outputs": [],
      "source": [
        "##function to get encoder input for a sentence\n",
        "def get_encoder_input():\n",
        "    seq=input().split(' ')\n",
        "    encoder_input_data=np.zeros(max_query_len)\n",
        "    for i in range(len(seq)):\n",
        "        if seq[i] not in query_token_index.keys():\n",
        "            encoder_input_data[i]=0\n",
        "        else:\n",
        "            encoder_input_data[i]=query_token_index[seq[i]]\n",
        "    return np.array([encoder_input_data])"
      ]
    },
    {
      "cell_type": "code",
      "execution_count": null,
      "id": "6a4b51cb",
      "metadata": {
        "id": "6a4b51cb"
      },
      "outputs": [],
      "source": [
        "##function to decode sequences\n",
        "def decode_seq():\n",
        "    ##taking input sequence from the user\n",
        "    input_seq=get_encoder_input()\n",
        "    ##encoder_input_seq=np.zeros(1,max_query_len),dtype='float32')\n",
        "    #encode the input as state vectors.\n",
        "    states_value=encoder_model.predict(input_seq)\n",
        "    #generate empty target sequence of length 1\n",
        "    target_seq=np.zeros((1,1))\n",
        "    #populate the first character of target sequence with the start character.\n",
        "    target_seq[0,0]=output_token_index['start_']\n",
        "    #sampling loop for a batch of sequences\n",
        "    #(to simplify, here we assume a batch of size 1).\n",
        "    stop_condition=False\n",
        "    decoded_sentence=''\n",
        "    while not stop_condition:\n",
        "        [output_tokens],_states=decoder_model.predict(([target_seq],states_value))\n",
        "        #sample a token\n",
        "        sampled_token_index=np.argmax(output_tokens[0, -1, :])\n",
        "        sampled_char=reverse_output_token_index[sampled_token_index]\n",
        "        decoded_sentence += ' '+sampled_char\n",
        "        \n",
        "        #exit condition: either hit max length\n",
        "        #or find stop character\n",
        "        if (sampled_char == '_end' or\n",
        "           len(decoded_sentence.split(' '))>5):\n",
        "            stop_condition=True\n",
        "            \n",
        "        #update the target sequence (of length 1)\n",
        "        target_seq=np.zeros((1,1))\n",
        "        target_seq[0, 0]=sampled_token_index\n",
        "        \n",
        "        #update states\n",
        "        states_value=[_states[0],_states[1]]\n",
        "        \n",
        "    [pattern_token,intensity_token, colour_token]=decoded_sentence.split(' ')[1:4]\n",
        "    \n",
        "    token_info = [(pattern_token, pattern_dict, 'graphical_appearance_name', reverse_pattern_dict), (intensity_token, intensity_dict, 'perceived_colour_value_name', reverse_intensity_dict), (colour_token, colour_dict, 'colour_group_name', reverse_colour_dict)]\n",
        "    output_dict = {}  \n",
        "    for att in token_info:\n",
        "      if att[0] == att[1]['PAD']:\n",
        "        continue\n",
        "      else:\n",
        "        output_dict[att[2]] = att[3][int(att[0])]\n",
        "    \n",
        "    return output_dict"
      ]
    },
    {
      "cell_type": "code",
      "execution_count": null,
      "id": "c4d1c4ef",
      "metadata": {
        "colab": {
          "base_uri": "https://localhost:8080/"
        },
        "id": "c4d1c4ef",
        "outputId": "5d676884-48f8-4689-f020-47e753e0aa5e"
      },
      "outputs": [
        {
          "name": "stdout",
          "output_type": "stream",
          "text": [
            "men solid black shirt\n"
          ]
        },
        {
          "output_type": "execute_result",
          "data": {
            "text/plain": [
              "{'colour_group_name': 'Black', 'graphical_appearance_name': 'Solid'}"
            ]
          },
          "metadata": {},
          "execution_count": 91
        }
      ],
      "source": [
        "decode_seq()"
      ]
    },
    {
      "cell_type": "code",
      "execution_count": null,
      "id": "4251a2f6",
      "metadata": {
        "colab": {
          "base_uri": "https://localhost:8080/"
        },
        "id": "4251a2f6",
        "outputId": "166e98da-1f3e-411a-ca0a-f2c8fe34229a"
      },
      "outputs": [
        {
          "name": "stdout",
          "output_type": "stream",
          "text": [
            "blue denim pants\n"
          ]
        },
        {
          "output_type": "execute_result",
          "data": {
            "text/plain": [
              "{'colour_group_name': 'Blue', 'graphical_appearance_name': 'Denim'}"
            ]
          },
          "metadata": {},
          "execution_count": 92
        }
      ],
      "source": [
        "decode_seq()"
      ]
    },
    {
      "cell_type": "code",
      "execution_count": null,
      "id": "e1454a2c",
      "metadata": {
        "colab": {
          "base_uri": "https://localhost:8080/"
        },
        "id": "e1454a2c",
        "outputId": "14f92277-964d-4db7-b153-e4e7d10f75eb"
      },
      "outputs": [
        {
          "name": "stdout",
          "output_type": "stream",
          "text": [
            "white solid jacket\n"
          ]
        },
        {
          "output_type": "execute_result",
          "data": {
            "text/plain": [
              "{'colour_group_name': 'White', 'graphical_appearance_name': 'Solid'}"
            ]
          },
          "metadata": {},
          "execution_count": 93
        }
      ],
      "source": [
        "decode_seq()"
      ]
    },
    {
      "cell_type": "code",
      "execution_count": null,
      "id": "a9cf32c1",
      "metadata": {
        "colab": {
          "base_uri": "https://localhost:8080/"
        },
        "id": "a9cf32c1",
        "outputId": "294fbc6e-6830-4203-8bfd-e6c13634529c"
      },
      "outputs": [
        {
          "name": "stdout",
          "output_type": "stream",
          "text": [
            "red coloured dress\n"
          ]
        },
        {
          "output_type": "execute_result",
          "data": {
            "text/plain": [
              "{'colour_group_name': 'Red'}"
            ]
          },
          "metadata": {},
          "execution_count": 95
        }
      ],
      "source": [
        "decode_seq()"
      ]
    },
    {
      "cell_type": "code",
      "execution_count": null,
      "id": "6b8510d4",
      "metadata": {
        "colab": {
          "base_uri": "https://localhost:8080/"
        },
        "id": "6b8510d4",
        "outputId": "8a5b81bd-8e66-43ec-f2fa-d1207bb998dc"
      },
      "outputs": [
        {
          "name": "stdout",
          "output_type": "stream",
          "text": [
            "light striped jacket\n"
          ]
        },
        {
          "output_type": "execute_result",
          "data": {
            "text/plain": [
              "{'perceived_colour_value_name': 'Light'}"
            ]
          },
          "metadata": {},
          "execution_count": 94
        }
      ],
      "source": [
        "decode_seq()"
      ]
    },
    {
      "cell_type": "raw",
      "id": "7808b452",
      "metadata": {
        "id": "7808b452"
      },
      "source": [
        "##splitting data into train and test sets\n",
        "from sklearn.model_selection import StratifiedShuffleSplit\n",
        "\n",
        "##creating feature and target sets\n",
        "X=data['query']\n",
        "y=data['output']\n",
        "\n",
        "##instantiating\n",
        "sss=StratifiedShuffleSplit(test_size=0.2,random_state=42)\n",
        "\n",
        "##creating train and test sets\n",
        "train_idx,test_idx=next(sss.split(X,y))\n",
        "X_train,X_test,y_train,y_test=X.iloc[train_idx],X.iloc[test_idx],y.iloc[train_idx],y.iloc[test_idx]"
      ]
    },
    {
      "cell_type": "markdown",
      "id": "64800bce",
      "metadata": {
        "id": "64800bce"
      },
      "source": [
        "##tokenizing the text data\n",
        "from keras.preprocessing.text import Tokenizer\n",
        "\n",
        "##instantiating and fitting the query tokenizer\n",
        "query_tokenizer=Tokenizer(num_words=100000,lower=True)\n",
        "query_tokenizer.fit_on_texts(X_train)\n",
        "\n",
        "##tokeinizng the query\n",
        "X_train=query_tokenizer.texts_to_sequences(X_train)\n",
        "X_test=query_tokenizer.texts_to_sequences(X_test)\n",
        "\n",
        "##instantiating and fitting the output tokenizer\n",
        "output_tokenizer=Tokenizer(num_words=100000,lower=True)\n",
        "output_tokenizer.fit_on_texts(y_train)\n",
        "\n",
        "##tokeinizng the query\n",
        "y_train=output_tokenizer.texts_to_sequences(y_train)\n",
        "y_test=output_tokenizer.texts_to_sequences(y_test)"
      ]
    },
    {
      "cell_type": "markdown",
      "id": "c3b3de7b",
      "metadata": {
        "id": "c3b3de7b"
      },
      "source": [
        "##padding the query and ouput\n",
        "from keras.utils import pad_sequences\n",
        "\n",
        "query_length=15 ##max length of query\n",
        "output_length=7 ##max length of output\n",
        "\n",
        "X_train=pad_sequences(X_train,padding='post',maxlen=query_length)\n",
        "X_test=pad_sequences(X_test,padding='post',maxlen=query_length)\n",
        "\n",
        "y_train=pad_sequences(y_train,padding='post',maxlen=output_length)\n",
        "y_test=pad_sequences(y_test,padding='post',maxlen=output_length)"
      ]
    }
  ],
  "metadata": {
    "kernelspec": {
      "display_name": "Python 3 (ipykernel)",
      "language": "python",
      "name": "python3"
    },
    "language_info": {
      "codemirror_mode": {
        "name": "ipython",
        "version": 3
      },
      "file_extension": ".py",
      "mimetype": "text/x-python",
      "name": "python",
      "nbconvert_exporter": "python",
      "pygments_lexer": "ipython3",
      "version": "3.9.12"
    },
    "colab": {
      "name": "seq2seq_lstm_att_identification.ipynb",
      "provenance": [],
      "collapsed_sections": [
        "7808b452",
        "64800bce",
        "c3b3de7b"
      ]
    }
  },
  "nbformat": 4,
  "nbformat_minor": 5
}