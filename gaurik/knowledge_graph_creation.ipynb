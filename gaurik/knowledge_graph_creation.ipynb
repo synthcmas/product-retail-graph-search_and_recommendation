{
  "nbformat": 4,
  "nbformat_minor": 0,
  "metadata": {
    "colab": {
      "name": "GREMLIN_LOAD_FORMAT.ipynb",
      "provenance": [],
      "collapsed_sections": [],
      "toc_visible": true
    },
    "kernelspec": {
      "name": "python3",
      "display_name": "Python 3"
    },
    "language_info": {
      "name": "python"
    }
  },
  "cells": [
    {
      "cell_type": "markdown",
      "source": [
        "# Importing packages"
      ],
      "metadata": {
        "id": "NEk5N3wPFUSi"
      }
    },
    {
      "cell_type": "code",
      "execution_count": 62,
      "metadata": {
        "id": "YzornfWyqLln"
      },
      "outputs": [],
      "source": [
        "# from google.colab import drive\n",
        "import pandas as pd\n",
        "# import os\n",
        "import numpy as np\n",
        "import math\n",
        "import pickle"
      ]
    },
    {
      "cell_type": "code",
      "source": [
        "# drive.mount('/content/drive')\n",
        "# os.chdir('/content/drive/MyDrive/')"
      ],
      "metadata": {
        "colab": {
          "base_uri": "https://localhost:8080/"
        },
        "id": "4WuZ33V4rFqP",
        "outputId": "168fb1c7-e970-46f7-880b-2a07a831bc73"
      },
      "execution_count": 4,
      "outputs": [
        {
          "output_type": "stream",
          "name": "stdout",
          "text": [
            "Mounted at /content/drive\n"
          ]
        }
      ]
    },
    {
      "cell_type": "markdown",
      "source": [
        "# Reading data"
      ],
      "metadata": {
        "id": "W_du5rAiFZPP"
      }
    },
    {
      "cell_type": "code",
      "source": [
        "df_a = pd.read_csv('articles.csv')"
      ],
      "metadata": {
        "id": "EfjyeJrDqUEF"
      },
      "execution_count": 5,
      "outputs": []
    },
    {
      "cell_type": "code",
      "source": [
        "df_a.head(5)"
      ],
      "metadata": {
        "colab": {
          "base_uri": "https://localhost:8080/",
          "height": 530
        },
        "id": "inyl_Qitq_ZR",
        "outputId": "e41482e1-3cf7-4c9c-fb3b-b203b24a4f31"
      },
      "execution_count": 63,
      "outputs": [
        {
          "output_type": "execute_result",
          "data": {
            "text/plain": [
              "   article_id          prod_name  product_code product_type_name  \\\n",
              "0   108775015          Strap top        108775          Vest top   \n",
              "1   108775044          Strap top        108775          Vest top   \n",
              "2   108775051      Strap top (1)        108775          Vest top   \n",
              "3   110065001  OP T-shirt (Idro)        110065               Bra   \n",
              "4   110065002  OP T-shirt (Idro)        110065               Bra   \n",
              "\n",
              "  department_name garment_group_name  product_group_name  \\\n",
              "0    Jersey Basic       Jersey Basic  Garment Upper body   \n",
              "1    Jersey Basic       Jersey Basic  Garment Upper body   \n",
              "2    Jersey Basic       Jersey Basic  Garment Upper body   \n",
              "3  Clean Lingerie  Under-, Nightwear           Underwear   \n",
              "4  Clean Lingerie  Under-, Nightwear           Underwear   \n",
              "\n",
              "             section_name index_group_name colour_group_name  \\\n",
              "0  Womens Everyday Basics       Ladieswear             Black   \n",
              "1  Womens Everyday Basics       Ladieswear             White   \n",
              "2  Womens Everyday Basics       Ladieswear         Off White   \n",
              "3         Womens Lingerie       Ladieswear             Black   \n",
              "4         Womens Lingerie       Ladieswear             White   \n",
              "\n",
              "  perceived_colour_master_name perceived_colour_value_name  \\\n",
              "0                        Black                        Dark   \n",
              "1                        White                       Light   \n",
              "2                        White                 Dusty Light   \n",
              "3                        Black                        Dark   \n",
              "4                        White                       Light   \n",
              "\n",
              "  graphical_appearance_name                                        detail_desc  \n",
              "0                     Solid            Jersey top with narrow shoulder straps.  \n",
              "1                     Solid            Jersey top with narrow shoulder straps.  \n",
              "2                    Stripe            Jersey top with narrow shoulder straps.  \n",
              "3                     Solid  Microfibre T-shirt bra with underwired, moulde...  \n",
              "4                     Solid  Microfibre T-shirt bra with underwired, moulde...  "
            ],
            "text/html": [
              "\n",
              "  <div id=\"df-0c0b9740-73ce-4e77-8412-d4d19044e5ba\">\n",
              "    <div class=\"colab-df-container\">\n",
              "      <div>\n",
              "<style scoped>\n",
              "    .dataframe tbody tr th:only-of-type {\n",
              "        vertical-align: middle;\n",
              "    }\n",
              "\n",
              "    .dataframe tbody tr th {\n",
              "        vertical-align: top;\n",
              "    }\n",
              "\n",
              "    .dataframe thead th {\n",
              "        text-align: right;\n",
              "    }\n",
              "</style>\n",
              "<table border=\"1\" class=\"dataframe\">\n",
              "  <thead>\n",
              "    <tr style=\"text-align: right;\">\n",
              "      <th></th>\n",
              "      <th>article_id</th>\n",
              "      <th>prod_name</th>\n",
              "      <th>product_code</th>\n",
              "      <th>product_type_name</th>\n",
              "      <th>department_name</th>\n",
              "      <th>garment_group_name</th>\n",
              "      <th>product_group_name</th>\n",
              "      <th>section_name</th>\n",
              "      <th>index_group_name</th>\n",
              "      <th>colour_group_name</th>\n",
              "      <th>perceived_colour_master_name</th>\n",
              "      <th>perceived_colour_value_name</th>\n",
              "      <th>graphical_appearance_name</th>\n",
              "      <th>detail_desc</th>\n",
              "    </tr>\n",
              "  </thead>\n",
              "  <tbody>\n",
              "    <tr>\n",
              "      <th>0</th>\n",
              "      <td>108775015</td>\n",
              "      <td>Strap top</td>\n",
              "      <td>108775</td>\n",
              "      <td>Vest top</td>\n",
              "      <td>Jersey Basic</td>\n",
              "      <td>Jersey Basic</td>\n",
              "      <td>Garment Upper body</td>\n",
              "      <td>Womens Everyday Basics</td>\n",
              "      <td>Ladieswear</td>\n",
              "      <td>Black</td>\n",
              "      <td>Black</td>\n",
              "      <td>Dark</td>\n",
              "      <td>Solid</td>\n",
              "      <td>Jersey top with narrow shoulder straps.</td>\n",
              "    </tr>\n",
              "    <tr>\n",
              "      <th>1</th>\n",
              "      <td>108775044</td>\n",
              "      <td>Strap top</td>\n",
              "      <td>108775</td>\n",
              "      <td>Vest top</td>\n",
              "      <td>Jersey Basic</td>\n",
              "      <td>Jersey Basic</td>\n",
              "      <td>Garment Upper body</td>\n",
              "      <td>Womens Everyday Basics</td>\n",
              "      <td>Ladieswear</td>\n",
              "      <td>White</td>\n",
              "      <td>White</td>\n",
              "      <td>Light</td>\n",
              "      <td>Solid</td>\n",
              "      <td>Jersey top with narrow shoulder straps.</td>\n",
              "    </tr>\n",
              "    <tr>\n",
              "      <th>2</th>\n",
              "      <td>108775051</td>\n",
              "      <td>Strap top (1)</td>\n",
              "      <td>108775</td>\n",
              "      <td>Vest top</td>\n",
              "      <td>Jersey Basic</td>\n",
              "      <td>Jersey Basic</td>\n",
              "      <td>Garment Upper body</td>\n",
              "      <td>Womens Everyday Basics</td>\n",
              "      <td>Ladieswear</td>\n",
              "      <td>Off White</td>\n",
              "      <td>White</td>\n",
              "      <td>Dusty Light</td>\n",
              "      <td>Stripe</td>\n",
              "      <td>Jersey top with narrow shoulder straps.</td>\n",
              "    </tr>\n",
              "    <tr>\n",
              "      <th>3</th>\n",
              "      <td>110065001</td>\n",
              "      <td>OP T-shirt (Idro)</td>\n",
              "      <td>110065</td>\n",
              "      <td>Bra</td>\n",
              "      <td>Clean Lingerie</td>\n",
              "      <td>Under-, Nightwear</td>\n",
              "      <td>Underwear</td>\n",
              "      <td>Womens Lingerie</td>\n",
              "      <td>Ladieswear</td>\n",
              "      <td>Black</td>\n",
              "      <td>Black</td>\n",
              "      <td>Dark</td>\n",
              "      <td>Solid</td>\n",
              "      <td>Microfibre T-shirt bra with underwired, moulde...</td>\n",
              "    </tr>\n",
              "    <tr>\n",
              "      <th>4</th>\n",
              "      <td>110065002</td>\n",
              "      <td>OP T-shirt (Idro)</td>\n",
              "      <td>110065</td>\n",
              "      <td>Bra</td>\n",
              "      <td>Clean Lingerie</td>\n",
              "      <td>Under-, Nightwear</td>\n",
              "      <td>Underwear</td>\n",
              "      <td>Womens Lingerie</td>\n",
              "      <td>Ladieswear</td>\n",
              "      <td>White</td>\n",
              "      <td>White</td>\n",
              "      <td>Light</td>\n",
              "      <td>Solid</td>\n",
              "      <td>Microfibre T-shirt bra with underwired, moulde...</td>\n",
              "    </tr>\n",
              "  </tbody>\n",
              "</table>\n",
              "</div>\n",
              "      <button class=\"colab-df-convert\" onclick=\"convertToInteractive('df-0c0b9740-73ce-4e77-8412-d4d19044e5ba')\"\n",
              "              title=\"Convert this dataframe to an interactive table.\"\n",
              "              style=\"display:none;\">\n",
              "        \n",
              "  <svg xmlns=\"http://www.w3.org/2000/svg\" height=\"24px\"viewBox=\"0 0 24 24\"\n",
              "       width=\"24px\">\n",
              "    <path d=\"M0 0h24v24H0V0z\" fill=\"none\"/>\n",
              "    <path d=\"M18.56 5.44l.94 2.06.94-2.06 2.06-.94-2.06-.94-.94-2.06-.94 2.06-2.06.94zm-11 1L8.5 8.5l.94-2.06 2.06-.94-2.06-.94L8.5 2.5l-.94 2.06-2.06.94zm10 10l.94 2.06.94-2.06 2.06-.94-2.06-.94-.94-2.06-.94 2.06-2.06.94z\"/><path d=\"M17.41 7.96l-1.37-1.37c-.4-.4-.92-.59-1.43-.59-.52 0-1.04.2-1.43.59L10.3 9.45l-7.72 7.72c-.78.78-.78 2.05 0 2.83L4 21.41c.39.39.9.59 1.41.59.51 0 1.02-.2 1.41-.59l7.78-7.78 2.81-2.81c.8-.78.8-2.07 0-2.86zM5.41 20L4 18.59l7.72-7.72 1.47 1.35L5.41 20z\"/>\n",
              "  </svg>\n",
              "      </button>\n",
              "      \n",
              "  <style>\n",
              "    .colab-df-container {\n",
              "      display:flex;\n",
              "      flex-wrap:wrap;\n",
              "      gap: 12px;\n",
              "    }\n",
              "\n",
              "    .colab-df-convert {\n",
              "      background-color: #E8F0FE;\n",
              "      border: none;\n",
              "      border-radius: 50%;\n",
              "      cursor: pointer;\n",
              "      display: none;\n",
              "      fill: #1967D2;\n",
              "      height: 32px;\n",
              "      padding: 0 0 0 0;\n",
              "      width: 32px;\n",
              "    }\n",
              "\n",
              "    .colab-df-convert:hover {\n",
              "      background-color: #E2EBFA;\n",
              "      box-shadow: 0px 1px 2px rgba(60, 64, 67, 0.3), 0px 1px 3px 1px rgba(60, 64, 67, 0.15);\n",
              "      fill: #174EA6;\n",
              "    }\n",
              "\n",
              "    [theme=dark] .colab-df-convert {\n",
              "      background-color: #3B4455;\n",
              "      fill: #D2E3FC;\n",
              "    }\n",
              "\n",
              "    [theme=dark] .colab-df-convert:hover {\n",
              "      background-color: #434B5C;\n",
              "      box-shadow: 0px 1px 3px 1px rgba(0, 0, 0, 0.15);\n",
              "      filter: drop-shadow(0px 1px 2px rgba(0, 0, 0, 0.3));\n",
              "      fill: #FFFFFF;\n",
              "    }\n",
              "  </style>\n",
              "\n",
              "      <script>\n",
              "        const buttonEl =\n",
              "          document.querySelector('#df-0c0b9740-73ce-4e77-8412-d4d19044e5ba button.colab-df-convert');\n",
              "        buttonEl.style.display =\n",
              "          google.colab.kernel.accessAllowed ? 'block' : 'none';\n",
              "\n",
              "        async function convertToInteractive(key) {\n",
              "          const element = document.querySelector('#df-0c0b9740-73ce-4e77-8412-d4d19044e5ba');\n",
              "          const dataTable =\n",
              "            await google.colab.kernel.invokeFunction('convertToInteractive',\n",
              "                                                     [key], {});\n",
              "          if (!dataTable) return;\n",
              "\n",
              "          const docLinkHtml = 'Like what you see? Visit the ' +\n",
              "            '<a target=\"_blank\" href=https://colab.research.google.com/notebooks/data_table.ipynb>data table notebook</a>'\n",
              "            + ' to learn more about interactive tables.';\n",
              "          element.innerHTML = '';\n",
              "          dataTable['output_type'] = 'display_data';\n",
              "          await google.colab.output.renderOutput(dataTable, element);\n",
              "          const docLink = document.createElement('div');\n",
              "          docLink.innerHTML = docLinkHtml;\n",
              "          element.appendChild(docLink);\n",
              "        }\n",
              "      </script>\n",
              "    </div>\n",
              "  </div>\n",
              "  "
            ]
          },
          "metadata": {},
          "execution_count": 63
        }
      ]
    },
    {
      "cell_type": "code",
      "source": [
        "df_a = df_a[['article_id', 'prod_name','product_code','product_type_name', 'department_name', 'garment_group_name', 'product_group_name', 'section_name', 'index_group_name', 'colour_group_name', 'perceived_colour_master_name', 'perceived_colour_value_name', 'graphical_appearance_name', 'detail_desc']] # Choosing significant attributes"
      ],
      "metadata": {
        "id": "q2uO2jPqwB2L"
      },
      "execution_count": 64,
      "outputs": []
    },
    {
      "cell_type": "code",
      "source": [
        "df_a.head(5)"
      ],
      "metadata": {
        "colab": {
          "base_uri": "https://localhost:8080/",
          "height": 530
        },
        "id": "N99o38Rr-VLZ",
        "outputId": "9dfa027a-0c4c-4e38-aa4a-cf48068b017d"
      },
      "execution_count": 65,
      "outputs": [
        {
          "output_type": "execute_result",
          "data": {
            "text/plain": [
              "   article_id          prod_name  product_code product_type_name  \\\n",
              "0   108775015          Strap top        108775          Vest top   \n",
              "1   108775044          Strap top        108775          Vest top   \n",
              "2   108775051      Strap top (1)        108775          Vest top   \n",
              "3   110065001  OP T-shirt (Idro)        110065               Bra   \n",
              "4   110065002  OP T-shirt (Idro)        110065               Bra   \n",
              "\n",
              "  department_name garment_group_name  product_group_name  \\\n",
              "0    Jersey Basic       Jersey Basic  Garment Upper body   \n",
              "1    Jersey Basic       Jersey Basic  Garment Upper body   \n",
              "2    Jersey Basic       Jersey Basic  Garment Upper body   \n",
              "3  Clean Lingerie  Under-, Nightwear           Underwear   \n",
              "4  Clean Lingerie  Under-, Nightwear           Underwear   \n",
              "\n",
              "             section_name index_group_name colour_group_name  \\\n",
              "0  Womens Everyday Basics       Ladieswear             Black   \n",
              "1  Womens Everyday Basics       Ladieswear             White   \n",
              "2  Womens Everyday Basics       Ladieswear         Off White   \n",
              "3         Womens Lingerie       Ladieswear             Black   \n",
              "4         Womens Lingerie       Ladieswear             White   \n",
              "\n",
              "  perceived_colour_master_name perceived_colour_value_name  \\\n",
              "0                        Black                        Dark   \n",
              "1                        White                       Light   \n",
              "2                        White                 Dusty Light   \n",
              "3                        Black                        Dark   \n",
              "4                        White                       Light   \n",
              "\n",
              "  graphical_appearance_name                                        detail_desc  \n",
              "0                     Solid            Jersey top with narrow shoulder straps.  \n",
              "1                     Solid            Jersey top with narrow shoulder straps.  \n",
              "2                    Stripe            Jersey top with narrow shoulder straps.  \n",
              "3                     Solid  Microfibre T-shirt bra with underwired, moulde...  \n",
              "4                     Solid  Microfibre T-shirt bra with underwired, moulde...  "
            ],
            "text/html": [
              "\n",
              "  <div id=\"df-997aff09-c90b-4f39-9c2e-37d2d69f09b6\">\n",
              "    <div class=\"colab-df-container\">\n",
              "      <div>\n",
              "<style scoped>\n",
              "    .dataframe tbody tr th:only-of-type {\n",
              "        vertical-align: middle;\n",
              "    }\n",
              "\n",
              "    .dataframe tbody tr th {\n",
              "        vertical-align: top;\n",
              "    }\n",
              "\n",
              "    .dataframe thead th {\n",
              "        text-align: right;\n",
              "    }\n",
              "</style>\n",
              "<table border=\"1\" class=\"dataframe\">\n",
              "  <thead>\n",
              "    <tr style=\"text-align: right;\">\n",
              "      <th></th>\n",
              "      <th>article_id</th>\n",
              "      <th>prod_name</th>\n",
              "      <th>product_code</th>\n",
              "      <th>product_type_name</th>\n",
              "      <th>department_name</th>\n",
              "      <th>garment_group_name</th>\n",
              "      <th>product_group_name</th>\n",
              "      <th>section_name</th>\n",
              "      <th>index_group_name</th>\n",
              "      <th>colour_group_name</th>\n",
              "      <th>perceived_colour_master_name</th>\n",
              "      <th>perceived_colour_value_name</th>\n",
              "      <th>graphical_appearance_name</th>\n",
              "      <th>detail_desc</th>\n",
              "    </tr>\n",
              "  </thead>\n",
              "  <tbody>\n",
              "    <tr>\n",
              "      <th>0</th>\n",
              "      <td>108775015</td>\n",
              "      <td>Strap top</td>\n",
              "      <td>108775</td>\n",
              "      <td>Vest top</td>\n",
              "      <td>Jersey Basic</td>\n",
              "      <td>Jersey Basic</td>\n",
              "      <td>Garment Upper body</td>\n",
              "      <td>Womens Everyday Basics</td>\n",
              "      <td>Ladieswear</td>\n",
              "      <td>Black</td>\n",
              "      <td>Black</td>\n",
              "      <td>Dark</td>\n",
              "      <td>Solid</td>\n",
              "      <td>Jersey top with narrow shoulder straps.</td>\n",
              "    </tr>\n",
              "    <tr>\n",
              "      <th>1</th>\n",
              "      <td>108775044</td>\n",
              "      <td>Strap top</td>\n",
              "      <td>108775</td>\n",
              "      <td>Vest top</td>\n",
              "      <td>Jersey Basic</td>\n",
              "      <td>Jersey Basic</td>\n",
              "      <td>Garment Upper body</td>\n",
              "      <td>Womens Everyday Basics</td>\n",
              "      <td>Ladieswear</td>\n",
              "      <td>White</td>\n",
              "      <td>White</td>\n",
              "      <td>Light</td>\n",
              "      <td>Solid</td>\n",
              "      <td>Jersey top with narrow shoulder straps.</td>\n",
              "    </tr>\n",
              "    <tr>\n",
              "      <th>2</th>\n",
              "      <td>108775051</td>\n",
              "      <td>Strap top (1)</td>\n",
              "      <td>108775</td>\n",
              "      <td>Vest top</td>\n",
              "      <td>Jersey Basic</td>\n",
              "      <td>Jersey Basic</td>\n",
              "      <td>Garment Upper body</td>\n",
              "      <td>Womens Everyday Basics</td>\n",
              "      <td>Ladieswear</td>\n",
              "      <td>Off White</td>\n",
              "      <td>White</td>\n",
              "      <td>Dusty Light</td>\n",
              "      <td>Stripe</td>\n",
              "      <td>Jersey top with narrow shoulder straps.</td>\n",
              "    </tr>\n",
              "    <tr>\n",
              "      <th>3</th>\n",
              "      <td>110065001</td>\n",
              "      <td>OP T-shirt (Idro)</td>\n",
              "      <td>110065</td>\n",
              "      <td>Bra</td>\n",
              "      <td>Clean Lingerie</td>\n",
              "      <td>Under-, Nightwear</td>\n",
              "      <td>Underwear</td>\n",
              "      <td>Womens Lingerie</td>\n",
              "      <td>Ladieswear</td>\n",
              "      <td>Black</td>\n",
              "      <td>Black</td>\n",
              "      <td>Dark</td>\n",
              "      <td>Solid</td>\n",
              "      <td>Microfibre T-shirt bra with underwired, moulde...</td>\n",
              "    </tr>\n",
              "    <tr>\n",
              "      <th>4</th>\n",
              "      <td>110065002</td>\n",
              "      <td>OP T-shirt (Idro)</td>\n",
              "      <td>110065</td>\n",
              "      <td>Bra</td>\n",
              "      <td>Clean Lingerie</td>\n",
              "      <td>Under-, Nightwear</td>\n",
              "      <td>Underwear</td>\n",
              "      <td>Womens Lingerie</td>\n",
              "      <td>Ladieswear</td>\n",
              "      <td>White</td>\n",
              "      <td>White</td>\n",
              "      <td>Light</td>\n",
              "      <td>Solid</td>\n",
              "      <td>Microfibre T-shirt bra with underwired, moulde...</td>\n",
              "    </tr>\n",
              "  </tbody>\n",
              "</table>\n",
              "</div>\n",
              "      <button class=\"colab-df-convert\" onclick=\"convertToInteractive('df-997aff09-c90b-4f39-9c2e-37d2d69f09b6')\"\n",
              "              title=\"Convert this dataframe to an interactive table.\"\n",
              "              style=\"display:none;\">\n",
              "        \n",
              "  <svg xmlns=\"http://www.w3.org/2000/svg\" height=\"24px\"viewBox=\"0 0 24 24\"\n",
              "       width=\"24px\">\n",
              "    <path d=\"M0 0h24v24H0V0z\" fill=\"none\"/>\n",
              "    <path d=\"M18.56 5.44l.94 2.06.94-2.06 2.06-.94-2.06-.94-.94-2.06-.94 2.06-2.06.94zm-11 1L8.5 8.5l.94-2.06 2.06-.94-2.06-.94L8.5 2.5l-.94 2.06-2.06.94zm10 10l.94 2.06.94-2.06 2.06-.94-2.06-.94-.94-2.06-.94 2.06-2.06.94z\"/><path d=\"M17.41 7.96l-1.37-1.37c-.4-.4-.92-.59-1.43-.59-.52 0-1.04.2-1.43.59L10.3 9.45l-7.72 7.72c-.78.78-.78 2.05 0 2.83L4 21.41c.39.39.9.59 1.41.59.51 0 1.02-.2 1.41-.59l7.78-7.78 2.81-2.81c.8-.78.8-2.07 0-2.86zM5.41 20L4 18.59l7.72-7.72 1.47 1.35L5.41 20z\"/>\n",
              "  </svg>\n",
              "      </button>\n",
              "      \n",
              "  <style>\n",
              "    .colab-df-container {\n",
              "      display:flex;\n",
              "      flex-wrap:wrap;\n",
              "      gap: 12px;\n",
              "    }\n",
              "\n",
              "    .colab-df-convert {\n",
              "      background-color: #E8F0FE;\n",
              "      border: none;\n",
              "      border-radius: 50%;\n",
              "      cursor: pointer;\n",
              "      display: none;\n",
              "      fill: #1967D2;\n",
              "      height: 32px;\n",
              "      padding: 0 0 0 0;\n",
              "      width: 32px;\n",
              "    }\n",
              "\n",
              "    .colab-df-convert:hover {\n",
              "      background-color: #E2EBFA;\n",
              "      box-shadow: 0px 1px 2px rgba(60, 64, 67, 0.3), 0px 1px 3px 1px rgba(60, 64, 67, 0.15);\n",
              "      fill: #174EA6;\n",
              "    }\n",
              "\n",
              "    [theme=dark] .colab-df-convert {\n",
              "      background-color: #3B4455;\n",
              "      fill: #D2E3FC;\n",
              "    }\n",
              "\n",
              "    [theme=dark] .colab-df-convert:hover {\n",
              "      background-color: #434B5C;\n",
              "      box-shadow: 0px 1px 3px 1px rgba(0, 0, 0, 0.15);\n",
              "      filter: drop-shadow(0px 1px 2px rgba(0, 0, 0, 0.3));\n",
              "      fill: #FFFFFF;\n",
              "    }\n",
              "  </style>\n",
              "\n",
              "      <script>\n",
              "        const buttonEl =\n",
              "          document.querySelector('#df-997aff09-c90b-4f39-9c2e-37d2d69f09b6 button.colab-df-convert');\n",
              "        buttonEl.style.display =\n",
              "          google.colab.kernel.accessAllowed ? 'block' : 'none';\n",
              "\n",
              "        async function convertToInteractive(key) {\n",
              "          const element = document.querySelector('#df-997aff09-c90b-4f39-9c2e-37d2d69f09b6');\n",
              "          const dataTable =\n",
              "            await google.colab.kernel.invokeFunction('convertToInteractive',\n",
              "                                                     [key], {});\n",
              "          if (!dataTable) return;\n",
              "\n",
              "          const docLinkHtml = 'Like what you see? Visit the ' +\n",
              "            '<a target=\"_blank\" href=https://colab.research.google.com/notebooks/data_table.ipynb>data table notebook</a>'\n",
              "            + ' to learn more about interactive tables.';\n",
              "          element.innerHTML = '';\n",
              "          dataTable['output_type'] = 'display_data';\n",
              "          await google.colab.output.renderOutput(dataTable, element);\n",
              "          const docLink = document.createElement('div');\n",
              "          docLink.innerHTML = docLinkHtml;\n",
              "          element.appendChild(docLink);\n",
              "        }\n",
              "      </script>\n",
              "    </div>\n",
              "  </div>\n",
              "  "
            ]
          },
          "metadata": {},
          "execution_count": 65
        }
      ]
    },
    {
      "cell_type": "markdown",
      "source": [
        "# Data Cleaning"
      ],
      "metadata": {
        "id": "g5nOf-OFFgwk"
      }
    },
    {
      "cell_type": "code",
      "source": [
        "def hier(att1, att2): # Number of distinct features in att2 corresponding to a distinct feature in att1\n",
        "  id1 = list(df_a.columns).index(att1)\n",
        "  id2 = list(df_a.columns).index(att2)\n",
        "  id1_id2 = dict()\n",
        "  for i in range(len(df_a)):\n",
        "    if df_a.loc[i][id1] not in id1_id2:\n",
        "      id1_id2[df_a.loc[i][id1]] = [df_a.loc[i][id2]]\n",
        "    else:\n",
        "      if df_a.loc[i][id2] not in id1_id2[df_a.loc[i][id1]]:\n",
        "        id1_id2[df_a.loc[i][id1]].append(df_a.loc[i][id2])\n",
        "  num_id2 = dict()\n",
        "  for i in id1_id2:\n",
        "    l = len(id1_id2[i])\n",
        "    if l not in num_id2:\n",
        "      num_id2[l] = 1\n",
        "    else:\n",
        "      num_id2[l] += 1\n",
        "  num_id2 = sorted(list(num_id2.items()), key = lambda x: x[0], reverse = True)\n",
        "  id1_id2 = sorted(list(id1_id2.items()), key = lambda x: len(x[1]), reverse = True)\n",
        "  return num_id2, id1_id2"
      ],
      "metadata": {
        "id": "8LiLguwOwW72"
      },
      "execution_count": 66,
      "outputs": []
    },
    {
      "cell_type": "code",
      "source": [
        "# # For subcategory-product pair\n",
        "# num_sub_prods, val_sub_prods = hier('product_type_name', 'product_code')\n",
        "# print(num_sub_prods)"
      ],
      "metadata": {
        "colab": {
          "base_uri": "https://localhost:8080/"
        },
        "id": "SR2DotE11uBU",
        "outputId": "78201f9e-9637-4b1a-d6a6-753dfbee1408"
      },
      "execution_count": 12,
      "outputs": [
        {
          "output_type": "stream",
          "name": "stdout",
          "text": [
            "[(5551, 1), (4711, 1), (3618, 1), (2313, 1), (2172, 1), (2063, 1), (1893, 1), (1580, 1), (1550, 1), (1344, 1), (1112, 1), (947, 1), (918, 1), (807, 1), (779, 1), (762, 1), (757, 1), (739, 1), (703, 1), (656, 1), (654, 1), (634, 1), (624, 1), (614, 1), (611, 1), (474, 1), (452, 1), (432, 1), (421, 1), (418, 1), (387, 1), (383, 1), (362, 1), (355, 1), (348, 1), (342, 1), (294, 1), (288, 1), (261, 1), (255, 1), (233, 1), (225, 1), (224, 1), (208, 1), (195, 1), (161, 1), (160, 1), (141, 1), (140, 1), (139, 1), (131, 1), (125, 1), (115, 1), (113, 1), (102, 1), (99, 1), (92, 1), (91, 1), (89, 1), (82, 1), (78, 1), (75, 1), (67, 1), (64, 1), (61, 1), (53, 1), (47, 1), (44, 1), (43, 1), (38, 1), (37, 1), (34, 1), (32, 1), (31, 1), (29, 1), (28, 2), (26, 1), (21, 1), (18, 1), (17, 1), (15, 2), (13, 1), (12, 1), (11, 1), (10, 3), (8, 1), (7, 3), (6, 3), (5, 4), (4, 3), (3, 3), (2, 9), (1, 16)]\n"
          ]
        }
      ]
    },
    {
      "cell_type": "code",
      "source": [
        "num_sub_prods, val_sub_prods = hier('product_type_name', 'product_code') # Returns a list of tuples having subcategory and products corresponding to it"
      ],
      "metadata": {
        "id": "FqeMvpopBUGb"
      },
      "execution_count": 67,
      "outputs": []
    },
    {
      "cell_type": "code",
      "source": [
        "def clean(val_sub_prods):\n",
        "  dict_sub_prods = {} # Dictionary of products in each subcategory in decreasing order of number of products\n",
        "  for i, j in val_sub_prods:\n",
        "    dict_sub_prods[i] = j\n",
        "  for i in range(len(val_sub_prods)): \n",
        "    if len(val_sub_prods[i][1]) == 1 and val_sub_prods[i][0] != 'Unknown':\n",
        "      idx = i\n",
        "      break\n",
        "  val_sub_prods_fin = val_sub_prods[:idx] # List of all valid subcategories (having more than 1 product)\n",
        "  dict_sub_prods_fin = {} # Dictionary of products in each valid subcategory in decreasing order of number of products\n",
        "  for i, j in val_sub_prods_fin:\n",
        "    dict_sub_prods_fin[i] = j\n",
        "  subs_removed = {} # Dictionary of invalid subcategories\n",
        "  for i in dict_sub_prods:\n",
        "    if i not in dict_sub_prods_fin:\n",
        "      subs_removed[i] = True\n",
        "  \n",
        "  tmp = [] # List of all products corresponding to invalid subcategories\n",
        "  for i in subs_removed:\n",
        "    tmp.append(dict_sub_prods[i][0])\n",
        "\n",
        "  if 'Unknown' not in subs_removed:\n",
        "    subs_removed['Unknown'] = True\n",
        "  unk_prods = dict_sub_prods['Unknown'] # Products under 'Unknown' subcategory\n",
        "  \n",
        "  num_prod_subs, vals_prod_subs = hier('product_code', 'product_type_name') # For product-subcategory pair\n",
        "  dict_prod_subs = {} # Dictionary of subcategories in each product \n",
        "  for i, j in vals_prod_subs:\n",
        "    dict_prod_subs[i] = j\n",
        "  prods_removed = {} # Dictionary of invalid products \n",
        "  for i in tmp:\n",
        "    if len(dict_prod_subs[i]) == 1: # Products linked to only the subcategory which is invalid is removed\n",
        "      prods_removed[i] = True\n",
        "  \n",
        "  for i in unk_prods:\n",
        "    if len(dict_prod_subs[i]) == 1: # Products linked to only Unknown is removed\n",
        "      if i not in prods_removed:\n",
        "        prods_removed[i] = True\n",
        "  \n",
        "  cats = {}  \n",
        "  for cat in list(set(df_a['product_group_name'])):\n",
        "    sub = list(set(df_a.loc[df_a['product_group_name'] == cat]['product_type_name']))\n",
        "    for s in sub:\n",
        "      if s not in subs_removed:\n",
        "        if cat not in cats:\n",
        "          cats[cat] = True\n",
        "\n",
        "  cats_removed = {} # Dictionary of invalid categories\n",
        "  for i in list(set(df_a['product_group_name'])):\n",
        "    if i not in cats:\n",
        "      cats_removed[i] = True\n",
        "\n",
        "  if 'Unknown' not in cats_removed:\n",
        "    cats_removed['Unknown'] = True\n",
        "  \n",
        "  return cats_removed, subs_removed, prods_removed"
      ],
      "metadata": {
        "id": "gcZaUSNILbia"
      },
      "execution_count": 16,
      "outputs": []
    },
    {
      "cell_type": "code",
      "source": [
        "cats_removed, subs_removed, prods_removed = clean(val_sub_prods) # Category, subcategories and products to be removed"
      ],
      "metadata": {
        "id": "zS4PG0ReX13o"
      },
      "execution_count": 17,
      "outputs": []
    },
    {
      "cell_type": "code",
      "source": [
        "def valid_cats_subs_prods(cats_removed, subs_removed, prods_removed): # Returns a list of valid categories, valid subcategories and valid products\n",
        "  product_codes = []\n",
        "  valid_cats = []\n",
        "  valid_subs = []\n",
        "  for code in list(set(df_a['product_code'])):\n",
        "    if code not in prods_removed:\n",
        "      product_codes.append(code)\n",
        "  for cat in list(set(df_a['product_group_name'])):\n",
        "    if cat not in cats_removed:\n",
        "      valid_cats.append(cat)\n",
        "  for sub in list(set(df_a['product_type_name'])):\n",
        "    if sub not in subs_removed:\n",
        "      valid_subs.append(sub)\n",
        "\n",
        "  return valid_cats, valid_subs, product_codes"
      ],
      "metadata": {
        "id": "M9QsIQWADIv0"
      },
      "execution_count": 18,
      "outputs": []
    },
    {
      "cell_type": "code",
      "source": [
        "valid_cats, valid_subs, product_codes = valid_cats_subs_prods(cats_removed, subs_removed, prods_removed)"
      ],
      "metadata": {
        "id": "uwfBdoSbDJkH"
      },
      "execution_count": 19,
      "outputs": []
    },
    {
      "cell_type": "markdown",
      "source": [
        "# Creating nodes and relationships csv files"
      ],
      "metadata": {
        "id": "kTR0O2jdFzgW"
      }
    },
    {
      "cell_type": "code",
      "source": [
        "def name_desc(product_codes): # Returns a tuple of dictionary containing names and description of valid products\n",
        "  prod_names = {}\n",
        "  prod_desc = {}\n",
        "\n",
        "  for code in product_codes:\n",
        "    prod_names[code] = list(df_a.loc[df_a['product_code'] == code]['prod_name'])[0]\n",
        "  \n",
        "  for code in product_codes:\n",
        "    prod_desc[code] = list(df_a.loc[df_a['product_code'] == code]['detail_desc'])[0]\n",
        "  \n",
        "  return prod_names, prod_desc"
      ],
      "metadata": {
        "id": "LWavgKIX___b"
      },
      "execution_count": 20,
      "outputs": []
    },
    {
      "cell_type": "code",
      "source": [
        "prod_names, prod_desc = name_desc(product_codes)"
      ],
      "metadata": {
        "id": "pMCR-dh2DRJC"
      },
      "execution_count": 21,
      "outputs": []
    },
    {
      "cell_type": "code",
      "source": [
        "# prods_removed = [532138, 615576, 670590, 795921, 816814, 816846, 832168, 850239, 874961, 880106, 920602, 480093, 561291, 700701, 809226, 836789, 840107, 846825, 851778, 851780, 852678, 856667, 865912, 865913, 866244, 867968, 867969, 873366, 880553, 880821, 894221, 898434, 902265, 903864, 906576, 916766, 921169, 923758, 925139, 927131, 935704]"
      ],
      "metadata": {
        "id": "sDslJyI5oX9o"
      },
      "execution_count": null,
      "outputs": []
    },
    {
      "cell_type": "code",
      "source": [
        "att_nodes_cols = ['department_name', 'garment_group_name', 'section_name', 'index_group_name', \n",
        "                  'colour_group_name','perceived_colour_value_name', 'perceived_colour_master_name',\n",
        "                  'graphical_appearance_name'] # List of valid attributes"
      ],
      "metadata": {
        "id": "FbNWEzjYpMQc"
      },
      "execution_count": 22,
      "outputs": []
    },
    {
      "cell_type": "code",
      "source": [
        "def att_ids_edge_labels(att_nodes_cols): # Returns dictionaries of attribute ids and edge labels for product-attribute relationships\n",
        "  att_ids = {} # ids for attribute nodes\n",
        "  for att in att_nodes_cols:\n",
        "    att_ids[att] = ''.join([i[0] for i in att.split('_')])\n",
        "  prod_att_labels = {} # edge label for product-attribute\n",
        "  for att in att_nodes_cols:\n",
        "    prod_att_labels[att] = 'HAS_' + ''.join([w[0] for w in att.split('_')]).upper()\n",
        "  att_prod_labels = {} # edge label for attribute-product\n",
        "  for att in att_nodes_cols:\n",
        "    att_prod_labels[att] = ''.join([w[0] for w in att.split('_')]).upper() + '_OF'  \n",
        "  return att_ids, prod_att_labels, att_prod_labels"
      ],
      "metadata": {
        "id": "3ZW6j9W8EplC"
      },
      "execution_count": 23,
      "outputs": []
    },
    {
      "cell_type": "code",
      "source": [
        "att_ids, prod_att_labels, att_prod_labels = att_ids_edge_labels(att_nodes_cols)"
      ],
      "metadata": {
        "id": "wfTsiza1wsf3"
      },
      "execution_count": 24,
      "outputs": []
    },
    {
      "cell_type": "code",
      "source": [
        "# subs_removed = ['Bra extender', 'Blanket', 'Cushion', 'Shoulder bag', 'Headband', 'Baby Bib', 'Keychain', 'Washing bag', 'Sewing kit', 'Towel', 'Wood balls', 'Pre-walkers', 'Marker pen', 'Bumbag', 'Wireless earphone case', 'Clothing mist', 'Unknown']\n",
        "# cats_removed = ['Stationery', 'Interior textile', 'Unknown']"
      ],
      "metadata": {
        "id": "iKn62mDImxFQ"
      },
      "execution_count": null,
      "outputs": []
    },
    {
      "cell_type": "code",
      "source": [
        "# category, subcategory, attribute and keyword nodes\n",
        "ids = [] \n",
        "labels = []\n",
        "values = []\n",
        "# Relationships between all nodes in product-retail graph\n",
        "froms = []\n",
        "tos = []\n",
        "edge_labels = []\n",
        "edge_ids = []"
      ],
      "metadata": {
        "id": "-TqfV4mHfAwC"
      },
      "execution_count": 36,
      "outputs": []
    },
    {
      "cell_type": "code",
      "source": [
        "def cat_sub_nodes(valid_cats, valid_subs, ids, labels, values): # Making category and subcategory nodes and returning dictionary of ids of category and subcategory nodes respectively\n",
        "  cat_ids = {} # ids of category nodes\n",
        "  sub_ids = {} # ids of subcategory nodes\n",
        "  for cat in valid_cats:\n",
        "    cat_ids[cat] = 'cat'+str(len(cat_ids) + 1)\n",
        "    ids.append(cat_ids[cat])\n",
        "    labels.append('category')\n",
        "    values.append(cat.lower())\n",
        "  \n",
        "  for sub in valid_subs:\n",
        "    sub_ids[sub] = 'sub'+str(len(sub_ids) + 1)\n",
        "    ids.append(sub_ids[sub])\n",
        "    labels.append('subcategory')\n",
        "    values.append(sub.lower())\n",
        "  \n",
        "  return cat_ids, sub_ids"
      ],
      "metadata": {
        "id": "gYicDrqtLxga"
      },
      "execution_count": 37,
      "outputs": []
    },
    {
      "cell_type": "code",
      "source": [
        "cat_ids, sub_ids = cat_sub_nodes(valid_cats, valid_subs, ids, labels, values)"
      ],
      "metadata": {
        "id": "708WH9teO4uy"
      },
      "execution_count": 38,
      "outputs": []
    },
    {
      "cell_type": "code",
      "source": [
        "def cat_sub_rel(subs_removed, froms, tos, edge_labels, edge_ids, cat_ids, sub_ids): # Defining category-subcategory relationships\n",
        "  for cat in cat_ids:\n",
        "    sub = list(set(df_a.loc[df_a['product_group_name'] == cat]['product_type_name']))\n",
        "    for i in range(len(sub)):\n",
        "      if sub[i] not in subs_removed:\n",
        "        froms.append(cat_ids[cat])\n",
        "        tos.append(sub_ids[sub[i]])\n",
        "        edge_labels.append('cat_of')\n",
        "        edge_ids.append(cat_ids[cat]+sub_ids[sub[i]])\n",
        "  for sub in sub_ids:\n",
        "    prod = list(set(df_a.loc[df_a['product_type_name'] == sub]['product_code']))\n",
        "    for i in range(len(prod)):\n",
        "      # if prod[i] not in prods_removed:\n",
        "        froms.append(sub_ids[sub])\n",
        "        tos.append(str(prod[i]))\n",
        "        edge_labels.append('sub_of')\n",
        "        edge_ids.append(sub_ids[sub]+str(prod[i]))"
      ],
      "metadata": {
        "id": "74ITY9hyg2J4"
      },
      "execution_count": 39,
      "outputs": []
    },
    {
      "cell_type": "code",
      "source": [
        "cat_sub_rel(subs_removed, froms, tos, edge_labels, edge_ids, cat_ids, sub_ids)"
      ],
      "metadata": {
        "id": "0vCeBGS2PB9B"
      },
      "execution_count": 40,
      "outputs": []
    },
    {
      "cell_type": "code",
      "source": [
        "print(len(cat_ids), len(sub_ids))"
      ],
      "metadata": {
        "colab": {
          "base_uri": "https://localhost:8080/"
        },
        "id": "4IplXtGSh1JQ",
        "outputId": "bfc4b95d-5f58-46c2-cdca-6f8fd3d42756"
      },
      "execution_count": null,
      "outputs": [
        {
          "output_type": "stream",
          "name": "stdout",
          "text": [
            "16 114\n"
          ]
        }
      ]
    },
    {
      "cell_type": "code",
      "source": [
        "att_vals = {} # ids of attribute nodes "
      ],
      "metadata": {
        "id": "as8peisAyf7H"
      },
      "execution_count": 41,
      "outputs": []
    },
    {
      "cell_type": "code",
      "source": [
        "def prod_att_rel(att_nodes_cols, prod_att_labels, att_ids, froms, tos, edge_ids, edge_labels, ids, labels, values, att_vals): # Product - attribute relationships\n",
        "  sn_ids = {}\n",
        "  ign_ids = {}\n",
        "  for att in att_nodes_cols:\n",
        "    set_att = {}\n",
        "    edge_ids_dict = {}\n",
        "    for i in range(len(df_a[att])):\n",
        "      val = df_a[att][i]\n",
        "      if att == 'garment_group_name' and val == df_a['department_name'][i]:\n",
        "        continue\n",
        "      if att == 'perceived_colour_master_name' and val == df_a['colour_group_name'][i]:\n",
        "        continue\n",
        "\n",
        "      if val != 'Unknown' and df_a['product_code'][i] not in prods_removed :\n",
        "        if val not in set_att:    \n",
        "      \n",
        "          if att == 'index_group_name':\n",
        "            ign_ids[val] = att_ids[att] + f'{len(set_att)+1}'\n",
        "          if att == 'section_name':\n",
        "            sn_ids[val] = att_ids[att] + f'{len(set_att)+1}'\n",
        "        \n",
        "          set_att[val] = att_ids[att] + f'{len(set_att)+1}'\n",
        "          att_vals[att + '_' + val] = att_ids[att] + f'{len(set_att)}'\n",
        "          ids.append(set_att[val])\n",
        "          labels.append(att)\n",
        "          values.append(val.lower())\n",
        "\n",
        "        edge = str(df_a['product_code'][i]) + set_att[val]\n",
        "      \n",
        "        if edge not in edge_ids_dict: # To ensure same edges are not getting repeated\n",
        "          edge_ids_dict[edge] = True\n",
        "          froms.append(str(df_a['product_code'][i]))\n",
        "          tos.append(set_att[val])\n",
        "          edge_ids.append(edge)\n",
        "          edge_labels.append(prod_att_labels[att]) \n",
        "\n",
        "  # Inter-attribute linkages between section name and index group name\n",
        "  for ign in ign_ids:\n",
        "    sn = list(set(df_a.loc[df_a['index_group_name'] == ign]['section_name']))\n",
        "    for i in range(len(sn)):\n",
        "      froms.append(ign_ids[ign])\n",
        "      tos.append(sn_ids[sn[i]])\n",
        "      edge_labels.append('ign_of')\n",
        "      edge_ids.append(ign_ids[ign]+sn_ids[sn[i]])"
      ],
      "metadata": {
        "id": "0D0CTrmLwvTO"
      },
      "execution_count": 42,
      "outputs": []
    },
    {
      "cell_type": "code",
      "source": [
        "prod_att_rel(att_nodes_cols, prod_att_labels, att_ids, froms, tos, edge_ids, edge_labels, ids, labels, values, att_vals)"
      ],
      "metadata": {
        "id": "zJ-5xJPTykPb"
      },
      "execution_count": 43,
      "outputs": []
    },
    {
      "cell_type": "code",
      "source": [
        "# ids, labels, names and description of variant nodes\n",
        "var_ids = []\n",
        "var_labels = []\n",
        "var_values = []\n",
        "var_desc = []"
      ],
      "metadata": {
        "id": "pADSG9SZmoRy"
      },
      "execution_count": 44,
      "outputs": []
    },
    {
      "cell_type": "code",
      "source": [
        "# Making variant nodes and establishing relationships between variant nodes and product nodes and variant nodes and attribute nodes bidirectionally\n",
        "def var_nodes_rel(product_codes, froms , tos, edge_ids, edge_labels, att_nodes_cols, var_ids, var_labels, var_values, var_desc, prod_names, prod_desc, att_vals, prod_att_labels, att_prod_labels):\n",
        "  for code in product_codes:\n",
        "    prod_df = df_a.loc[df_a['product_code'] == code]\n",
        "    prod_df.reset_index(inplace=True)\n",
        "    prod_df.drop('index',axis=1,inplace=True)\n",
        "    for i in range(len(prod_df)):\n",
        "      article = prod_df['article_id'][i]\n",
        "\n",
        "      # Product - variant relationships\n",
        "      froms.append(str(code))\n",
        "      tos.append(str(article))\n",
        "      edge_ids.append(str(code) + str(article))\n",
        "      edge_labels.append('prod_of')\n",
        "      # Defining variant nodes and Attribute-variant relationships\n",
        "      vals = []\n",
        "      for att in att_nodes_cols:\n",
        "        val = prod_df[att][i]\n",
        "        if att == 'garment_group_name' and val == prod_df['department_name'][i]:\n",
        "          continue\n",
        "        if att == 'perceived_colour_master_name' and val == prod_df['colour_group_name'][i]:\n",
        "          continue\n",
        "        if val != 'Unknown':\n",
        "          vals.append(val.lower())\n",
        "          froms.append(str(article))\n",
        "          tos.append(att_vals[att + '_' + val])\n",
        "          edge_ids.append(str(article) + att_vals[att + '_' + val])\n",
        "          edge_labels.append(prod_att_labels[att])\n",
        "\n",
        "          froms.append(att_vals[att + '_' + val])\n",
        "          tos.append(str(article))\n",
        "          edge_ids.append(att_vals[att + '_' + val] + str(article))\n",
        "          edge_labels.append(att_prod_labels[att])\n",
        "\n",
        "      var_ids.append(str(article))\n",
        "      var_labels.append('variant')\n",
        "      var_values.append(prod_names[code].lower() + '_' + '_'.join(vals))\n",
        "      if type(prod_desc[code]) == str and len(prod_desc[code]) != 0: # If description does not exist, then put product name as variant description\n",
        "        var_desc.append(prod_desc[code])\n",
        "      else:\n",
        "        var_desc.append(prod_names[code].lower())"
      ],
      "metadata": {
        "id": "lIVZUPDbziKL"
      },
      "execution_count": 45,
      "outputs": []
    },
    {
      "cell_type": "code",
      "source": [
        "var_nodes_rel(product_codes, froms , tos, edge_ids, edge_labels, att_nodes_cols, var_ids, var_labels, var_values, var_desc, prod_names, prod_desc, att_vals, prod_att_labels, att_prod_labels)"
      ],
      "metadata": {
        "colab": {
          "base_uri": "https://localhost:8080/"
        },
        "id": "e9_toX7x1FXU",
        "outputId": "7dc217ca-5e06-4ba2-b58c-b91faf447658"
      },
      "execution_count": 46,
      "outputs": [
        {
          "output_type": "stream",
          "name": "stderr",
          "text": [
            "/usr/local/lib/python3.7/dist-packages/pandas/core/frame.py:4913: SettingWithCopyWarning: \n",
            "A value is trying to be set on a copy of a slice from a DataFrame\n",
            "\n",
            "See the caveats in the documentation: https://pandas.pydata.org/pandas-docs/stable/user_guide/indexing.html#returning-a-view-versus-a-copy\n",
            "  errors=errors,\n"
          ]
        }
      ]
    },
    {
      "cell_type": "code",
      "source": [
        "df_sales = pd.read_csv('product_sales.csv') # Sales data for all variants"
      ],
      "metadata": {
        "id": "ZV1zITOMGzsw"
      },
      "execution_count": 47,
      "outputs": []
    },
    {
      "cell_type": "code",
      "source": [
        "df_sales.head()"
      ],
      "metadata": {
        "colab": {
          "base_uri": "https://localhost:8080/",
          "height": 206
        },
        "id": "eLr1A4jCHKFr",
        "outputId": "27d6b882-da2d-47b3-ab5f-21b2b264629e"
      },
      "execution_count": 48,
      "outputs": [
        {
          "output_type": "execute_result",
          "data": {
            "text/plain": [
              "   article_id  articles_sold\n",
              "0   706016001          14951\n",
              "1   706016002          14289\n",
              "2   610776002          13372\n",
              "3   372860001          13254\n",
              "4   565379001          13021"
            ],
            "text/html": [
              "\n",
              "  <div id=\"df-bb8b9a27-3f6a-4d4c-8b4c-d7bd2b5c4f53\">\n",
              "    <div class=\"colab-df-container\">\n",
              "      <div>\n",
              "<style scoped>\n",
              "    .dataframe tbody tr th:only-of-type {\n",
              "        vertical-align: middle;\n",
              "    }\n",
              "\n",
              "    .dataframe tbody tr th {\n",
              "        vertical-align: top;\n",
              "    }\n",
              "\n",
              "    .dataframe thead th {\n",
              "        text-align: right;\n",
              "    }\n",
              "</style>\n",
              "<table border=\"1\" class=\"dataframe\">\n",
              "  <thead>\n",
              "    <tr style=\"text-align: right;\">\n",
              "      <th></th>\n",
              "      <th>article_id</th>\n",
              "      <th>articles_sold</th>\n",
              "    </tr>\n",
              "  </thead>\n",
              "  <tbody>\n",
              "    <tr>\n",
              "      <th>0</th>\n",
              "      <td>706016001</td>\n",
              "      <td>14951</td>\n",
              "    </tr>\n",
              "    <tr>\n",
              "      <th>1</th>\n",
              "      <td>706016002</td>\n",
              "      <td>14289</td>\n",
              "    </tr>\n",
              "    <tr>\n",
              "      <th>2</th>\n",
              "      <td>610776002</td>\n",
              "      <td>13372</td>\n",
              "    </tr>\n",
              "    <tr>\n",
              "      <th>3</th>\n",
              "      <td>372860001</td>\n",
              "      <td>13254</td>\n",
              "    </tr>\n",
              "    <tr>\n",
              "      <th>4</th>\n",
              "      <td>565379001</td>\n",
              "      <td>13021</td>\n",
              "    </tr>\n",
              "  </tbody>\n",
              "</table>\n",
              "</div>\n",
              "      <button class=\"colab-df-convert\" onclick=\"convertToInteractive('df-bb8b9a27-3f6a-4d4c-8b4c-d7bd2b5c4f53')\"\n",
              "              title=\"Convert this dataframe to an interactive table.\"\n",
              "              style=\"display:none;\">\n",
              "        \n",
              "  <svg xmlns=\"http://www.w3.org/2000/svg\" height=\"24px\"viewBox=\"0 0 24 24\"\n",
              "       width=\"24px\">\n",
              "    <path d=\"M0 0h24v24H0V0z\" fill=\"none\"/>\n",
              "    <path d=\"M18.56 5.44l.94 2.06.94-2.06 2.06-.94-2.06-.94-.94-2.06-.94 2.06-2.06.94zm-11 1L8.5 8.5l.94-2.06 2.06-.94-2.06-.94L8.5 2.5l-.94 2.06-2.06.94zm10 10l.94 2.06.94-2.06 2.06-.94-2.06-.94-.94-2.06-.94 2.06-2.06.94z\"/><path d=\"M17.41 7.96l-1.37-1.37c-.4-.4-.92-.59-1.43-.59-.52 0-1.04.2-1.43.59L10.3 9.45l-7.72 7.72c-.78.78-.78 2.05 0 2.83L4 21.41c.39.39.9.59 1.41.59.51 0 1.02-.2 1.41-.59l7.78-7.78 2.81-2.81c.8-.78.8-2.07 0-2.86zM5.41 20L4 18.59l7.72-7.72 1.47 1.35L5.41 20z\"/>\n",
              "  </svg>\n",
              "      </button>\n",
              "      \n",
              "  <style>\n",
              "    .colab-df-container {\n",
              "      display:flex;\n",
              "      flex-wrap:wrap;\n",
              "      gap: 12px;\n",
              "    }\n",
              "\n",
              "    .colab-df-convert {\n",
              "      background-color: #E8F0FE;\n",
              "      border: none;\n",
              "      border-radius: 50%;\n",
              "      cursor: pointer;\n",
              "      display: none;\n",
              "      fill: #1967D2;\n",
              "      height: 32px;\n",
              "      padding: 0 0 0 0;\n",
              "      width: 32px;\n",
              "    }\n",
              "\n",
              "    .colab-df-convert:hover {\n",
              "      background-color: #E2EBFA;\n",
              "      box-shadow: 0px 1px 2px rgba(60, 64, 67, 0.3), 0px 1px 3px 1px rgba(60, 64, 67, 0.15);\n",
              "      fill: #174EA6;\n",
              "    }\n",
              "\n",
              "    [theme=dark] .colab-df-convert {\n",
              "      background-color: #3B4455;\n",
              "      fill: #D2E3FC;\n",
              "    }\n",
              "\n",
              "    [theme=dark] .colab-df-convert:hover {\n",
              "      background-color: #434B5C;\n",
              "      box-shadow: 0px 1px 3px 1px rgba(0, 0, 0, 0.15);\n",
              "      filter: drop-shadow(0px 1px 2px rgba(0, 0, 0, 0.3));\n",
              "      fill: #FFFFFF;\n",
              "    }\n",
              "  </style>\n",
              "\n",
              "      <script>\n",
              "        const buttonEl =\n",
              "          document.querySelector('#df-bb8b9a27-3f6a-4d4c-8b4c-d7bd2b5c4f53 button.colab-df-convert');\n",
              "        buttonEl.style.display =\n",
              "          google.colab.kernel.accessAllowed ? 'block' : 'none';\n",
              "\n",
              "        async function convertToInteractive(key) {\n",
              "          const element = document.querySelector('#df-bb8b9a27-3f6a-4d4c-8b4c-d7bd2b5c4f53');\n",
              "          const dataTable =\n",
              "            await google.colab.kernel.invokeFunction('convertToInteractive',\n",
              "                                                     [key], {});\n",
              "          if (!dataTable) return;\n",
              "\n",
              "          const docLinkHtml = 'Like what you see? Visit the ' +\n",
              "            '<a target=\"_blank\" href=https://colab.research.google.com/notebooks/data_table.ipynb>data table notebook</a>'\n",
              "            + ' to learn more about interactive tables.';\n",
              "          element.innerHTML = '';\n",
              "          dataTable['output_type'] = 'display_data';\n",
              "          await google.colab.output.renderOutput(dataTable, element);\n",
              "          const docLink = document.createElement('div');\n",
              "          docLink.innerHTML = docLinkHtml;\n",
              "          element.appendChild(docLink);\n",
              "        }\n",
              "      </script>\n",
              "    </div>\n",
              "  </div>\n",
              "  "
            ]
          },
          "metadata": {},
          "execution_count": 48
        }
      ]
    },
    {
      "cell_type": "code",
      "source": [
        "def sales_prop(var_ids, df_sales): # Adding sales property in variant nodes \n",
        "  var_sales = []\n",
        "  articles_sold = {}\n",
        "  for i in range(len(df_sales)):\n",
        "    articles_sold[df_sales['article_id'][i]] = df_sales['articles_sold'][i]\n",
        "  \n",
        "  for id in var_ids:\n",
        "    var_id = int(id)\n",
        "    if var_id in articles_sold:\n",
        "      var_sales.append(articles_sold[var_id])\n",
        "    else:\n",
        "      var_sales.append(0)\n",
        "  return var_sales "
      ],
      "metadata": {
        "id": "QjoXU5bH1004"
      },
      "execution_count": 49,
      "outputs": []
    },
    {
      "cell_type": "code",
      "source": [
        "var_sales = sales_prop(var_ids, df_sales)"
      ],
      "metadata": {
        "id": "SbN4Qm6I24hk"
      },
      "execution_count": 50,
      "outputs": []
    },
    {
      "cell_type": "code",
      "source": [
        "def var_keyword_rel(var_ids, ids, labels, values, froms, tos, edge_labels, edge_ids, path): # Defining keyword nodes and Variant-keyword relationships\n",
        "  with open (path, 'rb') as fp: # Reading keywords for each variant\n",
        "    product_keyword = pickle.load(fp)\n",
        "  keyword_ids = {}\n",
        "  count = 1\n",
        "  for id in var_ids:\n",
        "    keywords = list(set(product_keyword[id]))\n",
        "    for f in keywords:\n",
        "      if len(f) != 0 and type(f) == str:\n",
        "        if f not in keyword_ids:\n",
        "          keyword_ids[f] = 'keyw' + str(count)\n",
        "          ids.append(keyword_ids[f])\n",
        "          labels.append('keyword')\n",
        "          values.append(f.lower())\n",
        "          count += 1\n",
        "        froms.append(id)\n",
        "        tos.append(keyword_ids[f])\n",
        "        edge_ids.append(id + keyword_ids[f])\n",
        "        edge_labels.append('HAS_KEYWORD')\n",
        "\n",
        "        froms.append(keyword_ids[f])\n",
        "        tos.append(id)\n",
        "        edge_ids.append(keyword_ids[f] + id)\n",
        "        edge_labels.append('KEYWORD_OF')\n",
        "  return product_keyword, keyword_ids "
      ],
      "metadata": {
        "id": "aP-Uks3D27y2"
      },
      "execution_count": 51,
      "outputs": []
    },
    {
      "cell_type": "code",
      "source": [
        "path = 'product_keyword.txt'\n",
        "product_keyword, keyword_ids = var_keyword_rel(var_ids, ids, labels, values, froms, tos, edge_labels, edge_ids, path) # Returns a tuple of dictionary consisting of list of keywords correpsonding to each variant and a dictionary consisting of ids for each keyword node "
      ],
      "metadata": {
        "id": "FwBUAj1S3tJZ"
      },
      "execution_count": 52,
      "outputs": []
    },
    {
      "cell_type": "code",
      "source": [
        "def prod_keyword_rel(product_codes, product_keyword, keyword_ids, froms, tos, edge_labels, edge_ids): # Product - keyword relationship\n",
        "  for code in product_codes:\n",
        "    df_codes = df_a.loc[df_a['product_code'] == code]\n",
        "    df_codes.reset_index(inplace=True)\n",
        "    df_codes.drop('index',axis=1,inplace=True)\n",
        "    var_id = df_codes['article_id'][0]\n",
        "    keywords = list(set(product_keyword[str(var_id)]))\n",
        "    for f in keywords:\n",
        "      if len(f) != 0 and type(f) == str:\n",
        "        froms.append(str(code))\n",
        "        tos.append(keyword_ids[f])\n",
        "        edge_ids.append(str(code) + keyword_ids[f])\n",
        "        edge_labels.append('HAS_KEYWORD')"
      ],
      "metadata": {
        "id": "k9JAvgaD4o__"
      },
      "execution_count": 53,
      "outputs": []
    },
    {
      "cell_type": "code",
      "source": [
        "prod_keyword_rel(product_codes, product_keyword, keyword_ids, froms, tos, edge_labels, edge_ids)"
      ],
      "metadata": {
        "colab": {
          "base_uri": "https://localhost:8080/"
        },
        "id": "5hIwFFG84-o0",
        "outputId": "1276c12a-d226-4ee0-9366-53e33aa4931c"
      },
      "execution_count": 54,
      "outputs": [
        {
          "output_type": "stream",
          "name": "stderr",
          "text": [
            "/usr/local/lib/python3.7/dist-packages/pandas/core/frame.py:4913: SettingWithCopyWarning: \n",
            "A value is trying to be set on a copy of a slice from a DataFrame\n",
            "\n",
            "See the caveats in the documentation: https://pandas.pydata.org/pandas-docs/stable/user_guide/indexing.html#returning-a-view-versus-a-copy\n",
            "  errors=errors,\n"
          ]
        }
      ]
    },
    {
      "cell_type": "code",
      "source": [
        "# Category, subcategory, attribute and keywords file\n",
        "csak_nodes_hnm_fin = {'~id':   ids,\n",
        "                 '~label': labels,\n",
        "                 'value:String': values} # Can add attributes here as well\n",
        "pd.DataFrame(csak_nodes_hnm_fin).to_csv('csak_nodes_hnm_fin.csv', index = False)"
      ],
      "metadata": {
        "id": "evCLSADy0KRF"
      },
      "execution_count": 55,
      "outputs": []
    },
    {
      "cell_type": "code",
      "source": [
        "# Product nodes file\n",
        "prod_nodes_hnm_fin = {'~id': [str(code) for code in product_codes],\n",
        "                  '~label': ['product']*len(product_codes),\n",
        "                  'value:String': [prod_names[code].lower() for code in product_codes]} # Can add attributes here as well\n",
        "pd.DataFrame(prod_nodes_hnm_fin).to_csv('prod_nodes_hnm_fin.csv', index = False)"
      ],
      "metadata": {
        "id": "8UNJ6rIr1qAW"
      },
      "execution_count": 56,
      "outputs": []
    },
    {
      "cell_type": "code",
      "source": [
        "# Variant nodes file\n",
        "var_nodes_hnm_fin = {'~id': var_ids,\n",
        "                  '~label': var_labels,\n",
        "                  'value:String': var_values,\n",
        "                  'desc:String': var_desc,\n",
        "                  'sales:Int': var_sales} # Can add attributes here as well\n",
        "pd.DataFrame(var_nodes_hnm_fin).to_csv('var_nodes_hnm_fin.csv', index = False)"
      ],
      "metadata": {
        "id": "t6YzNCYtm_9a"
      },
      "execution_count": 57,
      "outputs": []
    },
    {
      "cell_type": "code",
      "source": [
        "# Node - edge relationships file\n",
        "node_edge_rel_hnm_fin = {'~id': edge_ids,\n",
        "                     '~from': froms,\n",
        "                     '~to': tos,\n",
        "                     '~label': edge_labels}\n",
        "pd.DataFrame(node_edge_rel_hnm_fin).to_csv('node_edge_rel_hnm_fin.csv', index = False)"
      ],
      "metadata": {
        "id": "McVVu4Ck2eAj"
      },
      "execution_count": 58,
      "outputs": []
    }
  ]
}