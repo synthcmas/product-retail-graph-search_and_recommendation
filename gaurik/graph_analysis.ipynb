{
  "nbformat": 4,
  "nbformat_minor": 0,
  "metadata": {
    "colab": {
      "name": "graph_analysis.ipynb",
      "provenance": [],
      "toc_visible": true
    },
    "kernelspec": {
      "name": "python3",
      "display_name": "Python 3"
    },
    "language_info": {
      "name": "python"
    }
  },
  "cells": [
    {
      "cell_type": "markdown",
      "source": [
        "# Importing packages"
      ],
      "metadata": {
        "id": "j3QtA7uBGDSk"
      }
    },
    {
      "cell_type": "code",
      "execution_count": 2,
      "metadata": {
        "id": "r4cJXB7S_Z6d"
      },
      "outputs": [],
      "source": [
        "import numpy as np\n",
        "import math\n",
        "import pandas as pd\n",
        "# import os\n",
        "# from google.colab import drive"
      ]
    },
    {
      "cell_type": "code",
      "source": [
        "# drive.mount('/content/drive')\n",
        "# os.chdir('/content/drive/MyDrive/')"
      ],
      "metadata": {
        "colab": {
          "base_uri": "https://localhost:8080/"
        },
        "id": "ESH4U4Ic_shG",
        "outputId": "d211f48e-2d4e-4715-cbc4-ebe4e4a9c3f7"
      },
      "execution_count": 3,
      "outputs": [
        {
          "output_type": "stream",
          "name": "stdout",
          "text": [
            "Mounted at /content/drive\n"
          ]
        }
      ]
    },
    {
      "cell_type": "markdown",
      "source": [
        "# Reading data"
      ],
      "metadata": {
        "id": "Jfs2AERTGJft"
      }
    },
    {
      "cell_type": "code",
      "source": [
        "df_a = pd.read_csv('articles.csv')"
      ],
      "metadata": {
        "id": "bUqfVbpL_nqR"
      },
      "execution_count": 4,
      "outputs": []
    },
    {
      "cell_type": "code",
      "source": [
        "df_a.head(5)"
      ],
      "metadata": {
        "colab": {
          "base_uri": "https://localhost:8080/",
          "height": 560
        },
        "id": "VIMI_9m__wrk",
        "outputId": "65aedfe0-3e28-46dc-d869-ee41460d9e82"
      },
      "execution_count": 5,
      "outputs": [
        {
          "output_type": "execute_result",
          "data": {
            "text/plain": [
              "   article_id  product_code          prod_name  product_type_no  \\\n",
              "0   108775015        108775          Strap top              253   \n",
              "1   108775044        108775          Strap top              253   \n",
              "2   108775051        108775      Strap top (1)              253   \n",
              "3   110065001        110065  OP T-shirt (Idro)              306   \n",
              "4   110065002        110065  OP T-shirt (Idro)              306   \n",
              "\n",
              "  product_type_name  product_group_name  graphical_appearance_no  \\\n",
              "0          Vest top  Garment Upper body                  1010016   \n",
              "1          Vest top  Garment Upper body                  1010016   \n",
              "2          Vest top  Garment Upper body                  1010017   \n",
              "3               Bra           Underwear                  1010016   \n",
              "4               Bra           Underwear                  1010016   \n",
              "\n",
              "  graphical_appearance_name  colour_group_code colour_group_name  ...  \\\n",
              "0                     Solid                  9             Black  ...   \n",
              "1                     Solid                 10             White  ...   \n",
              "2                    Stripe                 11         Off White  ...   \n",
              "3                     Solid                  9             Black  ...   \n",
              "4                     Solid                 10             White  ...   \n",
              "\n",
              "   department_name index_code        index_name index_group_no  \\\n",
              "0     Jersey Basic          A        Ladieswear              1   \n",
              "1     Jersey Basic          A        Ladieswear              1   \n",
              "2     Jersey Basic          A        Ladieswear              1   \n",
              "3   Clean Lingerie          B  Lingeries/Tights              1   \n",
              "4   Clean Lingerie          B  Lingeries/Tights              1   \n",
              "\n",
              "   index_group_name section_no            section_name garment_group_no  \\\n",
              "0        Ladieswear         16  Womens Everyday Basics             1002   \n",
              "1        Ladieswear         16  Womens Everyday Basics             1002   \n",
              "2        Ladieswear         16  Womens Everyday Basics             1002   \n",
              "3        Ladieswear         61         Womens Lingerie             1017   \n",
              "4        Ladieswear         61         Womens Lingerie             1017   \n",
              "\n",
              "   garment_group_name                                        detail_desc  \n",
              "0        Jersey Basic            Jersey top with narrow shoulder straps.  \n",
              "1        Jersey Basic            Jersey top with narrow shoulder straps.  \n",
              "2        Jersey Basic            Jersey top with narrow shoulder straps.  \n",
              "3   Under-, Nightwear  Microfibre T-shirt bra with underwired, moulde...  \n",
              "4   Under-, Nightwear  Microfibre T-shirt bra with underwired, moulde...  \n",
              "\n",
              "[5 rows x 25 columns]"
            ],
            "text/html": [
              "\n",
              "  <div id=\"df-e2a7821a-7d2f-4d1e-8147-737d6df2d87e\">\n",
              "    <div class=\"colab-df-container\">\n",
              "      <div>\n",
              "<style scoped>\n",
              "    .dataframe tbody tr th:only-of-type {\n",
              "        vertical-align: middle;\n",
              "    }\n",
              "\n",
              "    .dataframe tbody tr th {\n",
              "        vertical-align: top;\n",
              "    }\n",
              "\n",
              "    .dataframe thead th {\n",
              "        text-align: right;\n",
              "    }\n",
              "</style>\n",
              "<table border=\"1\" class=\"dataframe\">\n",
              "  <thead>\n",
              "    <tr style=\"text-align: right;\">\n",
              "      <th></th>\n",
              "      <th>article_id</th>\n",
              "      <th>product_code</th>\n",
              "      <th>prod_name</th>\n",
              "      <th>product_type_no</th>\n",
              "      <th>product_type_name</th>\n",
              "      <th>product_group_name</th>\n",
              "      <th>graphical_appearance_no</th>\n",
              "      <th>graphical_appearance_name</th>\n",
              "      <th>colour_group_code</th>\n",
              "      <th>colour_group_name</th>\n",
              "      <th>...</th>\n",
              "      <th>department_name</th>\n",
              "      <th>index_code</th>\n",
              "      <th>index_name</th>\n",
              "      <th>index_group_no</th>\n",
              "      <th>index_group_name</th>\n",
              "      <th>section_no</th>\n",
              "      <th>section_name</th>\n",
              "      <th>garment_group_no</th>\n",
              "      <th>garment_group_name</th>\n",
              "      <th>detail_desc</th>\n",
              "    </tr>\n",
              "  </thead>\n",
              "  <tbody>\n",
              "    <tr>\n",
              "      <th>0</th>\n",
              "      <td>108775015</td>\n",
              "      <td>108775</td>\n",
              "      <td>Strap top</td>\n",
              "      <td>253</td>\n",
              "      <td>Vest top</td>\n",
              "      <td>Garment Upper body</td>\n",
              "      <td>1010016</td>\n",
              "      <td>Solid</td>\n",
              "      <td>9</td>\n",
              "      <td>Black</td>\n",
              "      <td>...</td>\n",
              "      <td>Jersey Basic</td>\n",
              "      <td>A</td>\n",
              "      <td>Ladieswear</td>\n",
              "      <td>1</td>\n",
              "      <td>Ladieswear</td>\n",
              "      <td>16</td>\n",
              "      <td>Womens Everyday Basics</td>\n",
              "      <td>1002</td>\n",
              "      <td>Jersey Basic</td>\n",
              "      <td>Jersey top with narrow shoulder straps.</td>\n",
              "    </tr>\n",
              "    <tr>\n",
              "      <th>1</th>\n",
              "      <td>108775044</td>\n",
              "      <td>108775</td>\n",
              "      <td>Strap top</td>\n",
              "      <td>253</td>\n",
              "      <td>Vest top</td>\n",
              "      <td>Garment Upper body</td>\n",
              "      <td>1010016</td>\n",
              "      <td>Solid</td>\n",
              "      <td>10</td>\n",
              "      <td>White</td>\n",
              "      <td>...</td>\n",
              "      <td>Jersey Basic</td>\n",
              "      <td>A</td>\n",
              "      <td>Ladieswear</td>\n",
              "      <td>1</td>\n",
              "      <td>Ladieswear</td>\n",
              "      <td>16</td>\n",
              "      <td>Womens Everyday Basics</td>\n",
              "      <td>1002</td>\n",
              "      <td>Jersey Basic</td>\n",
              "      <td>Jersey top with narrow shoulder straps.</td>\n",
              "    </tr>\n",
              "    <tr>\n",
              "      <th>2</th>\n",
              "      <td>108775051</td>\n",
              "      <td>108775</td>\n",
              "      <td>Strap top (1)</td>\n",
              "      <td>253</td>\n",
              "      <td>Vest top</td>\n",
              "      <td>Garment Upper body</td>\n",
              "      <td>1010017</td>\n",
              "      <td>Stripe</td>\n",
              "      <td>11</td>\n",
              "      <td>Off White</td>\n",
              "      <td>...</td>\n",
              "      <td>Jersey Basic</td>\n",
              "      <td>A</td>\n",
              "      <td>Ladieswear</td>\n",
              "      <td>1</td>\n",
              "      <td>Ladieswear</td>\n",
              "      <td>16</td>\n",
              "      <td>Womens Everyday Basics</td>\n",
              "      <td>1002</td>\n",
              "      <td>Jersey Basic</td>\n",
              "      <td>Jersey top with narrow shoulder straps.</td>\n",
              "    </tr>\n",
              "    <tr>\n",
              "      <th>3</th>\n",
              "      <td>110065001</td>\n",
              "      <td>110065</td>\n",
              "      <td>OP T-shirt (Idro)</td>\n",
              "      <td>306</td>\n",
              "      <td>Bra</td>\n",
              "      <td>Underwear</td>\n",
              "      <td>1010016</td>\n",
              "      <td>Solid</td>\n",
              "      <td>9</td>\n",
              "      <td>Black</td>\n",
              "      <td>...</td>\n",
              "      <td>Clean Lingerie</td>\n",
              "      <td>B</td>\n",
              "      <td>Lingeries/Tights</td>\n",
              "      <td>1</td>\n",
              "      <td>Ladieswear</td>\n",
              "      <td>61</td>\n",
              "      <td>Womens Lingerie</td>\n",
              "      <td>1017</td>\n",
              "      <td>Under-, Nightwear</td>\n",
              "      <td>Microfibre T-shirt bra with underwired, moulde...</td>\n",
              "    </tr>\n",
              "    <tr>\n",
              "      <th>4</th>\n",
              "      <td>110065002</td>\n",
              "      <td>110065</td>\n",
              "      <td>OP T-shirt (Idro)</td>\n",
              "      <td>306</td>\n",
              "      <td>Bra</td>\n",
              "      <td>Underwear</td>\n",
              "      <td>1010016</td>\n",
              "      <td>Solid</td>\n",
              "      <td>10</td>\n",
              "      <td>White</td>\n",
              "      <td>...</td>\n",
              "      <td>Clean Lingerie</td>\n",
              "      <td>B</td>\n",
              "      <td>Lingeries/Tights</td>\n",
              "      <td>1</td>\n",
              "      <td>Ladieswear</td>\n",
              "      <td>61</td>\n",
              "      <td>Womens Lingerie</td>\n",
              "      <td>1017</td>\n",
              "      <td>Under-, Nightwear</td>\n",
              "      <td>Microfibre T-shirt bra with underwired, moulde...</td>\n",
              "    </tr>\n",
              "  </tbody>\n",
              "</table>\n",
              "<p>5 rows × 25 columns</p>\n",
              "</div>\n",
              "      <button class=\"colab-df-convert\" onclick=\"convertToInteractive('df-e2a7821a-7d2f-4d1e-8147-737d6df2d87e')\"\n",
              "              title=\"Convert this dataframe to an interactive table.\"\n",
              "              style=\"display:none;\">\n",
              "        \n",
              "  <svg xmlns=\"http://www.w3.org/2000/svg\" height=\"24px\"viewBox=\"0 0 24 24\"\n",
              "       width=\"24px\">\n",
              "    <path d=\"M0 0h24v24H0V0z\" fill=\"none\"/>\n",
              "    <path d=\"M18.56 5.44l.94 2.06.94-2.06 2.06-.94-2.06-.94-.94-2.06-.94 2.06-2.06.94zm-11 1L8.5 8.5l.94-2.06 2.06-.94-2.06-.94L8.5 2.5l-.94 2.06-2.06.94zm10 10l.94 2.06.94-2.06 2.06-.94-2.06-.94-.94-2.06-.94 2.06-2.06.94z\"/><path d=\"M17.41 7.96l-1.37-1.37c-.4-.4-.92-.59-1.43-.59-.52 0-1.04.2-1.43.59L10.3 9.45l-7.72 7.72c-.78.78-.78 2.05 0 2.83L4 21.41c.39.39.9.59 1.41.59.51 0 1.02-.2 1.41-.59l7.78-7.78 2.81-2.81c.8-.78.8-2.07 0-2.86zM5.41 20L4 18.59l7.72-7.72 1.47 1.35L5.41 20z\"/>\n",
              "  </svg>\n",
              "      </button>\n",
              "      \n",
              "  <style>\n",
              "    .colab-df-container {\n",
              "      display:flex;\n",
              "      flex-wrap:wrap;\n",
              "      gap: 12px;\n",
              "    }\n",
              "\n",
              "    .colab-df-convert {\n",
              "      background-color: #E8F0FE;\n",
              "      border: none;\n",
              "      border-radius: 50%;\n",
              "      cursor: pointer;\n",
              "      display: none;\n",
              "      fill: #1967D2;\n",
              "      height: 32px;\n",
              "      padding: 0 0 0 0;\n",
              "      width: 32px;\n",
              "    }\n",
              "\n",
              "    .colab-df-convert:hover {\n",
              "      background-color: #E2EBFA;\n",
              "      box-shadow: 0px 1px 2px rgba(60, 64, 67, 0.3), 0px 1px 3px 1px rgba(60, 64, 67, 0.15);\n",
              "      fill: #174EA6;\n",
              "    }\n",
              "\n",
              "    [theme=dark] .colab-df-convert {\n",
              "      background-color: #3B4455;\n",
              "      fill: #D2E3FC;\n",
              "    }\n",
              "\n",
              "    [theme=dark] .colab-df-convert:hover {\n",
              "      background-color: #434B5C;\n",
              "      box-shadow: 0px 1px 3px 1px rgba(0, 0, 0, 0.15);\n",
              "      filter: drop-shadow(0px 1px 2px rgba(0, 0, 0, 0.3));\n",
              "      fill: #FFFFFF;\n",
              "    }\n",
              "  </style>\n",
              "\n",
              "      <script>\n",
              "        const buttonEl =\n",
              "          document.querySelector('#df-e2a7821a-7d2f-4d1e-8147-737d6df2d87e button.colab-df-convert');\n",
              "        buttonEl.style.display =\n",
              "          google.colab.kernel.accessAllowed ? 'block' : 'none';\n",
              "\n",
              "        async function convertToInteractive(key) {\n",
              "          const element = document.querySelector('#df-e2a7821a-7d2f-4d1e-8147-737d6df2d87e');\n",
              "          const dataTable =\n",
              "            await google.colab.kernel.invokeFunction('convertToInteractive',\n",
              "                                                     [key], {});\n",
              "          if (!dataTable) return;\n",
              "\n",
              "          const docLinkHtml = 'Like what you see? Visit the ' +\n",
              "            '<a target=\"_blank\" href=https://colab.research.google.com/notebooks/data_table.ipynb>data table notebook</a>'\n",
              "            + ' to learn more about interactive tables.';\n",
              "          element.innerHTML = '';\n",
              "          dataTable['output_type'] = 'display_data';\n",
              "          await google.colab.output.renderOutput(dataTable, element);\n",
              "          const docLink = document.createElement('div');\n",
              "          docLink.innerHTML = docLinkHtml;\n",
              "          element.appendChild(docLink);\n",
              "        }\n",
              "      </script>\n",
              "    </div>\n",
              "  </div>\n",
              "  "
            ]
          },
          "metadata": {},
          "execution_count": 5
        }
      ]
    },
    {
      "cell_type": "code",
      "source": [
        "df_a = df_a[['article_id', 'prod_name','product_code','product_type_name', 'department_name', 'garment_group_name', 'product_group_name', 'section_name', 'index_group_name', 'colour_group_name', 'perceived_colour_master_name', 'perceived_colour_value_name', 'graphical_appearance_name', 'detail_desc']] # Choosing significant attributes"
      ],
      "metadata": {
        "id": "POwP-RTU_yot"
      },
      "execution_count": 6,
      "outputs": []
    },
    {
      "cell_type": "code",
      "source": [
        "df_a.head(5)"
      ],
      "metadata": {
        "colab": {
          "base_uri": "https://localhost:8080/",
          "height": 530
        },
        "id": "-lTQUsgV_zNV",
        "outputId": "63897bf9-cd6b-489b-f257-d19b71bf7d63"
      },
      "execution_count": 7,
      "outputs": [
        {
          "output_type": "execute_result",
          "data": {
            "text/plain": [
              "   article_id          prod_name  product_code product_type_name  \\\n",
              "0   108775015          Strap top        108775          Vest top   \n",
              "1   108775044          Strap top        108775          Vest top   \n",
              "2   108775051      Strap top (1)        108775          Vest top   \n",
              "3   110065001  OP T-shirt (Idro)        110065               Bra   \n",
              "4   110065002  OP T-shirt (Idro)        110065               Bra   \n",
              "\n",
              "  department_name garment_group_name  product_group_name  \\\n",
              "0    Jersey Basic       Jersey Basic  Garment Upper body   \n",
              "1    Jersey Basic       Jersey Basic  Garment Upper body   \n",
              "2    Jersey Basic       Jersey Basic  Garment Upper body   \n",
              "3  Clean Lingerie  Under-, Nightwear           Underwear   \n",
              "4  Clean Lingerie  Under-, Nightwear           Underwear   \n",
              "\n",
              "             section_name index_group_name colour_group_name  \\\n",
              "0  Womens Everyday Basics       Ladieswear             Black   \n",
              "1  Womens Everyday Basics       Ladieswear             White   \n",
              "2  Womens Everyday Basics       Ladieswear         Off White   \n",
              "3         Womens Lingerie       Ladieswear             Black   \n",
              "4         Womens Lingerie       Ladieswear             White   \n",
              "\n",
              "  perceived_colour_master_name perceived_colour_value_name  \\\n",
              "0                        Black                        Dark   \n",
              "1                        White                       Light   \n",
              "2                        White                 Dusty Light   \n",
              "3                        Black                        Dark   \n",
              "4                        White                       Light   \n",
              "\n",
              "  graphical_appearance_name                                        detail_desc  \n",
              "0                     Solid            Jersey top with narrow shoulder straps.  \n",
              "1                     Solid            Jersey top with narrow shoulder straps.  \n",
              "2                    Stripe            Jersey top with narrow shoulder straps.  \n",
              "3                     Solid  Microfibre T-shirt bra with underwired, moulde...  \n",
              "4                     Solid  Microfibre T-shirt bra with underwired, moulde...  "
            ],
            "text/html": [
              "\n",
              "  <div id=\"df-00c141ac-daf0-4501-a8cd-76c23d3e77f3\">\n",
              "    <div class=\"colab-df-container\">\n",
              "      <div>\n",
              "<style scoped>\n",
              "    .dataframe tbody tr th:only-of-type {\n",
              "        vertical-align: middle;\n",
              "    }\n",
              "\n",
              "    .dataframe tbody tr th {\n",
              "        vertical-align: top;\n",
              "    }\n",
              "\n",
              "    .dataframe thead th {\n",
              "        text-align: right;\n",
              "    }\n",
              "</style>\n",
              "<table border=\"1\" class=\"dataframe\">\n",
              "  <thead>\n",
              "    <tr style=\"text-align: right;\">\n",
              "      <th></th>\n",
              "      <th>article_id</th>\n",
              "      <th>prod_name</th>\n",
              "      <th>product_code</th>\n",
              "      <th>product_type_name</th>\n",
              "      <th>department_name</th>\n",
              "      <th>garment_group_name</th>\n",
              "      <th>product_group_name</th>\n",
              "      <th>section_name</th>\n",
              "      <th>index_group_name</th>\n",
              "      <th>colour_group_name</th>\n",
              "      <th>perceived_colour_master_name</th>\n",
              "      <th>perceived_colour_value_name</th>\n",
              "      <th>graphical_appearance_name</th>\n",
              "      <th>detail_desc</th>\n",
              "    </tr>\n",
              "  </thead>\n",
              "  <tbody>\n",
              "    <tr>\n",
              "      <th>0</th>\n",
              "      <td>108775015</td>\n",
              "      <td>Strap top</td>\n",
              "      <td>108775</td>\n",
              "      <td>Vest top</td>\n",
              "      <td>Jersey Basic</td>\n",
              "      <td>Jersey Basic</td>\n",
              "      <td>Garment Upper body</td>\n",
              "      <td>Womens Everyday Basics</td>\n",
              "      <td>Ladieswear</td>\n",
              "      <td>Black</td>\n",
              "      <td>Black</td>\n",
              "      <td>Dark</td>\n",
              "      <td>Solid</td>\n",
              "      <td>Jersey top with narrow shoulder straps.</td>\n",
              "    </tr>\n",
              "    <tr>\n",
              "      <th>1</th>\n",
              "      <td>108775044</td>\n",
              "      <td>Strap top</td>\n",
              "      <td>108775</td>\n",
              "      <td>Vest top</td>\n",
              "      <td>Jersey Basic</td>\n",
              "      <td>Jersey Basic</td>\n",
              "      <td>Garment Upper body</td>\n",
              "      <td>Womens Everyday Basics</td>\n",
              "      <td>Ladieswear</td>\n",
              "      <td>White</td>\n",
              "      <td>White</td>\n",
              "      <td>Light</td>\n",
              "      <td>Solid</td>\n",
              "      <td>Jersey top with narrow shoulder straps.</td>\n",
              "    </tr>\n",
              "    <tr>\n",
              "      <th>2</th>\n",
              "      <td>108775051</td>\n",
              "      <td>Strap top (1)</td>\n",
              "      <td>108775</td>\n",
              "      <td>Vest top</td>\n",
              "      <td>Jersey Basic</td>\n",
              "      <td>Jersey Basic</td>\n",
              "      <td>Garment Upper body</td>\n",
              "      <td>Womens Everyday Basics</td>\n",
              "      <td>Ladieswear</td>\n",
              "      <td>Off White</td>\n",
              "      <td>White</td>\n",
              "      <td>Dusty Light</td>\n",
              "      <td>Stripe</td>\n",
              "      <td>Jersey top with narrow shoulder straps.</td>\n",
              "    </tr>\n",
              "    <tr>\n",
              "      <th>3</th>\n",
              "      <td>110065001</td>\n",
              "      <td>OP T-shirt (Idro)</td>\n",
              "      <td>110065</td>\n",
              "      <td>Bra</td>\n",
              "      <td>Clean Lingerie</td>\n",
              "      <td>Under-, Nightwear</td>\n",
              "      <td>Underwear</td>\n",
              "      <td>Womens Lingerie</td>\n",
              "      <td>Ladieswear</td>\n",
              "      <td>Black</td>\n",
              "      <td>Black</td>\n",
              "      <td>Dark</td>\n",
              "      <td>Solid</td>\n",
              "      <td>Microfibre T-shirt bra with underwired, moulde...</td>\n",
              "    </tr>\n",
              "    <tr>\n",
              "      <th>4</th>\n",
              "      <td>110065002</td>\n",
              "      <td>OP T-shirt (Idro)</td>\n",
              "      <td>110065</td>\n",
              "      <td>Bra</td>\n",
              "      <td>Clean Lingerie</td>\n",
              "      <td>Under-, Nightwear</td>\n",
              "      <td>Underwear</td>\n",
              "      <td>Womens Lingerie</td>\n",
              "      <td>Ladieswear</td>\n",
              "      <td>White</td>\n",
              "      <td>White</td>\n",
              "      <td>Light</td>\n",
              "      <td>Solid</td>\n",
              "      <td>Microfibre T-shirt bra with underwired, moulde...</td>\n",
              "    </tr>\n",
              "  </tbody>\n",
              "</table>\n",
              "</div>\n",
              "      <button class=\"colab-df-convert\" onclick=\"convertToInteractive('df-00c141ac-daf0-4501-a8cd-76c23d3e77f3')\"\n",
              "              title=\"Convert this dataframe to an interactive table.\"\n",
              "              style=\"display:none;\">\n",
              "        \n",
              "  <svg xmlns=\"http://www.w3.org/2000/svg\" height=\"24px\"viewBox=\"0 0 24 24\"\n",
              "       width=\"24px\">\n",
              "    <path d=\"M0 0h24v24H0V0z\" fill=\"none\"/>\n",
              "    <path d=\"M18.56 5.44l.94 2.06.94-2.06 2.06-.94-2.06-.94-.94-2.06-.94 2.06-2.06.94zm-11 1L8.5 8.5l.94-2.06 2.06-.94-2.06-.94L8.5 2.5l-.94 2.06-2.06.94zm10 10l.94 2.06.94-2.06 2.06-.94-2.06-.94-.94-2.06-.94 2.06-2.06.94z\"/><path d=\"M17.41 7.96l-1.37-1.37c-.4-.4-.92-.59-1.43-.59-.52 0-1.04.2-1.43.59L10.3 9.45l-7.72 7.72c-.78.78-.78 2.05 0 2.83L4 21.41c.39.39.9.59 1.41.59.51 0 1.02-.2 1.41-.59l7.78-7.78 2.81-2.81c.8-.78.8-2.07 0-2.86zM5.41 20L4 18.59l7.72-7.72 1.47 1.35L5.41 20z\"/>\n",
              "  </svg>\n",
              "      </button>\n",
              "      \n",
              "  <style>\n",
              "    .colab-df-container {\n",
              "      display:flex;\n",
              "      flex-wrap:wrap;\n",
              "      gap: 12px;\n",
              "    }\n",
              "\n",
              "    .colab-df-convert {\n",
              "      background-color: #E8F0FE;\n",
              "      border: none;\n",
              "      border-radius: 50%;\n",
              "      cursor: pointer;\n",
              "      display: none;\n",
              "      fill: #1967D2;\n",
              "      height: 32px;\n",
              "      padding: 0 0 0 0;\n",
              "      width: 32px;\n",
              "    }\n",
              "\n",
              "    .colab-df-convert:hover {\n",
              "      background-color: #E2EBFA;\n",
              "      box-shadow: 0px 1px 2px rgba(60, 64, 67, 0.3), 0px 1px 3px 1px rgba(60, 64, 67, 0.15);\n",
              "      fill: #174EA6;\n",
              "    }\n",
              "\n",
              "    [theme=dark] .colab-df-convert {\n",
              "      background-color: #3B4455;\n",
              "      fill: #D2E3FC;\n",
              "    }\n",
              "\n",
              "    [theme=dark] .colab-df-convert:hover {\n",
              "      background-color: #434B5C;\n",
              "      box-shadow: 0px 1px 3px 1px rgba(0, 0, 0, 0.15);\n",
              "      filter: drop-shadow(0px 1px 2px rgba(0, 0, 0, 0.3));\n",
              "      fill: #FFFFFF;\n",
              "    }\n",
              "  </style>\n",
              "\n",
              "      <script>\n",
              "        const buttonEl =\n",
              "          document.querySelector('#df-00c141ac-daf0-4501-a8cd-76c23d3e77f3 button.colab-df-convert');\n",
              "        buttonEl.style.display =\n",
              "          google.colab.kernel.accessAllowed ? 'block' : 'none';\n",
              "\n",
              "        async function convertToInteractive(key) {\n",
              "          const element = document.querySelector('#df-00c141ac-daf0-4501-a8cd-76c23d3e77f3');\n",
              "          const dataTable =\n",
              "            await google.colab.kernel.invokeFunction('convertToInteractive',\n",
              "                                                     [key], {});\n",
              "          if (!dataTable) return;\n",
              "\n",
              "          const docLinkHtml = 'Like what you see? Visit the ' +\n",
              "            '<a target=\"_blank\" href=https://colab.research.google.com/notebooks/data_table.ipynb>data table notebook</a>'\n",
              "            + ' to learn more about interactive tables.';\n",
              "          element.innerHTML = '';\n",
              "          dataTable['output_type'] = 'display_data';\n",
              "          await google.colab.output.renderOutput(dataTable, element);\n",
              "          const docLink = document.createElement('div');\n",
              "          docLink.innerHTML = docLinkHtml;\n",
              "          element.appendChild(docLink);\n",
              "        }\n",
              "      </script>\n",
              "    </div>\n",
              "  </div>\n",
              "  "
            ]
          },
          "metadata": {},
          "execution_count": 7
        }
      ]
    },
    {
      "cell_type": "markdown",
      "source": [
        "# Using hierarchy to perform analysis at different levels"
      ],
      "metadata": {
        "id": "g9sj11D_GO8c"
      }
    },
    {
      "cell_type": "code",
      "source": [
        "def hier(att1, att2): # Number of distinct features in att2 corresponding to a distinct feature in att1\n",
        "  id1 = list(df_a.columns).index(att1)\n",
        "  id2 = list(df_a.columns).index(att2)\n",
        "  id1_id2 = dict()\n",
        "  for i in range(len(df_a)):\n",
        "    if df_a.loc[i][id1] not in id1_id2:\n",
        "      id1_id2[df_a.loc[i][id1]] = [df_a.loc[i][id2]]\n",
        "    else:\n",
        "      if df_a.loc[i][id2] not in id1_id2[df_a.loc[i][id1]]:\n",
        "        id1_id2[df_a.loc[i][id1]].append(df_a.loc[i][id2])\n",
        "  num_id2 = dict()\n",
        "  for i in id1_id2:\n",
        "    l = len(id1_id2[i])\n",
        "    if l not in num_id2:\n",
        "      num_id2[l] = 1\n",
        "    else:\n",
        "      num_id2[l] += 1\n",
        "  num_id2 = sorted(list(num_id2.items()), key = lambda x: x[0], reverse = True)\n",
        "  id1_id2 = sorted(list(id1_id2.items()), key = lambda x: len(x[1]), reverse = True)\n",
        "  return num_id2, id1_id2"
      ],
      "metadata": {
        "id": "uS_OJvsX_1_W"
      },
      "execution_count": 8,
      "outputs": []
    },
    {
      "cell_type": "code",
      "source": [
        "def stats(arr): \n",
        "  tmp = []\n",
        "  for i in arr:\n",
        "    for _ in range(i[1]):\n",
        "      tmp.append(i[0])\n",
        "  avg = np.mean(np.array(tmp))\n",
        "  std = np.std(np.array(tmp))\n",
        "  med = np.median(np.array(tmp))\n",
        "  return avg, std, med"
      ],
      "metadata": {
        "id": "4d_rgjyy_2ir"
      },
      "execution_count": 9,
      "outputs": []
    },
    {
      "cell_type": "code",
      "source": [
        "# For category-subcategory pair\n",
        "num_cat_subs, val_cat_subs = hier('product_group_name', 'product_type_name')\n",
        "print(num_cat_subs)"
      ],
      "metadata": {
        "colab": {
          "base_uri": "https://localhost:8080/"
        },
        "id": "OlhzHDu7_4sj",
        "outputId": "2721f801-1d46-4392-9d4a-01875de373f9"
      },
      "execution_count": 10,
      "outputs": [
        {
          "output_type": "stream",
          "name": "stdout",
          "text": [
            "[(38, 1), (16, 1), (15, 1), (11, 1), (6, 4), (5, 2), (4, 1), (3, 2), (2, 2), (1, 4)]\n"
          ]
        }
      ]
    },
    {
      "cell_type": "code",
      "source": [
        "# Statistics for category - subcategory\n",
        "avg_cat_subs, std_cat_subs, med_cat_subs = stats(num_cat_subs)\n",
        "print(avg_cat_subs, std_cat_subs, med_cat_subs)"
      ],
      "metadata": {
        "colab": {
          "base_uri": "https://localhost:8080/"
        },
        "id": "6v-goAia_7rk",
        "outputId": "96111d2a-87c3-41e2-94c3-ee02ce958c92"
      },
      "execution_count": 13,
      "outputs": [
        {
          "output_type": "stream",
          "name": "stdout",
          "text": [
            "6.947368421052632 8.488218982557228 5.0\n"
          ]
        }
      ]
    },
    {
      "cell_type": "code",
      "source": [
        "# For subcategory-product pair\n",
        "num_sub_prods, val_sub_prods = hier('product_type_name', 'product_code')\n",
        "print(num_sub_prods)"
      ],
      "metadata": {
        "colab": {
          "base_uri": "https://localhost:8080/"
        },
        "id": "rZEAN9lj_9Dv",
        "outputId": "0a6f4424-0780-4b64-94a3-26611688a3c6"
      },
      "execution_count": 11,
      "outputs": [
        {
          "output_type": "stream",
          "name": "stdout",
          "text": [
            "[(5551, 1), (4711, 1), (3618, 1), (2313, 1), (2172, 1), (2063, 1), (1893, 1), (1580, 1), (1550, 1), (1344, 1), (1112, 1), (947, 1), (918, 1), (807, 1), (779, 1), (762, 1), (757, 1), (739, 1), (703, 1), (656, 1), (654, 1), (634, 1), (624, 1), (614, 1), (611, 1), (474, 1), (452, 1), (432, 1), (421, 1), (418, 1), (387, 1), (383, 1), (362, 1), (355, 1), (348, 1), (342, 1), (294, 1), (288, 1), (261, 1), (255, 1), (233, 1), (225, 1), (224, 1), (208, 1), (195, 1), (161, 1), (160, 1), (141, 1), (140, 1), (139, 1), (131, 1), (125, 1), (115, 1), (113, 1), (102, 1), (99, 1), (92, 1), (91, 1), (89, 1), (82, 1), (78, 1), (75, 1), (67, 1), (64, 1), (61, 1), (53, 1), (47, 1), (44, 1), (43, 1), (38, 1), (37, 1), (34, 1), (32, 1), (31, 1), (29, 1), (28, 2), (26, 1), (21, 1), (18, 1), (17, 1), (15, 2), (13, 1), (12, 1), (11, 1), (10, 3), (8, 1), (7, 3), (6, 3), (5, 4), (4, 3), (3, 3), (2, 9), (1, 16)]\n"
          ]
        }
      ]
    },
    {
      "cell_type": "code",
      "source": [
        "# Statistics for subcategory - product\n",
        "avg_sub_prods, std_sub_prods, med_sub_prods = stats(num_sub_prods)\n",
        "print(avg_sub_prods, std_sub_prods, med_sub_prods)"
      ],
      "metadata": {
        "colab": {
          "base_uri": "https://localhost:8080/"
        },
        "id": "G3oUbj3A_-a-",
        "outputId": "11a02385-a953-4301-bb4f-5890e82dc9cf"
      },
      "execution_count": 14,
      "outputs": [
        {
          "output_type": "stream",
          "name": "stdout",
          "text": [
            "362.8854961832061 804.8028599461023 53.0\n"
          ]
        }
      ]
    },
    {
      "cell_type": "code",
      "source": [
        "# For product-variant pair\n",
        "num_prod_vars, val_prod_vars = hier('product_code', 'article_id')\n",
        "print(num_prod_vars)"
      ],
      "metadata": {
        "colab": {
          "base_uri": "https://localhost:8080/"
        },
        "id": "6IkdLrJOAAPU",
        "outputId": "ecfe1fe0-97d7-4b5c-e6df-d7629a5acabd"
      },
      "execution_count": 12,
      "outputs": [
        {
          "output_type": "stream",
          "name": "stdout",
          "text": [
            "[(75, 1), (70, 1), (52, 1), (49, 1), (46, 1), (44, 1), (41, 4), (40, 2), (39, 5), (38, 3), (37, 3), (36, 3), (35, 1), (34, 2), (33, 3), (32, 4), (31, 4), (30, 7), (29, 4), (28, 8), (27, 8), (26, 8), (25, 11), (24, 14), (23, 13), (22, 19), (21, 22), (20, 26), (19, 35), (18, 33), (17, 46), (16, 47), (15, 74), (14, 68), (13, 78), (12, 100), (11, 122), (10, 180), (9, 206), (8, 319), (7, 459), (6, 778), (5, 1189), (4, 2376), (3, 4947), (2, 11921), (1, 24066)]\n"
          ]
        }
      ]
    },
    {
      "cell_type": "code",
      "source": [
        "# Statistics for product - variant\n",
        "avg_prod_vars, std_prod_vars, med_prod_vars = stats(num_prod_vars)\n",
        "print(avg_prod_vars, std_prod_vars, med_prod_vars)"
      ],
      "metadata": {
        "colab": {
          "base_uri": "https://localhost:8080/"
        },
        "id": "YH7FLqnuAB6o",
        "outputId": "3ce7ff22-eba4-4bdd-89bb-1df3fa4763c1"
      },
      "execution_count": 15,
      "outputs": [
        {
          "output_type": "stream",
          "name": "stdout",
          "text": [
            "2.2349229205488736 2.592045019088338 1.0\n"
          ]
        }
      ]
    }
  ]
}