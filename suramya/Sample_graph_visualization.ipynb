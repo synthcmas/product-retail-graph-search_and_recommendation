{
 "cells": [
  {
   "cell_type": "code",
   "execution_count": 28,
   "metadata": {},
   "outputs": [],
   "source": [
    "from pyvis.network import Network\n",
    "import pandas as pd\n",
    "import numpy as np\n",
    "\n"
   ]
  },
  {
   "cell_type": "code",
   "execution_count": 29,
   "metadata": {},
   "outputs": [],
   "source": [
    "##creating a network instance\n",
    "g = Network(height = \"1500px\", width = \"100%\", bgcolor = \"#222222\", font_color = \"white\", directed= True)"
   ]
  },
  {
   "cell_type": "code",
   "execution_count": 30,
   "metadata": {},
   "outputs": [],
   "source": [
    "## importing the data\n",
    "prod = pd.read_csv(r\"C:\\Users\\Suramya Verma\\Desktop\\gg\\prod_nodes_hnm_v2.csv\")\n",
    "att = pd.read_csv(r\"C:\\Users\\Suramya Verma\\Desktop\\gg\\att_nodes_hnm_v2.csv\")\n",
    "att_prod_rel = pd.read_csv(r\"C:\\Users\\Suramya Verma\\Desktop\\gg\\att_prod_rel_hnm_v2.csv\")\n",
    "prod_att_rel = pd.read_csv(r\"C:\\Users\\Suramya Verma\\Desktop\\gg\\prod_att_rel_hnm_v2.csv\")"
   ]
  },
  {
   "cell_type": "code",
   "execution_count": 31,
   "metadata": {},
   "outputs": [
    {
     "data": {
      "text/html": [
       "<div>\n",
       "<style scoped>\n",
       "    .dataframe tbody tr th:only-of-type {\n",
       "        vertical-align: middle;\n",
       "    }\n",
       "\n",
       "    .dataframe tbody tr th {\n",
       "        vertical-align: top;\n",
       "    }\n",
       "\n",
       "    .dataframe thead th {\n",
       "        text-align: right;\n",
       "    }\n",
       "</style>\n",
       "<table border=\"1\" class=\"dataframe\">\n",
       "  <thead>\n",
       "    <tr style=\"text-align: right;\">\n",
       "      <th></th>\n",
       "      <th>~id</th>\n",
       "      <th>~label</th>\n",
       "      <th>name:String</th>\n",
       "    </tr>\n",
       "  </thead>\n",
       "  <tbody>\n",
       "    <tr>\n",
       "      <th>0</th>\n",
       "      <td>863583001</td>\n",
       "      <td>product</td>\n",
       "      <td>Morris</td>\n",
       "    </tr>\n",
       "    <tr>\n",
       "      <th>1</th>\n",
       "      <td>810507002</td>\n",
       "      <td>product</td>\n",
       "      <td>BYRON</td>\n",
       "    </tr>\n",
       "    <tr>\n",
       "      <th>2</th>\n",
       "      <td>829014002</td>\n",
       "      <td>product</td>\n",
       "      <td>PC Birkin HW Tapered</td>\n",
       "    </tr>\n",
       "    <tr>\n",
       "      <th>3</th>\n",
       "      <td>642437015</td>\n",
       "      <td>product</td>\n",
       "      <td>Fancy Pants (1)</td>\n",
       "    </tr>\n",
       "    <tr>\n",
       "      <th>4</th>\n",
       "      <td>843267002</td>\n",
       "      <td>product</td>\n",
       "      <td>GP Circus</td>\n",
       "    </tr>\n",
       "  </tbody>\n",
       "</table>\n",
       "</div>"
      ],
      "text/plain": [
       "         ~id   ~label           name:String\n",
       "0  863583001  product                Morris\n",
       "1  810507002  product                 BYRON\n",
       "2  829014002  product  PC Birkin HW Tapered\n",
       "3  642437015  product       Fancy Pants (1)\n",
       "4  843267002  product             GP Circus"
      ]
     },
     "execution_count": 31,
     "metadata": {},
     "output_type": "execute_result"
    }
   ],
   "source": [
    "prod.head()"
   ]
  },
  {
   "cell_type": "code",
   "execution_count": 32,
   "metadata": {},
   "outputs": [
    {
     "data": {
      "text/html": [
       "<div>\n",
       "<style scoped>\n",
       "    .dataframe tbody tr th:only-of-type {\n",
       "        vertical-align: middle;\n",
       "    }\n",
       "\n",
       "    .dataframe tbody tr th {\n",
       "        vertical-align: top;\n",
       "    }\n",
       "\n",
       "    .dataframe thead th {\n",
       "        text-align: right;\n",
       "    }\n",
       "</style>\n",
       "<table border=\"1\" class=\"dataframe\">\n",
       "  <thead>\n",
       "    <tr style=\"text-align: right;\">\n",
       "      <th></th>\n",
       "      <th>~id</th>\n",
       "      <th>~label</th>\n",
       "      <th>name:String</th>\n",
       "    </tr>\n",
       "  </thead>\n",
       "  <tbody>\n",
       "    <tr>\n",
       "      <th>0</th>\n",
       "      <td>ptn1</td>\n",
       "      <td>product_type_name</td>\n",
       "      <td>Sweater</td>\n",
       "    </tr>\n",
       "    <tr>\n",
       "      <th>1</th>\n",
       "      <td>ptn2</td>\n",
       "      <td>product_type_name</td>\n",
       "      <td>Trousers</td>\n",
       "    </tr>\n",
       "    <tr>\n",
       "      <th>2</th>\n",
       "      <td>ptn3</td>\n",
       "      <td>product_type_name</td>\n",
       "      <td>Dress</td>\n",
       "    </tr>\n",
       "    <tr>\n",
       "      <th>3</th>\n",
       "      <td>ptn4</td>\n",
       "      <td>product_type_name</td>\n",
       "      <td>Bikini top</td>\n",
       "    </tr>\n",
       "    <tr>\n",
       "      <th>4</th>\n",
       "      <td>ptn5</td>\n",
       "      <td>product_type_name</td>\n",
       "      <td>Pumps</td>\n",
       "    </tr>\n",
       "  </tbody>\n",
       "</table>\n",
       "</div>"
      ],
      "text/plain": [
       "    ~id             ~label name:String\n",
       "0  ptn1  product_type_name     Sweater\n",
       "1  ptn2  product_type_name    Trousers\n",
       "2  ptn3  product_type_name       Dress\n",
       "3  ptn4  product_type_name  Bikini top\n",
       "4  ptn5  product_type_name       Pumps"
      ]
     },
     "execution_count": 32,
     "metadata": {},
     "output_type": "execute_result"
    }
   ],
   "source": [
    "att.head()"
   ]
  },
  {
   "cell_type": "code",
   "execution_count": 33,
   "metadata": {},
   "outputs": [
    {
     "data": {
      "text/html": [
       "<div>\n",
       "<style scoped>\n",
       "    .dataframe tbody tr th:only-of-type {\n",
       "        vertical-align: middle;\n",
       "    }\n",
       "\n",
       "    .dataframe tbody tr th {\n",
       "        vertical-align: top;\n",
       "    }\n",
       "\n",
       "    .dataframe thead th {\n",
       "        text-align: right;\n",
       "    }\n",
       "</style>\n",
       "<table border=\"1\" class=\"dataframe\">\n",
       "  <thead>\n",
       "    <tr style=\"text-align: right;\">\n",
       "      <th></th>\n",
       "      <th>~id</th>\n",
       "      <th>~from</th>\n",
       "      <th>~to</th>\n",
       "      <th>~label</th>\n",
       "      <th>weight:Double</th>\n",
       "      <th>weight</th>\n",
       "      <th>114.2039801</th>\n",
       "      <th>170.6065072</th>\n",
       "    </tr>\n",
       "  </thead>\n",
       "  <tbody>\n",
       "    <tr>\n",
       "      <th>0</th>\n",
       "      <td>ptn1_863583001</td>\n",
       "      <td>ptn1</td>\n",
       "      <td>863583001</td>\n",
       "      <td>ATTR_OF</td>\n",
       "      <td>99</td>\n",
       "      <td>0.910883</td>\n",
       "      <td>NaN</td>\n",
       "      <td>NaN</td>\n",
       "    </tr>\n",
       "    <tr>\n",
       "      <th>1</th>\n",
       "      <td>ptn1_810507002</td>\n",
       "      <td>ptn1</td>\n",
       "      <td>810507002</td>\n",
       "      <td>ATTR_OF</td>\n",
       "      <td>15</td>\n",
       "      <td>0.418522</td>\n",
       "      <td>NaN</td>\n",
       "      <td>NaN</td>\n",
       "    </tr>\n",
       "    <tr>\n",
       "      <th>2</th>\n",
       "      <td>ptn2_829014002</td>\n",
       "      <td>ptn2</td>\n",
       "      <td>829014002</td>\n",
       "      <td>ATTR_OF</td>\n",
       "      <td>62</td>\n",
       "      <td>0.694009</td>\n",
       "      <td>NaN</td>\n",
       "      <td>NaN</td>\n",
       "    </tr>\n",
       "    <tr>\n",
       "      <th>3</th>\n",
       "      <td>ptn2_642437015</td>\n",
       "      <td>ptn2</td>\n",
       "      <td>642437015</td>\n",
       "      <td>ATTR_OF</td>\n",
       "      <td>70</td>\n",
       "      <td>0.740901</td>\n",
       "      <td>NaN</td>\n",
       "      <td>NaN</td>\n",
       "    </tr>\n",
       "    <tr>\n",
       "      <th>4</th>\n",
       "      <td>ptn3_843267002</td>\n",
       "      <td>ptn3</td>\n",
       "      <td>843267002</td>\n",
       "      <td>ATTR_OF</td>\n",
       "      <td>43</td>\n",
       "      <td>0.582642</td>\n",
       "      <td>NaN</td>\n",
       "      <td>NaN</td>\n",
       "    </tr>\n",
       "  </tbody>\n",
       "</table>\n",
       "</div>"
      ],
      "text/plain": [
       "              ~id ~from        ~to   ~label  weight:Double    weight  \\\n",
       "0  ptn1_863583001  ptn1  863583001  ATTR_OF             99  0.910883   \n",
       "1  ptn1_810507002  ptn1  810507002  ATTR_OF             15  0.418522   \n",
       "2  ptn2_829014002  ptn2  829014002  ATTR_OF             62  0.694009   \n",
       "3  ptn2_642437015  ptn2  642437015  ATTR_OF             70  0.740901   \n",
       "4  ptn3_843267002  ptn3  843267002  ATTR_OF             43  0.582642   \n",
       "\n",
       "   114.2039801  170.6065072  \n",
       "0          NaN          NaN  \n",
       "1          NaN          NaN  \n",
       "2          NaN          NaN  \n",
       "3          NaN          NaN  \n",
       "4          NaN          NaN  "
      ]
     },
     "execution_count": 33,
     "metadata": {},
     "output_type": "execute_result"
    }
   ],
   "source": [
    "att_prod_rel.head()"
   ]
  },
  {
   "cell_type": "code",
   "execution_count": 34,
   "metadata": {},
   "outputs": [
    {
     "data": {
      "text/html": [
       "<div>\n",
       "<style scoped>\n",
       "    .dataframe tbody tr th:only-of-type {\n",
       "        vertical-align: middle;\n",
       "    }\n",
       "\n",
       "    .dataframe tbody tr th {\n",
       "        vertical-align: top;\n",
       "    }\n",
       "\n",
       "    .dataframe thead th {\n",
       "        text-align: right;\n",
       "    }\n",
       "</style>\n",
       "<table border=\"1\" class=\"dataframe\">\n",
       "  <thead>\n",
       "    <tr style=\"text-align: right;\">\n",
       "      <th></th>\n",
       "      <th>~id</th>\n",
       "      <th>~from</th>\n",
       "      <th>~to</th>\n",
       "      <th>~label</th>\n",
       "    </tr>\n",
       "  </thead>\n",
       "  <tbody>\n",
       "    <tr>\n",
       "      <th>0</th>\n",
       "      <td>863583001_ptn1</td>\n",
       "      <td>863583001</td>\n",
       "      <td>ptn1</td>\n",
       "      <td>HAS_ATTR</td>\n",
       "    </tr>\n",
       "    <tr>\n",
       "      <th>1</th>\n",
       "      <td>810507002_ptn1</td>\n",
       "      <td>810507002</td>\n",
       "      <td>ptn1</td>\n",
       "      <td>HAS_ATTR</td>\n",
       "    </tr>\n",
       "    <tr>\n",
       "      <th>2</th>\n",
       "      <td>829014002_ptn2</td>\n",
       "      <td>829014002</td>\n",
       "      <td>ptn2</td>\n",
       "      <td>HAS_ATTR</td>\n",
       "    </tr>\n",
       "    <tr>\n",
       "      <th>3</th>\n",
       "      <td>642437015_ptn2</td>\n",
       "      <td>642437015</td>\n",
       "      <td>ptn2</td>\n",
       "      <td>HAS_ATTR</td>\n",
       "    </tr>\n",
       "    <tr>\n",
       "      <th>4</th>\n",
       "      <td>843267002_ptn3</td>\n",
       "      <td>843267002</td>\n",
       "      <td>ptn3</td>\n",
       "      <td>HAS_ATTR</td>\n",
       "    </tr>\n",
       "  </tbody>\n",
       "</table>\n",
       "</div>"
      ],
      "text/plain": [
       "              ~id      ~from   ~to    ~label\n",
       "0  863583001_ptn1  863583001  ptn1  HAS_ATTR\n",
       "1  810507002_ptn1  810507002  ptn1  HAS_ATTR\n",
       "2  829014002_ptn2  829014002  ptn2  HAS_ATTR\n",
       "3  642437015_ptn2  642437015  ptn2  HAS_ATTR\n",
       "4  843267002_ptn3  843267002  ptn3  HAS_ATTR"
      ]
     },
     "execution_count": 34,
     "metadata": {},
     "output_type": "execute_result"
    }
   ],
   "source": [
    "prod_att_rel.head()"
   ]
  },
  {
   "cell_type": "code",
   "execution_count": 35,
   "metadata": {},
   "outputs": [],
   "source": [
    "## making a list of node_color and node shape for each node.\n",
    "color_prod = [\"#da03b3\"]*len(prod['~id'])\n",
    "color_att= [\"#03DAC6\"] * len(att['~id'])\n",
    "shape_prod = [\"ellipse\"]*len(prod['~id'])\n",
    "shape_att = [\"circle\"] * len(att['~id'])"
   ]
  },
  {
   "cell_type": "code",
   "execution_count": 36,
   "metadata": {},
   "outputs": [],
   "source": [
    "## adding product_nodes to graph network\n",
    "g.add_nodes(prod['~id'].values, color = color_prod,\n",
    "        shape =shape_prod, title = prod['~label'], label = prod['name:String'])\n"
   ]
  },
  {
   "cell_type": "code",
   "execution_count": 37,
   "metadata": {},
   "outputs": [],
   "source": [
    "## adding attribute_nodes to graph network\n",
    "g.add_nodes(att['~id'].values, color = color_att , shape = shape_att,\n",
    "           title =att['~label'])"
   ]
  },
  {
   "cell_type": "code",
   "execution_count": 38,
   "metadata": {},
   "outputs": [],
   "source": [
    "##making a zip object to be passed in the add_edge function\n",
    "\n",
    "edge_data = zip(att_prod_rel['~from'], att_prod_rel['~to'],\n",
    "                att_prod_rel['weight'].values)"
   ]
  },
  {
   "cell_type": "code",
   "execution_count": 39,
   "metadata": {},
   "outputs": [],
   "source": [
    "#adding edges with relevant features between the product-> attribute nodes\n",
    "for i in edge_data:\n",
    "    src = i[0]\n",
    "    des = i[1]\n",
    "    w = i[2]\n",
    "    c = '#00e5ff'\n",
    "    g.add_edge(src,des , value = w, color = c)\n",
    "##g.add_edges(att_prod_relation)\n",
    "##g.add_edges(prod_att_relation)"
   ]
  },
  {
   "cell_type": "code",
   "execution_count": 40,
   "metadata": {},
   "outputs": [],
   "source": [
    "#adding edges with relevant features between the attribute -> product nodes\n",
    "edge_data_2 = zip(prod_att_rel['~from'], prod_att_rel['~to'] )\n",
    "for k in edge_data_2:\n",
    "    src_2 = k[0]\n",
    "    des_2 = k[1]\n",
    "    c_2 = '#ffb3b3'\n",
    "    g.add_edge(src_2,des_2, color = c_2)"
   ]
  },
  {
   "cell_type": "code",
   "execution_count": 41,
   "metadata": {},
   "outputs": [],
   "source": [
    "##Using Barnes_hut algorithm to better visualize and reduce the computation costs\n",
    "g.barnes_hut()"
   ]
  },
  {
   "cell_type": "code",
   "execution_count": 42,
   "metadata": {},
   "outputs": [],
   "source": [
    "## showing buttons to interact in graph network\n",
    "g.show_buttons()"
   ]
  },
  {
   "cell_type": "code",
   "execution_count": 43,
   "metadata": {},
   "outputs": [],
   "source": [
    "## outputting the graph as an HTML file\n",
    "g.show('gg.html')"
   ]
  },
  {
   "cell_type": "code",
   "execution_count": null,
   "metadata": {},
   "outputs": [],
   "source": []
  },
  {
   "cell_type": "code",
   "execution_count": null,
   "metadata": {},
   "outputs": [],
   "source": [
    "\n",
    "    "
   ]
  },
  {
   "cell_type": "code",
   "execution_count": 235,
   "metadata": {},
   "outputs": [],
   "source": []
  },
  {
   "cell_type": "code",
   "execution_count": null,
   "metadata": {},
   "outputs": [],
   "source": []
  }
 ],
 "metadata": {
  "kernelspec": {
   "display_name": "Python 3",
   "language": "python",
   "name": "python3"
  },
  "language_info": {
   "codemirror_mode": {
    "name": "ipython",
    "version": 3
   },
   "file_extension": ".py",
   "mimetype": "text/x-python",
   "name": "python",
   "nbconvert_exporter": "python",
   "pygments_lexer": "ipython3",
   "version": "3.8.3"
  }
 },
 "nbformat": 4,
 "nbformat_minor": 4
}
