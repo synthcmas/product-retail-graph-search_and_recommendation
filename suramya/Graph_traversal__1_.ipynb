{
 "cells": [
  {
   "cell_type": "code",
   "execution_count": 1,
   "id": "5ce6e82f-a34f-4958-870f-ca7f9ec96e82",
   "metadata": {},
   "outputs": [],
   "source": [
    "import nest_asyncio\n",
    "nest_asyncio.apply()\n",
    "import numpy as np\n",
    "from scipy.spatial import distance\n",
    "import pandas as pd\n",
    "from gremlin_python import statics\n",
    "from gremlin_python.structure.graph import Graph\n",
    "from gremlin_python.process.graph_traversal import __\n",
    "from gremlin_python.process.strategies import *\n",
    "from gremlin_python.driver.driver_remote_connection import DriverRemoteConnection\n",
    "%load_ext graph_notebook.magics"
   ]
  },
  {
   "cell_type": "code",
   "execution_count": 2,
   "id": "9be8e760-03c6-4eac-99eb-7467cb1342c7",
   "metadata": {},
   "outputs": [],
   "source": [
    "# Loading the database\n",
    "articles = pd.read_csv('/home/jovyan/product-retail-graph/suramya/articles.csv')"
   ]
  },
  {
   "cell_type": "code",
   "execution_count": 3,
   "id": "c9c1928a-d5ad-4e16-866f-44b4c4b0ed95",
   "metadata": {},
   "outputs": [],
   "source": [
    "# making a graph instance and connecting to database\n",
    "graph = Graph()\n",
    "remoteConn = DriverRemoteConnection('wss://database-prg-instance-1.cbtcet4rvkih.eu-central-1.neptune.amazonaws.com:8182/gremlin','g')\n",
    "g = graph.traversal().withRemote(remoteConn)"
   ]
  },
  {
   "cell_type": "code",
   "execution_count": 4,
   "id": "5e70abcf-9455-47a2-856d-c6301addc82d",
   "metadata": {},
   "outputs": [],
   "source": [
    "# making a list of category and subcategory id's\n",
    "cat_id = g.V().hasLabel('category').toList()\n",
    "subcat_id = g.V().hasLabel('subcategory').toList()\n",
    "cat_list = []\n",
    "subcat_list =[]\n",
    "for i in cat_id:\n",
    "    cat_list.append(i.id)\n",
    "for k in subcat_id:\n",
    "    subcat_list.append(k.id)"
   ]
  },
  {
   "cell_type": "code",
   "execution_count": 6,
   "id": "67fa074e-e4f8-4038-9478-b80f85502f95",
   "metadata": {},
   "outputs": [
    {
     "name": "stdout",
     "output_type": "stream",
     "text": [
      "{'cat1': array([0.1330669 , 0.99575961, 0.65673303, 0.27218961, 0.77724964,\n",
      "       0.79518356, 0.84628412, 0.91077527, 0.31798432, 0.1766595 ,\n",
      "       0.65495237, 0.83477525, 0.55336384, 0.40627217, 0.65716944,\n",
      "       0.68265778, 0.95817116, 0.74677859, 0.75779996, 0.70453839]), 'cat2': array([0.4610979 , 0.45772236, 0.09755177, 0.03107083, 0.73065556,\n",
      "       0.81498093, 0.13096442, 0.91974547, 0.6688657 , 0.44055261,\n",
      "       0.28880865, 0.37109123, 0.2840588 , 0.16019996, 0.54273717,\n",
      "       0.51956736, 0.59637886, 0.55203922, 0.67267253, 0.20905768])}\n"
     ]
    }
   ],
   "source": [
    "# creating a dictionary of categories, keys as category id and value as embedding vector\n",
    "Dict_cat = {}\n",
    "for j in cat_list:\n",
    "    y = np.random.random(20)\n",
    "    Dict_cat[j] = y\n",
    "cat_pairs = {l: Dict_cat[l] for l in list(Dict_cat)[:2]}\n",
    "print(cat_pairs)"
   ]
  },
  {
   "cell_type": "code",
   "execution_count": 7,
   "id": "522e96d1-8f9e-4631-9ce2-a70660aca18e",
   "metadata": {},
   "outputs": [
    {
     "data": {
      "text/plain": [
       "array([0.39511006, 0.85708991, 0.84189759, 0.16099554, 0.96171555,\n",
       "       0.76698592, 0.16690833, 0.54296502, 0.46206652, 0.25051012,\n",
       "       0.18762228, 0.79479718, 0.08349266, 0.04977463, 0.97056768,\n",
       "       0.43827672, 0.40709177, 0.64935633, 0.82383644, 0.66952236])"
      ]
     },
     "execution_count": 7,
     "metadata": {},
     "output_type": "execute_result"
    }
   ],
   "source": [
    "# generating a random user query\n",
    "user_query = np.random.random(20)\n",
    "user_query"
   ]
  },
  {
   "cell_type": "code",
   "execution_count": 8,
   "id": "848b0e4d-669a-46f1-8975-1a7e7b0e547b",
   "metadata": {},
   "outputs": [],
   "source": [
    "# defining a function to get keys from the dictionary given its value\n",
    "def get_key(dictionary,v):\n",
    "    for key, value in dictionary.items():\n",
    "        if (value ==v).all():\n",
    "            return key\n",
    "    return 0"
   ]
  },
  {
   "cell_type": "code",
   "execution_count": 9,
   "id": "4fcf2d7a-4115-48b9-8634-70ab9981f9e2",
   "metadata": {},
   "outputs": [
    {
     "name": "stdout",
     "output_type": "stream",
     "text": [
      "0.8980704313810749\n",
      "cat1\n"
     ]
    }
   ],
   "source": [
    "# Finding element wise cosine similarity at category level\n",
    "sim_with_cat = -9999999 # giving a high initial negative value to similarity score\n",
    "for vec in Dict_cat.values():\n",
    "    val = 1-distance.cosine(user_query,vec) # subtracting from 1 to get similarity from cosine distance\n",
    "    if val > sim_with_cat:\n",
    "        sim_with_cat = val\n",
    "        most_sim_val = vec\n",
    "most_sim_cat = get_key(Dict_cat,most_sim_val) #calling function 'get_key' to return key of highest similarity score value\n",
    "print(sim_with_cat)\n",
    "print(most_sim_cat)"
   ]
  },
  {
   "cell_type": "code",
   "execution_count": 12,
   "id": "f66d64db-7e63-4f03-bf0a-48189e1f74bc",
   "metadata": {},
   "outputs": [
    {
     "data": {
      "text/plain": [
       "[v[sub40], v[sub45], v[sub79]]"
      ]
     },
     "execution_count": 12,
     "metadata": {},
     "output_type": "execute_result"
    }
   ],
   "source": [
    "# getting outgoing nodes from the selected category with highest similarity score\n",
    "all_subcat = g.V(most_sim_cat).out().toList()\n",
    "all_subcat"
   ]
  },
  {
   "cell_type": "code",
   "execution_count": 17,
   "id": "1b96d6f2-848e-4f42-ae1f-16b4383938dc",
   "metadata": {},
   "outputs": [
    {
     "name": "stdout",
     "output_type": "stream",
     "text": [
      "{v[sub40]: array([0.54945051, 0.11516799, 0.24789766, 0.42546653, 0.25536694,\n",
      "       0.48522053, 0.78996063, 0.94410319, 0.53611626, 0.61873909,\n",
      "       0.57983316, 0.55474408, 0.35766001, 0.51155505, 0.75041942,\n",
      "       0.91276249, 0.35073216, 0.5462668 , 0.89927453, 0.07045241]), v[sub45]: array([0.33932378, 0.88846157, 0.54219295, 0.86837778, 0.24314231,\n",
      "       0.25965387, 0.13106706, 0.59963717, 0.79898762, 0.56920886,\n",
      "       0.47863273, 0.51214468, 0.84369693, 0.8570339 , 0.6410158 ,\n",
      "       0.87057016, 0.63362836, 0.67953522, 0.22157012, 0.14757547]), v[sub79]: array([0.21917476, 0.88576714, 0.75678732, 0.03235444, 0.35575454,\n",
      "       0.68178606, 0.92495478, 0.57744242, 0.34696274, 0.68726833,\n",
      "       0.19395556, 0.15326289, 0.68838257, 0.33489249, 0.25909113,\n",
      "       0.66761439, 0.88418912, 0.26469156, 0.81463479, 0.0350547 ])}\n"
     ]
    }
   ],
   "source": [
    "# creating a dictionary of subcategories, keys as category id and value as embedding vector\n",
    "Dict_subcat = {}\n",
    "for y in all_subcat:\n",
    "    q = np.random.random(20)\n",
    "    Dict_subcat[y] = q\n",
    "subcat_pairs = {a: Dict_subcat[a] for a in list(Dict_subcat)}\n",
    "print(subcat_pairs)"
   ]
  },
  {
   "cell_type": "code",
   "execution_count": 21,
   "id": "d8e138a0-99ad-4b76-bb38-9abb2f34f9e5",
   "metadata": {},
   "outputs": [
    {
     "name": "stdout",
     "output_type": "stream",
     "text": [
      "0.755989285206581\n",
      "v[sub40]\n"
     ]
    }
   ],
   "source": [
    "# element wise cosine similarity at subcategory level\n",
    "sim_with_subcat = -9999999 # giving a high initial negative value to similarity score\n",
    "for vec in Dict_subcat.values():\n",
    "    val = 1-distance.cosine(user_query,vec) # subtracting from 1 to get similarity from cosine distance\n",
    "    if val > sim_with_subcat:\n",
    "        sim_with_subcat = val\n",
    "        most_sim_val = vec\n",
    "most_sim_subcat = get_key(Dict_subcat,most_sim_val) #calling function 'get_key' to return key of highest similarity score value\n",
    "print(sim_with_subcat)\n",
    "print(most_sim_subcat)"
   ]
  },
  {
   "cell_type": "code",
   "execution_count": null,
   "id": "bc10ff13-6100-4a0a-b490-205d431414a6",
   "metadata": {},
   "outputs": [],
   "source": [
    "%%gremlin\n",
    "g.V()has('~id','most_s).out()"
   ]
  },
  {
   "cell_type": "code",
   "execution_count": null,
   "id": "6e87f8c7-fead-4eb3-9f66-ffd781873c51",
   "metadata": {},
   "outputs": [],
   "source": []
  },
  {
   "cell_type": "code",
   "execution_count": null,
   "id": "c3572c37-88f5-4ed3-8d1f-5c795f8a3ee0",
   "metadata": {},
   "outputs": [],
   "source": []
  },
  {
   "cell_type": "code",
   "execution_count": null,
   "id": "4634304b-17eb-4b83-b284-bfc8d4ce84a1",
   "metadata": {},
   "outputs": [],
   "source": []
  },
  {
   "cell_type": "code",
   "execution_count": null,
   "id": "577932b2-b06b-4fbc-9447-7a943fb867e8",
   "metadata": {},
   "outputs": [],
   "source": []
  },
  {
   "cell_type": "code",
   "execution_count": null,
   "id": "5dcd20f6-e581-4727-9044-949b275f2fe5",
   "metadata": {},
   "outputs": [],
   "source": []
  }
 ],
 "metadata": {
  "kernelspec": {
   "display_name": "Python 3",
   "language": "python",
   "name": "python3"
  },
  "language_info": {
   "codemirror_mode": {
    "name": "ipython",
    "version": 3
   },
   "file_extension": ".py",
   "mimetype": "text/x-python",
   "name": "python",
   "nbconvert_exporter": "python",
   "pygments_lexer": "ipython3",
   "version": "3.7.9"
  }
 },
 "nbformat": 4,
 "nbformat_minor": 5
}
